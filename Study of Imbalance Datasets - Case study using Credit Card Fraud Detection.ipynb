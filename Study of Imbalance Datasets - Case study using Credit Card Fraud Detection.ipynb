{
 "cells": [
  {
   "cell_type": "markdown",
   "metadata": {},
   "source": [
    "#### Import Files"
   ]
  },
  {
   "cell_type": "code",
   "execution_count": 1,
   "metadata": {},
   "outputs": [],
   "source": [
    "# Importing Files\n",
    "import os\n",
    "import random\n",
    "import sys\n",
    "import time\n",
    "import pandas as pd\n",
    "import numpy as np\n",
    "import matplotlib\n",
    "import matplotlib.pyplot as plt\n",
    "import sklearn as sk\n",
    "from sklearn.model_selection import cross_val_score\n",
    "from sklearn.preprocessing import StandardScaler\n",
    "from sklearn.model_selection import train_test_split\n",
    "from sklearn.svm import SVC\n",
    "from sklearn.metrics import confusion_matrix\n",
    "from sklearn.model_selection import GridSearchCV\n",
    "from sklearn import linear_model\n",
    "from sklearn.metrics import mean_squared_error\n",
    "from math import sqrt\n",
    "from sklearn.neural_network import MLPClassifier\n",
    "\n",
    "%matplotlib inline"
   ]
  },
  {
   "cell_type": "markdown",
   "metadata": {},
   "source": [
    "#### Reading the dataset"
   ]
  },
  {
   "cell_type": "code",
   "execution_count": 2,
   "metadata": {},
   "outputs": [
    {
     "name": "stdout",
     "output_type": "stream",
     "text": [
      "   Time        V1        V2        V3        V4        V5        V6        V7  \\\n",
      "0   0.0 -1.359807 -0.072781  2.536347  1.378155 -0.338321  0.462388  0.239599   \n",
      "1   0.0  1.191857  0.266151  0.166480  0.448154  0.060018 -0.082361 -0.078803   \n",
      "2   1.0 -1.358354 -1.340163  1.773209  0.379780 -0.503198  1.800499  0.791461   \n",
      "3   1.0 -0.966272 -0.185226  1.792993 -0.863291 -0.010309  1.247203  0.237609   \n",
      "4   2.0 -1.158233  0.877737  1.548718  0.403034 -0.407193  0.095921  0.592941   \n",
      "\n",
      "         V8        V9  ...         V21       V22       V23       V24  \\\n",
      "0  0.098698  0.363787  ...   -0.018307  0.277838 -0.110474  0.066928   \n",
      "1  0.085102 -0.255425  ...   -0.225775 -0.638672  0.101288 -0.339846   \n",
      "2  0.247676 -1.514654  ...    0.247998  0.771679  0.909412 -0.689281   \n",
      "3  0.377436 -1.387024  ...   -0.108300  0.005274 -0.190321 -1.175575   \n",
      "4 -0.270533  0.817739  ...   -0.009431  0.798278 -0.137458  0.141267   \n",
      "\n",
      "        V25       V26       V27       V28  Amount  Class  \n",
      "0  0.128539 -0.189115  0.133558 -0.021053  149.62      0  \n",
      "1  0.167170  0.125895 -0.008983  0.014724    2.69      0  \n",
      "2 -0.327642 -0.139097 -0.055353 -0.059752  378.66      0  \n",
      "3  0.647376 -0.221929  0.062723  0.061458  123.50      0  \n",
      "4 -0.206010  0.502292  0.219422  0.215153   69.99      0  \n",
      "\n",
      "[5 rows x 31 columns]\n"
     ]
    }
   ],
   "source": [
    "data = pd.read_csv(\"creditcard.csv\")\n",
    "print(data.head())"
   ]
  },
  {
   "cell_type": "markdown",
   "metadata": {},
   "source": [
    "#### Understanding the fields"
   ]
  },
  {
   "cell_type": "code",
   "execution_count": 3,
   "metadata": {},
   "outputs": [
    {
     "data": {
      "text/plain": [
       "Index(['Time', 'V1', 'V2', 'V3', 'V4', 'V5', 'V6', 'V7', 'V8', 'V9', 'V10',\n",
       "       'V11', 'V12', 'V13', 'V14', 'V15', 'V16', 'V17', 'V18', 'V19', 'V20',\n",
       "       'V21', 'V22', 'V23', 'V24', 'V25', 'V26', 'V27', 'V28', 'Amount',\n",
       "       'Class'],\n",
       "      dtype='object')"
      ]
     },
     "execution_count": 3,
     "metadata": {},
     "output_type": "execute_result"
    }
   ],
   "source": [
    "data.columns"
   ]
  },
  {
   "cell_type": "code",
   "execution_count": 60,
   "metadata": {},
   "outputs": [
    {
     "name": "stdout",
     "output_type": "stream",
     "text": [
      "The number of fraudulent transactions( Class 1) are:  492\n",
      "The number of normal transactions( Class 0) are:  284315\n",
      "Class 0 percentage =  99.82725143693798\n",
      "Class 1 percentage =  0.1727485630620034\n"
     ]
    }
   ],
   "source": [
    "# Data Distribution\n",
    "No_of_frauds= len(data[data[\"Class\"]==1])\n",
    "No_of_normals = len(data[data[\"Class\"]==0])\n",
    "print(\"The number of fraudulent transactions( Class 1) are: \", No_of_frauds)\n",
    "print(\"The number of normal transactions( Class 0) are: \", No_of_normals)\n",
    "total= No_of_frauds + No_of_normals\n",
    "Fraud_percent= (No_of_frauds / total)*100\n",
    "Normal_percent= (No_of_normals / total)*100\n",
    "print(\"Class 0 percentage = \", Normal_percent)\n",
    "print(\"Class 1 percentage = \", Fraud_percent)"
   ]
  },
  {
   "cell_type": "code",
   "execution_count": 61,
   "metadata": {},
   "outputs": [],
   "source": [
    "# Splitting into data and output columns\n",
    "from sklearn.utils import shuffle\n",
    "data = shuffle(data)\n",
    "input_data = data.loc[:, :'Amount']\n",
    "output_data = data.loc[:, 'Class':]"
   ]
  },
  {
   "cell_type": "markdown",
   "metadata": {},
   "source": [
    "#### Breaking the data into training and test sets"
   ]
  },
  {
   "cell_type": "code",
   "execution_count": 62,
   "metadata": {},
   "outputs": [
    {
     "data": {
      "text/plain": [
       "284807"
      ]
     },
     "execution_count": 62,
     "metadata": {},
     "output_type": "execute_result"
    }
   ],
   "source": [
    "# Number of records \n",
    "len(data)"
   ]
  },
  {
   "cell_type": "code",
   "execution_count": 63,
   "metadata": {},
   "outputs": [],
   "source": [
    "# Splitting 280000 into training and 4807 into testing\n",
    "train_data = input_data.loc[:280000, :]\n",
    "train_labels = output_data.loc[:280000, :]\n",
    "\n",
    "test_data = input_data.loc[280000:, :]\n",
    "test_labels = output_data.loc[280000:, :]"
   ]
  },
  {
   "cell_type": "markdown",
   "metadata": {},
   "source": [
    "# Applying Classification without any preprocessing"
   ]
  },
  {
   "cell_type": "code",
   "execution_count": 64,
   "metadata": {},
   "outputs": [],
   "source": [
    "from sklearn.neural_network import MLPClassifier\n",
    "from sklearn.ensemble import RandomForestClassifier\n",
    "from sklearn.neighbors import KNeighborsClassifier"
   ]
  },
  {
   "cell_type": "markdown",
   "metadata": {},
   "source": [
    "#### Creating the classifiers"
   ]
  },
  {
   "cell_type": "code",
   "execution_count": 65,
   "metadata": {},
   "outputs": [],
   "source": [
    "clf_randomforest = RandomForestClassifier(max_depth=5, n_estimators=10, max_features=1)"
   ]
  },
  {
   "cell_type": "code",
   "execution_count": 66,
   "metadata": {},
   "outputs": [],
   "source": [
    "clf_neuralnet = MLPClassifier(alpha=1)"
   ]
  },
  {
   "cell_type": "code",
   "execution_count": 67,
   "metadata": {},
   "outputs": [],
   "source": [
    "clf_knearest = KNeighborsClassifier(3)"
   ]
  },
  {
   "cell_type": "markdown",
   "metadata": {},
   "source": [
    "#### Training the models"
   ]
  },
  {
   "cell_type": "code",
   "execution_count": 68,
   "metadata": {},
   "outputs": [
    {
     "data": {
      "text/plain": [
       "RandomForestClassifier(bootstrap=True, class_weight=None, criterion='gini',\n",
       "            max_depth=5, max_features=1, max_leaf_nodes=None,\n",
       "            min_impurity_decrease=0.0, min_impurity_split=None,\n",
       "            min_samples_leaf=1, min_samples_split=2,\n",
       "            min_weight_fraction_leaf=0.0, n_estimators=10, n_jobs=1,\n",
       "            oob_score=False, random_state=None, verbose=0,\n",
       "            warm_start=False)"
      ]
     },
     "execution_count": 68,
     "metadata": {},
     "output_type": "execute_result"
    }
   ],
   "source": [
    "clf_randomforest.fit(train_data, np.ravel(train_labels))"
   ]
  },
  {
   "cell_type": "code",
   "execution_count": 69,
   "metadata": {},
   "outputs": [
    {
     "data": {
      "text/plain": [
       "MLPClassifier(activation='relu', alpha=1, batch_size='auto', beta_1=0.9,\n",
       "       beta_2=0.999, early_stopping=False, epsilon=1e-08,\n",
       "       hidden_layer_sizes=(100,), learning_rate='constant',\n",
       "       learning_rate_init=0.001, max_iter=200, momentum=0.9,\n",
       "       nesterovs_momentum=True, power_t=0.5, random_state=None,\n",
       "       shuffle=True, solver='adam', tol=0.0001, validation_fraction=0.1,\n",
       "       verbose=False, warm_start=False)"
      ]
     },
     "execution_count": 69,
     "metadata": {},
     "output_type": "execute_result"
    }
   ],
   "source": [
    "clf_neuralnet.fit(train_data, np.ravel(train_labels))"
   ]
  },
  {
   "cell_type": "code",
   "execution_count": 70,
   "metadata": {},
   "outputs": [
    {
     "data": {
      "text/plain": [
       "KNeighborsClassifier(algorithm='auto', leaf_size=30, metric='minkowski',\n",
       "           metric_params=None, n_jobs=1, n_neighbors=3, p=2,\n",
       "           weights='uniform')"
      ]
     },
     "execution_count": 70,
     "metadata": {},
     "output_type": "execute_result"
    }
   ],
   "source": [
    "clf_knearest.fit(train_data, np.ravel(train_labels))"
   ]
  },
  {
   "cell_type": "markdown",
   "metadata": {},
   "source": [
    "#### Getting Scores"
   ]
  },
  {
   "cell_type": "code",
   "execution_count": 71,
   "metadata": {},
   "outputs": [],
   "source": [
    "score_randomforest = clf_randomforest.score(test_data, test_labels)"
   ]
  },
  {
   "cell_type": "code",
   "execution_count": 72,
   "metadata": {},
   "outputs": [],
   "source": [
    "score_neuralnet = clf_neuralnet.score(test_data, test_labels)"
   ]
  },
  {
   "cell_type": "code",
   "execution_count": 73,
   "metadata": {},
   "outputs": [],
   "source": [
    "score_knearest = clf_knearest.score(test_data, test_labels)"
   ]
  },
  {
   "cell_type": "code",
   "execution_count": 74,
   "metadata": {},
   "outputs": [
    {
     "name": "stdout",
     "output_type": "stream",
     "text": [
      "Random Forest\t0.9987728555651\n",
      "Neural Network\t0.998269726346791\n",
      "K Nearest Neighbours\t0.9981633738290997\n"
     ]
    }
   ],
   "source": [
    "print(\"Random Forest\\t\",end = \"\")\n",
    "print(score_randomforest)\n",
    "\n",
    "print(\"Neural Network\\t\", end=\"\")\n",
    "print(score_neuralnet)\n",
    "\n",
    "print(\"K Nearest Neighbours\\t\", end=\"\")\n",
    "print(score_knearest)"
   ]
  },
  {
   "cell_type": "code",
   "execution_count": 75,
   "metadata": {},
   "outputs": [],
   "source": [
    "unproc_res = [score_randomforest, score_neuralnet, score_knearest]"
   ]
  },
  {
   "cell_type": "code",
   "execution_count": 76,
   "metadata": {},
   "outputs": [
    {
     "data": {
      "image/png": "[encoded data removed]",
      "text/plain": [
       "<matplotlib.figure.Figure at 0x7fa1f2ff5278>"
      ]
     },
     "metadata": {},
     "output_type": "display_data"
    }
   ],
   "source": [
    "import matplotlib.pyplot as plt\n",
    "plt.plot(unproc_res, '.g')\n",
    "plt.ylabel('Accuracies of classifiers')\n",
    "plt.title('Accuracies without processing')\n",
    "plt.show()\n"
   ]
  },
  {
   "cell_type": "markdown",
   "metadata": {},
   "source": [
    "# Applying different processing techniques for Handling Imbalanced Datasets"
   ]
  },
  {
   "cell_type": "markdown",
   "metadata": {},
   "source": [
    "### 1. Undersampling"
   ]
  },
  {
   "cell_type": "code",
   "execution_count": 77,
   "metadata": {},
   "outputs": [],
   "source": [
    "#list of fraud indices\n",
    "fraud_index= np.array(data[data[\"Class\"]==1].index)\n",
    "\n",
    "#getting the list of normal indices from the full dataset\n",
    "normal_index= data[data[\"Class\"]==0].index\n",
    "\n",
    "#choosing random normal indices equal to the number of fraudulent transactions\n",
    "random_normal_indices= np.random.choice(normal_index, No_of_frauds, replace= False)\n",
    "random_normal_indices= np.array(random_normal_indices)\n",
    "\n",
    "# concatenate fraud index and normal index to create a list of indices\n",
    "undersampled_indices= np.concatenate([fraud_index, random_normal_indices])\n",
    "\n",
    "#use the undersampled indices to build the undersampled_data dataframe\n",
    "undersampled_data= data.iloc[undersampled_indices, :]\n"
   ]
  },
  {
   "cell_type": "code",
   "execution_count": 78,
   "metadata": {},
   "outputs": [
    {
     "data": {
      "text/plain": [
       "984"
      ]
     },
     "execution_count": 78,
     "metadata": {},
     "output_type": "execute_result"
    }
   ],
   "source": [
    "len(undersampled_data)"
   ]
  },
  {
   "cell_type": "code",
   "execution_count": 79,
   "metadata": {},
   "outputs": [
    {
     "name": "stderr",
     "output_type": "stream",
     "text": [
      "/home/prodigal-son/miniconda2/envs/sim/lib/python3.6/site-packages/ipykernel_launcher.py:2: SettingWithCopyWarning: \n",
      "A value is trying to be set on a copy of a slice from a DataFrame.\n",
      "Try using .loc[row_indexer,col_indexer] = value instead\n",
      "\n",
      "See the caveats in the documentation: http://pandas.pydata.org/pandas-docs/stable/indexing.html#indexing-view-versus-copy\n",
      "  \n"
     ]
    }
   ],
   "source": [
    "sc= StandardScaler()\n",
    "undersampled_data[\"scaled_Amount\"]=  sc.fit_transform(undersampled_data.iloc[:,29].values.reshape(-1,1))\n",
    "undersampled_data= undersampled_data.drop([\"Time\",\"Amount\"], axis= 1)\n",
    "X= undersampled_data.iloc[:, undersampled_data.columns != \"Class\"].values\n",
    "y= undersampled_data.iloc[:, undersampled_data.columns == \"Class\"].values\n",
    "\n",
    "from sklearn.utils import shuffle\n",
    "X, y = shuffle(X, y)\n",
    "\n",
    "X_train, X_test, y_train, y_test = train_test_split(X, y, test_size= 0.1, random_state= 0)"
   ]
  },
  {
   "cell_type": "code",
   "execution_count": 80,
   "metadata": {},
   "outputs": [],
   "source": [
    "clf_randomforest_hyb = RandomForestClassifier(max_depth=5, n_estimators=10, max_features=1)"
   ]
  },
  {
   "cell_type": "code",
   "execution_count": 81,
   "metadata": {},
   "outputs": [
    {
     "data": {
      "text/plain": [
       "RandomForestClassifier(bootstrap=True, class_weight=None, criterion='gini',\n",
       "            max_depth=5, max_features=1, max_leaf_nodes=None,\n",
       "            min_impurity_decrease=0.0, min_impurity_split=None,\n",
       "            min_samples_leaf=1, min_samples_split=2,\n",
       "            min_weight_fraction_leaf=0.0, n_estimators=10, n_jobs=1,\n",
       "            oob_score=False, random_state=None, verbose=0,\n",
       "            warm_start=False)"
      ]
     },
     "execution_count": 81,
     "metadata": {},
     "output_type": "execute_result"
    }
   ],
   "source": [
    "clf_randomforest_hyb.fit(X_train, y_train.ravel())"
   ]
  },
  {
   "cell_type": "code",
   "execution_count": 82,
   "metadata": {},
   "outputs": [
    {
     "name": "stderr",
     "output_type": "stream",
     "text": [
      "/home/prodigal-son/miniconda2/envs/sim/lib/python3.6/site-packages/sklearn/model_selection/_split.py:605: Warning: The least populated class in y has only 2 members, which is too few. The minimum number of members in any class cannot be less than n_splits=10.\n",
      "  % (min_groups, self.n_splits)), Warning)\n"
     ]
    },
    {
     "name": "stdout",
     "output_type": "stream",
     "text": [
      "The mean accuracy in %:  99.77777777777777\n",
      "The standard deviation in %  0.44444444444444287\n"
     ]
    }
   ],
   "source": [
    "y_pred = clf_randomforest_hyb.predict(X_test)\n",
    "accuracies = cross_val_score(estimator = clf_randomforest_hyb, X=X_train, y = y_train.ravel(), cv = 10)\n",
    "mean_accuracy= accuracies.mean()*100\n",
    "std_accuracy= accuracies.std()*100\n",
    "print(\"The mean accuracy in %: \", accuracies.mean()*100)\n",
    "print(\"The standard deviation in % \", accuracies.std()*100)"
   ]
  },
  {
   "cell_type": "code",
   "execution_count": 83,
   "metadata": {},
   "outputs": [
    {
     "data": {
      "image/png": "[encoded data removed]",
      "text/plain": [
       "<matplotlib.figure.Figure at 0x7fa1f2f6c978>"
      ]
     },
     "metadata": {},
     "output_type": "display_data"
    }
   ],
   "source": [
    "plt.plot(mean_accuracy, '.g')\n",
    "plt.ylabel('Accuracy undersampled data')\n",
    "plt.title('Accuracy of RandomForest Classifier')\n",
    "plt.show()"
   ]
  },
  {
   "cell_type": "code",
   "execution_count": null,
   "metadata": {},
   "outputs": [],
   "source": []
  },
  {
   "cell_type": "markdown",
   "metadata": {},
   "source": [
    "#### Fitting Support Vector Classifier"
   ]
  },
  {
   "cell_type": "code",
   "execution_count": 84,
   "metadata": {},
   "outputs": [
    {
     "data": {
      "text/plain": [
       "SVC(C=1, cache_size=200, class_weight=None, coef0=0.0,\n",
       "  decision_function_shape='ovr', degree=3, gamma='auto', kernel='rbf',\n",
       "  max_iter=-1, probability=False, random_state=0, shrinking=True,\n",
       "  tol=0.001, verbose=False)"
      ]
     },
     "execution_count": 84,
     "metadata": {},
     "output_type": "execute_result"
    }
   ],
   "source": [
    "classifier= SVC(C= 1, kernel= 'rbf', random_state= 0)\n",
    "classifier.fit(X_train, y_train.ravel())"
   ]
  },
  {
   "cell_type": "code",
   "execution_count": 85,
   "metadata": {},
   "outputs": [
    {
     "name": "stdout",
     "output_type": "stream",
     "text": [
      "The mean accuracy in %:  99.77777777777777\n",
      "The standard deviation in %  0.44444444444444287\n"
     ]
    },
    {
     "name": "stderr",
     "output_type": "stream",
     "text": [
      "/home/prodigal-son/miniconda2/envs/sim/lib/python3.6/site-packages/sklearn/model_selection/_split.py:605: Warning: The least populated class in y has only 2 members, which is too few. The minimum number of members in any class cannot be less than n_splits=10.\n",
      "  % (min_groups, self.n_splits)), Warning)\n"
     ]
    }
   ],
   "source": [
    "y_pred = classifier.predict(X_test)\n",
    "accuracies = cross_val_score(estimator = classifier, X=X_train, y = y_train.ravel(), cv = 10)\n",
    "mean_accuracy= accuracies.mean()*100\n",
    "std_accuracy= accuracies.std()*100\n",
    "print(\"The mean accuracy in %: \", accuracies.mean()*100)\n",
    "print(\"The standard deviation in % \", accuracies.std()*100)"
   ]
  },
  {
   "cell_type": "code",
   "execution_count": 86,
   "metadata": {},
   "outputs": [
    {
     "data": {
      "image/png": "[encoded data removed]",
      "text/plain": [
       "<matplotlib.figure.Figure at 0x7fa1f2f6ccf8>"
      ]
     },
     "metadata": {},
     "output_type": "display_data"
    }
   ],
   "source": [
    "plt.plot(mean_accuracy, '.g')\n",
    "plt.ylabel('Accuracy undersampled data')\n",
    "plt.title('Accuracy of SVM')\n",
    "plt.show()"
   ]
  },
  {
   "cell_type": "markdown",
   "metadata": {},
   "source": [
    "### 2> Oversampling"
   ]
  },
  {
   "cell_type": "code",
   "execution_count": 87,
   "metadata": {},
   "outputs": [
    {
     "data": {
      "text/plain": [
       "284807"
      ]
     },
     "execution_count": 87,
     "metadata": {},
     "output_type": "execute_result"
    }
   ],
   "source": [
    "len(data)"
   ]
  },
  {
   "cell_type": "code",
   "execution_count": 88,
   "metadata": {},
   "outputs": [
    {
     "data": {
      "text/plain": [
       "Index(['Time', 'V1', 'V2', 'V3', 'V4', 'V5', 'V6', 'V7', 'V8', 'V9', 'V10',\n",
       "       'V11', 'V12', 'V13', 'V14', 'V15', 'V16', 'V17', 'V18', 'V19', 'V20',\n",
       "       'V21', 'V22', 'V23', 'V24', 'V25', 'V26', 'V27', 'V28', 'Amount',\n",
       "       'Class'],\n",
       "      dtype='object')"
      ]
     },
     "execution_count": 88,
     "metadata": {},
     "output_type": "execute_result"
    }
   ],
   "source": [
    "data.columns"
   ]
  },
  {
   "cell_type": "markdown",
   "metadata": {},
   "source": [
    "#### Sorting the data in descending order"
   ]
  },
  {
   "cell_type": "code",
   "execution_count": 89,
   "metadata": {},
   "outputs": [],
   "source": [
    "res = data.sort_values('Class', ascending=[0])"
   ]
  },
  {
   "cell_type": "code",
   "execution_count": 90,
   "metadata": {},
   "outputs": [
    {
     "data": {
      "text/plain": [
       "0    284315\n",
       "1       492\n",
       "Name: Class, dtype: int64"
      ]
     },
     "execution_count": 90,
     "metadata": {},
     "output_type": "execute_result"
    }
   ],
   "source": [
    "res['Class'].value_counts()"
   ]
  },
  {
   "cell_type": "code",
   "execution_count": 91,
   "metadata": {},
   "outputs": [],
   "source": [
    "# Adding 480 rows with fraud transactions to oversampled dataset\n",
    "oversampled_data = res.iloc[:480, :]"
   ]
  },
  {
   "cell_type": "code",
   "execution_count": 92,
   "metadata": {},
   "outputs": [
    {
     "data": {
      "text/plain": [
       "0    284315\n",
       "1       492\n",
       "Name: Class, dtype: int64"
      ]
     },
     "execution_count": 92,
     "metadata": {},
     "output_type": "execute_result"
    }
   ],
   "source": [
    "res['Class'].value_counts()\n"
   ]
  },
  {
   "cell_type": "code",
   "execution_count": 93,
   "metadata": {},
   "outputs": [],
   "source": [
    "# Picking 480 random incides from the random data\n",
    "ind = random.sample(range(492, 284807), 480)\n",
    "\n",
    "# Adding 480 rows of non-fraduenlent transactions\n",
    "normal_transactions = res.iloc[ind , :]"
   ]
  },
  {
   "cell_type": "code",
   "execution_count": 94,
   "metadata": {},
   "outputs": [
    {
     "data": {
      "text/plain": [
       "1    480\n",
       "0    480\n",
       "Name: Class, dtype: int64"
      ]
     },
     "execution_count": 94,
     "metadata": {},
     "output_type": "execute_result"
    }
   ],
   "source": [
    "total_data = pd.concat([oversampled_data, normal_transactions])\n",
    "total_data['Class'].value_counts()"
   ]
  },
  {
   "cell_type": "markdown",
   "metadata": {},
   "source": [
    "#### Diving the dataset into input and output columns"
   ]
  },
  {
   "cell_type": "code",
   "execution_count": 95,
   "metadata": {},
   "outputs": [],
   "source": [
    "X= total_data.iloc[:, total_data.columns != \"Class\"].values\n",
    "y= total_data.iloc[:, total_data.columns == \"Class\"].values"
   ]
  },
  {
   "cell_type": "code",
   "execution_count": 96,
   "metadata": {},
   "outputs": [],
   "source": [
    "X_train, X_test, y_train, y_test = train_test_split(X, y, test_size= 0.25, random_state= 0)"
   ]
  },
  {
   "cell_type": "code",
   "execution_count": 97,
   "metadata": {},
   "outputs": [],
   "source": [
    "sc= StandardScaler()"
   ]
  },
  {
   "cell_type": "code",
   "execution_count": 98,
   "metadata": {},
   "outputs": [],
   "source": [
    "sc= StandardScaler()\n",
    "total_data[\"scaled_Amount\"]=  sc.fit_transform(total_data.iloc[:,29].values.reshape(-1,1))\n",
    "#total_data= total_data.drop([\"Time\",\"Amount\"], axis= 1)\n",
    "X= total_data.iloc[:, total_data.columns != \"Class\"].values\n",
    "y= total_data.iloc[:, total_data.columns == \"Class\"].values\n",
    "X_train, X_test, y_train, y_test = train_test_split(X, y, test_size= 0.25, random_state= 0)"
   ]
  },
  {
   "cell_type": "markdown",
   "metadata": {},
   "source": [
    "#### Random Forest"
   ]
  },
  {
   "cell_type": "code",
   "execution_count": 99,
   "metadata": {},
   "outputs": [],
   "source": [
    "clf_randomforest_hyb = RandomForestClassifier(max_depth=5, n_estimators=10, max_features=1)"
   ]
  },
  {
   "cell_type": "code",
   "execution_count": 100,
   "metadata": {},
   "outputs": [
    {
     "data": {
      "text/plain": [
       "RandomForestClassifier(bootstrap=True, class_weight=None, criterion='gini',\n",
       "            max_depth=5, max_features=1, max_leaf_nodes=None,\n",
       "            min_impurity_decrease=0.0, min_impurity_split=None,\n",
       "            min_samples_leaf=1, min_samples_split=2,\n",
       "            min_weight_fraction_leaf=0.0, n_estimators=10, n_jobs=1,\n",
       "            oob_score=False, random_state=None, verbose=0,\n",
       "            warm_start=False)"
      ]
     },
     "execution_count": 100,
     "metadata": {},
     "output_type": "execute_result"
    }
   ],
   "source": [
    "clf_randomforest_hyb.fit(X_train, y_train.ravel())"
   ]
  },
  {
   "cell_type": "code",
   "execution_count": 101,
   "metadata": {},
   "outputs": [
    {
     "name": "stdout",
     "output_type": "stream",
     "text": [
      "The mean accuracy in %:  92.21788110703797\n",
      "The standard deviation in %  2.2627842176771527\n"
     ]
    }
   ],
   "source": [
    "y_pred = clf_randomforest_hyb.predict(X_test)\n",
    "accuracies = cross_val_score(estimator = clf_randomforest_hyb, X=X_train, y = y_train.ravel(), cv = 10)\n",
    "mean_accuracy= accuracies.mean()*100\n",
    "std_accuracy= accuracies.std()*100\n",
    "print(\"The mean accuracy in %: \", accuracies.mean()*100)\n",
    "print(\"The standard deviation in % \", accuracies.std()*100)"
   ]
  },
  {
   "cell_type": "code",
   "execution_count": 102,
   "metadata": {},
   "outputs": [
    {
     "data": {
      "image/png": "[encoded data removed]",
      "text/plain": [
       "<matplotlib.figure.Figure at 0x7fa1f7429208>"
      ]
     },
     "metadata": {},
     "output_type": "display_data"
    }
   ],
   "source": [
    "plt.plot(mean_accuracy, '.g')\n",
    "plt.ylabel('Accuracy Oversampled data')\n",
    "plt.title('Accuracy of RandomForest')\n",
    "plt.show()"
   ]
  },
  {
   "cell_type": "markdown",
   "metadata": {},
   "source": [
    "### Support Vector Classifier"
   ]
  },
  {
   "cell_type": "code",
   "execution_count": 103,
   "metadata": {},
   "outputs": [
    {
     "data": {
      "text/plain": [
       "SVC(C=1, cache_size=200, class_weight=None, coef0=0.0,\n",
       "  decision_function_shape='ovr', degree=3, gamma='auto', kernel='rbf',\n",
       "  max_iter=-1, probability=False, random_state=0, shrinking=True,\n",
       "  tol=0.001, verbose=False)"
      ]
     },
     "execution_count": 103,
     "metadata": {},
     "output_type": "execute_result"
    }
   ],
   "source": [
    "classifier= SVC(C= 1, kernel= 'rbf', random_state= 0)\n",
    "classifier.fit(X_train, y_train.ravel())"
   ]
  },
  {
   "cell_type": "code",
   "execution_count": 104,
   "metadata": {},
   "outputs": [
    {
     "name": "stdout",
     "output_type": "stream",
     "text": [
      "The mean accuracy in %:  54.02608956631724\n",
      "The standard deviation in %  1.9079657392709497\n"
     ]
    }
   ],
   "source": [
    "y_pred = classifier.predict(X_test)\n",
    "accuracies = cross_val_score(estimator = classifier, X=X_train, y = y_train.ravel(), cv = 10)\n",
    "mean_accuracy= accuracies.mean()*100\n",
    "std_accuracy= accuracies.std()*100\n",
    "print(\"The mean accuracy in %: \", accuracies.mean()*100)\n",
    "print(\"The standard deviation in % \", accuracies.std()*100)"
   ]
  },
  {
   "cell_type": "code",
   "execution_count": 105,
   "metadata": {},
   "outputs": [
    {
     "data": {
      "image/png": "[encoded data removed]",
      "text/plain": [
       "<matplotlib.figure.Figure at 0x7fa1f71d01d0>"
      ]
     },
     "metadata": {},
     "output_type": "display_data"
    }
   ],
   "source": [
    "plt.plot(mean_accuracy, '.g')\n",
    "plt.ylabel('Accuracy Oversampled data')\n",
    "plt.title('Accuracy of SVM')\n",
    "plt.show()"
   ]
  },
  {
   "cell_type": "markdown",
   "metadata": {},
   "source": [
    "### 3> Synthetic Data Generation"
   ]
  },
  {
   "cell_type": "code",
   "execution_count": 106,
   "metadata": {},
   "outputs": [
    {
     "data": {
      "text/plain": [
       "0    284315\n",
       "1       492\n",
       "Name: Class, dtype: int64"
      ]
     },
     "execution_count": 106,
     "metadata": {},
     "output_type": "execute_result"
    }
   ],
   "source": [
    "res['Class'].value_counts()"
   ]
  },
  {
   "cell_type": "code",
   "execution_count": 107,
   "metadata": {},
   "outputs": [],
   "source": [
    "minority_fit = res['Class'].iloc[:400]"
   ]
  },
  {
   "cell_type": "markdown",
   "metadata": {},
   "source": [
    "#### Fitting in a linear regression equation, to get an equation of data"
   ]
  },
  {
   "cell_type": "code",
   "execution_count": 108,
   "metadata": {},
   "outputs": [],
   "source": [
    "# Linear Regression\n",
    "clf = MLPClassifier(alpha=1)"
   ]
  },
  {
   "cell_type": "code",
   "execution_count": 109,
   "metadata": {},
   "outputs": [
    {
     "name": "stdout",
     "output_type": "stream",
     "text": [
      "0.575\n"
     ]
    },
    {
     "name": "stderr",
     "output_type": "stream",
     "text": [
      "/home/prodigal-son/miniconda2/envs/sim/lib/python3.6/site-packages/sklearn/neural_network/multilayer_perceptron.py:912: DataConversionWarning: A column-vector y was passed when a 1d array was expected. Please change the shape of y to (n_samples, ), for example using ravel().\n",
      "  y = column_or_1d(y, warn=True)\n"
     ]
    }
   ],
   "source": [
    "clf.fit(X_train, y_train)\n",
    "score = clf.score(X_test, y_test)\n",
    "print(score)"
   ]
  },
  {
   "cell_type": "code",
   "execution_count": 110,
   "metadata": {},
   "outputs": [],
   "source": [
    "syn_data = clf.predict(X_test)"
   ]
  },
  {
   "cell_type": "code",
   "execution_count": 111,
   "metadata": {},
   "outputs": [
    {
     "data": {
      "text/plain": [
       "array([0, 1, 0, 0, 0, 0, 0, 0, 0, 0, 0, 0, 0, 1, 0, 0, 0, 0, 0, 0, 0, 1,\n",
       "       0, 0, 0, 0, 0, 0, 0, 0, 0, 0, 0, 0, 0, 0, 0, 0, 0, 0, 0, 0, 0, 0,\n",
       "       0, 0, 0, 0, 0, 0, 0, 1, 0, 0, 0, 0, 0, 0, 0, 0, 0, 0, 0, 0, 0, 0,\n",
       "       0, 0, 0, 0, 1, 1, 0, 0, 0, 0, 0, 0, 0, 1, 0, 0, 0, 1, 0, 0, 0, 0,\n",
       "       0, 0, 0, 0, 0, 0, 0, 0, 0, 0, 0, 1, 0, 0, 0, 0, 0, 1, 0, 0, 0, 0,\n",
       "       0, 0, 0, 0, 0, 0, 0, 0, 0, 0, 0, 0, 0, 0, 0, 0, 0, 0, 0, 0, 0, 0,\n",
       "       0, 0, 1, 0, 0, 0, 0, 0, 0, 1, 0, 0, 0, 0, 0, 0, 0, 0, 0, 0, 1, 1,\n",
       "       0, 0, 0, 0, 0, 0, 0, 0, 0, 0, 0, 0, 0, 0, 0, 0, 0, 0, 0, 0, 0, 0,\n",
       "       0, 0, 0, 0, 0, 0, 0, 0, 0, 0, 0, 0, 0, 0, 0, 0, 0, 0, 0, 0, 0, 0,\n",
       "       0, 0, 1, 1, 0, 0, 0, 0, 0, 1, 1, 0, 0, 0, 0, 0, 0, 0, 0, 0, 0, 0,\n",
       "       1, 0, 0, 0, 0, 0, 0, 0, 0, 1, 0, 0, 0, 0, 0, 0, 0, 0, 0, 0])"
      ]
     },
     "execution_count": 111,
     "metadata": {},
     "output_type": "execute_result"
    }
   ],
   "source": [
    "syn_data"
   ]
  },
  {
   "cell_type": "markdown",
   "metadata": {},
   "source": [
    "#### Getting indices of the data, classified as 1 by the network"
   ]
  },
  {
   "cell_type": "code",
   "execution_count": 112,
   "metadata": {},
   "outputs": [],
   "source": [
    "syn_indices = []\n",
    "\n",
    "for i in range(len(syn_data)):\n",
    "    if(syn_data[i] == 1):\n",
    "        syn_indices.append(i)"
   ]
  },
  {
   "cell_type": "markdown",
   "metadata": {},
   "source": [
    "#### Adding noise to the data"
   ]
  },
  {
   "cell_type": "code",
   "execution_count": 113,
   "metadata": {},
   "outputs": [],
   "source": [
    "new_syn_data = []\n",
    "for i in syn_indices:\n",
    "    n = X_test[i] + (random.randint(-1, 1)) * 0.0005   \n",
    "    n = np.insert(n, len(n), 1)\n",
    "     \n",
    "    new_syn_data.append(n)"
   ]
  },
  {
   "cell_type": "markdown",
   "metadata": {},
   "source": [
    "### Output of the new synthetic data"
   ]
  },
  {
   "cell_type": "code",
   "execution_count": 114,
   "metadata": {},
   "outputs": [
    {
     "data": {
      "text/plain": [
       "[array([ 8.40799950e+03, -1.81378048e+00,  4.91735071e+00, -5.92662969e+00,\n",
       "         5.70100043e+00,  1.20389257e+00, -3.03563755e+00, -1.71390206e+00,\n",
       "         5.60757391e-01, -3.79685425e+00, -7.45534065e+00,  7.38755512e+00,\n",
       "        -1.04757287e+01, -3.79814527e-01, -1.17372291e+01, -2.08748895e+00,\n",
       "        -2.44285398e+00, -3.53602351e+00,  1.29860307e-01, -2.07195049e+00,\n",
       "         5.76156033e-01,  6.15141835e-01, -4.06927275e-01, -7.37518076e-01,\n",
       "        -2.80141772e-01,  1.10626637e+00,  3.23385478e-01,  8.94266672e-01,\n",
       "         5.69018600e-01,  9.99500000e-01, -4.17361484e-01,  1.00000000e+00]),\n",
       " array([ 8.87799950e+03, -2.66230217e+00,  5.85589321e+00, -7.65411621e+00,\n",
       "         6.37924188e+00, -6.12121191e-02, -3.13204973e+00, -3.10406975e+00,\n",
       "         1.77799157e+00, -3.83165372e+00, -7.19210425e+00,  7.10248859e+00,\n",
       "        -9.92919994e+00, -6.79983775e-02, -1.09246869e+01, -1.69841398e+00,\n",
       "        -2.37992099e+00, -2.77561390e+00,  2.73298971e-01, -1.38268756e+00,\n",
       "         3.98596860e-01,  7.34274950e-01, -4.36401182e-01, -3.85265904e-01,\n",
       "        -2.86515664e-01,  1.00743382e+00,  4.12695532e-01,  2.79784157e-01,\n",
       "         3.03436551e-01,  9.99500000e-01, -4.17361484e-01,  1.00000000e+00]),\n",
       " array([ 1.83990000e+04, -1.44744375e+01,  6.50318452e+00, -1.77126324e+01,\n",
       "         1.12703523e+01, -4.15014206e+00, -3.37209821e+00, -1.65358068e+01,\n",
       "        -1.44394699e+00, -6.81527290e+00, -1.36705451e+01,  1.05452630e+01,\n",
       "        -1.50226996e+01,  1.71633085e-01, -1.50663744e+01, -2.59575940e-01,\n",
       "        -8.66873927e+00, -1.28041409e+01, -5.11662050e+00,  5.79200358e-01,\n",
       "         1.10124987e+00, -2.47596223e+00,  3.42390706e-01, -3.56450804e+00,\n",
       "        -8.18140190e-01,  1.53407683e-01,  7.55079461e-01,  2.70656616e+00,\n",
       "        -9.92916047e-01,  1.00000000e+00, -4.16861484e-01,  1.00000000e+00]),\n",
       " array([ 2.52540005e+04, -1.72746912e+01,  1.08201654e+01, -2.03633860e+01,\n",
       "         6.04711175e+00, -1.34645334e+01, -4.16614724e+00, -1.44089480e+01,\n",
       "         1.15812967e+01, -4.07335571e+00, -9.15286804e+00,  6.21138301e+00,\n",
       "        -8.77807203e+00, -6.08674967e-02, -9.57416230e+00,  4.97885399e-02,\n",
       "        -7.41798728e+00, -1.41022719e+01, -5.01592334e+00,  1.39081436e+00,\n",
       "         1.54547047e+00,  1.73030409e+00, -1.20759608e+00, -7.26339224e-01,\n",
       "         1.13039674e-01,  1.11969347e+00, -2.32688990e-01,  1.68456299e+00,\n",
       "         5.04239738e-01,  9.99905000e+01, -3.43925522e-02,  1.00000000e+00]),\n",
       " array([ 8.08999950e+03, -1.78372884e+00,  3.40229371e+00, -3.82324227e+00,\n",
       "         2.62486815e+00, -1.97691541e+00, -2.73218901e+00, -3.43105915e+00,\n",
       "         1.41270351e+00, -7.77441495e-01, -6.20038176e+00,  4.36621349e+00,\n",
       "        -8.24376243e+00,  3.45261165e-01, -6.59105030e+00,  2.65076096e-01,\n",
       "        -3.02895239e+00, -4.21498627e+00, -1.21410785e+00, -2.65921595e-01,\n",
       "         3.63589115e-01,  4.53531932e-01, -5.78025824e-01,  4.54665375e-02,\n",
       "         4.61200018e-01,  4.36461612e-02,  3.05204434e-01,  5.30480986e-01,\n",
       "         2.43245598e-01,  9.99500000e-01, -4.17361484e-01,  1.00000000e+00]),\n",
       " array([ 4.71999500e+02, -3.04404062e+00, -3.15780712e+00,  1.08796278e+00,\n",
       "         2.28814362e+00,  1.35930513e+00, -1.06532252e+00,  3.25074266e-01,\n",
       "        -6.82936532e-02, -2.71452836e-01, -8.39086565e-01, -4.15075448e-01,\n",
       "        -5.03640860e-01,  6.76001545e-01, -1.69252893e+00,  2.00013484e+00,\n",
       "         6.66279696e-01,  5.99217414e-01,  1.72482101e+00,  2.82844830e-01,\n",
       "         2.10183879e+00,  6.61195925e-01,  4.34977209e-01,  1.37546574e+00,\n",
       "        -2.94303153e-01,  2.79298032e-01, -1.45861715e-01, -2.53273123e-01,\n",
       "         3.52642252e-02,  5.28999500e+02,  1.62001195e+00,  1.00000000e+00]),\n",
       " array([ 8.61399950e+03, -2.17042898e+00,  3.63915400e+00, -4.50899779e+00,\n",
       "         2.73016815e+00, -2.12319287e+00, -2.34151683e+00, -4.23575308e+00,\n",
       "         1.70303766e+00, -1.30577913e+00, -6.71722002e+00,  6.35311232e+00,\n",
       "        -8.60214826e+00,  4.49430038e-01, -7.50666937e+00, -4.38581782e-01,\n",
       "        -3.69501600e+00, -6.30525339e+00, -1.26808713e+00,  3.57487030e-01,\n",
       "         5.00279054e-01,  6.44603276e-01, -5.04029449e-01, -1.02282182e-03,\n",
       "         7.11957788e-02,  9.15074334e-02,  3.07997932e-01,  5.52090915e-01,\n",
       "         2.98454479e-01,  9.99500000e-01, -4.17361484e-01,  1.00000000e+00]),\n",
       " array([ 2.81430005e+04, -2.71431784e+01,  1.53663044e+01, -2.84069245e+01,\n",
       "         6.37139535e+00, -2.00873776e+01, -4.66581306e+00, -1.87089788e+01,\n",
       "         1.79040744e+01, -3.72177874e+00, -8.12046174e+00,  4.42044346e+00,\n",
       "        -6.21044112e+00,  1.06433740e+00, -5.84302838e+00, -1.08336449e-01,\n",
       "        -5.60609733e+00, -1.17557556e+01, -4.71444676e+00,  7.84077594e-01,\n",
       "         1.70438765e+00,  1.79732639e+00, -1.96047372e+00, -9.01747452e-01,\n",
       "         1.44511442e-01,  2.02488804e+00, -2.03714066e-01,  1.33265306e+00,\n",
       "         3.86390728e-01,  9.99905000e+01, -3.43925522e-02,  1.00000000e+00]),\n",
       " array([ 1.20930005e+04, -4.69629522e+00,  2.69436748e+00, -4.47463271e+00,\n",
       "         5.46818455e+00, -1.55625808e+00, -1.54892029e+00, -4.10371487e+00,\n",
       "         5.54434075e-01, -1.49796813e+00, -4.59445176e+00,  5.27600585e+00,\n",
       "        -1.13485286e+01,  3.75049235e-01, -8.13819488e+00,  5.49070894e-01,\n",
       "        -6.65309435e+00, -1.02462554e+01, -4.19056627e+00,  9.91986122e-01,\n",
       "        -1.58470549e-01,  5.74398081e-01, -7.96627754e-02,  3.18907817e-01,\n",
       "        -2.45362203e-01,  3.38738432e-01,  3.27706214e-02, -1.50795793e+00,\n",
       "         6.08574683e-01,  5.00000000e-04, -4.20220145e-01,  1.00000000e+00]),\n",
       " array([ 8.41500000e+03, -2.51470960e-01,  4.31352333e+00, -6.89143772e+00,\n",
       "         6.79679668e+00,  6.16296505e-01, -2.96632654e+00, -2.43665253e+00,\n",
       "         4.89327899e-01, -3.37163857e+00, -6.81081310e+00,  7.62008906e+00,\n",
       "        -1.02852825e+01, -3.42444334e-01, -1.15434979e+01, -1.33498790e+00,\n",
       "        -2.68928420e+00, -3.20438340e+00,  8.65218957e-02, -1.31449510e+00,\n",
       "         6.32709964e-01,  5.36892074e-01, -5.46126024e-01, -6.05239548e-01,\n",
       "        -2.63743460e-01,  1.53991583e+00,  5.23573697e-01,  8.91024688e-01,\n",
       "         5.72740667e-01,  1.00000000e+00, -4.16861484e-01,  1.00000000e+00]),\n",
       " array([ 1.80880000e+04, -1.22240206e+01,  3.85415033e+00, -1.24667657e+01,\n",
       "         9.64831073e+00, -2.72696132e+00, -4.44561038e+00, -2.19228110e+01,\n",
       "         3.20792274e-01, -4.43316166e+00, -1.12014001e+01,  9.32879926e+00,\n",
       "        -1.31049335e+01,  8.88480788e-01, -1.01402003e+01,  7.13465393e-01,\n",
       "        -1.00986707e+01, -1.75066115e+01, -8.06120799e+00,  1.60687003e+00,\n",
       "        -2.14718144e+00, -1.15982995e+00, -1.50411888e+00, -1.92543276e+01,\n",
       "         5.44866726e-01, -4.78160552e+00, -7.77228110e-03,  3.05235769e+00,\n",
       "        -7.75035651e-01,  1.21889000e+03,  4.28256413e+00,  1.00000000e+00]),\n",
       " array([ 3.27450000e+04, -2.17913506e+00,  2.02179181e-02, -2.18273280e+00,\n",
       "         2.57204626e+00, -3.66373311e+00,  8.15679331e-02,  2.68048731e-01,\n",
       "         6.60437429e-01, -2.37402736e+00, -3.58281002e+00,  1.97582106e+00,\n",
       "        -3.50054226e+00,  1.70681027e-01, -2.73594037e+00,  1.67025110e+00,\n",
       "        -4.04629300e+00, -5.07947908e+00, -2.58685705e+00,  1.66926055e+00,\n",
       "         1.95796030e+00,  1.02642111e+00,  2.99613502e-01,  1.65680001e+00,\n",
       "         3.28432502e-01,  1.06456828e-01,  6.91774506e-01,  1.96778974e-01,\n",
       "         2.41085157e-01,  7.17150000e+02,  2.34651916e+00,  1.00000000e+00]),\n",
       " array([ 2.69609995e+04, -2.32384202e+01,  1.34868858e+01, -2.51892730e+01,\n",
       "         6.26123255e+00, -1.73456882e+01, -4.53548915e+00, -1.71009925e+01,\n",
       "         1.53741300e+01, -3.84606677e+00, -8.51226670e+00,  5.13804732e+00,\n",
       "        -7.22051986e+00,  6.15293286e-01, -7.32772160e+00, -3.91320691e-02,\n",
       "        -6.33201509e+00, -1.26893576e+01, -4.84788161e+00,  1.02003588e+00,\n",
       "         1.63028748e+00,  1.76920813e+00, -1.69247331e+00, -1.04617292e+00,\n",
       "         1.42886500e-01,  1.61107707e+00, -2.22075645e-01,  1.48073261e+00,\n",
       "         4.37624805e-01,  9.99895000e+01, -3.53925522e-02,  1.00000000e+00]),\n",
       " array([ 2.72520000e+04, -2.59424344e+01,  1.46019980e+01, -2.73686503e+01,\n",
       "         6.37839461e+00, -1.91040334e+01, -4.68480620e+00, -1.82613929e+01,\n",
       "         1.70525663e+01, -3.74260501e+00, -8.23372137e+00,  4.66483625e+00,\n",
       "        -6.52566786e+00,  9.23758589e-01, -6.32597461e+00, -7.02237028e-02,\n",
       "        -5.83836022e+00, -1.20616957e+01, -4.77334851e+00,  8.52969608e-01,\n",
       "         1.66730429e+00,  1.78431598e+00, -1.91775921e+00, -1.23578744e+00,\n",
       "         1.61104732e-01,  1.82037804e+00, -2.19359059e-01,  1.38878576e+00,\n",
       "         4.06809650e-01,  9.99900000e+01, -3.48925522e-02,  1.00000000e+00]),\n",
       " array([ 2.68990005e+04, -2.18849339e+01,  1.29310051e+01, -2.40983719e+01,\n",
       "         6.20381419e+00, -1.64655991e+01, -4.45934213e+00, -1.65193360e+01,\n",
       "         1.45360647e+01, -3.89652189e+00, -8.65025833e+00,  5.37593391e+00,\n",
       "        -7.56671354e+00,  4.62307829e-01, -7.82739140e+00, -2.23148529e-02,\n",
       "        -6.57754150e+00, -1.30019595e+01, -4.88396724e+00,  1.10485473e+00,\n",
       "         1.61249822e+00,  1.76273177e+00, -1.57855510e+00, -9.50542745e-01,\n",
       "         1.35065292e-01,  1.50761040e+00, -2.22170857e-01,  1.52815528e+00,\n",
       "         4.54198639e-01,  9.99905000e+01, -3.43925522e-02,  1.00000000e+00]),\n",
       " array([ 2.68630005e+04, -2.12086196e+01,  1.26526968e+01, -2.35534329e+01,\n",
       "         6.17457791e+00, -1.60261581e+01, -4.42169459e+00, -1.62289437e+01,\n",
       "         1.41165019e+01, -3.92224145e+00, -8.71974452e+00,  5.49438684e+00,\n",
       "        -7.74031586e+00,  3.85314230e-01, -8.07774067e+00, -1.43996037e-02,\n",
       "        -6.70078887e+00, -1.31587669e+01, -4.90253150e+00,  1.14677525e+00,\n",
       "         1.60293884e+00,  1.75894008e+00, -1.52208816e+00, -9.03360198e-01,\n",
       "         1.30666452e-01,  1.45535652e+00, -2.22714403e-01,  1.55142845e+00,\n",
       "         4.61959567e-01,  9.99905000e+01, -3.43925522e-02,  1.00000000e+00]),\n",
       " array([ 2.10460005e+04, -1.69169683e+01,  9.67040017e+00, -2.37359434e+01,\n",
       "         1.18254902e+01, -9.83004823e+00, -2.51432887e+00, -1.72901567e+01,\n",
       "         1.82090787e+00, -6.26440349e+00, -1.29161361e+01,  9.56761030e+00,\n",
       "        -1.37165674e+01,  9.00040706e-01, -1.32724651e+01, -4.01760044e-01,\n",
       "        -7.75359406e+00, -1.16441032e+01, -4.74080271e+00,  5.85125973e-01,\n",
       "         9.97245095e-01, -2.33561096e+00,  9.73254726e-01,  1.24236581e+00,\n",
       "        -1.05058625e+00,  3.85090796e-02,  6.72817065e-01,  2.10897085e+00,\n",
       "        -1.42074325e+00,  1.00050000e+00, -4.16361484e-01,  1.00000000e+00]),\n",
       " array([ 2.71630000e+04, -2.39141009e+01,  1.37659422e+01, -2.57337338e+01,\n",
       "         6.29091791e+00, -1.77848237e+01, -4.57249762e+00, -1.73907645e+01,\n",
       "         1.57941362e+01, -3.81983219e+00, -8.44226242e+00,  5.02011250e+00,\n",
       "        -7.04642785e+00,  6.92785249e-01, -7.07689933e+00, -4.65348410e-02,\n",
       "        -6.20823797e+00, -1.25320624e+01, -4.82885763e+00,  9.78636193e-01,\n",
       "         1.64003734e+00,  1.77339928e+00, -1.74842552e+00, -1.09310449e+00,\n",
       "         1.47807442e-01,  1.66379236e+00, -2.21024471e-01,  1.45807561e+00,\n",
       "         4.30315049e-01,  9.99900000e+01, -3.48925522e-02,  1.00000000e+00]),\n",
       " array([ 4.13970000e+04, -1.49703457e+01,  8.40142101e+00, -1.68672385e+01,\n",
       "         8.25233431e+00, -1.35651305e+01, -2.78243756e+00, -1.42637353e+01,\n",
       "         9.64341915e+00, -7.70149868e+00, -1.42266981e+01,  5.61099880e+00,\n",
       "        -1.17939788e+01,  1.59838653e+00, -1.16069704e+01, -4.41804438e-02,\n",
       "        -9.28695474e+00, -1.98997264e+01, -7.51805085e+00,  1.24351750e+00,\n",
       "        -1.61466006e+00,  2.71404480e+00, -1.01355311e-01, -4.39665974e-01,\n",
       "         5.19513861e-01,  7.89327982e-01,  6.43574266e-02, -1.62138569e+00,\n",
       "        -1.10481921e+00,  2.73010000e+02,  6.32733112e-01,  1.00000000e+00]),\n",
       " array([ 2.87260000e+04, -2.98763655e+01,  1.64345246e+01, -3.05586968e+01,\n",
       "         6.50586179e+00, -2.16656543e+01, -4.94035633e+00, -2.00813911e+01,\n",
       "         1.95877726e+01, -3.59149105e+00, -7.80059821e+00,  3.94783972e+00,\n",
       "        -5.48791149e+00,  1.36994035e+00, -4.82955244e+00, -1.34412095e-01,\n",
       "        -5.12116240e+00, -1.11181905e+01, -4.65995587e+00,  6.08930081e-01,\n",
       "         1.72477884e+00,  1.81295397e+00, -2.23225159e+00, -1.41280344e+00,\n",
       "         1.78731070e-01,  2.15604186e+00, -2.09384624e-01,  1.25564890e+00,\n",
       "         3.64530453e-01,  9.99900000e+01, -3.48925522e-02,  1.00000000e+00])]"
      ]
     },
     "execution_count": 114,
     "metadata": {},
     "output_type": "execute_result"
    }
   ],
   "source": [
    "new_syn_data"
   ]
  },
  {
   "cell_type": "code",
   "execution_count": null,
   "metadata": {},
   "outputs": [],
   "source": []
  },
  {
   "cell_type": "markdown",
   "metadata": {},
   "source": [
    "### Hybrid Classification"
   ]
  },
  {
   "cell_type": "markdown",
   "metadata": {},
   "source": [
    "### 1. Classifier Ensemble"
   ]
  },
  {
   "cell_type": "markdown",
   "metadata": {},
   "source": [
    "#### A> On orignal data"
   ]
  },
  {
   "cell_type": "code",
   "execution_count": 115,
   "metadata": {},
   "outputs": [],
   "source": [
    "# We use 3 classifiers for 3 different sections of data, training and testing\n",
    "# Then we fit them all together using a Logistic Regression to give the final classification"
   ]
  },
  {
   "cell_type": "code",
   "execution_count": 116,
   "metadata": {},
   "outputs": [
    {
     "data": {
      "text/plain": [
       "284807"
      ]
     },
     "execution_count": 116,
     "metadata": {},
     "output_type": "execute_result"
    }
   ],
   "source": [
    "# Number of rows for training\n",
    "len(data)"
   ]
  },
  {
   "cell_type": "code",
   "execution_count": 117,
   "metadata": {},
   "outputs": [],
   "source": [
    "\n",
    "train_data_1 = input_data.loc[:100000, :]\n",
    "train_labels_1 = output_data.loc[:100000, :]\n",
    "\n",
    "test_data_1 = input_data.loc[280000:, :]\n",
    "test_labels_1 = output_data.loc[280000:, :]\n",
    "\n",
    "\n",
    "train_data_2 = input_data.loc[100000:200000, :]\n",
    "train_labels_2 = output_data.loc[100000:200000, :]\n",
    "\n",
    "test_data_2 = input_data.loc[280000:, :]\n",
    "test_labels_2 = output_data.loc[280000:, :]\n",
    "\n",
    "\n",
    "\n",
    "train_data_3 = input_data.loc[200000:280000, :]\n",
    "train_labels_3 = output_data.loc[200000:280000, :]\n",
    "\n",
    "test_data_3 = input_data.loc[280000:, :]\n",
    "test_labels_3 = output_data.loc[280000:, :]\n",
    "\n"
   ]
  },
  {
   "cell_type": "code",
   "execution_count": 118,
   "metadata": {},
   "outputs": [],
   "source": [
    "clf_randomforest_hyb = RandomForestClassifier(max_depth=5, n_estimators=10, max_features=1)"
   ]
  },
  {
   "cell_type": "code",
   "execution_count": 119,
   "metadata": {},
   "outputs": [],
   "source": [
    "clf_neuralnet_hyb = MLPClassifier(alpha=1)"
   ]
  },
  {
   "cell_type": "code",
   "execution_count": 120,
   "metadata": {},
   "outputs": [],
   "source": [
    "clf_knearest_hyb = KNeighborsClassifier(3)"
   ]
  },
  {
   "cell_type": "markdown",
   "metadata": {},
   "source": [
    "#### Training the different classifiers"
   ]
  },
  {
   "cell_type": "code",
   "execution_count": 121,
   "metadata": {},
   "outputs": [
    {
     "data": {
      "text/plain": [
       "RandomForestClassifier(bootstrap=True, class_weight=None, criterion='gini',\n",
       "            max_depth=5, max_features=1, max_leaf_nodes=None,\n",
       "            min_impurity_decrease=0.0, min_impurity_split=None,\n",
       "            min_samples_leaf=1, min_samples_split=2,\n",
       "            min_weight_fraction_leaf=0.0, n_estimators=10, n_jobs=1,\n",
       "            oob_score=False, random_state=None, verbose=0,\n",
       "            warm_start=False)"
      ]
     },
     "execution_count": 121,
     "metadata": {},
     "output_type": "execute_result"
    }
   ],
   "source": [
    "clf_randomforest_hyb.fit(train_data_1, np.ravel(train_labels_1))"
   ]
  },
  {
   "cell_type": "code",
   "execution_count": 122,
   "metadata": {},
   "outputs": [
    {
     "data": {
      "text/plain": [
       "MLPClassifier(activation='relu', alpha=1, batch_size='auto', beta_1=0.9,\n",
       "       beta_2=0.999, early_stopping=False, epsilon=1e-08,\n",
       "       hidden_layer_sizes=(100,), learning_rate='constant',\n",
       "       learning_rate_init=0.001, max_iter=200, momentum=0.9,\n",
       "       nesterovs_momentum=True, power_t=0.5, random_state=None,\n",
       "       shuffle=True, solver='adam', tol=0.0001, validation_fraction=0.1,\n",
       "       verbose=False, warm_start=False)"
      ]
     },
     "execution_count": 122,
     "metadata": {},
     "output_type": "execute_result"
    }
   ],
   "source": [
    "clf_neuralnet_hyb.fit(train_data_2, np.ravel(train_labels_2))"
   ]
  },
  {
   "cell_type": "code",
   "execution_count": 123,
   "metadata": {},
   "outputs": [
    {
     "data": {
      "text/plain": [
       "KNeighborsClassifier(algorithm='auto', leaf_size=30, metric='minkowski',\n",
       "           metric_params=None, n_jobs=1, n_neighbors=3, p=2,\n",
       "           weights='uniform')"
      ]
     },
     "execution_count": 123,
     "metadata": {},
     "output_type": "execute_result"
    }
   ],
   "source": [
    "clf_knearest_hyb.fit(train_data_2, np.ravel(train_labels_2))"
   ]
  },
  {
   "cell_type": "markdown",
   "metadata": {},
   "source": [
    "#### Predicting the different results"
   ]
  },
  {
   "cell_type": "code",
   "execution_count": 124,
   "metadata": {},
   "outputs": [],
   "source": [
    "res1 = clf_randomforest_hyb.predict(test_data_1)\n",
    "res2 = clf_neuralnet_hyb.predict(test_data_2)\n",
    "res3 = clf_knearest_hyb.predict(test_data_3)"
   ]
  },
  {
   "cell_type": "code",
   "execution_count": 125,
   "metadata": {},
   "outputs": [
    {
     "data": {
      "text/plain": [
       "(244470,)"
      ]
     },
     "execution_count": 125,
     "metadata": {},
     "output_type": "execute_result"
    }
   ],
   "source": [
    "ar_1 = np.asarray(res1)\n",
    "ar_1.shape"
   ]
  },
  {
   "cell_type": "code",
   "execution_count": 126,
   "metadata": {},
   "outputs": [
    {
     "data": {
      "text/plain": [
       "(244470,)"
      ]
     },
     "execution_count": 126,
     "metadata": {},
     "output_type": "execute_result"
    }
   ],
   "source": [
    "ar_2 = np.asarray(res2)\n",
    "ar_2.shape"
   ]
  },
  {
   "cell_type": "code",
   "execution_count": 127,
   "metadata": {},
   "outputs": [
    {
     "data": {
      "text/plain": [
       "(244470,)"
      ]
     },
     "execution_count": 127,
     "metadata": {},
     "output_type": "execute_result"
    }
   ],
   "source": [
    "ar_3 = np.asarray(res3)\n",
    "ar_3.shape"
   ]
  },
  {
   "cell_type": "markdown",
   "metadata": {},
   "source": [
    "#### Training a logistic regression for this data to act as the final prediction"
   ]
  },
  {
   "cell_type": "code",
   "execution_count": 128,
   "metadata": {},
   "outputs": [],
   "source": [
    "from sklearn.linear_model import LogisticRegression"
   ]
  },
  {
   "cell_type": "code",
   "execution_count": 129,
   "metadata": {
    "scrolled": true
   },
   "outputs": [
    {
     "data": {
      "text/plain": [
       "(244470, 3)"
      ]
     },
     "execution_count": 129,
     "metadata": {},
     "output_type": "execute_result"
    }
   ],
   "source": [
    "ensemble_train_data = np.column_stack((res1,res2,res3))\n",
    "ensemble_train_data.shape"
   ]
  },
  {
   "cell_type": "code",
   "execution_count": 130,
   "metadata": {},
   "outputs": [
    {
     "data": {
      "text/plain": [
       "(244470, 1)"
      ]
     },
     "execution_count": 130,
     "metadata": {},
     "output_type": "execute_result"
    }
   ],
   "source": [
    "ensemble_train_labels = test_labels_1\n",
    "ensemble_train_labels.shape"
   ]
  },
  {
   "cell_type": "code",
   "execution_count": 131,
   "metadata": {},
   "outputs": [
    {
     "data": {
      "text/plain": [
       "(4600, 3)"
      ]
     },
     "execution_count": 131,
     "metadata": {},
     "output_type": "execute_result"
    }
   ],
   "source": [
    "ensemble_train_subset = ensemble_train_data[:4600]\n",
    "ensemble_train_subset.shape"
   ]
  },
  {
   "cell_type": "code",
   "execution_count": 132,
   "metadata": {},
   "outputs": [
    {
     "data": {
      "text/plain": [
       "(4600, 1)"
      ]
     },
     "execution_count": 132,
     "metadata": {},
     "output_type": "execute_result"
    }
   ],
   "source": [
    "ensemble_train_subset_labels = ensemble_train_labels[:4600]\n",
    "ensemble_train_subset_labels.shape"
   ]
  },
  {
   "cell_type": "code",
   "execution_count": 133,
   "metadata": {},
   "outputs": [
    {
     "data": {
      "text/plain": [
       "(239870, 3)"
      ]
     },
     "execution_count": 133,
     "metadata": {},
     "output_type": "execute_result"
    }
   ],
   "source": [
    "ensemble_test_subset = ensemble_train_data[4600:]\n",
    "ensemble_test_subset.shape"
   ]
  },
  {
   "cell_type": "code",
   "execution_count": 134,
   "metadata": {},
   "outputs": [
    {
     "data": {
      "text/plain": [
       "(239870, 1)"
      ]
     },
     "execution_count": 134,
     "metadata": {},
     "output_type": "execute_result"
    }
   ],
   "source": [
    "ensemble_test_subset_labels = ensemble_train_labels[4600:]\n",
    "ensemble_test_subset_labels.shape"
   ]
  },
  {
   "cell_type": "code",
   "execution_count": 135,
   "metadata": {},
   "outputs": [],
   "source": [
    "logreg = LogisticRegression(C=1e5)"
   ]
  },
  {
   "cell_type": "code",
   "execution_count": 136,
   "metadata": {},
   "outputs": [
    {
     "name": "stderr",
     "output_type": "stream",
     "text": [
      "/home/prodigal-son/miniconda2/envs/sim/lib/python3.6/site-packages/sklearn/utils/validation.py:578: DataConversionWarning: A column-vector y was passed when a 1d array was expected. Please change the shape of y to (n_samples, ), for example using ravel().\n",
      "  y = column_or_1d(y, warn=True)\n"
     ]
    },
    {
     "data": {
      "text/plain": [
       "LogisticRegression(C=100000.0, class_weight=None, dual=False,\n",
       "          fit_intercept=True, intercept_scaling=1, max_iter=100,\n",
       "          multi_class='ovr', n_jobs=1, penalty='l2', random_state=None,\n",
       "          solver='liblinear', tol=0.0001, verbose=0, warm_start=False)"
      ]
     },
     "execution_count": 136,
     "metadata": {},
     "output_type": "execute_result"
    }
   ],
   "source": [
    "logreg.fit(ensemble_train_subset, ensemble_train_subset_labels)"
   ]
  },
  {
   "cell_type": "code",
   "execution_count": 137,
   "metadata": {},
   "outputs": [
    {
     "data": {
      "text/plain": [
       "239870"
      ]
     },
     "execution_count": 137,
     "metadata": {},
     "output_type": "execute_result"
    }
   ],
   "source": [
    "final_res = logreg.predict(ensemble_test_subset)\n",
    "len(final_res)"
   ]
  },
  {
   "cell_type": "code",
   "execution_count": 138,
   "metadata": {},
   "outputs": [],
   "source": [
    "from sklearn.metrics import accuracy_score"
   ]
  },
  {
   "cell_type": "code",
   "execution_count": 139,
   "metadata": {},
   "outputs": [],
   "source": [
    "acc_res = accuracy_score(ensemble_test_subset_labels, final_res)"
   ]
  },
  {
   "cell_type": "code",
   "execution_count": 140,
   "metadata": {},
   "outputs": [
    {
     "name": "stdout",
     "output_type": "stream",
     "text": [
      "0.9990286405136115\n"
     ]
    }
   ],
   "source": [
    "print(acc_res)"
   ]
  },
  {
   "cell_type": "code",
   "execution_count": 141,
   "metadata": {},
   "outputs": [
    {
     "data": {
      "image/png": "[encoded data removed]",
      "text/plain": [
       "<matplotlib.figure.Figure at 0x7fa1f2f19c88>"
      ]
     },
     "metadata": {},
     "output_type": "display_data"
    }
   ],
   "source": [
    "plt.plot(acc_res, '.g')\n",
    "plt.ylabel('Accuracy on orignal data')\n",
    "plt.title('Ensemble Model Accuracy for Original Data')\n",
    "plt.show()"
   ]
  },
  {
   "cell_type": "markdown",
   "metadata": {},
   "source": [
    "#### B> On Biased Sampling data "
   ]
  },
  {
   "cell_type": "code",
   "execution_count": 142,
   "metadata": {},
   "outputs": [],
   "source": [
    "newdata = res.iloc[:800]"
   ]
  },
  {
   "cell_type": "code",
   "execution_count": 143,
   "metadata": {},
   "outputs": [],
   "source": [
    "from sklearn.utils import shuffle\n",
    "newdata = shuffle(newdata)"
   ]
  },
  {
   "cell_type": "code",
   "execution_count": 144,
   "metadata": {},
   "outputs": [
    {
     "data": {
      "text/plain": [
       "800"
      ]
     },
     "execution_count": 144,
     "metadata": {},
     "output_type": "execute_result"
    }
   ],
   "source": [
    "new_output_data = newdata['Class'].iloc[:800]\n",
    "len(new_output_data)"
   ]
  },
  {
   "cell_type": "code",
   "execution_count": 145,
   "metadata": {},
   "outputs": [],
   "source": [
    "new_input_data = newdata.drop(['Class'], axis = 1)"
   ]
  },
  {
   "cell_type": "code",
   "execution_count": 146,
   "metadata": {},
   "outputs": [
    {
     "data": {
      "text/plain": [
       "Index(['Time', 'V1', 'V2', 'V3', 'V4', 'V5', 'V6', 'V7', 'V8', 'V9', 'V10',\n",
       "       'V11', 'V12', 'V13', 'V14', 'V15', 'V16', 'V17', 'V18', 'V19', 'V20',\n",
       "       'V21', 'V22', 'V23', 'V24', 'V25', 'V26', 'V27', 'V28', 'Amount'],\n",
       "      dtype='object')"
      ]
     },
     "execution_count": 146,
     "metadata": {},
     "output_type": "execute_result"
    }
   ],
   "source": [
    "new_input_data.columns"
   ]
  },
  {
   "cell_type": "code",
   "execution_count": 147,
   "metadata": {},
   "outputs": [
    {
     "data": {
      "text/plain": [
       "800"
      ]
     },
     "execution_count": 147,
     "metadata": {},
     "output_type": "execute_result"
    }
   ],
   "source": [
    "len(new_output_data)"
   ]
  },
  {
   "cell_type": "code",
   "execution_count": 148,
   "metadata": {},
   "outputs": [],
   "source": [
    "train_data_1 = new_input_data.iloc[:200]\n",
    "train_labels_1 = new_output_data.iloc[:200]\n",
    "\n",
    "test_data_1 = new_input_data.iloc[600:]\n",
    "test_labels_1 = new_output_data.iloc[600:]\n",
    "\n",
    "\n",
    "train_data_2 = new_input_data.iloc[200:400]\n",
    "train_labels_2 = new_output_data.iloc[200:400]\n",
    "\n",
    "test_data_2 = new_input_data.iloc[600:]\n",
    "test_labels_2 = new_output_data.iloc[600:]\n",
    "\n",
    "\n",
    "\n",
    "train_data_3 = new_input_data.iloc[400:600]\n",
    "train_labels_3 = new_output_data.iloc[400:600]\n",
    "\n",
    "test_data_3 = new_input_data.iloc[600:]\n",
    "test_labels_3 = new_output_data.iloc[600:]\n"
   ]
  },
  {
   "cell_type": "code",
   "execution_count": 149,
   "metadata": {},
   "outputs": [],
   "source": [
    "clf_randomforest_hyb = RandomForestClassifier(max_depth=5, n_estimators=10, max_features=1)"
   ]
  },
  {
   "cell_type": "code",
   "execution_count": 150,
   "metadata": {},
   "outputs": [],
   "source": [
    "clf_neuralnet_hyb = MLPClassifier(alpha=1)"
   ]
  },
  {
   "cell_type": "code",
   "execution_count": 151,
   "metadata": {},
   "outputs": [],
   "source": [
    "clf_knearest_hyb = KNeighborsClassifier(3)"
   ]
  },
  {
   "cell_type": "code",
   "execution_count": 152,
   "metadata": {},
   "outputs": [
    {
     "data": {
      "text/plain": [
       "RandomForestClassifier(bootstrap=True, class_weight=None, criterion='gini',\n",
       "            max_depth=5, max_features=1, max_leaf_nodes=None,\n",
       "            min_impurity_decrease=0.0, min_impurity_split=None,\n",
       "            min_samples_leaf=1, min_samples_split=2,\n",
       "            min_weight_fraction_leaf=0.0, n_estimators=10, n_jobs=1,\n",
       "            oob_score=False, random_state=None, verbose=0,\n",
       "            warm_start=False)"
      ]
     },
     "execution_count": 152,
     "metadata": {},
     "output_type": "execute_result"
    }
   ],
   "source": [
    "clf_randomforest_hyb.fit(train_data_1, np.ravel(train_labels_1))"
   ]
  },
  {
   "cell_type": "code",
   "execution_count": 153,
   "metadata": {},
   "outputs": [
    {
     "data": {
      "text/plain": [
       "MLPClassifier(activation='relu', alpha=1, batch_size='auto', beta_1=0.9,\n",
       "       beta_2=0.999, early_stopping=False, epsilon=1e-08,\n",
       "       hidden_layer_sizes=(100,), learning_rate='constant',\n",
       "       learning_rate_init=0.001, max_iter=200, momentum=0.9,\n",
       "       nesterovs_momentum=True, power_t=0.5, random_state=None,\n",
       "       shuffle=True, solver='adam', tol=0.0001, validation_fraction=0.1,\n",
       "       verbose=False, warm_start=False)"
      ]
     },
     "execution_count": 153,
     "metadata": {},
     "output_type": "execute_result"
    }
   ],
   "source": [
    "clf_neuralnet_hyb.fit(train_data_2, np.ravel(train_labels_2))"
   ]
  },
  {
   "cell_type": "code",
   "execution_count": 154,
   "metadata": {},
   "outputs": [
    {
     "data": {
      "text/plain": [
       "KNeighborsClassifier(algorithm='auto', leaf_size=30, metric='minkowski',\n",
       "           metric_params=None, n_jobs=1, n_neighbors=3, p=2,\n",
       "           weights='uniform')"
      ]
     },
     "execution_count": 154,
     "metadata": {},
     "output_type": "execute_result"
    }
   ],
   "source": [
    "clf_knearest_hyb.fit(train_data_3, np.ravel(train_labels_3))"
   ]
  },
  {
   "cell_type": "code",
   "execution_count": 155,
   "metadata": {},
   "outputs": [],
   "source": [
    "res1 = clf_randomforest_hyb.predict(test_data_1)\n",
    "res2 = clf_neuralnet_hyb.predict(test_data_2)\n",
    "res3 = clf_knearest_hyb.predict(test_data_3)"
   ]
  },
  {
   "cell_type": "code",
   "execution_count": 156,
   "metadata": {},
   "outputs": [
    {
     "data": {
      "text/plain": [
       "(200,)"
      ]
     },
     "execution_count": 156,
     "metadata": {},
     "output_type": "execute_result"
    }
   ],
   "source": [
    "ar_1 = np.asarray(res1)\n",
    "ar_1.shape"
   ]
  },
  {
   "cell_type": "code",
   "execution_count": 157,
   "metadata": {},
   "outputs": [
    {
     "data": {
      "text/plain": [
       "(200,)"
      ]
     },
     "execution_count": 157,
     "metadata": {},
     "output_type": "execute_result"
    }
   ],
   "source": [
    "ar_2 = np.asarray(res2)\n",
    "ar_2.shape"
   ]
  },
  {
   "cell_type": "code",
   "execution_count": 158,
   "metadata": {},
   "outputs": [
    {
     "data": {
      "text/plain": [
       "(200,)"
      ]
     },
     "execution_count": 158,
     "metadata": {},
     "output_type": "execute_result"
    }
   ],
   "source": [
    "ar_3 = np.asarray(res3)\n",
    "ar_3.shape"
   ]
  },
  {
   "cell_type": "code",
   "execution_count": 159,
   "metadata": {},
   "outputs": [],
   "source": [
    "from sklearn.linear_model import LogisticRegression"
   ]
  },
  {
   "cell_type": "code",
   "execution_count": 160,
   "metadata": {},
   "outputs": [
    {
     "data": {
      "text/plain": [
       "(200, 3)"
      ]
     },
     "execution_count": 160,
     "metadata": {},
     "output_type": "execute_result"
    }
   ],
   "source": [
    "ensemble_train_data = np.column_stack((res1,res2,res3))\n",
    "ensemble_train_data.shape"
   ]
  },
  {
   "cell_type": "code",
   "execution_count": 161,
   "metadata": {},
   "outputs": [
    {
     "data": {
      "text/plain": [
       "(200,)"
      ]
     },
     "execution_count": 161,
     "metadata": {},
     "output_type": "execute_result"
    }
   ],
   "source": [
    "ensemble_train_labels = test_labels_1\n",
    "ensemble_train_labels.shape"
   ]
  },
  {
   "cell_type": "code",
   "execution_count": 162,
   "metadata": {},
   "outputs": [
    {
     "data": {
      "text/plain": [
       "(200, 3)"
      ]
     },
     "execution_count": 162,
     "metadata": {},
     "output_type": "execute_result"
    }
   ],
   "source": [
    "ensemble_train_subset = ensemble_train_data[:200]\n",
    "ensemble_train_subset.shape"
   ]
  },
  {
   "cell_type": "code",
   "execution_count": 163,
   "metadata": {},
   "outputs": [
    {
     "data": {
      "text/plain": [
       "(200,)"
      ]
     },
     "execution_count": 163,
     "metadata": {},
     "output_type": "execute_result"
    }
   ],
   "source": [
    "ensemble_train_subset_labels = ensemble_train_labels[:200]\n",
    "ensemble_train_subset_labels.shape"
   ]
  },
  {
   "cell_type": "code",
   "execution_count": 164,
   "metadata": {},
   "outputs": [],
   "source": [
    "logreg = LogisticRegression(C=1e5)"
   ]
  },
  {
   "cell_type": "code",
   "execution_count": 165,
   "metadata": {},
   "outputs": [
    {
     "data": {
      "text/plain": [
       "LogisticRegression(C=100000.0, class_weight=None, dual=False,\n",
       "          fit_intercept=True, intercept_scaling=1, max_iter=100,\n",
       "          multi_class='ovr', n_jobs=1, penalty='l2', random_state=None,\n",
       "          solver='liblinear', tol=0.0001, verbose=0, warm_start=False)"
      ]
     },
     "execution_count": 165,
     "metadata": {},
     "output_type": "execute_result"
    }
   ],
   "source": [
    "logreg.fit(ensemble_train_subset, ensemble_train_subset_labels)"
   ]
  },
  {
   "cell_type": "code",
   "execution_count": 166,
   "metadata": {},
   "outputs": [
    {
     "data": {
      "text/plain": [
       "(20, 3)"
      ]
     },
     "execution_count": 166,
     "metadata": {},
     "output_type": "execute_result"
    }
   ],
   "source": [
    "ensemble_test_subset = ensemble_train_data[180:]\n",
    "ensemble_test_subset.shape"
   ]
  },
  {
   "cell_type": "code",
   "execution_count": 167,
   "metadata": {},
   "outputs": [
    {
     "data": {
      "text/plain": [
       "(20,)"
      ]
     },
     "execution_count": 167,
     "metadata": {},
     "output_type": "execute_result"
    }
   ],
   "source": [
    "ensemble_test_subset_labels = ensemble_train_labels[180:]\n",
    "ensemble_test_subset_labels.shape"
   ]
  },
  {
   "cell_type": "code",
   "execution_count": 168,
   "metadata": {},
   "outputs": [
    {
     "data": {
      "text/plain": [
       "20"
      ]
     },
     "execution_count": 168,
     "metadata": {},
     "output_type": "execute_result"
    }
   ],
   "source": [
    "final_res = logreg.predict(ensemble_test_subset)\n",
    "len(final_res)"
   ]
  },
  {
   "cell_type": "code",
   "execution_count": 169,
   "metadata": {},
   "outputs": [],
   "source": [
    "from sklearn.metrics import accuracy_score"
   ]
  },
  {
   "cell_type": "code",
   "execution_count": 170,
   "metadata": {},
   "outputs": [],
   "source": [
    "acc_res = accuracy_score(ensemble_test_subset_labels, final_res)"
   ]
  },
  {
   "cell_type": "code",
   "execution_count": 171,
   "metadata": {},
   "outputs": [
    {
     "name": "stdout",
     "output_type": "stream",
     "text": [
      "0.95\n"
     ]
    }
   ],
   "source": [
    "print(acc_res)"
   ]
  },
  {
   "cell_type": "code",
   "execution_count": 172,
   "metadata": {},
   "outputs": [
    {
     "data": {
      "image/png": "[encoded data removed]",
      "text/plain": [
       "<matplotlib.figure.Figure at 0x7fa1fc4e8198>"
      ]
     },
     "metadata": {},
     "output_type": "display_data"
    }
   ],
   "source": [
    "plt.plot(acc_res, '.g')\n",
    "plt.ylabel('Accuracy on orignal data')\n",
    "plt.title('Ensemble Model Accuracy for Original Data')\n",
    "plt.show()"
   ]
  },
  {
   "cell_type": "markdown",
   "metadata": {},
   "source": [
    "### Using Different Ensembles"
   ]
  },
  {
   "cell_type": "markdown",
   "metadata": {},
   "source": [
    "#### Naive Bayes"
   ]
  },
  {
   "cell_type": "code",
   "execution_count": 173,
   "metadata": {},
   "outputs": [],
   "source": [
    "from sklearn.naive_bayes import GaussianNB\n",
    "gnb = GaussianNB()\n",
    "y_pred_1 = gnb.fit(train_data_1, train_labels_1).predict(test_data_1)\n",
    "#print(\"Number of mislabeled points out of a total %d points : %d\"% (train_data_1.shape[0],(test_labels_1 != y_pred).sum()))"
   ]
  },
  {
   "cell_type": "markdown",
   "metadata": {},
   "source": [
    "#### Linear SVM"
   ]
  },
  {
   "cell_type": "code",
   "execution_count": 174,
   "metadata": {},
   "outputs": [],
   "source": [
    "from sklearn.svm import LinearSVC\n",
    "from sklearn.datasets import make_classification\n",
    "\n",
    "clf = LinearSVC(random_state=0)\n",
    "clf.fit(train_data_2, train_labels_2)\n",
    "\n",
    "y_pred_2 = clf.predict(test_data_2)"
   ]
  },
  {
   "cell_type": "markdown",
   "metadata": {},
   "source": [
    "#### Ada Boost Classifier"
   ]
  },
  {
   "cell_type": "code",
   "execution_count": 175,
   "metadata": {},
   "outputs": [],
   "source": [
    "from sklearn.ensemble import AdaBoostClassifier"
   ]
  },
  {
   "cell_type": "code",
   "execution_count": 176,
   "metadata": {},
   "outputs": [],
   "source": [
    "clf = AdaBoostClassifier()"
   ]
  },
  {
   "cell_type": "code",
   "execution_count": 177,
   "metadata": {},
   "outputs": [
    {
     "data": {
      "text/plain": [
       "AdaBoostClassifier(algorithm='SAMME.R', base_estimator=None,\n",
       "          learning_rate=1.0, n_estimators=50, random_state=None)"
      ]
     },
     "execution_count": 177,
     "metadata": {},
     "output_type": "execute_result"
    }
   ],
   "source": [
    "clf.fit(train_data_3, train_labels_3)"
   ]
  },
  {
   "cell_type": "code",
   "execution_count": 178,
   "metadata": {},
   "outputs": [],
   "source": [
    "y_pred_3 = clf.predict(test_data_3)"
   ]
  },
  {
   "cell_type": "code",
   "execution_count": 179,
   "metadata": {},
   "outputs": [],
   "source": [
    "clf = LogisticRegression(C=1e5)"
   ]
  },
  {
   "cell_type": "code",
   "execution_count": 180,
   "metadata": {},
   "outputs": [
    {
     "data": {
      "text/plain": [
       "(200, 3)"
      ]
     },
     "execution_count": 180,
     "metadata": {},
     "output_type": "execute_result"
    }
   ],
   "source": [
    "ensemble_train_data = np.column_stack((y_pred_1,y_pred_2,y_pred_3))\n",
    "ensemble_train_data.shape"
   ]
  },
  {
   "cell_type": "code",
   "execution_count": 181,
   "metadata": {},
   "outputs": [
    {
     "data": {
      "text/plain": [
       "(200, 3)"
      ]
     },
     "execution_count": 181,
     "metadata": {},
     "output_type": "execute_result"
    }
   ],
   "source": [
    "ensemble_train_subset = ensemble_train_data[:200]\n",
    "ensemble_train_subset.shape"
   ]
  },
  {
   "cell_type": "code",
   "execution_count": 182,
   "metadata": {},
   "outputs": [
    {
     "data": {
      "text/plain": [
       "(200,)"
      ]
     },
     "execution_count": 182,
     "metadata": {},
     "output_type": "execute_result"
    }
   ],
   "source": [
    "ensemble_train_labels = test_labels_1\n",
    "ensemble_train_labels.shape"
   ]
  },
  {
   "cell_type": "code",
   "execution_count": 183,
   "metadata": {},
   "outputs": [
    {
     "data": {
      "text/plain": [
       "LogisticRegression(C=100000.0, class_weight=None, dual=False,\n",
       "          fit_intercept=True, intercept_scaling=1, max_iter=100,\n",
       "          multi_class='ovr', n_jobs=1, penalty='l2', random_state=None,\n",
       "          solver='liblinear', tol=0.0001, verbose=0, warm_start=False)"
      ]
     },
     "execution_count": 183,
     "metadata": {},
     "output_type": "execute_result"
    }
   ],
   "source": [
    "clf.fit(ensemble_train_data, ensemble_train_labels)"
   ]
  },
  {
   "cell_type": "code",
   "execution_count": 184,
   "metadata": {},
   "outputs": [
    {
     "data": {
      "text/plain": [
       "(20, 3)"
      ]
     },
     "execution_count": 184,
     "metadata": {},
     "output_type": "execute_result"
    }
   ],
   "source": [
    "ensemble_test_subset = ensemble_train_data[180:]\n",
    "ensemble_test_subset.shape"
   ]
  },
  {
   "cell_type": "code",
   "execution_count": 185,
   "metadata": {},
   "outputs": [
    {
     "data": {
      "text/plain": [
       "(20,)"
      ]
     },
     "execution_count": 185,
     "metadata": {},
     "output_type": "execute_result"
    }
   ],
   "source": [
    "ensemble_test_subset_labels = ensemble_train_labels[180:]\n",
    "ensemble_test_subset_labels.shape"
   ]
  },
  {
   "cell_type": "code",
   "execution_count": 186,
   "metadata": {},
   "outputs": [
    {
     "data": {
      "text/plain": [
       "20"
      ]
     },
     "execution_count": 186,
     "metadata": {},
     "output_type": "execute_result"
    }
   ],
   "source": [
    "final_res = clf.predict(ensemble_test_subset)\n",
    "len(final_res)"
   ]
  },
  {
   "cell_type": "code",
   "execution_count": 187,
   "metadata": {},
   "outputs": [],
   "source": [
    "acc_res = accuracy_score(ensemble_test_subset_labels, final_res)"
   ]
  },
  {
   "cell_type": "code",
   "execution_count": 188,
   "metadata": {},
   "outputs": [
    {
     "name": "stdout",
     "output_type": "stream",
     "text": [
      "1.0\n"
     ]
    }
   ],
   "source": [
    "print(acc_res)"
   ]
  },
  {
   "cell_type": "code",
   "execution_count": 189,
   "metadata": {},
   "outputs": [
    {
     "data": {
      "image/png": "[encoded data removed]",
      "text/plain": [
       "<matplotlib.figure.Figure at 0x7fa1f8ab66a0>"
      ]
     },
     "metadata": {},
     "output_type": "display_data"
    }
   ],
   "source": [
    "plt.plot(acc_res, '.g')\n",
    "plt.ylabel('Accuracy on orignal data')\n",
    "plt.title('Ensemble Model Accuracy for Original Data')\n",
    "plt.show()"
   ]
  },
  {
   "cell_type": "code",
   "execution_count": null,
   "metadata": {},
   "outputs": [],
   "source": []
  },
  {
   "cell_type": "code",
   "execution_count": null,
   "metadata": {},
   "outputs": [],
   "source": []
  },
  {
   "cell_type": "code",
   "execution_count": null,
   "metadata": {},
   "outputs": [],
   "source": []
  },
  {
   "cell_type": "code",
   "execution_count": null,
   "metadata": {},
   "outputs": [],
   "source": []
  }
 ],
 "metadata": {
  "kernelspec": {
   "display_name": "Python 3",
   "language": "python",
   "name": "python3"
  },
  "language_info": {
   "codemirror_mode": {
    "name": "ipython",
    "version": 3
   },
   "file_extension": ".py",
   "mimetype": "text/x-python",
   "name": "python",
   "nbconvert_exporter": "python",
   "pygments_lexer": "ipython3",
   "version": "3.6.1"
  }
 },
 "nbformat": 4,
 "nbformat_minor": 2
}
