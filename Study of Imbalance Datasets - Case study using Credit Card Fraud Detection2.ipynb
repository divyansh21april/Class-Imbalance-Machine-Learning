{
 "cells": [
  {
   "cell_type": "markdown",
   "metadata": {},
   "source": [
    "#### Import Files"
   ]
  },
  {
   "cell_type": "code",
   "execution_count": 1,
   "metadata": {},
   "outputs": [],
   "source": [
    "# Importing Files\n",
    "import os\n",
    "import random\n",
    "import sys\n",
    "import time\n",
    "import pandas as pd\n",
    "import numpy as np\n",
    "import matplotlib\n",
    "import matplotlib.pyplot as plt\n",
    "import sklearn as sk\n",
    "from sklearn.model_selection import cross_val_score\n",
    "from sklearn.preprocessing import StandardScaler\n",
    "from sklearn.model_selection import train_test_split\n",
    "from sklearn.svm import SVC\n",
    "from sklearn.metrics import confusion_matrix\n",
    "from sklearn.model_selection import GridSearchCV\n",
    "from sklearn import linear_model\n",
    "from sklearn.metrics import mean_squared_error\n",
    "from math import sqrt\n",
    "from sklearn.neural_network import MLPClassifier\n",
    "\n",
    "%matplotlib inline"
   ]
  },
  {
   "cell_type": "markdown",
   "metadata": {},
   "source": [
    "#### Reading the dataset"
   ]
  },
  {
   "cell_type": "code",
   "execution_count": 2,
   "metadata": {},
   "outputs": [
    {
     "name": "stdout",
     "output_type": "stream",
     "text": [
      "   Time        V1        V2        V3        V4        V5        V6        V7  \\\n",
      "0   0.0 -1.359807 -0.072781  2.536347  1.378155 -0.338321  0.462388  0.239599   \n",
      "1   0.0  1.191857  0.266151  0.166480  0.448154  0.060018 -0.082361 -0.078803   \n",
      "2   1.0 -1.358354 -1.340163  1.773209  0.379780 -0.503198  1.800499  0.791461   \n",
      "3   1.0 -0.966272 -0.185226  1.792993 -0.863291 -0.010309  1.247203  0.237609   \n",
      "4   2.0 -1.158233  0.877737  1.548718  0.403034 -0.407193  0.095921  0.592941   \n",
      "\n",
      "         V8        V9  ...         V21       V22       V23       V24  \\\n",
      "0  0.098698  0.363787  ...   -0.018307  0.277838 -0.110474  0.066928   \n",
      "1  0.085102 -0.255425  ...   -0.225775 -0.638672  0.101288 -0.339846   \n",
      "2  0.247676 -1.514654  ...    0.247998  0.771679  0.909412 -0.689281   \n",
      "3  0.377436 -1.387024  ...   -0.108300  0.005274 -0.190321 -1.175575   \n",
      "4 -0.270533  0.817739  ...   -0.009431  0.798278 -0.137458  0.141267   \n",
      "\n",
      "        V25       V26       V27       V28  Amount  Class  \n",
      "0  0.128539 -0.189115  0.133558 -0.021053  149.62      0  \n",
      "1  0.167170  0.125895 -0.008983  0.014724    2.69      0  \n",
      "2 -0.327642 -0.139097 -0.055353 -0.059752  378.66      0  \n",
      "3  0.647376 -0.221929  0.062723  0.061458  123.50      0  \n",
      "4 -0.206010  0.502292  0.219422  0.215153   69.99      0  \n",
      "\n",
      "[5 rows x 31 columns]\n"
     ]
    }
   ],
   "source": [
    "data = pd.read_csv(\"creditcard.csv\")\n",
    "print(data.head())"
   ]
  },
  {
   "cell_type": "markdown",
   "metadata": {},
   "source": [
    "#### Understanding the fields"
   ]
  },
  {
   "cell_type": "code",
   "execution_count": 3,
   "metadata": {},
   "outputs": [
    {
     "data": {
      "text/plain": [
       "Index(['Time', 'V1', 'V2', 'V3', 'V4', 'V5', 'V6', 'V7', 'V8', 'V9', 'V10',\n",
       "       'V11', 'V12', 'V13', 'V14', 'V15', 'V16', 'V17', 'V18', 'V19', 'V20',\n",
       "       'V21', 'V22', 'V23', 'V24', 'V25', 'V26', 'V27', 'V28', 'Amount',\n",
       "       'Class'],\n",
       "      dtype='object')"
      ]
     },
     "execution_count": 3,
     "metadata": {},
     "output_type": "execute_result"
    }
   ],
   "source": [
    "data.columns"
   ]
  },
  {
   "cell_type": "code",
   "execution_count": 4,
   "metadata": {},
   "outputs": [
    {
     "name": "stdout",
     "output_type": "stream",
     "text": [
      "The number of fraudulent transactions( Class 1) are:  492\n",
      "The number of normal transactions( Class 0) are:  284315\n",
      "Class 0 percentage =  99.82725143693798\n",
      "Class 1 percentage =  0.1727485630620034\n"
     ]
    }
   ],
   "source": [
    "# Data Distribution\n",
    "No_of_frauds= len(data[data[\"Class\"]==1])\n",
    "No_of_normals = len(data[data[\"Class\"]==0])\n",
    "print(\"The number of fraudulent transactions( Class 1) are: \", No_of_frauds)\n",
    "print(\"The number of normal transactions( Class 0) are: \", No_of_normals)\n",
    "total= No_of_frauds + No_of_normals\n",
    "Fraud_percent= (No_of_frauds / total)*100\n",
    "Normal_percent= (No_of_normals / total)*100\n",
    "print(\"Class 0 percentage = \", Normal_percent)\n",
    "print(\"Class 1 percentage = \", Fraud_percent)"
   ]
  },
  {
   "cell_type": "code",
   "execution_count": 5,
   "metadata": {},
   "outputs": [],
   "source": [
    "# Splitting into data and output columns\n",
    "from sklearn.utils import shuffle\n",
    "data = shuffle(data)\n",
    "input_data = data.loc[:, :'Amount']\n",
    "output_data = data.loc[:, 'Class':]"
   ]
  },
  {
   "cell_type": "markdown",
   "metadata": {},
   "source": [
    "#### Breaking the data into training and test sets"
   ]
  },
  {
   "cell_type": "code",
   "execution_count": 6,
   "metadata": {},
   "outputs": [
    {
     "data": {
      "text/plain": [
       "284807"
      ]
     },
     "execution_count": 6,
     "metadata": {},
     "output_type": "execute_result"
    }
   ],
   "source": [
    "# Number of records \n",
    "len(data)"
   ]
  },
  {
   "cell_type": "code",
   "execution_count": 7,
   "metadata": {},
   "outputs": [],
   "source": [
    "# Splitting 280000 into training and 4807 into testing\n",
    "train_data = input_data.loc[:280000, :]\n",
    "train_labels = output_data.loc[:280000, :]\n",
    "\n",
    "test_data = input_data.loc[280000:, :]\n",
    "test_labels = output_data.loc[280000:, :]"
   ]
  },
  {
   "cell_type": "markdown",
   "metadata": {},
   "source": [
    "# Applying Classification without any preprocessing"
   ]
  },
  {
   "cell_type": "code",
   "execution_count": 8,
   "metadata": {},
   "outputs": [],
   "source": [
    "from sklearn.neural_network import MLPClassifier\n",
    "from sklearn.ensemble import RandomForestClassifier\n",
    "from sklearn.neighbors import KNeighborsClassifier"
   ]
  },
  {
   "cell_type": "markdown",
   "metadata": {},
   "source": [
    "#### Creating the classifiers"
   ]
  },
  {
   "cell_type": "code",
   "execution_count": 9,
   "metadata": {},
   "outputs": [],
   "source": [
    "clf_randomforest = RandomForestClassifier(max_depth=5, n_estimators=10, max_features=1)"
   ]
  },
  {
   "cell_type": "code",
   "execution_count": 10,
   "metadata": {},
   "outputs": [],
   "source": [
    "clf_neuralnet = MLPClassifier(alpha=1)"
   ]
  },
  {
   "cell_type": "code",
   "execution_count": 11,
   "metadata": {},
   "outputs": [],
   "source": [
    "clf_knearest = KNeighborsClassifier(3)"
   ]
  },
  {
   "cell_type": "markdown",
   "metadata": {},
   "source": [
    "#### Training the models"
   ]
  },
  {
   "cell_type": "code",
   "execution_count": 12,
   "metadata": {},
   "outputs": [
    {
     "data": {
      "text/plain": [
       "RandomForestClassifier(bootstrap=True, class_weight=None, criterion='gini',\n",
       "            max_depth=5, max_features=1, max_leaf_nodes=None,\n",
       "            min_impurity_decrease=0.0, min_impurity_split=None,\n",
       "            min_samples_leaf=1, min_samples_split=2,\n",
       "            min_weight_fraction_leaf=0.0, n_estimators=10, n_jobs=1,\n",
       "            oob_score=False, random_state=None, verbose=0,\n",
       "            warm_start=False)"
      ]
     },
     "execution_count": 12,
     "metadata": {},
     "output_type": "execute_result"
    }
   ],
   "source": [
    "clf_randomforest.fit(train_data, np.ravel(train_labels))"
   ]
  },
  {
   "cell_type": "code",
   "execution_count": 13,
   "metadata": {},
   "outputs": [
    {
     "data": {
      "text/plain": [
       "MLPClassifier(activation='relu', alpha=1, batch_size='auto', beta_1=0.9,\n",
       "       beta_2=0.999, early_stopping=False, epsilon=1e-08,\n",
       "       hidden_layer_sizes=(100,), learning_rate='constant',\n",
       "       learning_rate_init=0.001, max_iter=200, momentum=0.9,\n",
       "       nesterovs_momentum=True, power_t=0.5, random_state=None,\n",
       "       shuffle=True, solver='adam', tol=0.0001, validation_fraction=0.1,\n",
       "       verbose=False, warm_start=False)"
      ]
     },
     "execution_count": 13,
     "metadata": {},
     "output_type": "execute_result"
    }
   ],
   "source": [
    "clf_neuralnet.fit(train_data, np.ravel(train_labels))"
   ]
  },
  {
   "cell_type": "code",
   "execution_count": 14,
   "metadata": {},
   "outputs": [
    {
     "data": {
      "text/plain": [
       "KNeighborsClassifier(algorithm='auto', leaf_size=30, metric='minkowski',\n",
       "           metric_params=None, n_jobs=1, n_neighbors=3, p=2,\n",
       "           weights='uniform')"
      ]
     },
     "execution_count": 14,
     "metadata": {},
     "output_type": "execute_result"
    }
   ],
   "source": [
    "clf_knearest.fit(train_data, np.ravel(train_labels))"
   ]
  },
  {
   "cell_type": "markdown",
   "metadata": {},
   "source": [
    "#### Getting Scores"
   ]
  },
  {
   "cell_type": "code",
   "execution_count": 15,
   "metadata": {},
   "outputs": [],
   "source": [
    "score_randomforest = clf_randomforest.score(test_data, test_labels)"
   ]
  },
  {
   "cell_type": "code",
   "execution_count": 16,
   "metadata": {},
   "outputs": [],
   "source": [
    "score_neuralnet = clf_neuralnet.score(test_data, test_labels)"
   ]
  },
  {
   "cell_type": "code",
   "execution_count": 17,
   "metadata": {},
   "outputs": [],
   "source": [
    "score_knearest = clf_knearest.score(test_data, test_labels)"
   ]
  },
  {
   "cell_type": "code",
   "execution_count": 18,
   "metadata": {},
   "outputs": [
    {
     "name": "stdout",
     "output_type": "stream",
     "text": [
      "Random Forest\t0.9990763561532388\n",
      "Neural Network\t0.9975114259050992\n",
      "K Nearest Neighbours\t0.9982436409753296\n"
     ]
    }
   ],
   "source": [
    "print(\"Random Forest\\t\",end = \"\")\n",
    "print(score_randomforest)\n",
    "\n",
    "print(\"Neural Network\\t\", end=\"\")\n",
    "print(score_neuralnet)\n",
    "\n",
    "print(\"K Nearest Neighbours\\t\", end=\"\")\n",
    "print(score_knearest)"
   ]
  },
  {
   "cell_type": "code",
   "execution_count": 19,
   "metadata": {},
   "outputs": [],
   "source": [
    "unproc_res = [score_randomforest, score_neuralnet, score_knearest]"
   ]
  },
  {
   "cell_type": "code",
   "execution_count": 20,
   "metadata": {},
   "outputs": [
    {
     "data": {
      "image/png": "[encoded data removed]",
      "text/plain": [
       "<matplotlib.figure.Figure at 0x2a88d55a668>"
      ]
     },
     "metadata": {},
     "output_type": "display_data"
    }
   ],
   "source": [
    "import matplotlib.pyplot as plt\n",
    "plt.plot(unproc_res, '.g')\n",
    "plt.ylabel('Accuracies of classifiers')\n",
    "plt.title('Accuracies without processing')\n",
    "plt.show()\n"
   ]
  },
  {
   "cell_type": "markdown",
   "metadata": {},
   "source": [
    "# Applying different processing techniques for Handling Imbalanced Datasets"
   ]
  },
  {
   "cell_type": "markdown",
   "metadata": {},
   "source": [
    "### 1. Undersampling"
   ]
  },
  {
   "cell_type": "code",
   "execution_count": 21,
   "metadata": {},
   "outputs": [],
   "source": [
    "#list of fraud indices\n",
    "fraud_index= np.array(data[data[\"Class\"]==1].index)\n",
    "\n",
    "#getting the list of normal indices from the full dataset\n",
    "normal_index= data[data[\"Class\"]==0].index\n",
    "\n",
    "#choosing random normal indices equal to the number of fraudulent transactions\n",
    "random_normal_indices= np.random.choice(normal_index, No_of_frauds, replace= False)\n",
    "random_normal_indices= np.array(random_normal_indices)\n",
    "\n",
    "# concatenate fraud index and normal index to create a list of indices\n",
    "undersampled_indices= np.concatenate([fraud_index, random_normal_indices])\n",
    "\n",
    "#use the undersampled indices to build the undersampled_data dataframe\n",
    "undersampled_data= data.iloc[undersampled_indices, :]\n"
   ]
  },
  {
   "cell_type": "code",
   "execution_count": 22,
   "metadata": {},
   "outputs": [
    {
     "data": {
      "text/plain": [
       "984"
      ]
     },
     "execution_count": 22,
     "metadata": {},
     "output_type": "execute_result"
    }
   ],
   "source": [
    "len(undersampled_data)"
   ]
  },
  {
   "cell_type": "code",
   "execution_count": 30,
   "metadata": {},
   "outputs": [
    {
     "ename": "ValueError",
     "evalue": "labels ['Time' 'Amount'] not contained in axis",
     "output_type": "error",
     "traceback": [
      "\u001b[1;31m---------------------------------------------------------------------------\u001b[0m",
      "\u001b[1;31mValueError\u001b[0m                                Traceback (most recent call last)",
      "\u001b[1;32m<ipython-input-30-728b4a1fa1d3>\u001b[0m in \u001b[0;36m<module>\u001b[1;34m()\u001b[0m\n\u001b[0;32m      1\u001b[0m \u001b[0msc\u001b[0m\u001b[1;33m=\u001b[0m \u001b[0mStandardScaler\u001b[0m\u001b[1;33m(\u001b[0m\u001b[1;33m)\u001b[0m\u001b[1;33m\u001b[0m\u001b[0m\n\u001b[0;32m      2\u001b[0m \u001b[0mundersampled_data\u001b[0m\u001b[1;33m[\u001b[0m\u001b[1;34m\"scaled_Amount\"\u001b[0m\u001b[1;33m]\u001b[0m\u001b[1;33m=\u001b[0m  \u001b[0msc\u001b[0m\u001b[1;33m.\u001b[0m\u001b[0mfit_transform\u001b[0m\u001b[1;33m(\u001b[0m\u001b[0mundersampled_data\u001b[0m\u001b[1;33m.\u001b[0m\u001b[0miloc\u001b[0m\u001b[1;33m[\u001b[0m\u001b[1;33m:\u001b[0m\u001b[1;33m,\u001b[0m\u001b[1;36m29\u001b[0m\u001b[1;33m]\u001b[0m\u001b[1;33m.\u001b[0m\u001b[0mvalues\u001b[0m\u001b[1;33m.\u001b[0m\u001b[0mreshape\u001b[0m\u001b[1;33m(\u001b[0m\u001b[1;33m-\u001b[0m\u001b[1;36m1\u001b[0m\u001b[1;33m,\u001b[0m\u001b[1;36m1\u001b[0m\u001b[1;33m)\u001b[0m\u001b[1;33m)\u001b[0m\u001b[1;33m\u001b[0m\u001b[0m\n\u001b[1;32m----> 3\u001b[1;33m \u001b[0mundersampled_data\u001b[0m\u001b[1;33m=\u001b[0m \u001b[0mundersampled_data\u001b[0m\u001b[1;33m.\u001b[0m\u001b[0mdrop\u001b[0m\u001b[1;33m(\u001b[0m\u001b[1;33m[\u001b[0m\u001b[1;34m\"Time\"\u001b[0m\u001b[1;33m,\u001b[0m\u001b[1;34m\"Amount\"\u001b[0m\u001b[1;33m]\u001b[0m\u001b[1;33m,\u001b[0m \u001b[0maxis\u001b[0m\u001b[1;33m=\u001b[0m \u001b[1;36m1\u001b[0m\u001b[1;33m)\u001b[0m\u001b[1;33m\u001b[0m\u001b[0m\n\u001b[0m\u001b[0;32m      4\u001b[0m \u001b[0mX\u001b[0m\u001b[1;33m=\u001b[0m \u001b[0mundersampled_data\u001b[0m\u001b[1;33m.\u001b[0m\u001b[0miloc\u001b[0m\u001b[1;33m[\u001b[0m\u001b[1;33m:\u001b[0m\u001b[1;33m,\u001b[0m \u001b[0mundersampled_data\u001b[0m\u001b[1;33m.\u001b[0m\u001b[0mcolumns\u001b[0m \u001b[1;33m!=\u001b[0m \u001b[1;34m\"Class\"\u001b[0m\u001b[1;33m]\u001b[0m\u001b[1;33m.\u001b[0m\u001b[0mvalues\u001b[0m\u001b[1;33m\u001b[0m\u001b[0m\n\u001b[0;32m      5\u001b[0m \u001b[0my\u001b[0m\u001b[1;33m=\u001b[0m \u001b[0mundersampled_data\u001b[0m\u001b[1;33m.\u001b[0m\u001b[0miloc\u001b[0m\u001b[1;33m[\u001b[0m\u001b[1;33m:\u001b[0m\u001b[1;33m,\u001b[0m \u001b[0mundersampled_data\u001b[0m\u001b[1;33m.\u001b[0m\u001b[0mcolumns\u001b[0m \u001b[1;33m==\u001b[0m \u001b[1;34m\"Class\"\u001b[0m\u001b[1;33m]\u001b[0m\u001b[1;33m.\u001b[0m\u001b[0mvalues\u001b[0m\u001b[1;33m\u001b[0m\u001b[0m\n",
      "\u001b[1;32mE:\\Anaconda\\lib\\site-packages\\pandas\\core\\generic.py\u001b[0m in \u001b[0;36mdrop\u001b[1;34m(self, labels, axis, index, columns, level, inplace, errors)\u001b[0m\n\u001b[0;32m   2528\u001b[0m         \u001b[1;32mfor\u001b[0m \u001b[0maxis\u001b[0m\u001b[1;33m,\u001b[0m \u001b[0mlabels\u001b[0m \u001b[1;32min\u001b[0m \u001b[0maxes\u001b[0m\u001b[1;33m.\u001b[0m\u001b[0mitems\u001b[0m\u001b[1;33m(\u001b[0m\u001b[1;33m)\u001b[0m\u001b[1;33m:\u001b[0m\u001b[1;33m\u001b[0m\u001b[0m\n\u001b[0;32m   2529\u001b[0m             \u001b[1;32mif\u001b[0m \u001b[0mlabels\u001b[0m \u001b[1;32mis\u001b[0m \u001b[1;32mnot\u001b[0m \u001b[1;32mNone\u001b[0m\u001b[1;33m:\u001b[0m\u001b[1;33m\u001b[0m\u001b[0m\n\u001b[1;32m-> 2530\u001b[1;33m                 \u001b[0mobj\u001b[0m \u001b[1;33m=\u001b[0m \u001b[0mobj\u001b[0m\u001b[1;33m.\u001b[0m\u001b[0m_drop_axis\u001b[0m\u001b[1;33m(\u001b[0m\u001b[0mlabels\u001b[0m\u001b[1;33m,\u001b[0m \u001b[0maxis\u001b[0m\u001b[1;33m,\u001b[0m \u001b[0mlevel\u001b[0m\u001b[1;33m=\u001b[0m\u001b[0mlevel\u001b[0m\u001b[1;33m,\u001b[0m \u001b[0merrors\u001b[0m\u001b[1;33m=\u001b[0m\u001b[0merrors\u001b[0m\u001b[1;33m)\u001b[0m\u001b[1;33m\u001b[0m\u001b[0m\n\u001b[0m\u001b[0;32m   2531\u001b[0m \u001b[1;33m\u001b[0m\u001b[0m\n\u001b[0;32m   2532\u001b[0m         \u001b[1;32mif\u001b[0m \u001b[0minplace\u001b[0m\u001b[1;33m:\u001b[0m\u001b[1;33m\u001b[0m\u001b[0m\n",
      "\u001b[1;32mE:\\Anaconda\\lib\\site-packages\\pandas\\core\\generic.py\u001b[0m in \u001b[0;36m_drop_axis\u001b[1;34m(self, labels, axis, level, errors)\u001b[0m\n\u001b[0;32m   2560\u001b[0m                 \u001b[0mnew_axis\u001b[0m \u001b[1;33m=\u001b[0m \u001b[0maxis\u001b[0m\u001b[1;33m.\u001b[0m\u001b[0mdrop\u001b[0m\u001b[1;33m(\u001b[0m\u001b[0mlabels\u001b[0m\u001b[1;33m,\u001b[0m \u001b[0mlevel\u001b[0m\u001b[1;33m=\u001b[0m\u001b[0mlevel\u001b[0m\u001b[1;33m,\u001b[0m \u001b[0merrors\u001b[0m\u001b[1;33m=\u001b[0m\u001b[0merrors\u001b[0m\u001b[1;33m)\u001b[0m\u001b[1;33m\u001b[0m\u001b[0m\n\u001b[0;32m   2561\u001b[0m             \u001b[1;32melse\u001b[0m\u001b[1;33m:\u001b[0m\u001b[1;33m\u001b[0m\u001b[0m\n\u001b[1;32m-> 2562\u001b[1;33m                 \u001b[0mnew_axis\u001b[0m \u001b[1;33m=\u001b[0m \u001b[0maxis\u001b[0m\u001b[1;33m.\u001b[0m\u001b[0mdrop\u001b[0m\u001b[1;33m(\u001b[0m\u001b[0mlabels\u001b[0m\u001b[1;33m,\u001b[0m \u001b[0merrors\u001b[0m\u001b[1;33m=\u001b[0m\u001b[0merrors\u001b[0m\u001b[1;33m)\u001b[0m\u001b[1;33m\u001b[0m\u001b[0m\n\u001b[0m\u001b[0;32m   2563\u001b[0m             \u001b[0mdropped\u001b[0m \u001b[1;33m=\u001b[0m \u001b[0mself\u001b[0m\u001b[1;33m.\u001b[0m\u001b[0mreindex\u001b[0m\u001b[1;33m(\u001b[0m\u001b[1;33m**\u001b[0m\u001b[1;33m{\u001b[0m\u001b[0maxis_name\u001b[0m\u001b[1;33m:\u001b[0m \u001b[0mnew_axis\u001b[0m\u001b[1;33m}\u001b[0m\u001b[1;33m)\u001b[0m\u001b[1;33m\u001b[0m\u001b[0m\n\u001b[0;32m   2564\u001b[0m             \u001b[1;32mtry\u001b[0m\u001b[1;33m:\u001b[0m\u001b[1;33m\u001b[0m\u001b[0m\n",
      "\u001b[1;32mE:\\Anaconda\\lib\\site-packages\\pandas\\core\\indexes\\base.py\u001b[0m in \u001b[0;36mdrop\u001b[1;34m(self, labels, errors)\u001b[0m\n\u001b[0;32m   3742\u001b[0m             \u001b[1;32mif\u001b[0m \u001b[0merrors\u001b[0m \u001b[1;33m!=\u001b[0m \u001b[1;34m'ignore'\u001b[0m\u001b[1;33m:\u001b[0m\u001b[1;33m\u001b[0m\u001b[0m\n\u001b[0;32m   3743\u001b[0m                 raise ValueError('labels %s not contained in axis' %\n\u001b[1;32m-> 3744\u001b[1;33m                                  labels[mask])\n\u001b[0m\u001b[0;32m   3745\u001b[0m             \u001b[0mindexer\u001b[0m \u001b[1;33m=\u001b[0m \u001b[0mindexer\u001b[0m\u001b[1;33m[\u001b[0m\u001b[1;33m~\u001b[0m\u001b[0mmask\u001b[0m\u001b[1;33m]\u001b[0m\u001b[1;33m\u001b[0m\u001b[0m\n\u001b[0;32m   3746\u001b[0m         \u001b[1;32mreturn\u001b[0m \u001b[0mself\u001b[0m\u001b[1;33m.\u001b[0m\u001b[0mdelete\u001b[0m\u001b[1;33m(\u001b[0m\u001b[0mindexer\u001b[0m\u001b[1;33m)\u001b[0m\u001b[1;33m\u001b[0m\u001b[0m\n",
      "\u001b[1;31mValueError\u001b[0m: labels ['Time' 'Amount'] not contained in axis"
     ]
    }
   ],
   "source": [
    "sc= StandardScaler()\n",
    "undersampled_data[\"scaled_Amount\"]=  sc.fit_transform(undersampled_data.iloc[:,29].values.reshape(-1,1))\n",
    "undersampled_data= undersampled_data.drop([\"Time\",\"Amount\"], axis= 1)\n",
    "X= undersampled_data.iloc[:, undersampled_data.columns != \"Class\"].values\n",
    "y= undersampled_data.iloc[:, undersampled_data.columns == \"Class\"].values\n",
    "\n",
    "from sklearn.utils import shuffle\n",
    "X, y = shuffle(X, y)\n",
    "\n",
    "X_train, X_test, y_train, y_test = train_test_split(X, y, test_size= 0.1, random_state= 0)"
   ]
  },
  {
   "cell_type": "code",
   "execution_count": 31,
   "metadata": {},
   "outputs": [],
   "source": [
    "clf_randomforest_hyb = RandomForestClassifier(max_depth=5, n_estimators=10, max_features=1)"
   ]
  },
  {
   "cell_type": "code",
   "execution_count": 32,
   "metadata": {},
   "outputs": [
    {
     "data": {
      "text/plain": [
       "RandomForestClassifier(bootstrap=True, class_weight=None, criterion='gini',\n",
       "            max_depth=5, max_features=1, max_leaf_nodes=None,\n",
       "            min_impurity_decrease=0.0, min_impurity_split=None,\n",
       "            min_samples_leaf=1, min_samples_split=2,\n",
       "            min_weight_fraction_leaf=0.0, n_estimators=10, n_jobs=1,\n",
       "            oob_score=False, random_state=None, verbose=0,\n",
       "            warm_start=False)"
      ]
     },
     "execution_count": 32,
     "metadata": {},
     "output_type": "execute_result"
    }
   ],
   "source": [
    "clf_randomforest_hyb.fit(X_train, y_train.ravel())"
   ]
  },
  {
   "cell_type": "code",
   "execution_count": 33,
   "metadata": {},
   "outputs": [
    {
     "name": "stdout",
     "output_type": "stream",
     "text": [
      "The mean accuracy in %:  99.8888888888889\n",
      "The standard deviation in %  0.33333333333333215\n"
     ]
    },
    {
     "name": "stderr",
     "output_type": "stream",
     "text": [
      "E:\\Anaconda\\lib\\site-packages\\sklearn\\model_selection\\_split.py:605: Warning: The least populated class in y has only 1 members, which is too few. The minimum number of members in any class cannot be less than n_splits=10.\n",
      "  % (min_groups, self.n_splits)), Warning)\n"
     ]
    }
   ],
   "source": [
    "y_pred = clf_randomforest_hyb.predict(X_test)\n",
    "accuracies = cross_val_score(estimator = clf_randomforest_hyb, X=X_train, y = y_train.ravel(), cv = 10)\n",
    "mean_accuracy= accuracies.mean()*100\n",
    "std_accuracy= accuracies.std()*100\n",
    "print(\"The mean accuracy in %: \", accuracies.mean()*100)\n",
    "print(\"The standard deviation in % \", accuracies.std()*100)"
   ]
  },
  {
   "cell_type": "code",
   "execution_count": 34,
   "metadata": {},
   "outputs": [
    {
     "data": {
      "image/png": "[encoded data removed]",
      "text/plain": [
       "<matplotlib.figure.Figure at 0x2a8801fc9b0>"
      ]
     },
     "metadata": {},
     "output_type": "display_data"
    }
   ],
   "source": [
    "plt.plot(mean_accuracy, '.g')\n",
    "plt.ylabel('Accuracy undersampled data')\n",
    "plt.title('Accuracy of RandomForest Classifier')\n",
    "plt.show()"
   ]
  },
  {
   "cell_type": "code",
   "execution_count": null,
   "metadata": {},
   "outputs": [],
   "source": []
  },
  {
   "cell_type": "markdown",
   "metadata": {},
   "source": [
    "#### Fitting Support Vector Classifier"
   ]
  },
  {
   "cell_type": "code",
   "execution_count": 35,
   "metadata": {},
   "outputs": [
    {
     "data": {
      "text/plain": [
       "SVC(C=1, cache_size=200, class_weight=None, coef0=0.0,\n",
       "  decision_function_shape='ovr', degree=3, gamma='auto', kernel='rbf',\n",
       "  max_iter=-1, probability=False, random_state=0, shrinking=True,\n",
       "  tol=0.001, verbose=False)"
      ]
     },
     "execution_count": 35,
     "metadata": {},
     "output_type": "execute_result"
    }
   ],
   "source": [
    "classifier= SVC(C= 1, kernel= 'rbf', random_state= 0)\n",
    "classifier.fit(X_train, y_train.ravel())"
   ]
  },
  {
   "cell_type": "code",
   "execution_count": 36,
   "metadata": {},
   "outputs": [
    {
     "name": "stderr",
     "output_type": "stream",
     "text": [
      "E:\\Anaconda\\lib\\site-packages\\sklearn\\model_selection\\_split.py:605: Warning: The least populated class in y has only 1 members, which is too few. The minimum number of members in any class cannot be less than n_splits=10.\n",
      "  % (min_groups, self.n_splits)), Warning)\n"
     ]
    },
    {
     "ename": "ValueError",
     "evalue": "The number of classes has to be greater than one; got 1",
     "output_type": "error",
     "traceback": [
      "\u001b[1;31m---------------------------------------------------------------------------\u001b[0m",
      "\u001b[1;31mValueError\u001b[0m                                Traceback (most recent call last)",
      "\u001b[1;32m<ipython-input-36-129078b7d6af>\u001b[0m in \u001b[0;36m<module>\u001b[1;34m()\u001b[0m\n\u001b[0;32m      1\u001b[0m \u001b[0my_pred\u001b[0m \u001b[1;33m=\u001b[0m \u001b[0mclassifier\u001b[0m\u001b[1;33m.\u001b[0m\u001b[0mpredict\u001b[0m\u001b[1;33m(\u001b[0m\u001b[0mX_test\u001b[0m\u001b[1;33m)\u001b[0m\u001b[1;33m\u001b[0m\u001b[0m\n\u001b[1;32m----> 2\u001b[1;33m \u001b[0maccuracies\u001b[0m \u001b[1;33m=\u001b[0m \u001b[0mcross_val_score\u001b[0m\u001b[1;33m(\u001b[0m\u001b[0mestimator\u001b[0m \u001b[1;33m=\u001b[0m \u001b[0mclassifier\u001b[0m\u001b[1;33m,\u001b[0m \u001b[0mX\u001b[0m\u001b[1;33m=\u001b[0m\u001b[0mX_train\u001b[0m\u001b[1;33m,\u001b[0m \u001b[0my\u001b[0m \u001b[1;33m=\u001b[0m \u001b[0my_train\u001b[0m\u001b[1;33m.\u001b[0m\u001b[0mravel\u001b[0m\u001b[1;33m(\u001b[0m\u001b[1;33m)\u001b[0m\u001b[1;33m,\u001b[0m \u001b[0mcv\u001b[0m \u001b[1;33m=\u001b[0m \u001b[1;36m10\u001b[0m\u001b[1;33m)\u001b[0m\u001b[1;33m\u001b[0m\u001b[0m\n\u001b[0m\u001b[0;32m      3\u001b[0m \u001b[0mmean_accuracy\u001b[0m\u001b[1;33m=\u001b[0m \u001b[0maccuracies\u001b[0m\u001b[1;33m.\u001b[0m\u001b[0mmean\u001b[0m\u001b[1;33m(\u001b[0m\u001b[1;33m)\u001b[0m\u001b[1;33m*\u001b[0m\u001b[1;36m100\u001b[0m\u001b[1;33m\u001b[0m\u001b[0m\n\u001b[0;32m      4\u001b[0m \u001b[0mstd_accuracy\u001b[0m\u001b[1;33m=\u001b[0m \u001b[0maccuracies\u001b[0m\u001b[1;33m.\u001b[0m\u001b[0mstd\u001b[0m\u001b[1;33m(\u001b[0m\u001b[1;33m)\u001b[0m\u001b[1;33m*\u001b[0m\u001b[1;36m100\u001b[0m\u001b[1;33m\u001b[0m\u001b[0m\n\u001b[0;32m      5\u001b[0m \u001b[0mprint\u001b[0m\u001b[1;33m(\u001b[0m\u001b[1;34m\"The mean accuracy in %: \"\u001b[0m\u001b[1;33m,\u001b[0m \u001b[0maccuracies\u001b[0m\u001b[1;33m.\u001b[0m\u001b[0mmean\u001b[0m\u001b[1;33m(\u001b[0m\u001b[1;33m)\u001b[0m\u001b[1;33m*\u001b[0m\u001b[1;36m100\u001b[0m\u001b[1;33m)\u001b[0m\u001b[1;33m\u001b[0m\u001b[0m\n",
      "\u001b[1;32mE:\\Anaconda\\lib\\site-packages\\sklearn\\model_selection\\_validation.py\u001b[0m in \u001b[0;36mcross_val_score\u001b[1;34m(estimator, X, y, groups, scoring, cv, n_jobs, verbose, fit_params, pre_dispatch)\u001b[0m\n\u001b[0;32m    340\u001b[0m                                 \u001b[0mn_jobs\u001b[0m\u001b[1;33m=\u001b[0m\u001b[0mn_jobs\u001b[0m\u001b[1;33m,\u001b[0m \u001b[0mverbose\u001b[0m\u001b[1;33m=\u001b[0m\u001b[0mverbose\u001b[0m\u001b[1;33m,\u001b[0m\u001b[1;33m\u001b[0m\u001b[0m\n\u001b[0;32m    341\u001b[0m                                 \u001b[0mfit_params\u001b[0m\u001b[1;33m=\u001b[0m\u001b[0mfit_params\u001b[0m\u001b[1;33m,\u001b[0m\u001b[1;33m\u001b[0m\u001b[0m\n\u001b[1;32m--> 342\u001b[1;33m                                 pre_dispatch=pre_dispatch)\n\u001b[0m\u001b[0;32m    343\u001b[0m     \u001b[1;32mreturn\u001b[0m \u001b[0mcv_results\u001b[0m\u001b[1;33m[\u001b[0m\u001b[1;34m'test_score'\u001b[0m\u001b[1;33m]\u001b[0m\u001b[1;33m\u001b[0m\u001b[0m\n\u001b[0;32m    344\u001b[0m \u001b[1;33m\u001b[0m\u001b[0m\n",
      "\u001b[1;32mE:\\Anaconda\\lib\\site-packages\\sklearn\\model_selection\\_validation.py\u001b[0m in \u001b[0;36mcross_validate\u001b[1;34m(estimator, X, y, groups, scoring, cv, n_jobs, verbose, fit_params, pre_dispatch, return_train_score)\u001b[0m\n\u001b[0;32m    204\u001b[0m             \u001b[0mfit_params\u001b[0m\u001b[1;33m,\u001b[0m \u001b[0mreturn_train_score\u001b[0m\u001b[1;33m=\u001b[0m\u001b[0mreturn_train_score\u001b[0m\u001b[1;33m,\u001b[0m\u001b[1;33m\u001b[0m\u001b[0m\n\u001b[0;32m    205\u001b[0m             return_times=True)\n\u001b[1;32m--> 206\u001b[1;33m         for train, test in cv.split(X, y, groups))\n\u001b[0m\u001b[0;32m    207\u001b[0m \u001b[1;33m\u001b[0m\u001b[0m\n\u001b[0;32m    208\u001b[0m     \u001b[1;32mif\u001b[0m \u001b[0mreturn_train_score\u001b[0m\u001b[1;33m:\u001b[0m\u001b[1;33m\u001b[0m\u001b[0m\n",
      "\u001b[1;32mE:\\Anaconda\\lib\\site-packages\\sklearn\\externals\\joblib\\parallel.py\u001b[0m in \u001b[0;36m__call__\u001b[1;34m(self, iterable)\u001b[0m\n\u001b[0;32m    777\u001b[0m             \u001b[1;31m# was dispatched. In particular this covers the edge\u001b[0m\u001b[1;33m\u001b[0m\u001b[1;33m\u001b[0m\u001b[0m\n\u001b[0;32m    778\u001b[0m             \u001b[1;31m# case of Parallel used with an exhausted iterator.\u001b[0m\u001b[1;33m\u001b[0m\u001b[1;33m\u001b[0m\u001b[0m\n\u001b[1;32m--> 779\u001b[1;33m             \u001b[1;32mwhile\u001b[0m \u001b[0mself\u001b[0m\u001b[1;33m.\u001b[0m\u001b[0mdispatch_one_batch\u001b[0m\u001b[1;33m(\u001b[0m\u001b[0miterator\u001b[0m\u001b[1;33m)\u001b[0m\u001b[1;33m:\u001b[0m\u001b[1;33m\u001b[0m\u001b[0m\n\u001b[0m\u001b[0;32m    780\u001b[0m                 \u001b[0mself\u001b[0m\u001b[1;33m.\u001b[0m\u001b[0m_iterating\u001b[0m \u001b[1;33m=\u001b[0m \u001b[1;32mTrue\u001b[0m\u001b[1;33m\u001b[0m\u001b[0m\n\u001b[0;32m    781\u001b[0m             \u001b[1;32melse\u001b[0m\u001b[1;33m:\u001b[0m\u001b[1;33m\u001b[0m\u001b[0m\n",
      "\u001b[1;32mE:\\Anaconda\\lib\\site-packages\\sklearn\\externals\\joblib\\parallel.py\u001b[0m in \u001b[0;36mdispatch_one_batch\u001b[1;34m(self, iterator)\u001b[0m\n\u001b[0;32m    623\u001b[0m                 \u001b[1;32mreturn\u001b[0m \u001b[1;32mFalse\u001b[0m\u001b[1;33m\u001b[0m\u001b[0m\n\u001b[0;32m    624\u001b[0m             \u001b[1;32melse\u001b[0m\u001b[1;33m:\u001b[0m\u001b[1;33m\u001b[0m\u001b[0m\n\u001b[1;32m--> 625\u001b[1;33m                 \u001b[0mself\u001b[0m\u001b[1;33m.\u001b[0m\u001b[0m_dispatch\u001b[0m\u001b[1;33m(\u001b[0m\u001b[0mtasks\u001b[0m\u001b[1;33m)\u001b[0m\u001b[1;33m\u001b[0m\u001b[0m\n\u001b[0m\u001b[0;32m    626\u001b[0m                 \u001b[1;32mreturn\u001b[0m \u001b[1;32mTrue\u001b[0m\u001b[1;33m\u001b[0m\u001b[0m\n\u001b[0;32m    627\u001b[0m \u001b[1;33m\u001b[0m\u001b[0m\n",
      "\u001b[1;32mE:\\Anaconda\\lib\\site-packages\\sklearn\\externals\\joblib\\parallel.py\u001b[0m in \u001b[0;36m_dispatch\u001b[1;34m(self, batch)\u001b[0m\n\u001b[0;32m    586\u001b[0m         \u001b[0mdispatch_timestamp\u001b[0m \u001b[1;33m=\u001b[0m \u001b[0mtime\u001b[0m\u001b[1;33m.\u001b[0m\u001b[0mtime\u001b[0m\u001b[1;33m(\u001b[0m\u001b[1;33m)\u001b[0m\u001b[1;33m\u001b[0m\u001b[0m\n\u001b[0;32m    587\u001b[0m         \u001b[0mcb\u001b[0m \u001b[1;33m=\u001b[0m \u001b[0mBatchCompletionCallBack\u001b[0m\u001b[1;33m(\u001b[0m\u001b[0mdispatch_timestamp\u001b[0m\u001b[1;33m,\u001b[0m \u001b[0mlen\u001b[0m\u001b[1;33m(\u001b[0m\u001b[0mbatch\u001b[0m\u001b[1;33m)\u001b[0m\u001b[1;33m,\u001b[0m \u001b[0mself\u001b[0m\u001b[1;33m)\u001b[0m\u001b[1;33m\u001b[0m\u001b[0m\n\u001b[1;32m--> 588\u001b[1;33m         \u001b[0mjob\u001b[0m \u001b[1;33m=\u001b[0m \u001b[0mself\u001b[0m\u001b[1;33m.\u001b[0m\u001b[0m_backend\u001b[0m\u001b[1;33m.\u001b[0m\u001b[0mapply_async\u001b[0m\u001b[1;33m(\u001b[0m\u001b[0mbatch\u001b[0m\u001b[1;33m,\u001b[0m \u001b[0mcallback\u001b[0m\u001b[1;33m=\u001b[0m\u001b[0mcb\u001b[0m\u001b[1;33m)\u001b[0m\u001b[1;33m\u001b[0m\u001b[0m\n\u001b[0m\u001b[0;32m    589\u001b[0m         \u001b[0mself\u001b[0m\u001b[1;33m.\u001b[0m\u001b[0m_jobs\u001b[0m\u001b[1;33m.\u001b[0m\u001b[0mappend\u001b[0m\u001b[1;33m(\u001b[0m\u001b[0mjob\u001b[0m\u001b[1;33m)\u001b[0m\u001b[1;33m\u001b[0m\u001b[0m\n\u001b[0;32m    590\u001b[0m \u001b[1;33m\u001b[0m\u001b[0m\n",
      "\u001b[1;32mE:\\Anaconda\\lib\\site-packages\\sklearn\\externals\\joblib\\_parallel_backends.py\u001b[0m in \u001b[0;36mapply_async\u001b[1;34m(self, func, callback)\u001b[0m\n\u001b[0;32m    109\u001b[0m     \u001b[1;32mdef\u001b[0m \u001b[0mapply_async\u001b[0m\u001b[1;33m(\u001b[0m\u001b[0mself\u001b[0m\u001b[1;33m,\u001b[0m \u001b[0mfunc\u001b[0m\u001b[1;33m,\u001b[0m \u001b[0mcallback\u001b[0m\u001b[1;33m=\u001b[0m\u001b[1;32mNone\u001b[0m\u001b[1;33m)\u001b[0m\u001b[1;33m:\u001b[0m\u001b[1;33m\u001b[0m\u001b[0m\n\u001b[0;32m    110\u001b[0m         \u001b[1;34m\"\"\"Schedule a func to be run\"\"\"\u001b[0m\u001b[1;33m\u001b[0m\u001b[0m\n\u001b[1;32m--> 111\u001b[1;33m         \u001b[0mresult\u001b[0m \u001b[1;33m=\u001b[0m \u001b[0mImmediateResult\u001b[0m\u001b[1;33m(\u001b[0m\u001b[0mfunc\u001b[0m\u001b[1;33m)\u001b[0m\u001b[1;33m\u001b[0m\u001b[0m\n\u001b[0m\u001b[0;32m    112\u001b[0m         \u001b[1;32mif\u001b[0m \u001b[0mcallback\u001b[0m\u001b[1;33m:\u001b[0m\u001b[1;33m\u001b[0m\u001b[0m\n\u001b[0;32m    113\u001b[0m             \u001b[0mcallback\u001b[0m\u001b[1;33m(\u001b[0m\u001b[0mresult\u001b[0m\u001b[1;33m)\u001b[0m\u001b[1;33m\u001b[0m\u001b[0m\n",
      "\u001b[1;32mE:\\Anaconda\\lib\\site-packages\\sklearn\\externals\\joblib\\_parallel_backends.py\u001b[0m in \u001b[0;36m__init__\u001b[1;34m(self, batch)\u001b[0m\n\u001b[0;32m    330\u001b[0m         \u001b[1;31m# Don't delay the application, to avoid keeping the input\u001b[0m\u001b[1;33m\u001b[0m\u001b[1;33m\u001b[0m\u001b[0m\n\u001b[0;32m    331\u001b[0m         \u001b[1;31m# arguments in memory\u001b[0m\u001b[1;33m\u001b[0m\u001b[1;33m\u001b[0m\u001b[0m\n\u001b[1;32m--> 332\u001b[1;33m         \u001b[0mself\u001b[0m\u001b[1;33m.\u001b[0m\u001b[0mresults\u001b[0m \u001b[1;33m=\u001b[0m \u001b[0mbatch\u001b[0m\u001b[1;33m(\u001b[0m\u001b[1;33m)\u001b[0m\u001b[1;33m\u001b[0m\u001b[0m\n\u001b[0m\u001b[0;32m    333\u001b[0m \u001b[1;33m\u001b[0m\u001b[0m\n\u001b[0;32m    334\u001b[0m     \u001b[1;32mdef\u001b[0m \u001b[0mget\u001b[0m\u001b[1;33m(\u001b[0m\u001b[0mself\u001b[0m\u001b[1;33m)\u001b[0m\u001b[1;33m:\u001b[0m\u001b[1;33m\u001b[0m\u001b[0m\n",
      "\u001b[1;32mE:\\Anaconda\\lib\\site-packages\\sklearn\\externals\\joblib\\parallel.py\u001b[0m in \u001b[0;36m__call__\u001b[1;34m(self)\u001b[0m\n\u001b[0;32m    129\u001b[0m \u001b[1;33m\u001b[0m\u001b[0m\n\u001b[0;32m    130\u001b[0m     \u001b[1;32mdef\u001b[0m \u001b[0m__call__\u001b[0m\u001b[1;33m(\u001b[0m\u001b[0mself\u001b[0m\u001b[1;33m)\u001b[0m\u001b[1;33m:\u001b[0m\u001b[1;33m\u001b[0m\u001b[0m\n\u001b[1;32m--> 131\u001b[1;33m         \u001b[1;32mreturn\u001b[0m \u001b[1;33m[\u001b[0m\u001b[0mfunc\u001b[0m\u001b[1;33m(\u001b[0m\u001b[1;33m*\u001b[0m\u001b[0margs\u001b[0m\u001b[1;33m,\u001b[0m \u001b[1;33m**\u001b[0m\u001b[0mkwargs\u001b[0m\u001b[1;33m)\u001b[0m \u001b[1;32mfor\u001b[0m \u001b[0mfunc\u001b[0m\u001b[1;33m,\u001b[0m \u001b[0margs\u001b[0m\u001b[1;33m,\u001b[0m \u001b[0mkwargs\u001b[0m \u001b[1;32min\u001b[0m \u001b[0mself\u001b[0m\u001b[1;33m.\u001b[0m\u001b[0mitems\u001b[0m\u001b[1;33m]\u001b[0m\u001b[1;33m\u001b[0m\u001b[0m\n\u001b[0m\u001b[0;32m    132\u001b[0m \u001b[1;33m\u001b[0m\u001b[0m\n\u001b[0;32m    133\u001b[0m     \u001b[1;32mdef\u001b[0m \u001b[0m__len__\u001b[0m\u001b[1;33m(\u001b[0m\u001b[0mself\u001b[0m\u001b[1;33m)\u001b[0m\u001b[1;33m:\u001b[0m\u001b[1;33m\u001b[0m\u001b[0m\n",
      "\u001b[1;32mE:\\Anaconda\\lib\\site-packages\\sklearn\\externals\\joblib\\parallel.py\u001b[0m in \u001b[0;36m<listcomp>\u001b[1;34m(.0)\u001b[0m\n\u001b[0;32m    129\u001b[0m \u001b[1;33m\u001b[0m\u001b[0m\n\u001b[0;32m    130\u001b[0m     \u001b[1;32mdef\u001b[0m \u001b[0m__call__\u001b[0m\u001b[1;33m(\u001b[0m\u001b[0mself\u001b[0m\u001b[1;33m)\u001b[0m\u001b[1;33m:\u001b[0m\u001b[1;33m\u001b[0m\u001b[0m\n\u001b[1;32m--> 131\u001b[1;33m         \u001b[1;32mreturn\u001b[0m \u001b[1;33m[\u001b[0m\u001b[0mfunc\u001b[0m\u001b[1;33m(\u001b[0m\u001b[1;33m*\u001b[0m\u001b[0margs\u001b[0m\u001b[1;33m,\u001b[0m \u001b[1;33m**\u001b[0m\u001b[0mkwargs\u001b[0m\u001b[1;33m)\u001b[0m \u001b[1;32mfor\u001b[0m \u001b[0mfunc\u001b[0m\u001b[1;33m,\u001b[0m \u001b[0margs\u001b[0m\u001b[1;33m,\u001b[0m \u001b[0mkwargs\u001b[0m \u001b[1;32min\u001b[0m \u001b[0mself\u001b[0m\u001b[1;33m.\u001b[0m\u001b[0mitems\u001b[0m\u001b[1;33m]\u001b[0m\u001b[1;33m\u001b[0m\u001b[0m\n\u001b[0m\u001b[0;32m    132\u001b[0m \u001b[1;33m\u001b[0m\u001b[0m\n\u001b[0;32m    133\u001b[0m     \u001b[1;32mdef\u001b[0m \u001b[0m__len__\u001b[0m\u001b[1;33m(\u001b[0m\u001b[0mself\u001b[0m\u001b[1;33m)\u001b[0m\u001b[1;33m:\u001b[0m\u001b[1;33m\u001b[0m\u001b[0m\n",
      "\u001b[1;32mE:\\Anaconda\\lib\\site-packages\\sklearn\\model_selection\\_validation.py\u001b[0m in \u001b[0;36m_fit_and_score\u001b[1;34m(estimator, X, y, scorer, train, test, verbose, parameters, fit_params, return_train_score, return_parameters, return_n_test_samples, return_times, error_score)\u001b[0m\n\u001b[0;32m    456\u001b[0m             \u001b[0mestimator\u001b[0m\u001b[1;33m.\u001b[0m\u001b[0mfit\u001b[0m\u001b[1;33m(\u001b[0m\u001b[0mX_train\u001b[0m\u001b[1;33m,\u001b[0m \u001b[1;33m**\u001b[0m\u001b[0mfit_params\u001b[0m\u001b[1;33m)\u001b[0m\u001b[1;33m\u001b[0m\u001b[0m\n\u001b[0;32m    457\u001b[0m         \u001b[1;32melse\u001b[0m\u001b[1;33m:\u001b[0m\u001b[1;33m\u001b[0m\u001b[0m\n\u001b[1;32m--> 458\u001b[1;33m             \u001b[0mestimator\u001b[0m\u001b[1;33m.\u001b[0m\u001b[0mfit\u001b[0m\u001b[1;33m(\u001b[0m\u001b[0mX_train\u001b[0m\u001b[1;33m,\u001b[0m \u001b[0my_train\u001b[0m\u001b[1;33m,\u001b[0m \u001b[1;33m**\u001b[0m\u001b[0mfit_params\u001b[0m\u001b[1;33m)\u001b[0m\u001b[1;33m\u001b[0m\u001b[0m\n\u001b[0m\u001b[0;32m    459\u001b[0m \u001b[1;33m\u001b[0m\u001b[0m\n\u001b[0;32m    460\u001b[0m     \u001b[1;32mexcept\u001b[0m \u001b[0mException\u001b[0m \u001b[1;32mas\u001b[0m \u001b[0me\u001b[0m\u001b[1;33m:\u001b[0m\u001b[1;33m\u001b[0m\u001b[0m\n",
      "\u001b[1;32mE:\\Anaconda\\lib\\site-packages\\sklearn\\svm\\base.py\u001b[0m in \u001b[0;36mfit\u001b[1;34m(self, X, y, sample_weight)\u001b[0m\n\u001b[0;32m    148\u001b[0m \u001b[1;33m\u001b[0m\u001b[0m\n\u001b[0;32m    149\u001b[0m         \u001b[0mX\u001b[0m\u001b[1;33m,\u001b[0m \u001b[0my\u001b[0m \u001b[1;33m=\u001b[0m \u001b[0mcheck_X_y\u001b[0m\u001b[1;33m(\u001b[0m\u001b[0mX\u001b[0m\u001b[1;33m,\u001b[0m \u001b[0my\u001b[0m\u001b[1;33m,\u001b[0m \u001b[0mdtype\u001b[0m\u001b[1;33m=\u001b[0m\u001b[0mnp\u001b[0m\u001b[1;33m.\u001b[0m\u001b[0mfloat64\u001b[0m\u001b[1;33m,\u001b[0m \u001b[0morder\u001b[0m\u001b[1;33m=\u001b[0m\u001b[1;34m'C'\u001b[0m\u001b[1;33m,\u001b[0m \u001b[0maccept_sparse\u001b[0m\u001b[1;33m=\u001b[0m\u001b[1;34m'csr'\u001b[0m\u001b[1;33m)\u001b[0m\u001b[1;33m\u001b[0m\u001b[0m\n\u001b[1;32m--> 150\u001b[1;33m         \u001b[0my\u001b[0m \u001b[1;33m=\u001b[0m \u001b[0mself\u001b[0m\u001b[1;33m.\u001b[0m\u001b[0m_validate_targets\u001b[0m\u001b[1;33m(\u001b[0m\u001b[0my\u001b[0m\u001b[1;33m)\u001b[0m\u001b[1;33m\u001b[0m\u001b[0m\n\u001b[0m\u001b[0;32m    151\u001b[0m \u001b[1;33m\u001b[0m\u001b[0m\n\u001b[0;32m    152\u001b[0m         sample_weight = np.asarray([]\n",
      "\u001b[1;32mE:\\Anaconda\\lib\\site-packages\\sklearn\\svm\\base.py\u001b[0m in \u001b[0;36m_validate_targets\u001b[1;34m(self, y)\u001b[0m\n\u001b[0;32m    504\u001b[0m             raise ValueError(\n\u001b[0;32m    505\u001b[0m                 \u001b[1;34m\"The number of classes has to be greater than one; got %d\"\u001b[0m\u001b[1;33m\u001b[0m\u001b[0m\n\u001b[1;32m--> 506\u001b[1;33m                 % len(cls))\n\u001b[0m\u001b[0;32m    507\u001b[0m \u001b[1;33m\u001b[0m\u001b[0m\n\u001b[0;32m    508\u001b[0m         \u001b[0mself\u001b[0m\u001b[1;33m.\u001b[0m\u001b[0mclasses_\u001b[0m \u001b[1;33m=\u001b[0m \u001b[0mcls\u001b[0m\u001b[1;33m\u001b[0m\u001b[0m\n",
      "\u001b[1;31mValueError\u001b[0m: The number of classes has to be greater than one; got 1"
     ]
    }
   ],
   "source": [
    "y_pred = classifier.predict(X_test)\n",
    "accuracies = cross_val_score(estimator = classifier, X=X_train, y = y_train.ravel(), cv = 10)\n",
    "mean_accuracy= accuracies.mean()*100\n",
    "std_accuracy= accuracies.std()*100\n",
    "print(\"The mean accuracy in %: \", accuracies.mean()*100)\n",
    "print(\"The standard deviation in % \", accuracies.std()*100)"
   ]
  },
  {
   "cell_type": "code",
   "execution_count": 37,
   "metadata": {},
   "outputs": [
    {
     "data": {
      "image/png": "[encoded data removed]",
      "text/plain": [
       "<matplotlib.figure.Figure at 0x2a880553390>"
      ]
     },
     "metadata": {},
     "output_type": "display_data"
    }
   ],
   "source": [
    "plt.plot(mean_accuracy, '.g')\n",
    "plt.ylabel('Accuracy undersampled data')\n",
    "plt.title('Accuracy of SVM')\n",
    "plt.show()"
   ]
  },
  {
   "cell_type": "markdown",
   "metadata": {},
   "source": [
    "### 2> Oversampling"
   ]
  },
  {
   "cell_type": "code",
   "execution_count": 38,
   "metadata": {},
   "outputs": [
    {
     "data": {
      "text/plain": [
       "284807"
      ]
     },
     "execution_count": 38,
     "metadata": {},
     "output_type": "execute_result"
    }
   ],
   "source": [
    "len(data)"
   ]
  },
  {
   "cell_type": "code",
   "execution_count": 39,
   "metadata": {},
   "outputs": [
    {
     "data": {
      "text/plain": [
       "Index(['Time', 'V1', 'V2', 'V3', 'V4', 'V5', 'V6', 'V7', 'V8', 'V9', 'V10',\n",
       "       'V11', 'V12', 'V13', 'V14', 'V15', 'V16', 'V17', 'V18', 'V19', 'V20',\n",
       "       'V21', 'V22', 'V23', 'V24', 'V25', 'V26', 'V27', 'V28', 'Amount',\n",
       "       'Class'],\n",
       "      dtype='object')"
      ]
     },
     "execution_count": 39,
     "metadata": {},
     "output_type": "execute_result"
    }
   ],
   "source": [
    "data.columns"
   ]
  },
  {
   "cell_type": "markdown",
   "metadata": {},
   "source": [
    "#### Sorting the data in descending order"
   ]
  },
  {
   "cell_type": "code",
   "execution_count": 40,
   "metadata": {},
   "outputs": [],
   "source": [
    "res = data.sort_values('Class', ascending=[0])"
   ]
  },
  {
   "cell_type": "code",
   "execution_count": 41,
   "metadata": {},
   "outputs": [
    {
     "data": {
      "text/plain": [
       "0    284315\n",
       "1       492\n",
       "Name: Class, dtype: int64"
      ]
     },
     "execution_count": 41,
     "metadata": {},
     "output_type": "execute_result"
    }
   ],
   "source": [
    "res['Class'].value_counts()"
   ]
  },
  {
   "cell_type": "code",
   "execution_count": 42,
   "metadata": {},
   "outputs": [],
   "source": [
    "# Adding 480 rows with fraud transactions to oversampled dataset\n",
    "oversampled_data = res.iloc[:480, :]"
   ]
  },
  {
   "cell_type": "code",
   "execution_count": 43,
   "metadata": {},
   "outputs": [
    {
     "data": {
      "text/plain": [
       "0    284315\n",
       "1       492\n",
       "Name: Class, dtype: int64"
      ]
     },
     "execution_count": 43,
     "metadata": {},
     "output_type": "execute_result"
    }
   ],
   "source": [
    "res['Class'].value_counts()\n"
   ]
  },
  {
   "cell_type": "code",
   "execution_count": 44,
   "metadata": {},
   "outputs": [],
   "source": [
    "# Picking 480 random incides from the random data\n",
    "ind = random.sample(range(492, 284807), 480)\n",
    "\n",
    "# Adding 480 rows of non-fraduenlent transactions\n",
    "normal_transactions = res.iloc[ind , :]"
   ]
  },
  {
   "cell_type": "code",
   "execution_count": 45,
   "metadata": {},
   "outputs": [
    {
     "data": {
      "text/plain": [
       "1    480\n",
       "0    480\n",
       "Name: Class, dtype: int64"
      ]
     },
     "execution_count": 45,
     "metadata": {},
     "output_type": "execute_result"
    }
   ],
   "source": [
    "total_data = pd.concat([oversampled_data, normal_transactions])\n",
    "total_data['Class'].value_counts()"
   ]
  },
  {
   "cell_type": "markdown",
   "metadata": {},
   "source": [
    "#### Diving the dataset into input and output columns"
   ]
  },
  {
   "cell_type": "code",
   "execution_count": 46,
   "metadata": {},
   "outputs": [],
   "source": [
    "X= total_data.iloc[:, total_data.columns != \"Class\"].values\n",
    "y= total_data.iloc[:, total_data.columns == \"Class\"].values"
   ]
  },
  {
   "cell_type": "code",
   "execution_count": 47,
   "metadata": {},
   "outputs": [],
   "source": [
    "X_train, X_test, y_train, y_test = train_test_split(X, y, test_size= 0.25, random_state= 0)"
   ]
  },
  {
   "cell_type": "code",
   "execution_count": 48,
   "metadata": {},
   "outputs": [],
   "source": [
    "sc= StandardScaler()"
   ]
  },
  {
   "cell_type": "code",
   "execution_count": 49,
   "metadata": {},
   "outputs": [],
   "source": [
    "sc= StandardScaler()\n",
    "total_data[\"scaled_Amount\"]=  sc.fit_transform(total_data.iloc[:,29].values.reshape(-1,1))\n",
    "#total_data= total_data.drop([\"Time\",\"Amount\"], axis= 1)\n",
    "X= total_data.iloc[:, total_data.columns != \"Class\"].values\n",
    "y= total_data.iloc[:, total_data.columns == \"Class\"].values\n",
    "X_train, X_test, y_train, y_test = train_test_split(X, y, test_size= 0.25, random_state= 0)"
   ]
  },
  {
   "cell_type": "markdown",
   "metadata": {},
   "source": [
    "#### Random Forest"
   ]
  },
  {
   "cell_type": "code",
   "execution_count": 50,
   "metadata": {},
   "outputs": [],
   "source": [
    "clf_randomforest_hyb = RandomForestClassifier(max_depth=5, n_estimators=10, max_features=1)"
   ]
  },
  {
   "cell_type": "code",
   "execution_count": 51,
   "metadata": {},
   "outputs": [
    {
     "data": {
      "text/plain": [
       "RandomForestClassifier(bootstrap=True, class_weight=None, criterion='gini',\n",
       "            max_depth=5, max_features=1, max_leaf_nodes=None,\n",
       "            min_impurity_decrease=0.0, min_impurity_split=None,\n",
       "            min_samples_leaf=1, min_samples_split=2,\n",
       "            min_weight_fraction_leaf=0.0, n_estimators=10, n_jobs=1,\n",
       "            oob_score=False, random_state=None, verbose=0,\n",
       "            warm_start=False)"
      ]
     },
     "execution_count": 51,
     "metadata": {},
     "output_type": "execute_result"
    }
   ],
   "source": [
    "clf_randomforest_hyb.fit(X_train, y_train.ravel())"
   ]
  },
  {
   "cell_type": "code",
   "execution_count": 52,
   "metadata": {},
   "outputs": [
    {
     "name": "stdout",
     "output_type": "stream",
     "text": [
      "The mean accuracy in %:  92.36036079490641\n",
      "The standard deviation in %  3.1385400314432905\n"
     ]
    }
   ],
   "source": [
    "y_pred = clf_randomforest_hyb.predict(X_test)\n",
    "accuracies = cross_val_score(estimator = clf_randomforest_hyb, X=X_train, y = y_train.ravel(), cv = 10)\n",
    "mean_accuracy= accuracies.mean()*100\n",
    "std_accuracy= accuracies.std()*100\n",
    "print(\"The mean accuracy in %: \", accuracies.mean()*100)\n",
    "print(\"The standard deviation in % \", accuracies.std()*100)"
   ]
  },
  {
   "cell_type": "code",
   "execution_count": 53,
   "metadata": {},
   "outputs": [
    {
     "data": {
      "image/png": "[encoded data removed]",
      "text/plain": [
       "<matplotlib.figure.Figure at 0x2a8805f0470>"
      ]
     },
     "metadata": {},
     "output_type": "display_data"
    }
   ],
   "source": [
    "plt.plot(mean_accuracy, '.g')\n",
    "plt.ylabel('Accuracy Oversampled data')\n",
    "plt.title('Accuracy of RandomForest')\n",
    "plt.show()"
   ]
  },
  {
   "cell_type": "markdown",
   "metadata": {},
   "source": [
    "### Support Vector Classifier"
   ]
  },
  {
   "cell_type": "code",
   "execution_count": 54,
   "metadata": {},
   "outputs": [
    {
     "data": {
      "text/plain": [
       "SVC(C=1, cache_size=200, class_weight=None, coef0=0.0,\n",
       "  decision_function_shape='ovr', degree=3, gamma='auto', kernel='rbf',\n",
       "  max_iter=-1, probability=False, random_state=0, shrinking=True,\n",
       "  tol=0.001, verbose=False)"
      ]
     },
     "execution_count": 54,
     "metadata": {},
     "output_type": "execute_result"
    }
   ],
   "source": [
    "classifier= SVC(C= 1, kernel= 'rbf', random_state= 0)\n",
    "classifier.fit(X_train, y_train.ravel())"
   ]
  },
  {
   "cell_type": "code",
   "execution_count": 55,
   "metadata": {},
   "outputs": [
    {
     "name": "stdout",
     "output_type": "stream",
     "text": [
      "The mean accuracy in %:  53.468577829228025\n",
      "The standard deviation in %  2.0222997533285443\n"
     ]
    }
   ],
   "source": [
    "y_pred = classifier.predict(X_test)\n",
    "accuracies = cross_val_score(estimator = classifier, X=X_train, y = y_train.ravel(), cv = 10)\n",
    "mean_accuracy= accuracies.mean()*100\n",
    "std_accuracy= accuracies.std()*100\n",
    "print(\"The mean accuracy in %: \", accuracies.mean()*100)\n",
    "print(\"The standard deviation in % \", accuracies.std()*100)"
   ]
  },
  {
   "cell_type": "code",
   "execution_count": 56,
   "metadata": {},
   "outputs": [
    {
     "data": {
      "image/png": "[encoded data removed]",
      "text/plain": [
       "<matplotlib.figure.Figure at 0x2a8805ff208>"
      ]
     },
     "metadata": {},
     "output_type": "display_data"
    }
   ],
   "source": [
    "plt.plot(mean_accuracy, '.g')\n",
    "plt.ylabel('Accuracy Oversampled data')\n",
    "plt.title('Accuracy of SVM')\n",
    "plt.show()"
   ]
  },
  {
   "cell_type": "markdown",
   "metadata": {},
   "source": [
    "### 3> Synthetic Data Generation"
   ]
  },
  {
   "cell_type": "code",
   "execution_count": 57,
   "metadata": {},
   "outputs": [
    {
     "data": {
      "text/plain": [
       "0    284315\n",
       "1       492\n",
       "Name: Class, dtype: int64"
      ]
     },
     "execution_count": 57,
     "metadata": {},
     "output_type": "execute_result"
    }
   ],
   "source": [
    "res['Class'].value_counts()"
   ]
  },
  {
   "cell_type": "code",
   "execution_count": 58,
   "metadata": {},
   "outputs": [],
   "source": [
    "minority_fit = res['Class'].iloc[:400]"
   ]
  },
  {
   "cell_type": "markdown",
   "metadata": {},
   "source": [
    "#### Fitting in a linear regression equation, to get an equation of data"
   ]
  },
  {
   "cell_type": "code",
   "execution_count": 59,
   "metadata": {},
   "outputs": [],
   "source": [
    "# Linear Regression\n",
    "clf = MLPClassifier(alpha=1)"
   ]
  },
  {
   "cell_type": "code",
   "execution_count": 60,
   "metadata": {},
   "outputs": [
    {
     "name": "stdout",
     "output_type": "stream",
     "text": [
      "0.5083333333333333\n"
     ]
    },
    {
     "name": "stderr",
     "output_type": "stream",
     "text": [
      "E:\\Anaconda\\lib\\site-packages\\sklearn\\neural_network\\multilayer_perceptron.py:912: DataConversionWarning: A column-vector y was passed when a 1d array was expected. Please change the shape of y to (n_samples, ), for example using ravel().\n",
      "  y = column_or_1d(y, warn=True)\n"
     ]
    }
   ],
   "source": [
    "clf.fit(X_train, y_train)\n",
    "score = clf.score(X_test, y_test)\n",
    "print(score)"
   ]
  },
  {
   "cell_type": "code",
   "execution_count": 61,
   "metadata": {},
   "outputs": [],
   "source": [
    "syn_data = clf.predict(X_test)"
   ]
  },
  {
   "cell_type": "code",
   "execution_count": 62,
   "metadata": {},
   "outputs": [
    {
     "data": {
      "text/plain": [
       "array([1, 1, 1, 1, 1, 1, 1, 1, 1, 1, 1, 1, 1, 1, 1, 1, 1, 1, 1, 1, 1, 1,\n",
       "       1, 1, 1, 1, 1, 1, 1, 1, 1, 1, 1, 1, 1, 1, 1, 1, 1, 1, 1, 1, 1, 1,\n",
       "       1, 1, 1, 1, 1, 1, 1, 1, 1, 1, 1, 1, 1, 1, 1, 1, 1, 1, 1, 1, 1, 1,\n",
       "       1, 1, 1, 1, 1, 1, 1, 1, 1, 1, 1, 1, 1, 1, 1, 1, 1, 1, 1, 1, 1, 1,\n",
       "       1, 1, 1, 1, 1, 1, 1, 1, 1, 1, 1, 1, 1, 1, 1, 1, 1, 1, 1, 1, 1, 1,\n",
       "       1, 1, 1, 1, 1, 1, 1, 1, 1, 1, 1, 1, 1, 1, 1, 1, 1, 1, 1, 1, 1, 1,\n",
       "       1, 1, 1, 1, 1, 1, 1, 1, 1, 1, 1, 1, 1, 1, 1, 1, 1, 1, 1, 1, 1, 1,\n",
       "       1, 1, 1, 1, 1, 1, 1, 1, 1, 1, 1, 1, 1, 1, 1, 1, 1, 1, 1, 1, 1, 1,\n",
       "       1, 1, 1, 1, 1, 1, 1, 1, 1, 1, 1, 1, 1, 1, 1, 1, 1, 1, 1, 1, 1, 1,\n",
       "       1, 1, 1, 1, 1, 1, 1, 1, 1, 1, 1, 1, 1, 1, 1, 1, 1, 1, 1, 1, 1, 1,\n",
       "       1, 1, 1, 1, 1, 1, 1, 1, 1, 1, 1, 1, 1, 1, 1, 1, 1, 1, 1, 1],\n",
       "      dtype=int64)"
      ]
     },
     "execution_count": 62,
     "metadata": {},
     "output_type": "execute_result"
    }
   ],
   "source": [
    "syn_data"
   ]
  },
  {
   "cell_type": "markdown",
   "metadata": {},
   "source": [
    "#### Getting indices of the data, classified as 1 by the network"
   ]
  },
  {
   "cell_type": "code",
   "execution_count": 63,
   "metadata": {},
   "outputs": [],
   "source": [
    "syn_indices = []\n",
    "\n",
    "for i in range(len(syn_data)):\n",
    "    if(syn_data[i] == 1):\n",
    "        syn_indices.append(i)"
   ]
  },
  {
   "cell_type": "markdown",
   "metadata": {},
   "source": [
    "#### Adding noise to the data"
   ]
  },
  {
   "cell_type": "code",
   "execution_count": 64,
   "metadata": {},
   "outputs": [],
   "source": [
    "new_syn_data = []\n",
    "for i in syn_indices:\n",
    "    n = X_test[i] + (random.randint(-1, 1)) * 0.0005   \n",
    "    n = np.insert(n, len(n), 1)\n",
    "     \n",
    "    new_syn_data.append(n)"
   ]
  },
  {
   "cell_type": "markdown",
   "metadata": {},
   "source": [
    "### Output of the new synthetic data"
   ]
  },
  {
   "cell_type": "code",
   "execution_count": 65,
   "metadata": {},
   "outputs": [
    {
     "data": {
      "text/plain": [
       "[array([ 4.24949995e+04,  8.74224428e-01, -8.24304098e-01,  8.37785321e-01,\n",
       "         1.98372909e-01, -1.07830676e+00,  6.92534621e-02, -5.17689855e-01,\n",
       "         1.02588482e-01,  5.45913042e-01, -1.92527363e-01,  9.54757557e-01,\n",
       "         1.26683532e+00,  8.31749942e-01, -2.72020232e-01, -3.71454388e-02,\n",
       "         6.45580573e-01, -6.58337435e-01,  4.34714802e-01,  2.94978708e-01,\n",
       "         3.51992905e-01,  2.12470214e-01,  3.83045444e-01, -2.40286919e-01,\n",
       "         1.22448581e-01,  1.86607436e-01,  1.09069027e+00, -6.79332900e-02,\n",
       "         3.23978533e-02,  1.77999500e+02,  2.48713950e-01,  1.00000000e+00]),\n",
       " array([ 1.40730000e+04, -4.15301450e+00,  8.20479650e+00, -1.50317142e+01,\n",
       "         1.03300998e+01, -3.99442610e+00, -3.25001318e+00, -1.04156978e+01,\n",
       "         4.62080391e+00, -5.71124797e+00, -1.17971811e+01,  1.12779207e+01,\n",
       "        -1.67283393e+01,  2.41367683e-01, -1.77216384e+01, -3.87299923e-01,\n",
       "        -1.03220167e+01, -1.39590854e+01, -5.03071004e+00,  1.19726634e+00,\n",
       "         1.41262488e+00,  1.97698840e+00,  2.56510487e-01,  4.85908107e-01,\n",
       "        -1.19882131e+00, -5.26567395e-01,  6.34873502e-01,  1.62720908e+00,\n",
       "         7.23235069e-01,  1.00000000e+00, -3.77262360e-01,  1.00000000e+00]),\n",
       " array([ 7.89100050e+03, -1.58500537e+00,  3.26208455e+00, -4.13692198e+00,\n",
       "         2.35759625e+00, -1.40454331e+00, -1.87893719e+00, -3.51318687e+00,\n",
       "         1.51610675e+00, -1.20666636e+00, -6.23406133e+00,  5.45124607e+00,\n",
       "        -7.33321407e+00,  1.36169332e+00, -6.60756825e+00, -4.80569425e-01,\n",
       "        -2.60197787e+00, -4.83461205e+00, -5.52526089e-01,  3.52448943e-01,\n",
       "         3.16457259e-01,  5.02043149e-01, -5.46368812e-01, -7.60836359e-02,\n",
       "        -4.25050367e-01,  1.24144186e-01,  3.22484539e-01,  2.64528161e-01,\n",
       "         1.33316720e-01,  1.00050000e+00, -3.76762360e-01,  1.00000000e+00]),\n",
       " array([ 6.89650000e+04, -1.09348911e+01,  4.45732322e+00, -5.30162543e+00,\n",
       "         5.81867514e-02, -5.23122314e+00, -1.05054293e+00, -2.59492957e+00,\n",
       "         4.21262320e+00,  1.16626578e+00,  1.54148140e+00, -2.08568374e+00,\n",
       "         2.29627510e+00,  1.14456384e+00,  1.99796578e+00, -7.39413629e-01,\n",
       "         1.08708810e+00,  1.43598037e+00, -5.73159163e-01, -5.43057266e-01,\n",
       "        -8.73552001e-01, -2.14668312e-02, -7.53833413e-01, -5.33344826e-01,\n",
       "         4.81375772e-01,  3.66479242e-01, -2.46962019e-01, -4.22805777e+00,\n",
       "        -1.47368381e+00,  1.96200000e+01, -3.11358468e-01,  1.00000000e+00]),\n",
       " array([ 1.29308000e+05,  5.51821523e-02,  1.85699960e+00, -4.07495073e+00,\n",
       "         4.10059797e+00, -8.00431346e-01, -2.92001825e-01, -2.31693139e+00,\n",
       "         1.19024699e+00, -7.85737924e-01, -3.90624573e+00,  2.99398883e+00,\n",
       "        -3.61262503e+00, -1.72679713e+00, -7.36413882e+00, -3.42795935e-01,\n",
       "        -2.57713473e+00, -5.14802055e-01,  1.10960711e+00,  2.35165138e+00,\n",
       "         5.10058727e-01,  6.18747762e-01,  8.01432138e-01,  1.30516475e-01,\n",
       "         2.89445953e-01, -3.66158023e-01,  3.08066562e-02,  4.31682443e-01,\n",
       "         1.11198252e-01,  8.09005000e+01, -9.39631671e-02,  1.00000000e+00]),\n",
       " array([ 1.50366000e+05, -6.42152146e-01,  8.80416999e-01, -1.98875583e-01,\n",
       "        -7.59678381e-01,  1.85308532e+00,  8.04558374e-01,  1.44432349e+00,\n",
       "         1.10412730e-01, -7.38877384e-01, -7.55843565e-01, -2.65878823e-01,\n",
       "         1.38206582e-02, -5.56040440e-01,  6.33725730e-01,  4.06972938e-01,\n",
       "        -1.92366489e+00,  9.90167672e-01, -2.44094205e+00, -1.46809927e+00,\n",
       "        -3.15081579e-01,  2.93624418e-01,  1.06815031e+00, -3.21315392e-01,\n",
       "        -1.38813920e+00,  1.93561511e-01,  6.58245795e-01, -2.97877461e-02,\n",
       "         7.47736810e-02,  2.78200000e+01, -2.82335272e-01,  1.00000000e+00]),\n",
       " array([ 2.95310000e+04, -1.06067628e+00,  2.60857947e+00, -2.97167900e+00,\n",
       "         4.36008935e+00,  3.73885304e+00, -2.72839507e+00,  1.98761635e+00,\n",
       "        -3.57344707e-01, -2.75753451e+00, -2.33593333e+00,  2.11151687e+00,\n",
       "        -2.59194965e+00, -1.95058935e+00, -7.31157982e+00,  7.77527658e-02,\n",
       "         2.29060783e+00,  6.50927165e+00,  2.56997143e+00, -3.28615008e+00,\n",
       "        -8.90615370e-02, -6.31678773e-02, -2.07385284e-01, -1.83260817e-01,\n",
       "        -1.03679373e-01,  8.96178353e-01,  4.07386872e-01, -1.30918311e-01,\n",
       "         1.92177382e-01,  6.80000000e-01, -3.78394973e-01,  1.00000000e+00]),\n",
       " array([ 8.30310005e+04, -4.35441028e-01,  1.09419698e+00,  1.03274271e+00,\n",
       "         1.00732750e+00, -2.71461040e-01, -8.99706506e-01,  8.91821570e-01,\n",
       "        -3.05632411e-01, -2.92415193e-01,  2.60486224e-01, -1.42155069e-01,\n",
       "         1.72494539e-03,  2.22483425e-02,  1.42125252e-01,  1.04360349e+00,\n",
       "        -4.11838929e-01, -1.53762457e-01, -5.91581138e-02,  2.44220544e-01,\n",
       "        -1.07343988e-01,  9.82500165e-02,  5.48224938e-01, -3.99062513e-03,\n",
       "         7.25112550e-01, -2.29510021e-01, -4.23901071e-01, -5.90295662e-01,\n",
       "        -4.95669619e-01,  4.28105000e+01, -2.28779453e-01,  1.00000000e+00]),\n",
       " array([ 1.44782000e+05,  1.84680563e-01,  8.28666724e-01,  5.57468270e-02,\n",
       "         1.07867718e+00,  5.73879225e-01, -7.40402161e-01,  1.89156299e+00,\n",
       "        -9.12782774e-01, -7.13265707e-01,  7.50981356e-01, -5.61777088e-01,\n",
       "        -1.24542474e+00, -1.26317325e+00,  6.55275454e-01,  1.76279452e+00,\n",
       "        -1.62560359e+00,  5.63224182e-01, -1.17276216e-01,  2.59262660e+00,\n",
       "         2.62402014e-01,  8.44324034e-02,  6.75699453e-01, -2.98072992e-01,\n",
       "         4.46137129e-02, -3.20430869e-01,  7.81428565e-01, -2.98633415e-01,\n",
       "        -3.13222429e-01,  9.50000000e+01, -4.45574271e-02,  1.00000000e+00]),\n",
       " array([ 1.48053000e+05,  1.26132424e+00,  2.72680029e+00, -5.43501891e+00,\n",
       "         5.34275901e+00,  1.44704302e+00, -1.44258409e+00, -8.98701854e-01,\n",
       "         1.23061978e-01, -2.74849590e+00, -3.20243612e+00,  1.99136063e+00,\n",
       "        -3.98641622e+00,  5.77206842e-01, -8.48579451e+00, -7.94782275e-01,\n",
       "        -6.66134267e-01, -1.37262938e+00, -1.04312956e-01, -1.46691055e+00,\n",
       "         3.13331635e-01,  2.09086136e-01, -4.25937611e-01, -1.54439526e-01,\n",
       "        -1.88195044e-02,  6.32233951e-01,  1.92921615e-01,  4.68180887e-01,\n",
       "         2.80486471e-01,  1.59000000e+00, -3.75174106e-01,  1.00000000e+00]),\n",
       " array([ 9.43620005e+04, -2.64572447e+01,  1.64979719e+01, -3.01768175e+01,\n",
       "         8.90465677e+00, -1.78920997e+01, -1.22740388e+00, -3.11968285e+01,\n",
       "        -1.14384204e+01, -9.46207261e+00, -2.21865886e+01,  4.42049660e+00,\n",
       "        -1.05918050e+01, -7.03295804e-01, -3.92570732e+00, -2.39974649e+00,\n",
       "        -6.80938994e+00, -1.24618149e+01, -5.50055078e+00, -5.67439573e-01,\n",
       "         2.81274111e+00, -8.75519832e+00,  3.46139334e+00,  8.97037504e-01,\n",
       "         2.55335537e-01, -7.37596559e-01, -9.66064234e-01, -7.26298215e+00,\n",
       "        -1.32438431e+00,  1.00050000e+00, -3.76762360e-01,  1.00000000e+00]),\n",
       " array([ 1.41182000e+05, -2.27080610e-01,  9.18972088e-01,  5.83389973e-02,\n",
       "        -8.02604459e-01,  4.97269601e-01, -3.98034779e-01,  5.24841513e-01,\n",
       "        -7.26312771e-01, -3.31338678e-02, -1.42179426e-01,  3.15489908e-01,\n",
       "         1.62364167e-01, -1.24344578e+00,  5.60369033e-01, -9.18151021e-01,\n",
       "         2.01783473e-01, -5.90029266e-01, -7.46064146e-02,  2.50296158e-01,\n",
       "        -2.69110070e-01,  5.23862754e-01, -8.54548972e-01,  1.46108123e-01,\n",
       "        -4.49532989e-01, -5.13057456e-01,  1.56677836e-01,  2.73832924e-01,\n",
       "         8.84511892e-02,  8.90000000e-01, -3.77651696e-01,  1.00000000e+00]),\n",
       " array([ 5.29339995e+04,  1.03613856e+00,  4.06727280e-01,  7.57206165e-01,\n",
       "         3.16132145e+00, -5.68622226e-01,  2.01680695e-01, -6.90304056e-01,\n",
       "         4.10879939e-01,  3.36269232e-01, -2.84231284e-01,  9.02617453e-01,\n",
       "        -1.59325775e-01, -1.93120902e+00, -2.37715364e+00, -1.81067248e+00,\n",
       "         9.35291272e-01,  1.59100615e+00,  1.25897071e+00, -6.67306394e-01,\n",
       "        -2.19961074e-01, -5.06076223e-02,  1.23260576e-01, -1.33067902e-01,\n",
       "         3.49730554e-01,  5.07201401e-01,  1.89120905e-01,  6.05156660e-02,\n",
       "         6.26412802e-02,  7.59500000e-01, -3.78611820e-01,  1.00000000e+00]),\n",
       " array([ 4.24739995e+04, -3.84350903e+00,  3.37461020e+00, -5.49339320e+00,\n",
       "         6.13587764e+00,  2.79669546e+00, -2.64666227e+00, -1.66943106e+00,\n",
       "        -2.61805205e+00, -3.94634260e+00, -4.56575209e+00,  4.09671607e+00,\n",
       "        -5.45141644e+00, -9.66192752e-01, -1.09049589e+01,  5.26447764e-01,\n",
       "        -1.14025413e+00,  8.35139563e-01,  3.89274231e-01, -1.44010798e+00,\n",
       "         5.42955667e-02, -1.27831158e+00,  7.19152001e-01,  4.50625175e-01,\n",
       "        -2.58593651e-01,  6.55629467e-01,  5.56176326e-01,  7.38883213e-01,\n",
       "        -2.03549674e-01,  9.99500000e-01, -3.77762360e-01,  1.00000000e+00]),\n",
       " array([ 1.66467000e+05, -1.25284521e+00, -6.16584669e-01, -1.22198702e+00,\n",
       "        -3.63804974e+00,  2.02685748e+00, -2.43903312e+00,  2.06001094e+00,\n",
       "        -6.45234639e-01,  6.00359289e-01, -2.36412945e+00, -1.45231180e+00,\n",
       "         1.92646045e-01, -3.09983481e-01,  8.26653618e-01, -2.85305121e-01,\n",
       "        -1.32309459e+00, -5.45627444e-01,  7.38905589e-03,  1.81716446e-01,\n",
       "         2.89040272e-01,  4.89173667e-01,  1.06232710e+00, -3.54285160e-01,\n",
       "        -5.87484656e-01,  1.51922674e+00, -5.14262007e-01, -4.43292970e-02,\n",
       "         9.94903280e-02,  1.50200000e+02,  1.50818236e-01,  1.00000000e+00]),\n",
       " array([ 4.61489995e+04, -1.34700882e+00,  2.13193063e+00, -1.85485532e+00,\n",
       "         2.11649771e+00, -1.07087838e+00, -1.09317136e+00, -2.23148606e+00,\n",
       "         1.03592491e+00, -1.89601574e+00, -3.36451058e+00,  2.88654788e+00,\n",
       "        -3.78495966e+00, -1.28940426e+00, -3.98612601e+00,  5.31338298e-01,\n",
       "        -2.60420265e+00, -5.15809640e+00, -6.96510005e-01,  1.28546139e+00,\n",
       "         2.21418669e-01,  6.09008182e-01,  2.02374285e-01, -6.12913872e-02,\n",
       "        -1.87233353e-01, -1.79012275e-02, -2.84251034e-01,  3.94951049e-01,\n",
       "         2.32638576e-01,  9.99500000e-01, -3.77762360e-01,  1.00000000e+00]),\n",
       " array([ 1.56689000e+05,  2.02590752e+00, -1.81697243e-01, -3.12424092e+00,\n",
       "        -3.50513277e-01,  2.60733748e+00,  3.28359975e+00, -5.67024595e-01,\n",
       "         8.35410060e-01,  6.78812931e-01, -6.51159745e-01,  1.79835423e-01,\n",
       "         8.90826527e-02, -3.90041173e-01, -1.49171847e+00,  5.10001797e-04,\n",
       "         4.37440951e-02,  1.15825678e+00,  5.96445500e-02, -2.44761209e-01,\n",
       "        -1.16049767e-01, -3.67797803e-02,  1.00238701e-01,  8.11987110e-02,\n",
       "         6.31898121e-01,  1.27717659e-01,  6.60579688e-01, -2.05933123e-02,\n",
       "        -3.69610323e-02,  1.00050000e+00, -3.76762360e-01,  1.00000000e+00]),\n",
       " array([ 7.59780005e+04, -5.14022312e+00,  3.56925123e+00, -5.89574546e+00,\n",
       "         4.16521993e+00, -4.09069264e+00, -1.98946029e+00, -5.47193602e+00,\n",
       "         2.42332066e+00, -2.90923526e+00, -6.28730335e+00,  3.70481215e+00,\n",
       "        -7.26704953e+00,  3.29769938e-01, -8.45847496e+00,  1.35498720e+00,\n",
       "        -5.97572098e+00, -1.05755149e+01, -3.52466125e+00,  1.73847600e+00,\n",
       "         3.19495200e-01,  1.13163028e+00,  1.18521510e-01, -3.32204205e-01,\n",
       "         1.40440734e-01,  3.25257896e-01, -1.80269130e-01,  1.78310383e-01,\n",
       "         6.62055356e-01,  9.99005000e+01, -2.67142976e-02,  1.00000000e+00]),\n",
       " array([ 5.82300005e+04,  1.59424852e-01,  5.24297632e-01,  1.80350384e+00,\n",
       "         1.09754181e+00, -4.60478144e-01,  6.96321952e-01, -5.86829273e-01,\n",
       "        -6.44719391e-01,  4.12273582e-01, -3.66936409e-01, -1.41247734e+00,\n",
       "         3.95651936e-01,  7.28292870e-01, -4.19967688e-01,  4.87414632e-01,\n",
       "         4.33971371e-02, -2.79417458e-01,  2.53022869e-01,  7.03364890e-01,\n",
       "        -7.06364260e-02,  6.38030653e-01, -4.10507131e-01, -3.19605525e-01,\n",
       "        -4.24303697e-01,  1.12640065e+00, -1.60693885e-01,  1.99233801e-01,\n",
       "         1.95963204e-01,  9.99050000e+00, -3.44943027e-01,  1.00000000e+00]),\n",
       " array([ 1.11590000e+05,  1.97728294e+00, -2.67080129e-01, -7.27098665e-02,\n",
       "         7.34704130e-01, -7.24871694e-01, -5.71231901e-01, -6.65385009e-01,\n",
       "        -1.66959872e-01,  2.69862823e+00, -5.46702843e-01,  3.03692248e-02,\n",
       "        -1.82396648e+00,  2.11742338e+00,  1.16477195e+00, -3.04362807e-01,\n",
       "         2.35504369e-02,  2.17664709e-01,  4.21295122e-01, -4.43135984e-01,\n",
       "        -2.41980533e-01,  4.83344776e-02,  6.64142717e-01,  1.27695070e-01,\n",
       "         2.06225549e-02, -1.09098478e-01, -2.55590548e-01,  1.74196780e-02,\n",
       "        -4.17783779e-02,  9.99000000e+00, -3.45443027e-01,  1.00000000e+00]),\n",
       " array([ 1.43889000e+05, -1.03780023e+00,  1.81283785e+00, -1.23358787e+00,\n",
       "         6.28029303e-01,  8.09155143e-01,  1.31602426e-01,  4.80040942e-01,\n",
       "         8.97026527e-01, -9.22432737e-01,  4.56832923e-02, -3.77088327e-01,\n",
       "         2.79138161e-01, -8.13734076e-01,  1.33836576e+00, -9.08239738e-01,\n",
       "        -5.41966717e-01,  5.32008077e-02,  5.23460735e-01,  1.26763657e+00,\n",
       "        -3.97319718e-02,  1.56450790e-01,  5.01433889e-01, -2.08284241e-01,\n",
       "         2.35452652e-02,  1.79501672e-01, -3.73539981e-01,  2.96492934e-01,\n",
       "         1.44982362e-01,  7.99000000e+00, -3.52521855e-01,  1.00000000e+00]),\n",
       " array([ 1.71869995e+04,  1.08787494e+00,  8.97974024e-01,  3.94184329e-01,\n",
       "         3.16975757e+00,  1.75238797e-01, -2.22480885e-01, -2.34887285e-02,\n",
       "        -1.13735367e-02,  8.59543617e-01, -5.92972935e-01,  1.07222840e+00,\n",
       "        -2.54805681e+00,  1.23545006e+00, -3.30805804e-01, -1.02285437e+00,\n",
       "         3.35142173e-01,  2.29849822e+00, -1.62596209e-01, -1.53320721e+00,\n",
       "        -2.17858192e-01, -4.24053904e-01, -8.01352285e-01,  7.71144554e-02,\n",
       "         1.67108453e-01,  3.49681817e-01, -1.19440929e-01,  1.24477659e-02,\n",
       "         5.37542721e-02,  3.78950000e+00, -3.67887395e-01,  1.00000000e+00]),\n",
       " array([ 5.35290005e+04, -4.99867998e-01,  1.57521710e+00,  1.42695411e+00,\n",
       "         2.98705497e+00,  1.19024568e-01,  4.18552862e-01,  1.26293062e-01,\n",
       "         6.56755635e-01, -2.05108911e+00,  7.87606125e-01,  4.46339787e-01,\n",
       "         3.41765227e-01,  3.54932624e-01,  4.70501140e-01, -7.29102868e-01,\n",
       "         1.56520273e+00, -1.09633766e+00,  5.08632768e-01, -1.09617891e+00,\n",
       "        -2.03754217e-01,  8.12214359e-02, -4.91076697e-02,  7.51680754e-02,\n",
       "        -6.29500748e-02, -4.78057153e-01, -2.38763449e-01, -7.26011482e-02,\n",
       "        -1.89430214e-02,  1.09705000e+01, -3.41474401e-01,  1.00000000e+00]),\n",
       " array([ 1.21767000e+05, -1.34810948e+00,  4.99054789e-01,  1.22311532e+00,\n",
       "        -4.08470973e-01, -6.79949724e-01,  4.90715556e-01,  1.03896780e+00,\n",
       "         4.22685874e-01, -4.76113854e-01, -1.48554837e+00, -8.02277580e-01,\n",
       "         6.39362550e-01,  1.38715688e+00,  6.08458817e-02,  9.44215717e-01,\n",
       "         2.04152902e-01, -3.89605715e-01,  8.69307914e-02,  2.27369723e-01,\n",
       "         5.27120600e-01,  6.09027813e-02, -3.60005616e-01,  3.92275545e-01,\n",
       "         6.12431758e-01,  4.65993010e-01, -4.45555390e-01, -1.32110073e-01,\n",
       "         3.87988702e-02,  2.54509500e+02,  5.19514529e-01,  1.00000000e+00]),\n",
       " array([ 1.17871000e+05,  2.02454933e+00, -7.05830252e-02, -1.39409926e+00,\n",
       "         3.63152130e-01,  2.74057954e-02, -1.13157956e+00,  2.76799293e-01,\n",
       "        -2.27890221e-01,  4.90230111e-01,  1.38067434e-01,  8.17666526e-01,\n",
       "         6.58576259e-01, -1.18922885e+00,  8.69235388e-01, -5.87289686e-01,\n",
       "        -3.52787348e-01, -3.77441299e-01, -4.00647165e-02,  4.37398873e-01,\n",
       "        -3.22876130e-01, -5.63855538e-02, -4.79076790e-02,  1.59127416e-01,\n",
       "         5.03399364e-02,  8.02944315e-02, -3.98318803e-01, -3.64349445e-02,\n",
       "        -7.07194615e-02,  1.00050000e+00, -3.76762360e-01,  1.00000000e+00]),\n",
       " array([ 1.50139000e+05, -6.68333192e+00, -2.71476804e+00, -5.77503046e+00,\n",
       "         1.44929237e+00, -6.62336408e-01, -1.14914974e+00,  8.49186456e-01,\n",
       "         4.32927022e-01, -1.31614639e+00, -2.79683154e+00, -4.49293726e-01,\n",
       "        -2.56310241e+00,  2.42982527e-01, -1.18216939e+00,  3.87287168e-03,\n",
       "        -2.30309569e+00, -4.44669187e+00, -1.71096315e+00,  9.82228633e-01,\n",
       "        -1.92902719e+00,  2.20026295e-01,  1.18651320e+00,  3.35320817e-01,\n",
       "         2.15182964e-01,  8.02609992e-01,  4.35333424e-02, -5.54876280e-02,\n",
       "         8.18370925e-02,  2.37259500e+02,  4.58459635e-01,  1.00000000e+00]),\n",
       " array([ 9.38600005e+04, -1.06318749e+01,  7.25243623e+00, -1.76805718e+01,\n",
       "         8.20464441e+00, -1.01660908e+01, -4.50984377e+00, -1.29811062e+01,\n",
       "         6.78408880e+00, -4.65882958e+00, -1.49241548e+01,  8.38964233e+00,\n",
       "        -1.64650039e+01,  3.39016960e-01, -1.42239036e+01,  5.57084473e-01,\n",
       "        -1.16834980e+01, -1.58411160e+01, -5.75269975e+00,  3.81354079e+00,\n",
       "        -8.09646482e-01,  2.71585704e+00,  6.96102690e-01, -1.13762207e+00,\n",
       "         4.59942242e-01,  3.86837323e-01,  5.22938449e-01, -1.41610374e+00,\n",
       "        -4.87807036e-01,  1.88520500e+02,  2.86948587e-01,  1.00000000e+00]),\n",
       " array([ 1.80880005e+04, -1.22235206e+01,  3.85465033e+00, -1.24662657e+01,\n",
       "         9.64881073e+00, -2.72646132e+00, -4.44511038e+00, -2.19223110e+01,\n",
       "         3.21292274e-01, -4.43266166e+00, -1.12009001e+01,  9.32929926e+00,\n",
       "        -1.31044335e+01,  8.88980788e-01, -1.01397003e+01,  7.13965393e-01,\n",
       "        -1.00981707e+01, -1.75061115e+01, -8.06070799e+00,  1.60737003e+00,\n",
       "        -2.14668144e+00, -1.15932995e+00, -1.50361888e+00, -1.92538276e+01,\n",
       "         5.45366726e-01, -4.78110552e+00, -7.27228110e-03,  3.05285769e+00,\n",
       "        -7.74535651e-01,  1.21889050e+03,  3.93385478e+00,  1.00000000e+00]),\n",
       " array([ 3.61700000e+04, -5.68501342e+00,  5.77651621e+00, -7.06497673e+00,\n",
       "         5.90271545e+00, -4.71556383e+00, -1.75563332e+00, -6.95867914e+00,\n",
       "         3.87779519e+00, -5.54152883e+00, -7.50211219e+00,  3.67670319e+00,\n",
       "        -7.64298307e+00,  1.68986512e+00, -8.29965953e+00,  6.46996365e-01,\n",
       "        -6.79279506e+00, -1.20759321e+01, -4.88217964e+00,  2.62662452e+00,\n",
       "         2.99488632e-01,  1.12864107e+00, -9.62959729e-01, -1.10045084e-01,\n",
       "        -1.77733241e-01, -8.91754157e-02, -4.94467232e-02,  3.03444582e-01,\n",
       "         2.19380439e-01,  1.11700000e+02,  1.45507898e-02,  1.00000000e+00]),\n",
       " array([ 8.30120000e+04, -6.61134553e-01,  9.62678910e-01,  1.21099809e+00,\n",
       "         4.45739577e-02,  3.06111179e-01, -5.51648460e-01,  6.47363546e-01,\n",
       "         4.77333596e-03, -3.74151430e-01, -4.54138808e-01,  8.06291693e-02,\n",
       "         1.91331996e-01,  4.63090746e-01, -5.11843641e-01,  1.12779132e+00,\n",
       "         7.22366113e-02,  2.53572352e-01, -6.31247377e-01, -4.33697140e-01,\n",
       "         6.33962506e-02, -2.28256641e-01, -5.30298186e-01,  1.85208264e-01,\n",
       "         2.87438941e-02, -1.90852834e-01,  9.47045456e-02,  1.56073401e-01,\n",
       "         7.25084466e-02,  1.17700000e+01, -3.39142870e-01,  1.00000000e+00]),\n",
       " array([ 8.22260000e+04,  1.18787648e+00,  4.95110015e-02,  9.75204412e-01,\n",
       "         8.22081487e-01, -8.63972579e-01, -7.75052919e-01, -1.63507281e-01,\n",
       "        -1.19179145e-01,  4.92088361e-01, -2.61987849e-01, -2.15800761e-01,\n",
       "         9.80043324e-01,  6.11613150e-01, -2.88552317e-01, -1.51034055e-01,\n",
       "        -2.03100773e-01,  5.39696867e-02, -9.52011174e-01,  1.27913490e-01,\n",
       "        -7.07218996e-02, -3.42971440e-01, -8.13388445e-01,  1.79555388e-01,\n",
       "         7.36607496e-01,  1.66432224e-01,  1.68731128e-01, -1.15113686e-02,\n",
       "         2.53450732e-02,  1.00000000e+01, -3.45407633e-01,  1.00000000e+00]),\n",
       " array([ 3.61380005e+04, -2.38996712e+00,  2.02517348e+00,  1.01163385e+00,\n",
       "        -1.81028591e+00, -4.36381558e-01, -5.06288240e-01,  3.98926136e-01,\n",
       "         3.10379399e-01,  1.20815870e+00,  1.75882551e+00,  1.75324924e+00,\n",
       "         6.72867809e-01, -4.56248271e-01, -3.42447105e-01,  2.00022258e-01,\n",
       "         2.63777492e-01, -6.53077415e-01, -4.57042316e-01, -1.03991274e+00,\n",
       "         9.27524092e-01, -2.58205776e-01, -5.85096697e-02,  3.50468428e-02,\n",
       "         2.19801898e-01, -1.52119425e-01,  6.97333292e-01,  5.50297142e-01,\n",
       "         7.70677896e-02,  1.46050000e+00, -3.75134230e-01,  1.00000000e+00]),\n",
       " array([ 1.22244000e+05, -1.65778774e-01,  6.61080003e-01,  6.00986154e-02,\n",
       "        -7.38198616e-01,  7.72369415e-01, -3.94770906e-01,  8.15244236e-01,\n",
       "        -9.95663470e-02, -2.23095721e-01, -2.43883253e-01,  7.26098613e-01,\n",
       "         8.14360279e-01, -1.12359958e-01,  2.01206651e-01, -1.30911989e+00,\n",
       "         1.47962848e-03, -6.00993854e-01, -2.89032081e-01,  2.33346343e-01,\n",
       "        -2.32181978e-01, -1.34023266e-01, -4.31850303e-01, -1.58021040e-02,\n",
       "         7.76633725e-01, -2.78431817e-01,  1.44038305e-01, -3.10873353e-01,\n",
       "        -6.08789297e-02,  1.79900000e+01, -3.17127713e-01,  1.00000000e+00]),\n",
       " array([ 1.11096000e+05,  2.09577338e+00,  5.86310141e-03, -1.44814495e+00,\n",
       "         3.21302797e-01,  3.67232968e-01, -6.46591091e-01, -7.17010599e-03,\n",
       "        -2.80477070e-01,  2.18836772e+00, -4.51526457e-01, -1.52640008e-01,\n",
       "        -2.75571548e+00,  8.67785650e-01,  2.07269647e+00,  3.28118991e-01,\n",
       "        -2.26741358e-01,  1.83546547e-01,  4.99320593e-01, -3.43317932e-01,\n",
       "        -3.22513218e-01,  9.12009693e-02,  6.22881594e-01,  7.29956132e-03,\n",
       "         3.53052732e-01,  3.23743142e-01, -4.66264251e-01, -2.55645731e-02,\n",
       "        -5.81914111e-02,  1.00050000e+00, -3.76762360e-01,  1.00000000e+00]),\n",
       " array([ 1.30501000e+05, -9.11288756e-01,  2.32626939e-01,  9.00207002e-01,\n",
       "         3.66812223e-01, -4.42990941e-02, -1.56123444e-01,  1.11160342e-01,\n",
       "         7.25784564e-01,  2.08766283e-01, -9.76030848e-01, -3.23552315e-02,\n",
       "         7.68180180e-01, -1.41503485e+00,  3.10572754e-01, -2.48967499e+00,\n",
       "         1.29170892e-01, -2.85840928e-01, -2.56985888e-01, -3.76796311e-01,\n",
       "        -2.50231991e-01, -3.39325437e-01, -1.24891874e+00,  2.58255274e-01,\n",
       "        -1.12670622e-01, -9.14571181e-02, -1.21331271e+00, -1.21484286e-01,\n",
       "        -1.68938934e-01,  5.92600000e+01, -1.71056090e-01,  1.00000000e+00]),\n",
       " array([ 5.54609995e+04,  9.51612938e-01, -8.38425943e-01,  8.64873431e-01,\n",
       "         9.45202186e-02, -9.54497655e-01,  6.19478796e-01, -7.53855409e-01,\n",
       "         3.74669303e-01,  1.05954172e+00, -3.53855904e-01,  7.07783469e-01,\n",
       "         8.67329678e-01, -7.60565001e-01, -1.87423952e-01, -6.37133094e-01,\n",
       "        -7.28977143e-02,  9.38114242e-02, -3.76889280e-01,  4.94469676e-01,\n",
       "         7.36413715e-02, -1.23597796e-01, -3.59315844e-01, -2.52591769e-02,\n",
       "        -2.41567819e-01,  1.62879921e-02,  9.66126786e-01, -4.58177201e-02,\n",
       "         1.31165272e-02,  1.10119500e+02,  8.45851538e-03,  1.00000000e+00]),\n",
       " array([ 3.71670000e+04, -7.92389070e+00, -5.19836020e+00, -3.00002392e+00,\n",
       "         4.42066620e+00,  2.27219396e+00, -3.39448343e+00, -5.28343533e+00,\n",
       "         1.31618922e-01,  6.58176429e-01, -7.94993882e-01,  3.26606602e+00,\n",
       "        -2.71918495e+00, -1.24103963e-01, -5.27486582e+00,  6.38575003e-01,\n",
       "        -2.99583038e+00, -4.69843345e+00, -1.71187122e+00,  3.02526099e+00,\n",
       "        -2.16981089e+00, -7.34307917e-01, -5.99926260e-01, -4.90830118e+00,\n",
       "         4.10170235e-01, -1.16766025e+00,  5.20507647e-01,  1.93742140e+00,\n",
       "        -1.55259284e+00,  1.23100000e+01, -3.37231586e-01,  1.00000000e+00]),\n",
       " array([ 1.20311000e+05,  2.16731495e+00, -1.20339464e+00, -1.88018220e+00,\n",
       "        -2.77182330e+00, -7.14441433e-01, -1.44721379e+00, -2.72663383e-01,\n",
       "        -4.05872563e-01,  9.90216001e-01, -3.63355477e-01, -8.17770093e-01,\n",
       "         1.18738678e-01, -2.59604906e-01,  5.11206319e-01,  1.56113161e+00,\n",
       "        -2.50741359e+00,  2.43108435e-02,  1.66701746e+00,  9.42704397e-02,\n",
       "        -5.24931270e-01, -5.97629609e-02,  3.93064810e-01,  5.52781765e-03,\n",
       "         7.31046358e-01,  3.03626219e-01, -6.37738380e-01,  3.35375861e-02,\n",
       "        -3.85871090e-02,  5.68795000e+01, -1.79979896e-01,  1.00000000e+00]),\n",
       " array([ 3.70490000e+04,  1.30675707e+00, -6.88876362e-01,  9.68433541e-01,\n",
       "        -6.76071508e-01, -1.26632521e+00, -2.35822972e-01, -1.03177233e+00,\n",
       "         2.59359261e-02, -5.23489107e-01,  5.34725204e-01,  3.84781305e-02,\n",
       "        -1.26041617e-01,  1.09080403e+00, -5.75671394e-01,  1.28077107e+00,\n",
       "         1.15083042e+00,  2.89420398e-01, -1.39767637e+00, -1.45057392e-01,\n",
       "         1.36487927e-01,  4.26107986e-01,  1.22963387e+00, -9.35485839e-02,\n",
       "         1.52436959e-01,  3.76549020e-01, -2.40717472e-02,  5.67320446e-02,\n",
       "         2.65149888e-02,  2.49900000e+01, -2.92351814e-01,  1.00000000e+00]),\n",
       " array([ 1.59105000e+05,  8.54683129e-01, -2.25902725e+00, -2.04896903e+00,\n",
       "         3.77502768e-01,  7.87262246e-02,  1.18298365e+00,  4.25134230e-01,\n",
       "         1.64874273e-01,  1.16091966e+00, -5.87722591e-01, -7.97065386e-01,\n",
       "         2.32204037e-01, -8.22326724e-01,  4.41856699e-01,  7.15592978e-01,\n",
       "        -1.13774959e+00,  6.36578187e-01, -1.62475574e+00, -7.40324357e-01,\n",
       "         8.03211737e-01,  2.18787090e-01, -3.69392667e-01, -1.98525759e-01,\n",
       "        -5.43545259e-01, -4.49133522e-01, -6.77330932e-02, -9.27786057e-02,\n",
       "         3.37011547e-02,  5.71760000e+02,  1.64289368e+00,  1.00000000e+00]),\n",
       " array([ 4.17070005e+04, -8.49490881e-01, -4.74581159e-01,  2.18962597e+00,\n",
       "        -4.26159444e-01, -7.02129461e-01, -7.06906308e-02,  5.41432743e-01,\n",
       "        -9.11628112e-02, -1.20309114e+00,  2.86602034e-01,  8.29839635e-01,\n",
       "         5.18406718e-01,  3.12066483e-01, -4.26515850e-01, -1.04196898e+00,\n",
       "        -1.24106165e+00, -6.13976427e-01,  1.95739993e+00, -1.45667181e+00,\n",
       "        -7.86539560e-02, -1.74099242e-02,  3.32363959e-01,  1.61631355e-01,\n",
       "         5.04657592e-01, -4.18807066e-03, -4.62638489e-01, -6.01659516e-02,\n",
       "        -7.69479991e-02,  1.58000500e+02,  1.78925667e-01,  1.00000000e+00]),\n",
       " array([ 6.75710000e+04, -7.58468653e-01, -4.54102785e-02, -1.68438290e-01,\n",
       "        -1.31327481e+00, -1.90176253e+00,  7.39433415e-01,  3.07189205e+00,\n",
       "        -4.83422244e-01,  6.18202762e-01, -1.76905972e+00, -6.51414014e-01,\n",
       "        -5.42329080e-03, -5.17194341e-01,  2.17469760e-01,  8.83558824e-01,\n",
       "        -1.17397765e+00,  2.43347110e-01, -3.42300728e-01,  6.87056202e-01,\n",
       "        -3.24998989e-02,  4.26194565e-02,  3.97223782e-01,  7.22288654e-02,\n",
       "        -2.42275997e-01,  5.60916470e-01, -5.40954584e-01,  1.50606446e-01,\n",
       "        -1.17140115e-01,  5.49060000e+02,  1.56254898e+00,  1.00000000e+00]),\n",
       " array([ 5.32570000e+04,  1.05086416e+00, -1.42201382e-01,  1.36092893e+00,\n",
       "         1.22962532e+00, -8.61192353e-01,  4.65417540e-01, -7.49776614e-01,\n",
       "         3.74489928e-01,  6.48043170e-01, -7.09538187e-02,  1.27488393e+00,\n",
       "         1.20586257e+00, -3.29635958e-01, -7.77883781e-02, -2.61433933e-01,\n",
       "        -6.76524411e-02, -1.33010447e-01, -5.59550414e-02, -3.56167458e-01,\n",
       "        -1.74854178e-01,  2.82599665e-02,  2.73628808e-01,  3.95727889e-02,\n",
       "         2.15850594e-01,  2.76682010e-01, -4.08353466e-01,  8.39254055e-02,\n",
       "         2.63209757e-02,  9.99000000e+00, -3.45443027e-01,  1.00000000e+00]),\n",
       " array([ 4.78259995e+04, -8.87786906e-01,  1.38950151e+00,  1.21918582e+00,\n",
       "         1.66092518e+00,  1.00872784e+00, -7.34408445e-01,  8.55328927e-01,\n",
       "        -4.23153772e-04, -1.27613149e+00, -4.33893926e-01,  1.40678993e-01,\n",
       "        -4.60848456e-01, -3.68367931e-01, -1.16883942e+00,  1.51607631e-01,\n",
       "         8.81731824e-01,  6.01304858e-01, -3.04592391e-01, -2.19226428e+00,\n",
       "        -2.68847371e-01, -8.42343767e-02, -3.47430257e-01, -5.11187068e-02,\n",
       "         2.30544425e-01, -4.51259875e-01, -3.76705381e-01,  3.40043695e-02,\n",
       "         1.57275320e-01,  7.57950000e+00, -3.54473015e-01,  1.00000000e+00]),\n",
       " array([ 1.55930000e+05, -6.59139029e-01,  7.74927821e-01,  8.83889308e-02,\n",
       "        -2.33258292e+00, -9.27982480e-02, -1.53592465e+00,  6.01834064e-01,\n",
       "         9.73685125e-02, -1.62155048e+00, -1.73717922e-01, -9.22190093e-01,\n",
       "        -7.79445233e-01, -1.11937590e-02,  3.23246221e-01, -5.27266867e-01,\n",
       "         1.13816977e+00,  9.69788697e-02, -1.64755396e+00, -8.40421182e-03,\n",
       "         1.09438419e-03,  1.12687808e-01,  1.52633409e-01, -1.48142377e-01,\n",
       "         3.45299895e-02,  9.19255038e-02, -4.02506326e-01,  1.85554390e-01,\n",
       "         1.22956887e-01,  9.99000000e+00, -3.45443027e-01,  1.00000000e+00]),\n",
       " array([ 6.44429995e+04,  1.07902398e+00,  8.72488039e-01, -3.04350487e-01,\n",
       "         2.75486885e+00,  3.01187623e-01, -3.50783737e-01, -4.33479677e-02,\n",
       "         2.46124608e-01, -7.79675596e-01, -1.58196446e-01,  1.92806763e+00,\n",
       "        -9.36363286e-01, -2.43194645e+00, -1.63397202e+00,  5.33836653e-01,\n",
       "         1.42510550e+00,  1.59302879e+00,  1.17796785e+00, -1.56919756e+00,\n",
       "        -2.52615099e-01, -2.37547845e-02, -1.59100834e-01, -3.93061577e-02,\n",
       "        -6.08272547e-02,  3.57838898e-01,  7.64835704e-02,  1.84358320e-02,\n",
       "         6.00741495e-02, -5.00000000e-04, -3.81301775e-01,  1.00000000e+00]),\n",
       " array([ 1.54657000e+05, -6.80020574e-01,  4.67205275e+00, -6.81529844e+00,\n",
       "         7.14300012e+00,  9.28153839e-01, -1.87351315e+00, -2.30718902e+00,\n",
       "         9.93201928e-01, -4.94455416e+00, -5.57691880e+00,  5.78315444e+00,\n",
       "        -6.11820391e+00,  6.13664841e-01, -1.24519987e+01,  4.26652478e-01,\n",
       "        -2.25635381e+00, -2.12852655e+00,  7.06265029e-01,  1.09332580e+00,\n",
       "         8.71505531e-01,  5.66348532e-01, -3.22191498e-01, -2.81824568e-01,\n",
       "        -1.12075604e+00, -7.38943447e-02,  5.53030430e-01,  7.60041928e-01,\n",
       "         3.86241821e-01,  7.69500000e-01, -3.78576426e-01,  1.00000000e+00]),\n",
       " array([ 3.55810000e+04,  1.02167274e+00, -7.71558439e-02,  1.12844017e-01,\n",
       "         1.41484586e+00, -1.52585672e-01, -3.16691026e-01,  3.31594835e-01,\n",
       "        -1.89384174e-01,  2.19536765e-01, -1.51743911e-01, -1.09314120e+00,\n",
       "         6.22513727e-01,  6.29519518e-01, -9.22823618e-02, -3.65368871e-01,\n",
       "        -3.00536693e-01, -2.28183864e-01, -4.21680713e-01,  1.37249241e-01,\n",
       "         1.31270909e-01, -8.52900415e-02, -2.70105929e-01, -2.62415062e-01,\n",
       "        -8.33906590e-02,  7.81488263e-01, -3.25343498e-01,  5.30208157e-03,\n",
       "         3.56038777e-02,  1.23100000e+02,  5.49001115e-02,  1.00000000e+00]),\n",
       " array([ 8.88600050e+03, -2.53535212e+00,  5.79414415e+00, -7.61796284e+00,\n",
       "         6.39632975e+00, -6.47101047e-02, -3.13587196e+00, -3.10405736e+00,\n",
       "         1.82373264e+00, -3.87815758e+00, -7.29730335e+00,  7.07216914e+00,\n",
       "        -1.00005464e+01, -2.07434541e-01, -1.08601980e+01, -1.69032504e+00,\n",
       "        -2.36035672e+00, -2.75959702e+00,  2.98603416e-01, -1.38505780e+00,\n",
       "         4.09204184e-01,  7.17219907e-01, -4.47559938e-01, -4.01906879e-01,\n",
       "        -2.88335223e-01,  1.01225224e+00,  4.26464621e-01,  4.13639556e-01,\n",
       "         3.08704657e-01,  1.00050000e+00, -3.76762360e-01,  1.00000000e+00]),\n",
       " array([ 1.42900000e+05,  2.02729957e+00, -8.52432909e-02, -1.70503554e+00,\n",
       "         4.94151716e-01,  1.96996516e-01, -1.30130729e+00,  5.34286916e-01,\n",
       "        -4.09545473e-01,  6.85507115e-01, -6.33702196e-02, -1.01718551e+00,\n",
       "         1.16651661e-01, -8.06050752e-01,  6.14423196e-01, -1.91366636e-01,\n",
       "        -8.16477052e-01, -1.76923904e-02, -6.24533292e-01,  1.84408322e-01,\n",
       "        -2.67480018e-01,  4.91055699e-03,  1.86590250e-01,  1.74576749e-02,\n",
       "        -7.22426581e-02,  3.26606837e-01, -2.13690315e-01, -4.14941114e-02,\n",
       "        -6.50227534e-02,  2.83300000e+01, -2.80530171e-01,  1.00000000e+00]),\n",
       " array([ 7.55810005e+04, -2.86586371e+00,  2.34744943e+00, -4.05280669e+00,\n",
       "         3.98385888e+00, -3.46268571e+00, -1.28045302e+00, -4.47426383e+00,\n",
       "         1.21715528e+00, -2.30932870e+00, -5.51500707e+00,  3.04889203e+00,\n",
       "        -7.12775077e+00,  6.45580093e-03, -7.49468734e+00, -2.50588022e-01,\n",
       "        -7.56751490e+00, -1.22231328e+01, -4.89467519e+00,  2.52546747e+00,\n",
       "         2.70513154e-01,  1.05023156e+00,  4.76340283e-01,  4.04980059e-01,\n",
       "         2.82529790e-01, -5.06401096e-01, -3.71241093e-01,  6.15756964e-01,\n",
       "         8.03662842e-01,  1.24530500e+02,  6.04614738e-02,  1.00000000e+00]),\n",
       " array([ 1.53653000e+05, -5.19199643e+00,  3.16522117e+00, -5.04717906e+00,\n",
       "         2.24709736e+00, -4.01128140e+00, -6.38408045e-01, -2.87296327e+00,\n",
       "         1.57681757e+00, -2.86148599e+00, -2.11995759e+00,  1.86409574e+00,\n",
       "        -3.61975176e+00, -1.48021442e+00, -1.58284341e+00, -1.22996922e+00,\n",
       "        -1.20179797e+00, -6.16713654e+00, -2.65103905e+00,  1.40877062e-02,\n",
       "        -1.84996996e+00,  1.16774379e+00, -1.00611749e+00,  7.75061804e-01,\n",
       "         6.38969166e-02, -3.90157771e-01,  1.88524067e+00, -1.74205751e+00,\n",
       "        -8.17159347e-02,  2.47860500e+02,  4.96977425e-01,  1.00000000e+00]),\n",
       " array([ 1.63520000e+05, -9.42431029e-01,  1.16348523e+00, -8.04938208e-01,\n",
       "         1.57787268e-01,  2.58005966e-01, -4.86751595e-01,  2.86688365e+00,\n",
       "        -6.03442806e-01, -6.90037711e-01, -1.94381042e+00,  1.94529725e+00,\n",
       "        -8.60291176e-01, -1.64717360e+00, -2.62483005e+00,  5.41306845e-01,\n",
       "         2.89178962e-01,  2.33947594e+00,  1.96546699e+00,  6.04419800e-01,\n",
       "         1.15052926e-01, -8.18460365e-02,  1.19820665e-02, -4.63306543e-01,\n",
       "        -2.62792007e-01,  9.67689005e-01, -3.03323411e-01, -7.10533445e-02,\n",
       "        -2.01149921e-01,  3.33750000e+02,  8.00477709e-01,  1.00000000e+00]),\n",
       " array([ 1.03808000e+05, -4.51784375e+00,  2.49972390e+00, -4.01442754e+00,\n",
       "         1.18895163e+00, -2.48736064e+00, -1.41397553e+00, -4.24620662e+00,\n",
       "         1.26458695e+00,  1.16832779e+00, -4.51440660e+00,  3.69421124e+00,\n",
       "        -6.11094323e+00, -1.11021636e-01, -4.18505528e+00, -9.31534634e-01,\n",
       "        -1.61521833e+00, -3.35368018e+00,  2.36262037e-01,  3.39602213e-03,\n",
       "        -1.05666226e+00,  1.32644422e+00,  1.02498961e-01,  5.07666904e-01,\n",
       "        -2.78517536e-01,  1.39221095e-01,  6.41100247e-02, -9.72858289e-01,\n",
       "         3.50859561e-01,  2.26950000e+00, -3.73267304e-01,  1.00000000e+00]),\n",
       " array([ 1.25316000e+05, -1.85587564e+00,  4.93221149e-01,  2.85524507e+00,\n",
       "         4.23328464e+00, -3.01506954e-02,  1.57783844e+00, -1.99289115e-01,\n",
       "         2.35246919e-01, -2.95871728e-01,  2.97916965e+00,  1.34143195e-01,\n",
       "        -1.38079882e+00, -1.46282478e+00, -6.02137224e-01,  1.10898082e+00,\n",
       "         8.06002248e-01, -6.85408622e-01,  1.62797807e+00,  1.30884231e+00,\n",
       "         3.37703781e-01, -1.89063306e-01,  7.58694007e-01,  2.87295779e-01,\n",
       "        -4.60261943e-01,  2.52910169e-01,  5.76851187e-01,  6.09941683e-01,\n",
       "        -1.67934172e-01,  5.10200000e+01, -2.00220863e-01,  1.00000000e+00]),\n",
       " array([ 7.46100000e+04,  1.04392317e+00, -1.35687619e-01,  1.03299109e+00,\n",
       "         1.65462891e+00, -7.60397767e-01,  9.94650454e-02, -3.62994442e-01,\n",
       "         1.63170473e-01,  8.93566575e-01, -2.58847268e-01, -6.15214674e-01,\n",
       "         6.05734202e-01, -5.84866835e-01, -3.03018618e-01, -6.89155279e-01,\n",
       "        -8.96247895e-01,  5.76553587e-01, -9.50464482e-01, -3.84652838e-01,\n",
       "        -1.76119755e-01, -5.12304103e-02,  1.48272324e-01, -5.00807976e-02,\n",
       "         4.28736064e-01,  5.50057652e-01, -2.80145844e-01,  6.63883304e-02,\n",
       "         2.99536770e-02,  3.50000000e+01, -2.56922278e-01,  1.00000000e+00]),\n",
       " array([ 1.54528000e+05, -7.83305113e-01, -5.45489331e-01, -1.86283023e+00,\n",
       "         3.76752283e-01, -1.50372056e+00, -5.15268401e-01,  2.58248176e+00,\n",
       "        -3.16187118e-02, -2.41462608e-01, -1.62520195e+00, -8.23403549e-01,\n",
       "        -7.59881871e-01, -8.81554447e-01, -2.58213201e-01,  7.97625253e-01,\n",
       "         3.77950848e-01,  6.01870092e-01,  1.07138590e+00, -3.95631284e-01,\n",
       "         9.97073598e-01,  6.68271155e-01,  8.24508380e-01,  1.32591870e+00,\n",
       "        -1.23056514e-01, -5.95254947e-02, -1.68103681e-01, -2.83076782e-01,\n",
       "        -5.37586836e-03,  6.06900000e+02,  1.76726869e+00,  1.00000000e+00]),\n",
       " array([ 1.59569000e+05, -1.13295353e+00, -1.52772048e-01,  2.26492240e+00,\n",
       "        -2.28910776e+00, -8.52749473e-01,  1.85549553e+00, -1.44571397e+00,\n",
       "         1.17169009e+00,  1.87239802e-01, -6.88715829e-01, -1.18074439e+00,\n",
       "         4.76347630e-01,  9.28810281e-01, -1.65100409e+00, -3.10365268e+00,\n",
       "         1.46826420e+00, -3.22831197e-02, -2.23418384e-01,  1.01306876e+00,\n",
       "         1.73493270e-01,  2.62217444e-01,  1.05506080e+00, -5.96807178e-01,\n",
       "        -2.54866600e-01,  8.79283899e-01,  9.16433693e-02,  2.19280144e-01,\n",
       "         4.51707881e-02,  4.80000000e+00, -3.63812586e-01,  1.00000000e+00]),\n",
       " array([ 5.30310000e+04,  2.06075454e-01,  1.38735982e+00, -1.04528699e+00,\n",
       "         4.22868619e+00, -1.64754917e+00, -1.80896946e-01, -2.94367757e+00,\n",
       "         8.59155533e-01, -1.18174301e+00, -3.09650360e+00,  3.20091236e+00,\n",
       "        -2.45083243e+00,  3.16619879e-01, -6.39717032e+00, -2.12972837e+00,\n",
       "        -2.42737308e+00, -4.44847225e+00, -1.21222045e+00,  3.46554556e-02,\n",
       "         3.51484400e-01,  4.69199426e-01,  3.44930464e-01, -2.03799378e-01,\n",
       "         3.76640378e-01,  7.15485490e-01,  2.26002881e-01,  6.28544616e-01,\n",
       "         3.19917988e-01,  7.60000000e-01, -3.78111820e-01,  1.00000000e+00]),\n",
       " array([ 4.15820005e+04, -1.04750529e+00,  1.30071878e+00, -1.79900576e-01,\n",
       "         2.59034264e+00, -1.16429355e+00,  3.23234063e-02, -2.17527810e+00,\n",
       "         6.99571738e-01, -1.13970828e+00, -3.22628711e+00,  3.49130495e+00,\n",
       "        -2.45383921e+00,  1.77689485e-01, -5.16010810e+00, -6.85614234e-01,\n",
       "        -3.99564471e+00, -4.69506272e+00, -1.81866096e+00,  1.46158032e+00,\n",
       "         6.45493308e-01,  5.49514458e-01,  6.24821411e-01, -1.36162720e-01,\n",
       "         1.32237919e-01,  3.14213718e-02, -1.76201082e-01,  5.05397672e-01,\n",
       "         7.03824529e-02,  3.94505000e+01, -2.40671885e-01,  1.00000000e+00]),\n",
       " array([ 8.42040005e+04, -1.92695282e+00,  1.82812057e+00, -7.01899468e+00,\n",
       "         5.34880324e+00, -2.73868788e+00, -2.10671930e+00, -5.01534798e+00,\n",
       "         1.20636816e+00, -4.38221251e+00, -8.33720697e+00,  7.19080609e+00,\n",
       "        -9.42434446e+00, -2.22792646e-01, -1.28749942e+01, -7.14181607e-02,\n",
       "        -6.29946140e+00, -1.27187072e+01, -3.73967616e+00,  8.44559610e-01,\n",
       "         2.17320906e+00,  1.37743832e+00, -7.91516726e-01, -7.70914188e-01,\n",
       "        -3.79074272e-01,  7.19216522e-01,  1.11165126e+00,  1.27820726e+00,\n",
       "         8.19581152e-01,  5.12250500e+02,  1.43276314e+00,  1.00000000e+00]),\n",
       " array([ 1.86079995e+04,  1.13009052e+00,  1.15414966e-01,  6.85640580e-01,\n",
       "         7.32999293e-01, -4.02400319e-01, -2.95756425e-01, -2.81420566e-01,\n",
       "         6.14841540e-02,  1.26261239e+00, -2.78687395e-01,  2.59462176e+00,\n",
       "        -2.04237367e+00,  4.14196031e-01,  2.19347837e+00, -1.36053567e-02,\n",
       "         1.85439310e-01,  4.91258119e-01, -1.14149148e-01, -4.64110054e-01,\n",
       "        -2.21218176e-01, -3.22016743e-01, -7.90154180e-01,  1.92607426e-01,\n",
       "         1.19799683e-01,  1.02527864e-02,  5.80566926e-02, -5.55882458e-02,\n",
       "         3.93293364e-04,  1.79895000e+01, -3.17627713e-01,  1.00000000e+00]),\n",
       " array([ 1.02542000e+05, -1.45637632e+00,  3.74080556e+00, -7.40401845e+00,\n",
       "         7.44146404e+00, -1.54937795e+00, -1.66119686e+00, -5.75671301e+00,\n",
       "         1.61551101e+00, -2.19438073e+00, -6.80663525e+00,  6.82629316e+00,\n",
       "        -1.03992491e+01,  1.83694884e+00, -1.18723451e+01, -3.64189260e+00,\n",
       "        -6.04360314e+00, -9.75027639e+00, -3.11587225e+00,  6.58171492e-02,\n",
       "         5.30057331e-01,  9.58397452e-01,  1.45839480e-01, -4.42039008e-02,\n",
       "        -5.44461671e-01, -7.57256536e-01, -4.85236924e-03,  3.18652286e-01,\n",
       "        -3.23053623e-01,  2.28050000e+00, -3.72231910e-01,  1.00000000e+00]),\n",
       " array([ 3.74150005e+04,  1.12221099e+00,  1.62640292e-01, -5.06576072e-02,\n",
       "         1.22639641e+00, -8.64328473e-02, -6.95952951e-01,  3.43018999e-01,\n",
       "        -4.07406241e-02,  3.72847911e-02,  6.76745174e-02, -4.93011977e-01,\n",
       "        -9.28993162e-01, -2.46648251e+00,  1.07761529e+00,  1.19549360e+00,\n",
       "        -2.25705480e-01,  8.16758881e-02, -8.24114667e-01, -5.05527142e-01,\n",
       "        -2.46355583e-01, -3.02996023e-01, -1.07923019e+00,  1.09591971e-01,\n",
       "        -3.07825364e-02,  3.31080406e-01, -6.13502828e-01, -1.14218888e-02,\n",
       "         2.01308427e-02,  4.98005000e+01, -2.04038948e-01,  1.00000000e+00]),\n",
       " array([ 5.75860000e+04,  1.23196148e+00, -4.34462506e-01, -3.53180978e-01,\n",
       "        -3.12595910e-01,  1.43318641e+00,  3.95662798e+00, -1.20191931e+00,\n",
       "         1.07164335e+00,  7.97960335e-01, -1.81065671e-01, -5.05376314e-01,\n",
       "         2.68831431e-01,  1.65541825e-03, -2.66007708e-01,  3.87423402e-01,\n",
       "         4.89388497e-01, -6.74259422e-01,  2.09296139e-01,  3.31168849e-01,\n",
       "         2.88354828e-02, -1.43435334e-01, -3.76046085e-01, -6.57712957e-03,\n",
       "         1.03965500e+00,  4.13008924e-01,  3.31772082e-01,  1.87912240e-02,\n",
       "         2.09350005e-02,  1.15000000e+01, -3.40098511e-01,  1.00000000e+00]),\n",
       " array([ 1.69805000e+05, -6.38536990e-01, -7.58696652e-02, -2.93581224e+00,\n",
       "         2.60090540e-02, -2.20242659e-01, -3.31480149e-01,  3.07980577e+00,\n",
       "        -1.52521095e-01, -9.38837902e-01, -5.78041088e-01,  5.67165441e-01,\n",
       "         8.68167441e-01,  1.21368328e-01,  1.39743204e+00, -9.65641811e-01,\n",
       "        -1.09530924e+00, -1.48670065e-01,  5.57448764e-01,  8.36739677e-01,\n",
       "         9.93048543e-01,  9.06202134e-01,  1.93218618e+00,  1.16308858e+00,\n",
       "         7.80832087e-01, -8.23586684e-01, -4.73588151e-01,  2.90964580e-01,\n",
       "         3.74390667e-01,  5.18900000e+02,  1.45580025e+00,  1.00000000e+00]),\n",
       " array([ 1.60600000e+05,  2.28507747e+00, -1.22215166e+00, -1.73881253e+00,\n",
       "        -1.88350998e+00, -4.62189127e-01, -5.02074126e-01, -6.47756135e-01,\n",
       "        -2.27012533e-01, -2.00578147e+00,  1.81734513e+00,  5.51434792e-01,\n",
       "        -2.83906546e-01,  5.44277955e-01,  1.50653086e-01, -5.47864634e-01,\n",
       "        -3.00615811e-01,  1.84405835e-02,  2.39548323e-01,  3.66099049e-01,\n",
       "        -3.26220935e-01, -2.76558659e-01, -5.11209693e-01,  2.38222738e-01,\n",
       "         2.38106056e-01, -1.35727889e-01, -3.42273177e-01, -3.63923750e-02,\n",
       "        -5.96849061e-02,  4.30000000e+01, -2.28606965e-01,  1.00000000e+00]),\n",
       " array([ 1.47452000e+05,  2.08223465e+00, -1.23025646e+00, -3.92650298e-01,\n",
       "        -9.19625073e-01, -1.16402067e+00,  1.03884616e-01, -1.40271525e+00,\n",
       "         2.24317305e-01,  2.13782180e-01,  8.84429970e-01,  6.66321510e-01,\n",
       "        -2.60192269e-01, -7.42073619e-01, -2.90483437e-01, -4.50632364e-01,\n",
       "         1.35952398e+00, -2.12074094e-03, -4.38042721e-01,  6.17986387e-01,\n",
       "        -3.26273122e-02,  4.80945678e-01,  1.39617411e+00,  1.13508928e-01,\n",
       "         7.37975082e-01, -1.72003854e-01, -2.37142770e-02,  1.10447724e-02,\n",
       "        -4.90472310e-02,  2.31005000e+01, -2.98541307e-01,  1.00000000e+00]),\n",
       " array([ 7.22030000e+04,  1.23458246e+00,  5.09885447e-01, -1.24518914e-01,\n",
       "         1.05003329e+00,  2.92351793e-01, -7.05597087e-01,  5.26905326e-01,\n",
       "        -2.61212801e-01, -4.00167460e-01, -2.13924479e-02, -7.66159412e-03,\n",
       "         7.14681122e-01,  7.53369221e-01,  4.37601280e-01,  8.48632593e-01,\n",
       "        -5.46046652e-01, -7.84816876e-02, -9.14740677e-01, -6.16724439e-01,\n",
       "        -1.37391226e-01,  3.94648720e-02,  2.44758181e-01, -1.24938196e-01,\n",
       "         1.16335196e-01,  8.06129623e-01, -2.69337861e-01,  1.36531379e-02,\n",
       "         9.19975255e-03,  1.49000000e+00, -3.75528047e-01,  1.00000000e+00]),\n",
       " array([ 3.46340000e+04,  3.33499491e-01,  1.69987345e+00, -2.59656117e+00,\n",
       "         3.64394527e+00, -5.85067615e-01, -6.54658532e-01, -2.27578851e+00,\n",
       "         6.75228969e-01, -2.04241592e+00, -2.83487116e+00,  2.80200513e+00,\n",
       "        -4.39273244e+00, -1.36967145e+00, -5.32728665e+00,  1.63158962e-01,\n",
       "        -1.35938948e+00, -5.09518288e+00, -3.38012656e-01, -1.24137989e-01,\n",
       "         3.29341714e-01,  4.69211945e-01, -1.44362651e-01, -3.17980934e-01,\n",
       "        -7.69644310e-01,  8.07854588e-01,  2.28164299e-01,  5.51001874e-01,\n",
       "         3.05473420e-01,  1.89600000e+01, -3.13694482e-01,  1.00000000e+00]),\n",
       " array([ 6.83569995e+04,  1.23210447e+00, -5.49431183e-01,  1.08737267e+00,\n",
       "         8.93581820e-01, -1.43355490e+00, -3.57297142e-01, -7.17992197e-01,\n",
       "         2.66653109e-03, -1.00896733e-01,  5.42687256e-01, -1.03991707e+00,\n",
       "         2.84761609e-01, -2.06506568e-01, -4.99021776e-01, -1.06460845e+00,\n",
       "        -2.15653654e+00,  5.64261098e-01,  8.37356660e-01, -7.29489760e-01,\n",
       "        -5.76774061e-01, -4.49170517e-01, -5.18067968e-01,  1.23333353e-02,\n",
       "         6.98716728e-01,  5.26757981e-01, -3.23106503e-01,  8.03054374e-02,\n",
       "         3.49271820e-02,  1.95895000e+01, -3.11964651e-01,  1.00000000e+00]),\n",
       " array([ 2.10459995e+04, -1.69179683e+01,  9.66940017e+00, -2.37369434e+01,\n",
       "         1.18244902e+01, -9.83104823e+00, -2.51532887e+00, -1.72911567e+01,\n",
       "         1.81990787e+00, -6.26540349e+00, -1.29171361e+01,  9.56661030e+00,\n",
       "        -1.37175674e+01,  8.99040706e-01, -1.32734651e+01, -4.02760044e-01,\n",
       "        -7.75459406e+00, -1.16451032e+01, -4.74180271e+00,  5.84125973e-01,\n",
       "         9.96245095e-01, -2.33661096e+00,  9.72254726e-01,  1.24136581e+00,\n",
       "        -1.05158625e+00,  3.75090796e-02,  6.71817065e-01,  2.10797085e+00,\n",
       "        -1.42174325e+00,  9.99500000e-01, -3.77762360e-01,  1.00000000e+00]),\n",
       " array([ 1.17799000e+05,  1.84299853e+00, -5.67907321e-01, -1.59504287e+00,\n",
       "         2.05964286e-01,  6.76556032e-01,  1.06788304e+00, -2.28584735e-01,\n",
       "         3.36620824e-01,  9.59148613e-01, -8.80798478e-02,  4.83591055e-01,\n",
       "         7.03404900e-01, -1.18557262e+00,  5.71907402e-01, -3.13611797e-01,\n",
       "        -1.20921182e+00,  3.52533557e-01, -8.61731828e-01, -3.81903551e-01,\n",
       "        -3.20691193e-01,  2.60024124e-01,  1.04135983e+00, -7.16850459e-02,\n",
       "        -1.59937015e+00,  1.80303598e-01,  5.50061691e-02,  2.35834096e-02,\n",
       "        -8.48815714e-02,  4.19795000e+01, -2.32717167e-01,  1.00000000e+00]),\n",
       " array([ 8.13979995e+04, -5.28993395e-01,  7.20594136e-01,  9.92085795e-01,\n",
       "        -7.57722615e-01,  4.92847835e-01, -1.47008078e-01,  5.86609248e-01,\n",
       "         2.00086870e-01,  8.61354293e-02, -4.83853829e-01, -1.40901869e+00,\n",
       "        -1.19548315e+00, -1.68809788e+00,  4.13346288e-01,  8.30040398e-01,\n",
       "         4.23163665e-01, -5.74636301e-01, -2.12513708e-01, -7.83767832e-01,\n",
       "        -9.55761119e-02, -4.17843813e-02, -1.02353474e-01, -1.26516273e-01,\n",
       "        -8.02036338e-01, -3.43653689e-01,  2.98569030e-01,  3.23122111e-01,\n",
       "         1.89321257e-01,  9.99950000e+00, -3.45907633e-01,  1.00000000e+00]),\n",
       " array([ 1.24590000e+05,  2.03535681e+00, -2.42794932e+00,  3.20371482e-01,\n",
       "        -1.16892585e+00, -2.22912169e+00,  1.23524949e+00, -2.46654782e+00,\n",
       "         4.35204668e-01,  6.90697205e-01,  1.13986357e+00, -2.65254650e+00,\n",
       "        -7.98537713e-01,  4.66584991e-02, -1.82805600e+00, -1.80001629e+00,\n",
       "        -5.49298849e-01,  7.36831699e-01,  5.62205595e-01,  3.76149905e-01,\n",
       "        -2.54072750e-01, -7.46552562e-02,  4.79500332e-01,  7.73114348e-02,\n",
       "         1.10285117e-01, -2.91801510e-01,  2.17880543e-02,  9.36101668e-02,\n",
       "        -1.33706337e-02,  1.04449500e+02, -1.16099630e-02,  1.00000000e+00]),\n",
       " array([ 2.29000000e+04, -2.14829622e+00,  1.29269214e+00,  9.26950592e-02,\n",
       "         9.62741356e-02, -2.41080196e+00,  6.16527788e-01,  9.14955987e-01,\n",
       "         6.82310890e-01,  4.23484175e-01, -8.99404699e-01,  2.37230235e+00,\n",
       "        -2.00322860e+00,  9.30772914e-01,  2.63549499e+00,  3.28125455e-01,\n",
       "         4.21301934e-03,  1.31443771e+00,  4.90570829e-02,  9.78131288e-01,\n",
       "        -6.70571229e-01, -2.27613981e-01, -3.95602018e-01,  8.62734206e-02,\n",
       "         2.27611743e-01, -5.41060338e-01,  8.73835083e-01, -7.94601489e-01,\n",
       "        -4.83226219e-01,  3.29000000e+02,  7.83665492e-01,  1.00000000e+00]),\n",
       " array([ 1.56798000e+05, -1.82120177e+00,  5.73428640e-01,  3.78527378e-02,\n",
       "         4.16578489e-01,  1.52964152e+00, -7.35421634e-01,  1.00567469e+00,\n",
       "         2.08675745e-01, -1.00271942e+00, -8.39156805e-01, -1.38185687e+00,\n",
       "        -3.05137368e-02, -2.17856074e-01,  7.21779961e-01, -6.73655366e-01,\n",
       "        -6.03129755e-01, -1.49646620e-02, -3.67236540e-01, -1.00229297e-01,\n",
       "        -5.33304659e-02,  1.39534720e-01,  7.63930099e-02, -5.68763568e-01,\n",
       "         6.23669148e-01,  1.30072361e+00, -3.99564591e-01, -2.66506423e-01,\n",
       "        -2.48640246e-02,  4.49495000e+01, -2.22205107e-01,  1.00000000e+00]),\n",
       " array([ 1.39545000e+05,  1.95665002e+00, -9.82643912e-02, -1.26290521e+00,\n",
       "         1.15613405e+00,  4.97096035e-01,  3.35107617e-01, -4.33274894e-02,\n",
       "         3.93285156e-02,  4.51498976e-01,  3.06514705e-01,  1.70631790e-01,\n",
       "         1.10322950e+00,  1.70121275e-01,  1.85895868e-01, -1.29349496e+00,\n",
       "        -2.10267225e-01, -6.07046346e-01,  2.50363224e-01,  1.77982952e-01,\n",
       "        -1.92213993e-01,  1.38218255e-01,  6.25811395e-01, -2.91881110e-02,\n",
       "         2.43099436e-01,  3.65595836e-01, -4.84274280e-01,  1.53842939e-02,\n",
       "        -5.54595966e-02,  2.00000000e+01, -3.10013491e-01,  1.00000000e+00]),\n",
       " array([ 3.59060005e+04, -3.51852954e+00,  4.14136718e+00, -3.62770237e+00,\n",
       "         5.50617204e+00, -4.05696251e+00, -9.05445283e-01, -6.65153112e+00,\n",
       "         2.63502417e+00, -4.67890204e+00, -6.54574182e+00,  3.53870204e+00,\n",
       "        -8.04178514e+00,  1.69800938e+00, -8.05054890e+00,  1.07095740e+00,\n",
       "        -7.39545692e+00, -1.43291262e+01, -4.86751024e+00,  2.46434304e+00,\n",
       "         8.99223234e-01,  1.58305593e+00,  7.79210245e-01, -1.35207278e-01,\n",
       "        -3.77780027e-03,  3.32061591e-02,  3.62514053e-01,  9.01425138e-01,\n",
       "         5.55397499e-01,  9.13050000e+00, -3.47986923e-01,  1.00000000e+00]),\n",
       " array([ 6.82070005e+04, -1.31921710e+01,  1.27864706e+01, -9.90615002e+00,\n",
       "         3.32083688e+00, -4.80067593e+00,  5.76055856e+00, -1.87503892e+01,\n",
       "        -3.73529426e+01, -3.91039744e-01, -5.05200237e+00,  4.40730552e+00,\n",
       "        -4.61025648e+00, -1.90898797e+00, -9.07221093e+00, -2.25574451e-01,\n",
       "        -6.21105748e+00, -6.24764535e+00, -3.14874669e+00,  5.20761185e-02,\n",
       "        -3.49254992e+00,  2.72033392e+01, -8.88651714e+00,  5.30410690e+00,\n",
       "        -6.38934802e-01,  2.63703123e-01, -1.08376930e-01,  1.27006636e+00,\n",
       "         9.39907363e-01,  1.00050000e+00, -3.76762360e-01,  1.00000000e+00]),\n",
       " array([ 1.00501000e+05, -6.98576749e+00,  5.15059357e+00, -4.59983777e+00,\n",
       "         4.53397860e+00,  8.48553979e-01, -2.11201203e-01, -4.42572969e+00,\n",
       "        -5.13502516e+00,  6.88205729e-02, -8.71497151e-01,  5.20031517e+00,\n",
       "        -7.80272779e+00,  3.34124180e-02, -7.56063197e+00, -1.01515193e+00,\n",
       "        -1.50842960e+00, -3.41077457e+00,  1.07044007e-01, -1.37601766e+00,\n",
       "        -1.24749632e+00,  5.45317185e+00, -2.05667714e+00, -2.80833721e-01,\n",
       "         1.20271473e-01,  5.68857721e-01,  1.45471466e-01,  2.99693469e-01,\n",
       "         1.77886385e+00,  7.59500000e-01, -3.78611820e-01,  1.00000000e+00]),\n",
       " array([ 5.08310005e+04, -2.33587703e+00, -2.65270974e+00,  2.05166905e+00,\n",
       "        -1.10243040e+00, -7.78882157e-01,  9.58093123e-01,  1.81889205e-01,\n",
       "         5.58978006e-01, -8.21793396e-01, -6.04065105e-01,  1.02362091e+00,\n",
       "        -8.18558162e-03, -6.12571882e-01, -6.10485344e-01, -1.32494146e+00,\n",
       "         5.83847454e-01,  8.04465997e-01, -1.58251843e+00, -1.08854698e-01,\n",
       "         1.26673453e+00,  5.16292582e-01,  4.26490463e-01,  1.04275636e+00,\n",
       "        -3.28121172e-01,  4.37780737e-01, -2.98656958e-01, -1.02554933e-01,\n",
       "         1.04835272e-01,  4.57400500e+02,  1.23862627e+00,  1.00000000e+00]),\n",
       " array([ 1.00856000e+05,  1.52487281e-01,  1.26137720e+00,  2.29858572e-01,\n",
       "         1.43809309e+00,  9.53698464e-01, -2.45275180e-02,  7.21878275e-01,\n",
       "        -4.75458949e-01,  9.68518097e-01, -7.56414145e-01,  5.54419713e-01,\n",
       "        -2.66464221e+00,  2.45643455e+00, -5.94687908e-01,  7.10527513e-02,\n",
       "        -1.11275988e+00,  2.73391328e+00,  8.91990719e-01,  2.47971809e+00,\n",
       "         3.64950967e-01, -1.20497646e-01,  4.10484777e-01, -3.02699015e-01,\n",
       "         5.92767936e-01, -3.91525805e-01,  9.35950089e-01, -1.33793304e-01,\n",
       "        -1.75794060e-02,  6.99050000e+00, -3.55561269e-01,  1.00000000e+00]),\n",
       " array([ 8.51809995e+04, -3.00395942e+00,  2.09565031e+00, -4.87530348e-01,\n",
       "         3.06895316e+00, -1.77482868e+00,  2.51304210e-01, -4.32927649e+00,\n",
       "        -2.42597814e+00, -9.85722034e-01, -3.99571073e+00,  1.88010155e+00,\n",
       "        -2.32567913e+00,  6.35958663e-01, -5.41799935e+00, -2.63409465e-01,\n",
       "        -3.81858566e+00, -3.70120703e+00, -1.99191208e+00,  7.79450535e-01,\n",
       "         6.92037381e-01,  1.63466694e-01,  1.24514832e+00, -2.69741340e-01,\n",
       "         5.36602119e-01, -2.21256683e-01, -6.00547733e-02,  4.60209677e-01,\n",
       "        -3.40506071e-02,  1.99950000e+00, -3.74222946e-01,  1.00000000e+00]),\n",
       " array([ 6.59360000e+04, -3.59347600e+00,  7.81442263e-01, -1.82244751e+00,\n",
       "         6.05760683e-01, -1.19465587e+00, -5.17194857e-01, -1.72252312e+00,\n",
       "         1.28889524e-01,  1.49633081e-02, -2.85611683e+00,  1.61826162e+00,\n",
       "        -3.58137450e+00,  6.23706920e-01, -6.16045662e+00,  4.94733399e-01,\n",
       "        -2.54310504e+00, -5.30127339e+00, -2.19271271e+00, -9.47237927e-02,\n",
       "        -4.78219313e-01,  3.51792126e-01,  3.91248950e-01, -2.52874891e-01,\n",
       "        -4.98042480e-01,  1.01721931e-02,  9.09928722e-01, -1.47876725e+00,\n",
       "         7.22673039e-01,  1.01500000e+02, -2.15512349e-02,  1.00000000e+00]),\n",
       " array([ 1.31024000e+05,  4.70249517e-01, -1.23705547e+00, -1.76684062e+00,\n",
       "         4.83399013e+00, -2.68214559e-01, -5.12259848e-01,  1.14064881e+00,\n",
       "        -3.40773000e-01, -1.04585098e+00,  8.61615348e-02,  3.78819665e-04,\n",
       "        -5.38808429e-02,  7.36691603e-01, -2.30614479e+00, -4.63503364e-01,\n",
       "         1.67322280e+00,  1.16623654e+00,  5.61822707e-01, -2.30029768e+00,\n",
       "         1.27781503e+00,  3.04405313e-01, -6.46575252e-01, -3.72513646e-01,\n",
       "         2.61301138e-01, -4.96066412e-01, -2.45472762e-01, -1.17357669e-01,\n",
       "         1.45274181e-01,  7.23210500e+02,  2.17943796e+00,  1.00000000e+00]),\n",
       " array([ 1.29668000e+05,  7.53856012e-01,  2.28548795e+00, -5.16399200e+00,\n",
       "         3.83161200e+00, -7.31224923e-02, -1.31609595e+00, -1.85499544e+00,\n",
       "         8.31579099e-01, -1.56701415e+00, -3.22405915e+00,  3.37005825e+00,\n",
       "        -3.46804526e+00, -1.38307107e+00, -6.02007897e+00,  3.10101855e-01,\n",
       "        -2.61726696e+00, -1.31025238e+00,  4.10159910e-01,  2.36279078e+00,\n",
       "         2.86292260e-01,  3.82506846e-01,  3.44580453e-02,  1.88196850e-01,\n",
       "         3.58933466e-01, -4.88433827e-01, -2.58302387e-01,  2.96645453e-01,\n",
       "        -4.66736660e-02,  2.00050000e+00, -3.73222946e-01,  1.00000000e+00]),\n",
       " array([ 3.58660000e+04, -2.04448869e+00,  3.36830622e+00, -3.93711139e+00,\n",
       "         5.62311973e+00, -3.07923204e+00, -1.25347412e+00, -5.77887959e+00,\n",
       "         1.70742816e+00, -4.46710312e+00, -6.06779815e+00,  3.83978771e+00,\n",
       "        -8.27784095e+00,  1.49391491e+00, -8.41668121e+00,  7.92297928e-01,\n",
       "        -7.86265883e+00, -1.45708366e+01, -5.18538553e+00,  2.41438957e+00,\n",
       "         1.11202762e+00,  1.48359422e+00,  8.34310713e-01, -1.48485620e-01,\n",
       "         1.66885452e-03, -3.89957311e-02,  3.89526402e-01,  1.30023646e+00,\n",
       "         5.49940374e-01,  7.61000000e+00, -3.53866833e-01,  1.00000000e+00]),\n",
       " array([ 4.12849995e+04, -1.28362596e+01,  6.57411543e+00, -1.27889625e+01,\n",
       "         8.78575684e+00, -1.07236209e+01, -2.81403586e+00, -1.42493465e+01,\n",
       "         7.96002082e+00, -7.71925065e+00, -1.30745682e+01,  5.97463067e+00,\n",
       "        -1.23758747e+01,  1.47170512e+00, -1.14711925e+01,  9.92643254e-01,\n",
       "        -1.09743046e+01, -2.10481299e+01, -7.99128328e+00,  3.33053903e+00,\n",
       "        -6.17796150e-01,  2.67899007e+00, -4.78351063e-02, -8.37482346e-01,\n",
       "         6.24849328e-01,  1.25364938e-01,  1.77123612e-01, -8.18180256e-01,\n",
       "        -5.21529796e-01,  3.73195000e+01, -2.49210837e-01,  1.00000000e+00]),\n",
       " array([ 1.83990000e+04, -1.44744375e+01,  6.50318452e+00, -1.77126324e+01,\n",
       "         1.12703523e+01, -4.15014206e+00, -3.37209821e+00, -1.65358068e+01,\n",
       "        -1.44394699e+00, -6.81527290e+00, -1.36705451e+01,  1.05452630e+01,\n",
       "        -1.50226996e+01,  1.71633085e-01, -1.50663744e+01, -2.59575940e-01,\n",
       "        -8.66873927e+00, -1.28041409e+01, -5.11662050e+00,  5.79200358e-01,\n",
       "         1.10124987e+00, -2.47596223e+00,  3.42390706e-01, -3.56450804e+00,\n",
       "        -8.18140190e-01,  1.53407683e-01,  7.55079461e-01,  2.70656616e+00,\n",
       "        -9.92916047e-01,  1.00000000e+00, -3.77262360e-01,  1.00000000e+00]),\n",
       " array([ 1.21238000e+05, -2.62842199e+00,  2.27613637e+00, -3.74486935e+00,\n",
       "         1.22744820e+00, -1.13246649e+00, -1.25585310e+00, -1.75191985e+00,\n",
       "         2.82236387e-01, -1.79184297e+00, -4.82027941e+00,  4.17659762e+00,\n",
       "        -4.61850988e+00,  7.43189542e-01, -7.63646289e+00, -1.97387605e-01,\n",
       "        -4.13989567e+00, -7.60421483e+00, -1.52400540e+00,  1.27182193e+00,\n",
       "         1.33606475e-01,  8.71229582e-01,  1.26997279e+00, -2.64994008e-01,\n",
       "        -4.80048611e-01,  1.70165131e-01,  9.65810570e-02,  7.05362726e-02,\n",
       "         6.42683650e-02,  1.44620500e+02,  1.31568305e-01,  1.00000000e+00]),\n",
       " array([ 1.55662000e+05, -1.92811327e+00,  4.60200559e+00, -7.12355298e+00,\n",
       "         5.71658804e+00,  1.02707855e+00, -3.18857307e+00, -2.26139690e+00,\n",
       "         1.18559636e+00, -4.44144162e+00, -6.64565383e+00,  3.82836809e+00,\n",
       "        -6.51814882e+00,  2.51636548e-01, -1.24562060e+01, -6.48666482e-01,\n",
       "        -1.28264500e+00, -2.71805973e+00, -8.49660891e-02, -2.09688547e+00,\n",
       "         3.29295983e-01,  6.02790585e-01, -5.40787465e-01, -3.54139279e-01,\n",
       "        -7.00992058e-01, -3.04729821e-02,  3.45698776e-02,  5.73893032e-01,\n",
       "         2.95186316e-01,  7.70500000e-01, -3.77576426e-01,  1.00000000e+00]),\n",
       " array([ 1.42961000e+05,  4.58345399e-01,  1.37426948e+00, -4.88426009e-01,\n",
       "         2.80585094e+00,  1.77788606e+00,  1.00992060e-01,  1.29551592e+00,\n",
       "        -1.35357218e-01, -1.69532246e+00,  9.55504467e-01, -1.70172840e+00,\n",
       "        -2.39556328e-01,  4.56975053e-01,  1.40067417e-01, -1.89047449e+00,\n",
       "         3.72879299e-01, -7.97701085e-01, -6.96561608e-01, -1.49665223e+00,\n",
       "        -2.64204752e-01,  1.06093016e-01,  3.71514424e-01,  5.16047169e-02,\n",
       "         4.02024197e-01, -7.24265817e-01, -2.02380696e-01,  9.26238810e-02,\n",
       "         9.54558537e-02,  5.00000000e-04, -3.80301775e-01,  1.00000000e+00]),\n",
       " array([ 9.56279995e+04, -1.75194091e+01,  1.25716179e+01, -1.90390383e+01,\n",
       "         1.11903947e+01, -1.35552207e+01, -4.12423613e-01, -2.31898965e+01,\n",
       "        -5.30191222e+00, -8.63089031e+00, -1.62561117e+01,  5.70161148e+00,\n",
       "        -1.38129041e+01, -3.07315323e-01, -7.01410737e+00, -1.18279035e+00,\n",
       "        -9.36067919e+00, -1.66688694e+01, -7.14796778e+00,  2.16159865e+00,\n",
       "         2.52801233e+00, -4.96997772e+00,  9.75624822e-01,  1.84074793e+00,\n",
       "         3.33917748e-01, -7.20628461e-01, -2.33103423e-01, -3.02249247e+00,\n",
       "        -4.78658235e-01,  1.62950000e+00, -3.75532529e-01,  1.00000000e+00]),\n",
       " array([ 1.86530005e+04, -1.30547783e+00,  1.77261848e+00,  7.42229825e-01,\n",
       "         9.12851259e-01,  4.99398113e-01,  1.73799043e+00, -9.57295295e-01,\n",
       "        -1.69180084e+00,  7.55733249e-01, -6.40960757e-01,  9.00630949e-01,\n",
       "        -9.34881242e-01,  3.06872829e+00,  1.56526377e+00, -1.35694090e+00,\n",
       "        -2.15655665e-01,  7.13378491e-01,  3.55201211e-01,  9.60430196e-01,\n",
       "        -5.78885561e-01,  1.98595356e+00, -1.28960938e+00,  1.09306827e-01,\n",
       "        -1.42743676e+00,  1.41405324e-01, -3.92943561e-01,  7.87969957e-02,\n",
       "        -5.20052492e-02,  1.00050000e+00, -3.76762360e-01,  1.00000000e+00]),\n",
       " array([ 1.42394000e+05, -3.36726957e+00,  9.97494427e-02, -6.14798745e+00,\n",
       "         3.40245537e+00,  4.58806649e-01, -1.57112972e+00, -1.35820798e+00,\n",
       "         6.72909369e-01, -3.18750116e+00, -4.93692666e+00,  3.72443253e+00,\n",
       "        -4.60267615e+00,  1.01967955e+00, -6.61859020e+00, -5.89723956e-01,\n",
       "        -4.47204756e+00, -7.16454439e+00, -1.58062819e+00,  1.93087971e+00,\n",
       "         2.65198704e-01,  8.61808008e-01,  1.24980139e+00,  1.85112716e+00,\n",
       "        -1.16971200e-01,  1.22031540e+00,  7.50619019e-04,  1.03651138e+00,\n",
       "         4.86675462e-03,  3.20010500e+02,  7.52346158e-01,  1.00000000e+00]),\n",
       " array([ 7.20620005e+04,  1.20511365e+00,  2.16083753e-01,  6.23203794e-01,\n",
       "         5.51869456e-01, -5.11161591e-01, -7.82339007e-01, -2.98037415e-02,\n",
       "        -7.71135617e-02, -2.44625540e-01,  1.00508777e-01,  1.68476630e+00,\n",
       "         1.18405162e+00,  3.04372017e-01,  4.26700507e-01,  3.04843206e-01,\n",
       "         4.34874434e-01, -6.05235502e-01, -1.26726829e-01,  9.35933470e-02,\n",
       "        -8.29326862e-02, -1.91032930e-01, -5.84429234e-01,  1.49189123e-01,\n",
       "         5.33807641e-01,  1.64570104e-01,  6.46842701e-02, -3.12402670e-02,\n",
       "         1.15088181e-02,  9.90500000e-01, -3.76797754e-01,  1.00000000e+00]),\n",
       " array([ 6.10809995e+04,  1.03755907e+00, -3.21879886e-01,  9.03936864e-01,\n",
       "         8.66049865e-01, -7.66796915e-01,  8.30683329e-02, -4.28950703e-01,\n",
       "         9.18790354e-02,  7.26217849e-01, -2.98631311e-01, -4.49634912e-01,\n",
       "         7.77735972e-01,  5.59948147e-01, -3.95696567e-01,  2.71836317e-01,\n",
       "        -3.25143056e-01,  1.35093081e-01, -6.83242635e-01, -4.46283964e-01,\n",
       "         2.18989386e-02,  1.31327657e-01,  5.31239261e-01, -1.36136514e-01,\n",
       "         1.60454335e-01,  4.14034177e-01,  5.31034796e-01,  1.26780781e-02,\n",
       "         2.69490516e-02,  6.99895000e+01, -1.33578176e-01,  1.00000000e+00]),\n",
       " array([ 6.82070000e+04, -1.31926710e+01,  1.27859706e+01, -9.90665002e+00,\n",
       "         3.32033688e+00, -4.80117593e+00,  5.76005856e+00, -1.87508892e+01,\n",
       "        -3.73534426e+01, -3.91539744e-01, -5.05250237e+00,  4.40680552e+00,\n",
       "        -4.61075648e+00, -1.90948797e+00, -9.07271093e+00, -2.26074451e-01,\n",
       "        -6.21155748e+00, -6.24814535e+00, -3.14924669e+00,  5.15761185e-02,\n",
       "        -3.49304992e+00,  2.72028392e+01, -8.88701714e+00,  5.30360690e+00,\n",
       "        -6.39434802e-01,  2.63203123e-01, -1.08876930e-01,  1.26956636e+00,\n",
       "         9.39407363e-01,  1.00000000e+00, -3.77262360e-01,  1.00000000e+00]),\n",
       " array([ 2.04510005e+04, -1.58186787e+01,  8.77649715e+00, -2.28041865e+01,\n",
       "         1.18653681e+01, -9.09186053e+00, -2.38639321e+00, -1.65598681e+01,\n",
       "         9.48848595e-01, -6.31015843e+00, -1.30883909e+01,  9.81620317e+00,\n",
       "        -1.40555612e+01,  7.77691846e-01, -1.37605180e+01, -3.53135940e-01,\n",
       "        -7.95694723e+00, -1.19624542e+01, -4.78000779e+00,  6.52998045e-01,\n",
       "         9.92778949e-01, -2.35013375e+00,  1.03686187e+00,  1.13655074e+00,\n",
       "        -1.04291374e+00, -1.08423343e-01,  6.57936778e-01,  2.13692447e+00,\n",
       "        -1.41144537e+00,  1.00050000e+00, -3.76762360e-01,  1.00000000e+00]),\n",
       " array([ 9.94329995e+04, -7.42572139e-01,  4.69783477e-01,  3.57246831e+00,\n",
       "         4.72934336e+00,  2.05492352e-01,  2.92348278e+00, -1.22369978e+00,\n",
       "         7.58561529e-01,  1.10250979e+00,  1.11208648e+00, -5.38495931e-02,\n",
       "        -3.01326553e+00,  6.79888951e-01,  2.89351238e-01, -2.24182461e+00,\n",
       "        -9.10803413e-02,  9.06106852e-01,  1.57238026e+00,  1.89306851e+00,\n",
       "         4.75565748e-01, -1.22162155e-01,  4.38330012e-01, -3.72560669e-01,\n",
       "         4.29450487e-02,  1.70966237e-01,  5.96976183e-01,  2.20493770e-01,\n",
       "        -6.29452375e-02,  7.56950000e+00, -3.54508409e-01,  1.00000000e+00]),\n",
       " array([ 1.67338000e+05, -1.37392439e+00,  2.79368461e+00, -4.34607206e+00,\n",
       "         2.40123142e+00, -1.68793271e+00,  1.11636093e-01, -9.21537621e-01,\n",
       "        -2.14942998e+00, -2.02697376e+00, -4.39034192e+00,  1.24245818e+00,\n",
       "        -3.91002150e+00, -1.22513630e+00, -4.69749687e+00,  6.76608304e-01,\n",
       "        -2.07656554e+00, -2.68302090e+00, -5.25449333e-01,  4.22842445e-01,\n",
       "         6.50695856e-01, -8.70278522e-01,  5.05349160e-01,  1.38494269e-01,\n",
       "         3.68774569e-01,  1.03636655e-01, -4.13708828e-01,  4.55481585e-01,\n",
       "         9.72109642e-02,  3.49080500e+02,  8.55236929e-01,  1.00000000e+00]),\n",
       " array([ 8.52849995e+04, -7.03080814e+00,  3.42149090e+00, -9.52557177e+00,\n",
       "         5.27039101e+00, -4.02513028e+00, -2.86618162e+00, -6.98969473e+00,\n",
       "         3.79105094e+00, -4.62323034e+00, -8.41016488e+00,  6.30854401e+00,\n",
       "        -8.57726143e+00,  2.46246717e-01, -1.15345460e+01, -3.64765139e-01,\n",
       "        -5.45299466e+00, -1.18880700e+01, -3.56408481e+00,  8.75518768e-01,\n",
       "         5.45198041e-01,  1.10289774e+00, -5.42354752e-01,  3.64432220e-02,\n",
       "        -3.56019004e-01,  3.53134382e-01,  1.04195799e+00,  1.35901563e+00,\n",
       "        -2.72688101e-01, -5.00000000e-04, -3.81301775e-01,  1.00000000e+00]),\n",
       " array([ 8.56300050e+03, -1.77852438e+00, -1.21421743e-01,  3.38957213e+00,\n",
       "        -3.03340209e-01, -1.18666066e+00,  6.62968909e-01, -4.49536409e-01,\n",
       "         3.08005329e-01,  3.15006050e+00, -5.12087055e-01,  1.33751360e+00,\n",
       "        -1.65888873e+00,  8.22993180e-01, -1.15761481e-01, -3.17572489e+00,\n",
       "        -1.40150444e-01,  6.58661313e-01,  5.27248064e-01, -3.11871025e-02,\n",
       "         2.79680295e-01, -2.04273434e-01,  5.27790552e-01, -3.23563753e-01,\n",
       "         5.89412102e-01,  3.67244917e-01,  1.11440377e+00,  2.99417171e-01,\n",
       "         1.41614423e-01,  9.45305000e+01, -4.57209517e-02,  1.00000000e+00]),\n",
       " array([ 6.47849995e+04, -8.74491464e+00, -3.42096798e+00, -4.85107473e+00,\n",
       "         6.60634579e+00, -2.80104617e+00,  1.05011584e-01, -3.27030130e+00,\n",
       "         9.39877923e-01, -2.55919060e+00, -3.62527471e+00,  5.26736160e+00,\n",
       "        -5.58419693e+00,  1.73395592e-01, -6.68047676e+00,  2.08369914e+00,\n",
       "        -4.34939145e+00, -8.76128602e+00, -3.40804854e+00,  1.33243007e+00,\n",
       "        -1.81881542e+00,  1.02412554e-01,  3.11126102e-01, -4.12969550e+00,\n",
       "         3.41387322e-02, -1.13413123e+00,  2.71765246e-01,  1.84080727e+00,\n",
       "        -1.79686259e+00,  7.20379500e+02,  2.16842142e+00,  1.00000000e+00]),\n",
       " array([ 2.71870000e+04, -2.45902448e+01,  1.40445668e+01, -2.62787006e+01,\n",
       "         6.32008927e+00, -1.82245127e+01, -4.60996783e+00, -1.76810034e+01,\n",
       "         1.62136267e+01, -3.79409347e+00, -8.37275316e+00,  4.90168266e+00,\n",
       "        -6.87283866e+00,  7.69776763e-01, -6.82658449e+00, -5.44341798e-02,\n",
       "        -6.08495267e+00, -1.23752705e+01, -4.81034474e+00,  9.36742238e-01,\n",
       "         1.64920202e+00,  1.77706277e+00, -1.80487369e+00, -1.14060457e+00,\n",
       "         1.52234466e-01,  1.71599702e+00, -2.20471199e-01,  1.43495058e+00,\n",
       "         4.22491858e-01,  9.99900000e+01, -2.68957503e-02,  1.00000000e+00]),\n",
       " array([ 1.54977000e+05,  2.10652473e+00, -2.89353737e-02, -1.60586175e+00,\n",
       "         1.84344486e-01,  3.55426730e-01, -7.78328695e-01,  1.78925341e-01,\n",
       "        -2.79087630e-01,  6.36752480e-01,  1.42985360e-02, -1.02523772e+00,\n",
       "         4.13906670e-02, -7.06230770e-02,  4.95622602e-01,  8.29997786e-01,\n",
       "        -8.96759611e-02, -6.28024675e-01,  9.72591969e-02, -1.02270196e-01,\n",
       "        -2.20302075e-01,  2.15673849e-01,  7.44527643e-01,  1.25912674e-04,\n",
       "         5.03024514e-01,  3.20871674e-01, -1.25432036e-01, -2.67483228e-02,\n",
       "        -5.57775491e-02,  9.99500000e-01, -3.77762360e-01,  1.00000000e+00]),\n",
       " array([ 5.09250000e+04, -3.20420085e-01,  6.36293527e-01,  2.19492795e+00,\n",
       "         1.51007500e+00, -3.81955153e-01,  8.20679185e-01,  1.18532982e-01,\n",
       "         1.56732198e-01, -1.15531283e-01, -3.42858601e-01, -1.27828842e+00,\n",
       "         4.59758749e-01,  1.54258483e+00, -6.74977269e-01,  8.99627772e-01,\n",
       "        -4.40375111e-01,  2.12240550e-02,  4.34285288e-01,  1.88201131e+00,\n",
       "         3.98438081e-01, -2.20472922e-02,  1.24861986e-01, -1.98034997e-01,\n",
       "        -4.02889753e-01,  3.62428473e-01, -7.53410524e-02,  8.48921573e-02,\n",
       "         1.99016216e-02,  6.59400000e+01, -1.47412803e-01,  1.00000000e+00]),\n",
       " array([ 8.50809995e+04,  1.05441920e+00, -1.13863947e-01,  2.03859816e-01,\n",
       "         1.25198910e+00, -1.16283620e-01,  3.11193394e-01, -8.87937449e-02,\n",
       "         2.30647952e-01,  2.87794939e-01,  6.92579370e-02,  5.98232976e-01,\n",
       "         2.68260835e-01, -1.73560967e+00,  5.68016793e-01, -5.91192499e-01,\n",
       "        -3.50990870e-01, -1.51353493e-02, -1.72247615e-01,  4.11294155e-02,\n",
       "        -1.76839887e-01, -6.25488003e-02, -1.59028218e-01, -1.37049695e-01,\n",
       "        -3.28969336e-01,  6.05921623e-01, -3.09996955e-01,  1.60703286e-02,\n",
       "         6.64178536e-03,  5.44195000e+01, -1.88686855e-01,  1.00000000e+00]),\n",
       " array([ 1.52117000e+05, -2.81475555e-01, -3.09198585e-01, -2.16179879e+00,\n",
       "        -8.51014391e-01,  1.06666759e-01, -1.48338817e+00,  1.93149371e+00,\n",
       "        -8.42549168e-01, -1.24877151e+00,  1.08010750e+00, -1.35220946e+00,\n",
       "        -9.95177621e-01, -8.86539086e-01,  7.33321137e-01, -5.56745547e-01,\n",
       "        -2.41172544e+00,  2.01009439e-01,  8.24463017e-01, -5.31289460e-01,\n",
       "        -8.75016217e-01, -3.69946409e-03,  1.01560831e+00, -2.62478840e-02,\n",
       "         7.76149337e-02, -1.46832207e+00,  7.52199539e-01,  4.97232234e-01,\n",
       "         3.31501483e-01,  2.64950500e+02,  5.57466013e-01,  1.00000000e+00]),\n",
       " array([ 1.39767000e+05,  4.67491940e-01,  1.09961812e+00, -5.60764500e+00,\n",
       "         2.20421353e+00, -5.79038843e-01, -1.74699761e-01, -3.45470147e+00,\n",
       "         1.10232269e+00, -1.06551552e+00, -5.41653689e+00,  4.49742897e+00,\n",
       "        -5.02010989e+00, -1.02019120e+00, -7.91548901e+00,  6.69148023e-01,\n",
       "        -4.47251433e+00, -5.85749776e+00, -2.24367790e+00, -1.74314024e-01,\n",
       "         5.89074722e-01,  9.82980729e-01,  8.99376106e-01, -2.85603425e-01,\n",
       "        -1.93021710e+00,  3.19368526e-01,  1.70136428e-01,  8.51298306e-01,\n",
       "         3.71598282e-01,  1.20539500e+02,  4.53392112e-02,  1.00000000e+00]),\n",
       " array([ 1.39107000e+05, -4.66650010e+00, -3.95232009e+00,  2.06093982e-01,\n",
       "         5.15352462e+00,  5.22946888e+00,  9.39039595e-01, -6.35032860e-01,\n",
       "        -7.04506474e-01, -2.34785700e-01,  4.03143505e+00,  9.83646779e-01,\n",
       "        -5.78913743e-01, -1.99814214e-01, -7.29706928e-01,  1.26671346e+00,\n",
       "        -8.42769191e-01, -1.02946074e-01, -5.97597213e-01,  1.06015423e+00,\n",
       "        -2.28613708e+00, -6.64263126e-01,  1.82142163e+00,  1.13562782e-01,\n",
       "        -7.59673347e-01, -5.02304099e-01,  6.30638836e-01, -5.13880223e-01,\n",
       "         7.29525850e-01,  2.24700000e+01, -3.01271138e-01,  1.00000000e+00]),\n",
       " array([ 1.51798000e+05, -6.88898347e-02,  1.10279113e+00, -1.48217950e+00,\n",
       "         1.04210030e+00,  3.65813791e-01, -2.34332993e-01,  1.17762043e+00,\n",
       "        -1.38541686e-01, -6.69590666e-01,  2.43019448e-02, -1.70200546e+00,\n",
       "        -1.88389640e-01,  4.84574163e-01,  7.97368226e-01,  1.13007100e+00,\n",
       "        -1.47075394e+00,  5.98884802e-01,  2.13158255e-01,  3.18198871e+00,\n",
       "        -7.98947334e-02,  1.18035901e-01,  6.14992875e-01, -2.50849630e-01,\n",
       "        -9.14407469e-01,  6.48150997e-01,  4.34882208e-01, -2.95280631e-01,\n",
       "        -2.27315709e-01,  1.08110000e+02,  1.84429287e-03,  1.00000000e+00]),\n",
       " array([ 8.41500000e+03, -2.51470960e-01,  4.31352333e+00, -6.89143772e+00,\n",
       "         6.79679668e+00,  6.16296505e-01, -2.96632654e+00, -2.43665253e+00,\n",
       "         4.89327899e-01, -3.37163857e+00, -6.81081310e+00,  7.62008906e+00,\n",
       "        -1.02852825e+01, -3.42444334e-01, -1.15434979e+01, -1.33498790e+00,\n",
       "        -2.68928420e+00, -3.20438340e+00,  8.65218957e-02, -1.31449510e+00,\n",
       "         6.32709964e-01,  5.36892074e-01, -5.46126024e-01, -6.05239548e-01,\n",
       "        -2.63743460e-01,  1.53991583e+00,  5.23573697e-01,  8.91024688e-01,\n",
       "         5.72740667e-01,  1.00000000e+00, -3.77262360e-01,  1.00000000e+00]),\n",
       " array([ 1.29764000e+05, -2.43350415e+00,  3.22644669e+00, -6.59578163e+00,\n",
       "         3.59366052e+00, -1.07895205e+00, -1.73924071e+00, -4.69200922e-02,\n",
       "         3.01924476e-01, -1.77893360e+00, -5.83595273e+00,  3.24993115e+00,\n",
       "        -5.96098766e+00, -1.15467573e+00, -1.10017891e+01,  5.88786384e-01,\n",
       "        -2.36530146e+00, -1.35140039e+00,  1.89998487e-01,  5.24507524e-01,\n",
       "        -2.80033266e-01, -3.49907261e-02, -4.18677641e-01,  1.57935951e-01,\n",
       "        -7.14349374e-01,  4.69359337e-01, -3.48022318e-01,  4.20536480e-01,\n",
       "        -3.27142696e-01,  3.62550500e+02,  9.02912838e-01,  1.00000000e+00]),\n",
       " array([ 6.45849995e+04,  1.07993337e+00,  9.62330681e-01, -2.78565478e-01,\n",
       "         2.74281806e+00,  4.11864076e-01, -3.21278353e-01,  4.07895490e-02,\n",
       "         1.75670300e-01, -9.67451551e-01, -1.94620467e-01,  2.13955682e+00,\n",
       "        -2.76808753e-01, -1.19180574e+00, -1.88077540e+00,  3.97771956e-01,\n",
       "         1.36693302e+00,  1.52216170e+00,  1.02581748e+00, -1.57757048e+00,\n",
       "        -1.73158645e-01, -9.49617409e-03, -5.75361436e-02, -5.41915092e-02,\n",
       "        -2.68732768e-02,  3.99799731e-01,  7.23277709e-02,  2.65429343e-02,\n",
       "         6.27375727e-02, -5.00000000e-04, -3.81301775e-01,  1.00000000e+00]),\n",
       " array([ 1.29352000e+05, -2.20450432e-02, -5.89641090e-01, -2.05610173e-01,\n",
       "        -3.08247631e+00,  6.76336160e-02, -8.57031000e-01, -1.31590531e-02,\n",
       "        -8.46780446e-02, -2.31729573e+00,  1.26045701e+00,  4.77904855e-01,\n",
       "        -6.39747442e-01,  9.28849669e-02, -2.62116960e-02, -1.36106861e+00,\n",
       "        -2.25331580e-01, -2.12193183e-01,  6.93120888e-01, -8.38547296e-01,\n",
       "        -2.33906031e-01,  2.61930311e-01,  1.13045802e+00,  5.23241407e-02,\n",
       "         7.61895714e-01, -8.21661831e-01, -2.62059320e-01,  4.61049398e-01,\n",
       "         3.11762802e-01,  2.50005000e+01, -2.91816420e-01,  1.00000000e+00]),\n",
       " array([ 6.66199950e+03,  1.08696088e+00,  1.26667936e-01,  3.55558074e-01,\n",
       "         7.15657480e-01, -4.21429011e-02,  2.06791025e-01, -3.55474309e-01,\n",
       "         2.33545887e-01,  1.30860631e+00, -5.32643086e-01,  2.73672381e+00,\n",
       "        -2.32861413e+00,  1.42864840e-02,  1.74949025e+00,  3.54340104e-01,\n",
       "         1.38384921e-01,  1.13804726e+00, -2.20359822e-01, -8.31561290e-01,\n",
       "        -2.45805874e-01, -3.38056067e-01, -8.25265462e-01,  1.90810050e-01,\n",
       "        -4.34892792e-01, -5.13305969e-02,  1.00742080e-01, -3.61909113e-02,\n",
       "         6.86417256e-03,  2.26795000e+01, -3.01027861e-01,  1.00000000e+00]),\n",
       " array([ 1.06541000e+05, -1.58146870e+00,  6.39696360e-01,  9.23369536e-01,\n",
       "        -1.16313980e+00,  1.90055854e+00, -1.25471814e+00,  1.02338651e+00,\n",
       "        -3.57562947e-01,  6.79979462e-01, -1.21338069e+00,  5.72932604e-02,\n",
       "        -2.64344162e+00,  1.57747382e+00,  1.71645758e+00, -1.07847817e+00,\n",
       "         3.90446624e-01, -2.25869686e-01, -3.94169769e-01, -1.37612605e+00,\n",
       "        -3.65471731e-01, -3.30204433e-01, -9.02380886e-01, -4.28265139e-01,\n",
       "         6.78060254e-01,  7.87903610e-01, -4.25433706e-02, -3.67518800e-01,\n",
       "         1.40907104e-01,  4.95050000e+00, -3.62781674e-01,  1.00000000e+00]),\n",
       " array([ 1.56576000e+05,  2.19893910e+00, -5.57426196e-01, -2.17855622e+00,\n",
       "        -1.10373170e+00,  2.42320165e-01, -1.01911098e+00,  1.52439979e-01,\n",
       "        -3.93796022e-01, -1.29454679e+00,  1.07047713e+00,  1.21747870e+00,\n",
       "         1.75625639e-01,  2.39675375e-01,  5.14092773e-01, -7.13046457e-01,\n",
       "         5.76260436e-01,  1.34390060e-01, -1.30844524e+00,  8.65017440e-01,\n",
       "         2.98407383e-02,  4.14459080e-01,  1.11923103e+00, -5.28842615e-02,\n",
       "         7.76718060e-01,  4.22549896e-01,  2.68339037e-02, -8.59183119e-02,\n",
       "        -8.08536488e-02,  2.99000000e+01, -2.74973290e-01,  1.00000000e+00]),\n",
       " array([ 1.42928000e+05,  2.29869391e+00, -6.99781041e-01, -1.74721622e+00,\n",
       "        -1.12333719e+00, -7.98653218e-02, -7.58951846e-01, -3.43030760e-01,\n",
       "        -3.42066284e-01, -4.63458896e-01,  8.75442575e-01, -1.50763235e+00,\n",
       "        -9.36612994e-01,  3.96105075e-01, -3.15825200e-02,  4.47562275e-01,\n",
       "         1.12649216e+00, -1.76231899e-01, -1.05347304e+00,  7.47842842e-01,\n",
       "        -1.32604266e-02,  3.68111956e-01,  1.10869810e+00, -1.32374020e-01,\n",
       "        -1.00079559e+00,  3.31427074e-01,  1.37591334e-01, -3.58409908e-02,\n",
       "        -7.69128692e-02,  1.00005000e+01, -3.44907633e-01,  1.00000000e+00]),\n",
       " array([ 9.55590000e+04, -1.63086501e+01,  1.16148005e+01, -1.97393863e+01,\n",
       "         1.04638663e+01, -1.25991457e+01, -1.20239332e+00, -2.33805078e+01,\n",
       "        -5.78113301e+00, -7.81102238e+00, -1.63035377e+01,  5.57362527e+00,\n",
       "        -1.36352161e+01, -4.83236244e-01, -7.35279224e+00, -2.39268419e+00,\n",
       "        -8.72814239e+00, -1.75988535e+01, -7.45595633e+00,  1.69740706e-01,\n",
       "         2.10603387e+00, -4.88498262e+00,  1.14091044e+00,  1.39295263e+00,\n",
       "         3.48996605e-01, -2.16750975e+00, -7.98753538e-01, -2.94277507e+00,\n",
       "        -4.62679619e-01,  1.63000000e+00, -3.75032529e-01,  1.00000000e+00]),\n",
       " array([ 1.02572000e+05, -2.87097293e+01,  2.20572290e+01, -2.78563111e+01,\n",
       "         1.18445129e+01, -1.89843126e+01,  6.47361463e+00, -4.35577416e+01,\n",
       "        -4.10447609e+01, -1.33206547e+01, -2.45887624e+01,  3.48145180e+00,\n",
       "        -9.12884129e+00, -3.00875548e+00,  7.96079962e-01, -2.10279852e+00,\n",
       "        -5.66086644e+00, -1.30332850e+01, -5.39284917e+00, -9.01540818e-01,\n",
       "         1.10585043e+01, -2.27981039e+01,  8.31577544e+00,  5.46572995e+00,\n",
       "         2.33542304e-02, -1.52764472e+00, -1.45725187e-01, -5.68283824e+00,\n",
       "        -4.39633675e-01,  9.50000000e-03, -3.81266380e-01,  1.00000000e+00]),\n",
       " array([ 4.79819995e+04, -1.23330413e+00,  2.24361874e+00, -1.70432579e+00,\n",
       "         1.49203586e+00, -1.19348517e+00, -1.68661021e+00, -1.86511150e+00,\n",
       "         8.55622314e-01, -1.97403528e+00, -3.94288290e+00,  2.40115068e+00,\n",
       "        -3.39476562e+00, -1.45661725e-01, -4.33029551e+00,  7.58260886e-01,\n",
       "        -3.19954648e+00, -4.48068357e+00, -2.48616878e+00, -9.63074337e-02,\n",
       "         2.07389302e-01,  5.59975066e-01,  1.65181718e-01, -1.42535165e-02,\n",
       "         4.74435180e-01, -2.19225074e-01,  3.02309126e-01,  4.65530942e-01,\n",
       "         2.49633539e-01,  7.59500000e-01, -3.78611820e-01,  1.00000000e+00]),\n",
       " array([ 9.15239995e+04,  1.95435174e+00,  1.62955630e+00, -4.33769968e+00,\n",
       "         2.37786729e+00,  2.11284786e+00, -1.58435067e+00,  6.53245453e-01,\n",
       "        -1.93392012e-01,  1.21710825e+00, -2.82959821e+00,  3.50406779e+00,\n",
       "        -3.91869988e+00, -1.01629193e+00, -4.70500871e+00, -9.69053076e-01,\n",
       "         1.85427192e+00,  6.02389677e+00,  3.53075033e+00, -1.19678478e+00,\n",
       "        -2.31140095e-01, -4.74937305e-01, -9.75124666e-01, -4.86545042e-02,\n",
       "        -2.40242679e-02,  3.61692024e-01, -5.71209267e-01,  2.51187203e-02,\n",
       "         8.13803892e-02,  9.99500000e-01, -3.77762360e-01,  1.00000000e+00]),\n",
       " array([ 5.59819995e+04, -8.76185048e-02,  1.12016866e+00,  1.81827030e+00,\n",
       "         2.85618278e+00,  1.52816619e-02,  4.00160537e-02,  4.98907898e-01,\n",
       "         3.92895110e-03, -9.16839276e-01,  1.17262149e+00, -2.11811797e-01,\n",
       "        -1.25441317e+00, -1.69592795e+00,  4.23784828e-01,  1.68590081e+00,\n",
       "        -3.89631210e-01,  3.48075511e-01, -3.22780805e-01,  2.22300258e-01,\n",
       "         1.64857790e-01, -3.98704817e-02,  1.28853874e-01,  2.60395493e-02,\n",
       "         3.35174728e-01, -5.63675365e-01,  1.07044399e-01,  1.82638130e-01,\n",
       "        -8.67215313e-02,  5.98950000e+00, -3.60100684e-01,  1.00000000e+00]),\n",
       " array([ 1.29808000e+05,  1.52207986e+00, -5.19429473e-01, -2.58168488e+00,\n",
       "         7.74741046e-01,  2.06721721e-01, -1.43102012e+00,  7.57011225e-01,\n",
       "        -4.44418034e-01,  9.97921025e-01, -1.42949012e+00, -3.75466189e-01,\n",
       "         1.79094864e-01, -1.48448551e-01, -2.13515486e+00, -4.49156938e-02,\n",
       "        -5.53327529e-02,  1.77869660e+00,  6.71832434e-01, -2.02115789e-03,\n",
       "         3.61168932e-01,  1.96494070e-02, -2.11678285e-01, -2.47451924e-01,\n",
       "        -2.79471887e-01,  2.39646123e-01, -5.08398143e-01, -1.55514882e-02,\n",
       "         4.18807020e-02,  2.76170000e+02,  5.96678241e-01,  1.00000000e+00]),\n",
       " array([ 1.63181000e+05, -5.23880774e+00,  6.23013014e-01, -5.78450659e+00,\n",
       "         1.67888931e+00, -3.64431872e-01, -4.77294698e-01, -4.27613150e+00,\n",
       "        -6.95172912e-01, -2.97164439e+00, -5.52913123e+00,  1.77950450e+00,\n",
       "        -4.83615901e+00, -1.20899188e+00, -2.90118981e+00,  2.81878306e-01,\n",
       "        -5.53954432e+00, -7.29096021e+00, -4.89776604e+00, -3.08608992e-01,\n",
       "        -2.03269802e-01, -3.26139919e-01,  1.50923869e+00, -2.15966267e-01,\n",
       "        -2.45726907e-01,  8.93041277e-01,  8.65758089e-01,  8.54657017e-01,\n",
       "        -9.64482422e-01,  3.99800000e+01, -2.39295995e-01,  1.00000000e+00]),\n",
       " array([ 1.59879000e+05,  2.04138025e+00, -8.53022607e-02, -8.42366793e-01,\n",
       "         5.82830466e-01, -2.63308883e-01, -1.02598113e+00, -2.17965636e-03,\n",
       "        -2.95471139e-01,  6.25719004e-01,  8.83297006e-02, -7.44423326e-01,\n",
       "         6.30991142e-01,  5.82669264e-01,  5.45332140e-02,  1.34295066e-01,\n",
       "        -2.41301039e-02, -4.18291325e-01, -4.98724653e-01, -1.26428123e-01,\n",
       "        -1.96502429e-01, -1.28966763e-02,  1.67957355e-01,  1.91604552e-01,\n",
       "         8.74540553e-02, -1.20417820e-01,  2.55674145e-01, -4.12483128e-02,\n",
       "        -5.58868289e-02,  1.99950000e+00, -3.74222946e-01,  1.00000000e+00]),\n",
       " array([ 1.18603000e+05, -6.67771162e+00,  5.52879920e+00, -7.19377456e+00,\n",
       "         6.08082108e+00, -1.63657097e+00,  5.00109583e-01, -4.64127021e+00,\n",
       "        -4.34033970e+00, -9.50536405e-01,  5.66179814e-01,  4.31457592e+00,\n",
       "        -4.93878360e+00, -1.10620974e+00, -8.49131262e+00,  1.00312575e+00,\n",
       "        -1.94962326e+00, -3.09351269e+00,  1.23587075e-01,  8.86246966e-01,\n",
       "        -1.11918676e+00,  5.56280066e+00, -1.60877196e+00,  9.64821596e-01,\n",
       "         1.63217979e-01,  4.70308707e-02,  4.65664783e-01,  2.78046743e-01,\n",
       "         1.47148812e+00,  1.05889500e+02, -6.51320662e-03,  1.00000000e+00]),\n",
       " array([ 7.19519995e+04,  9.66178797e-01, -3.86755915e-01,  1.25062831e+00,\n",
       "         7.28018659e-01, -4.64563647e-01,  1.54139091e+00, -9.68104017e-01,\n",
       "         6.64995839e-01,  9.27866168e-01, -4.26296692e-01,  4.74243793e-01,\n",
       "         7.88789142e-01, -3.37737985e-01, -2.17175109e-01,  1.29276440e+00,\n",
       "        -1.18667875e+00,  1.16188432e+00, -2.25557504e+00, -1.71381927e+00,\n",
       "        -2.59060212e-01,  4.74468413e-02,  4.63229311e-01,  1.99649181e-01,\n",
       "        -5.94888320e-01, -1.13639034e-01,  4.24847914e-01,  8.61101014e-02,\n",
       "         1.52949756e-02,  1.14995000e+01, -3.40598511e-01,  1.00000000e+00]),\n",
       " array([ 8.89860000e+04, -1.53865369e-01,  1.03209605e+00, -4.66633808e-01,\n",
       "        -6.72697344e-01,  7.87838196e-01, -5.63112745e-01,  7.38282821e-01,\n",
       "         1.45134105e-01,  9.06059741e-02, -3.20897267e-01,  9.48487840e-01,\n",
       "        -1.11458414e-01, -1.51938847e+00, -5.95960362e-01, -7.29247863e-01,\n",
       "         4.80096292e-01,  2.88120073e-01,  3.07492837e-01, -7.61857569e-02,\n",
       "         4.95269838e-02, -3.24793437e-01, -8.15421163e-01,  1.25273990e-01,\n",
       "         5.59534660e-01, -4.80342730e-01,  1.02004326e-01,  3.23839760e-01,\n",
       "         1.29615012e-01,  3.57000000e+00, -3.68166066e-01,  1.00000000e+00]),\n",
       " array([ 1.43549000e+05,  2.08808174e+00, -1.75384822e-01, -1.48025901e+00,\n",
       "         2.86058803e-01,  2.21390527e-01, -6.90113970e-01,  1.53711745e-01,\n",
       "        -2.32908565e-01,  7.34997399e-01,  6.63179995e-02, -1.57485224e+00,\n",
       "        -1.42432496e-01, -5.52483895e-01,  3.40864306e-01, -4.60379727e-02,\n",
       "        -6.64362540e-02, -3.68088478e-01, -6.50744014e-01,  4.22752308e-01,\n",
       "        -2.36261980e-01, -2.95872986e-01, -7.19878141e-01,  1.96483176e-01,\n",
       "        -7.78615856e-01, -1.33820273e-01,  3.27787611e-01, -7.72205147e-02,\n",
       "        -7.13718308e-02,  1.22100000e+01, -3.37585527e-01,  1.00000000e+00]),\n",
       " array([ 1.54309000e+05, -8.24834650e-02, -3.93541892e+00, -2.61620899e+00,\n",
       "         1.63810075e-01, -1.40045183e+00, -8.08919405e-01,  1.50207984e+00,\n",
       "        -4.70499587e-01,  1.52024320e+00, -1.13395381e+00,  7.14377646e-01,\n",
       "         9.80174835e-01, -1.33853127e+00,  9.85493219e-01, -3.81970968e-01,\n",
       "        -9.34115796e-01, -5.19194348e-02,  5.11661784e-01,  7.32498749e-01,\n",
       "         1.87911160e+00,  7.03172040e-01, -1.81804776e-01, -9.20516986e-01,\n",
       "         1.12135488e-01, -7.11222120e-02, -1.12538110e+00, -1.70447427e-01,\n",
       "         1.26721383e-01,  1.09699050e+03,  3.50240019e+00,  1.00000000e+00]),\n",
       " array([ 5.98400000e+04, -3.21538176e+00, -3.64223121e-01, -1.26188334e+00,\n",
       "         3.79494904e+00,  7.11205930e-01, -1.31647560e+00, -5.16514056e+00,\n",
       "         6.25278384e-01, -1.58230058e+00, -3.25263359e+00,  5.04075120e+00,\n",
       "        -5.31444220e+00, -6.56470662e-01, -6.23304367e+00,  9.74771279e-01,\n",
       "        -6.89031775e+00, -9.51641148e+00, -4.36412771e+00,  2.59857756e+00,\n",
       "         1.96261689e-02,  4.01341241e-01,  1.52191259e-01, -9.34675474e-01,\n",
       "        -2.56148382e-01, -4.69403309e-01, -2.82495914e-01,  8.66076911e-01,\n",
       "        -4.33465944e-01,  5.91000000e+00, -3.59883837e-01,  1.00000000e+00]),\n",
       " array([ 1.65981000e+05, -5.76687873e+00, -8.40215368e+00,  5.65432463e-02,\n",
       "         6.95098294e+00,  9.88056403e+00, -5.77319177e+00, -5.74887920e+00,\n",
       "         7.21742894e-01, -1.07627358e+00,  2.68866993e+00, -1.47514532e+00,\n",
       "        -5.04679839e-02,  1.13500475e-01,  9.84343616e-01,  3.63968739e-01,\n",
       "        -6.74356809e-01,  3.27463514e-01,  9.14699151e-02,  1.30794074e+00,\n",
       "         2.49322389e+00,  8.80395097e-01, -1.30435548e-01,  2.24147141e+00,\n",
       "         6.65345537e-01, -1.89004142e+00, -1.20802764e-01,  7.32685586e-02,\n",
       "         5.83799418e-01,  0.00000000e+00, -3.80801775e-01,  1.00000000e+00]),\n",
       " array([ 6.06470000e+04,  1.46655038e+00, -1.04064007e+00,  4.53938722e-01,\n",
       "        -1.58951829e+00, -1.23295129e+00, -2.49233342e-02, -1.18343900e+00,\n",
       "         1.20669761e-01, -2.00861283e+00,  1.55873389e+00,  1.14962099e+00,\n",
       "        -3.81688234e-01,  3.23441431e-02, -2.40917196e-02,  2.80826924e-01,\n",
       "        -2.50962742e-01,  4.04253025e-01, -3.59033004e-02, -9.30769478e-02,\n",
       "        -3.85388232e-01, -4.08061004e-01, -8.33514471e-01,  2.04382854e-01,\n",
       "        -3.76716807e-01,  4.93983842e-02, -4.45374774e-01,  4.69356623e-02,\n",
       "         8.67809391e-03,  2.95000000e+00, -3.70360503e-01,  1.00000000e+00]),\n",
       " array([ 9.08740000e+04, -6.12891655e-02,  1.09602591e+00, -2.38577382e-01,\n",
       "        -4.25023164e-01,  9.49838988e-01, -5.46707744e-01,  7.72954431e-01,\n",
       "        -7.97825338e-02,  1.07277868e+00, -9.21488913e-01,  2.04144274e+00,\n",
       "        -2.01832088e+00,  1.31314331e+00,  6.30442939e-01, -1.65037735e+00,\n",
       "         4.63052230e-01,  8.99362509e-01,  5.33156567e-01, -1.83236906e-01,\n",
       "        -5.49717485e-02, -4.20946551e-01, -8.99262579e-01,  1.68122895e-01,\n",
       "         5.91872271e-01, -4.99147207e-01,  3.79420722e-02,  6.30396130e-02,\n",
       "         5.95842241e-02,  8.03000000e+00, -3.52380279e-01,  1.00000000e+00]),\n",
       " array([ 1.09789995e+04,  1.24920559e+00, -8.01957228e-02,  8.24420747e-01,\n",
       "         3.22142634e-01, -9.01447675e-01, -8.28049802e-01, -5.12795294e-01,\n",
       "        -1.36781008e-01,  1.90564844e+00, -4.88427568e-01,  4.04092250e-01,\n",
       "        -2.96889786e+00,  7.04128059e-01,  1.68905890e+00,  7.04029074e-01,\n",
       "         5.54609372e-01,  3.35882995e-01,  3.07794823e-01, -3.75200367e-01,\n",
       "        -1.49569221e-01, -8.33338331e-02, -3.19309666e-02, -9.28984496e-03,\n",
       "         3.28055665e-01,  1.77030514e-01,  1.03733914e+00, -9.72125315e-02,\n",
       "         2.50644308e-03,  1.59495000e+01, -3.24848118e-01,  1.00000000e+00]),\n",
       " array([ 1.18532000e+05, -5.96195725e+00,  5.31288186e+00, -6.67482046e+00,\n",
       "         6.02847499e+00, -1.38805993e+00,  6.70138452e-01, -4.12948749e+00,\n",
       "        -4.76639379e+00, -1.00575917e+00,  4.53005060e-01,  4.43123634e+00,\n",
       "        -5.14323660e+00, -1.18219207e+00, -8.75594913e+00,  1.00385569e+00,\n",
       "        -2.06552561e+00, -3.26193516e+00,  1.24723320e-01,  9.36466155e-01,\n",
       "        -1.11708092e+00,  5.55614239e+00, -1.50230766e+00,  1.35467244e+00,\n",
       "         1.40593214e-01,  7.74134112e-02,  4.73488340e-01,  2.86628790e-01,\n",
       "         1.46815342e+00,  1.05889500e+02, -6.51320662e-03,  1.00000000e+00]),\n",
       " array([ 8.00200005e+04,  1.09449892e+00, -4.32095220e-01,  5.47663571e-02,\n",
       "         4.61693256e-01, -5.32086843e-01, -5.38930495e-01,  9.85598207e-02,\n",
       "        -1.79153564e-01, -1.25798063e+00,  7.04260715e-01, -2.92677994e-01,\n",
       "         7.35289651e-02,  2.09062684e-01,  4.32040000e-01,  8.96249327e-01,\n",
       "        -1.78784008e+00,  1.88927933e-01,  2.41929115e-01, -1.24891856e+00,\n",
       "        -3.54061763e-01, -6.53601440e-01, -1.67317546e+00,  1.55564257e-01,\n",
       "        -1.81844632e-02,  1.77215091e-01, -7.21870620e-01,  2.44326362e-02,\n",
       "         4.58863269e-02,  1.20480500e+02,  4.61268463e-02,  1.00000000e+00]),\n",
       " array([ 7.68259995e+04, -6.61679293e+00,  3.56292790e+00, -7.05940130e+00,\n",
       "         4.28384596e+00, -5.09679887e+00, -1.76911780e+00, -4.93805413e+00,\n",
       "         2.74795955e+00, -3.79725959e+00, -6.82599010e+00,  3.25909475e+00,\n",
       "        -6.94439062e+00,  4.35475163e-01, -6.94751031e+00,  1.01050407e+00,\n",
       "        -6.16733742e+00, -1.05648466e+01, -4.01068815e+00,  2.14300180e+00,\n",
       "        -5.42134156e-01,  1.21547611e+00,  4.06777442e-02, -1.05959770e+00,\n",
       "         2.75162062e-01,  5.69249280e-02, -2.66338484e-01, -5.15136936e-01,\n",
       "         3.88090269e-01,  2.54759500e+02,  5.20399383e-01,  1.00000000e+00]),\n",
       " array([ 1.24393000e+05, -1.24348127e+00,  5.82709092e-01,  6.14770052e-01,\n",
       "        -3.17586664e+00, -2.65622233e-01, -1.44761312e+00,  3.46295432e-01,\n",
       "         2.20407575e-01,  1.33835300e+00, -1.90506493e+00, -8.74431809e-01,\n",
       "         1.18277688e+00,  8.60190279e-01, -9.56079262e-02, -6.85971471e-02,\n",
       "         8.21317661e-02, -7.28314525e-01, -3.18421485e-01, -5.30817518e-01,\n",
       "        -2.28917956e-01, -1.02473273e-01, -2.50135566e-01,  1.94018813e-01,\n",
       "         3.53275009e-02, -4.36539134e-01, -8.25972904e-01,  1.90753065e-03,\n",
       "         2.23919649e-01,  6.31000000e+00, -3.58468071e-01,  1.00000000e+00]),\n",
       " array([ 1.35102000e+05,  1.86160179e+00, -1.24551888e-01, -1.99025175e+00,\n",
       "         3.82108915e-01,  4.72531677e-01, -6.75016988e-01,  2.98121349e-01,\n",
       "        -2.82915726e-01,  8.01552525e-01, -9.89931190e-01, -4.91612318e-01,\n",
       "         9.03319350e-01,  1.36602432e+00, -1.88666231e+00, -1.95361302e-01,\n",
       "         8.63367239e-02,  9.78046240e-01,  5.51039737e-02,  1.88630836e-01,\n",
       "         1.50226988e-01, -2.04658276e-01, -5.11941056e-01,  7.73741500e-02,\n",
       "         3.87835120e-01,  7.39572847e-03, -1.21479613e-01, -2.00787926e-02,\n",
       "         5.65470523e-03,  1.08509500e+02,  2.76005855e-03,  1.00000000e+00]),\n",
       " array([ 9.39649995e+04, -1.13982267e+01,  7.76345305e+00, -1.85728075e+01,\n",
       "         6.71135525e+00, -1.01747156e+01, -4.39641833e+00, -1.58942882e+01,\n",
       "         2.08251258e+00, -4.98933718e+00, -1.53465988e+01,  7.09268207e+00,\n",
       "        -1.49802548e+01, -1.48788045e-01, -9.93617958e+00, -1.16249939e+00,\n",
       "        -1.16473338e+01, -1.83843525e+01, -7.40323080e+00,  1.94119681e+00,\n",
       "         2.08379130e-01,  3.38507373e-01,  1.34242261e+00,  2.38717367e-01,\n",
       "         5.34144166e-01, -1.75464906e-01, -5.00740427e-01, -1.72256027e+00,\n",
       "        -5.74839363e-01,  1.13995000e+01, -3.40952453e-01,  1.00000000e+00]),\n",
       " array([ 8.40250000e+04,  1.04439264e+00,  1.84697792e-01,  9.42745137e-01,\n",
       "         1.21170354e+00, -5.81188236e-01, -5.56001311e-01, -7.89339642e-03,\n",
       "        -7.97001869e-02, -2.86902551e-02, -1.36240257e-01,  5.58795616e-01,\n",
       "         1.14591406e+00,  1.13005399e+00,  7.04689717e-02,  1.26142272e+00,\n",
       "        -1.22086386e-01, -1.40958642e-01, -9.47617871e-01, -9.49293253e-01,\n",
       "        -1.57773285e-02, -8.87506657e-02, -2.74925797e-01,  1.54284965e-01,\n",
       "         5.90328692e-01,  1.76991827e-01, -6.34798740e-01,  5.32966866e-02,\n",
       "         4.68933547e-02,  4.99900000e+01, -2.03866459e-01,  1.00000000e+00]),\n",
       " array([ 3.26279995e+04, -3.06144720e+00,  3.68987876e+00,  6.46952009e-01,\n",
       "         1.94143669e+00,  3.66743483e-01,  2.66217181e+00, -2.12952743e+00,\n",
       "        -8.81543936e+00, -5.35410658e-01,  2.49795655e+00,  4.29049039e-01,\n",
       "         8.34933449e-01,  8.06043482e-01,  3.53495893e-02,  4.56558226e-01,\n",
       "         3.84540689e-01, -2.60223443e-01,  7.55328820e-01,  1.37428848e+00,\n",
       "        -1.11454935e+00,  8.06993104e+00, -3.35108604e+00,  1.05189723e+00,\n",
       "        -1.01294828e+00, -4.52312405e-02,  2.62304008e-02,  5.23502094e-01,\n",
       "        -1.10402777e-01,  2.68950000e+00, -3.71780750e-01,  1.00000000e+00]),\n",
       " array([ 5.30150005e+04, -5.89664042e-01,  1.09064599e+00,  6.62962837e-01,\n",
       "         1.69052855e-01, -3.87754040e-02, -1.01116750e+00,  6.88604133e-01,\n",
       "         1.90882174e-01, -6.28177922e-01, -7.84665015e-01, -6.33759191e-01,\n",
       "         8.65800766e-01,  1.30911325e+00,  2.82052779e-01,  1.98860250e-03,\n",
       "         4.08066538e-01, -7.24578754e-01, -1.67124526e-01, -1.06419659e+00,\n",
       "        -1.53406904e-01,  2.21970682e-01,  4.76761582e-01,  2.06631370e-01,\n",
       "         3.96176576e-01, -8.73947963e-01, -7.99895475e-01,  1.10371822e-01,\n",
       "         1.71505755e-01,  4.49905000e+01, -2.21063530e-01,  1.00000000e+00]),\n",
       " array([ 4.77740000e+04, -4.01794598e-01,  7.79535872e-01, -1.24690161e+00,\n",
       "        -7.53167983e-01,  2.07073681e+00,  3.28531899e+00,  6.86491886e-02,\n",
       "         1.10910549e+00, -8.27069316e-01, -2.83167925e-01, -3.19125920e-01,\n",
       "        -1.50045734e-01,  3.31693633e-02,  7.54638049e-01,  1.08095393e+00,\n",
       "         1.55400626e-01, -3.98706460e-01,  2.08017812e-01,  1.02442808e+00,\n",
       "        -8.72517670e-03,  3.32430718e-02, -1.57661166e-01,  7.27488865e-02,\n",
       "         1.04280220e+00, -1.09519363e-01,  5.15072964e-01, -2.16395946e-01,\n",
       "        -6.86989874e-02,  6.34000000e+01, -1.56402915e-01,  1.00000000e+00]),\n",
       " array([ 5.28140005e+04, -1.10134701e+00, -1.63194121e+00,  9.01566557e-01,\n",
       "         8.48252886e-01, -1.24859073e+00,  6.55436785e-01,  1.44936783e+00,\n",
       "         2.38079126e-02, -1.36242417e-01, -1.49629183e-01,  1.17285508e+00,\n",
       "        -7.95488137e-01, -2.13645097e+00,  5.79369439e-01,  1.41261472e+00,\n",
       "         1.39668068e-02, -1.18704381e-01,  8.27314374e-01,  4.77359902e-01,\n",
       "         1.23077784e+00,  6.11153921e-01,  8.36295007e-01,  1.18045542e+00,\n",
       "        -2.85908864e-02, -3.00395694e-01,  6.99674953e-01, -3.35571709e-01,\n",
       "        -1.77086828e-01,  5.19900500e+02,  1.45983966e+00,  1.00000000e+00]),\n",
       " array([ 6.87439995e+04,  1.34837479e+00, -8.85093354e-01, -1.56261096e+00,\n",
       "        -1.57965033e+00,  1.56898830e+00,  3.21669590e+00, -7.24206407e-01,\n",
       "         6.85061214e-01, -9.45191416e-01,  6.54818247e-01, -5.04012454e-01,\n",
       "        -1.80321011e-01,  1.62446542e-01,  1.64119217e-01,  1.45760485e-01,\n",
       "        -1.46616570e+00, -1.87097879e-01,  1.04524045e+00, -1.10171859e-01,\n",
       "        -2.55532742e-01, -4.67296664e-01, -1.01854543e+00, -9.28584887e-02,\n",
       "         1.05429453e+00,  5.72853665e-01,  1.10031434e+00, -7.76078683e-02,\n",
       "         9.32774019e-04,  6.49895000e+01, -1.51275247e-01,  1.00000000e+00]),\n",
       " array([ 1.70026000e+05, -3.46163066e-01, -4.97164489e-02, -1.10221875e+00,\n",
       "        -1.35181221e+00,  6.40670564e-01, -3.26809367e-01,  1.96036663e+00,\n",
       "        -3.79455921e-01, -2.35972992e+00,  3.61624785e-01,  5.03047570e-02,\n",
       "        -5.17848398e-01, -6.61200257e-01,  9.45848880e-01, -1.06482028e+00,\n",
       "        -2.11748664e+00, -8.69942985e-02,  1.63576846e+00,  1.43188495e-01,\n",
       "        -3.00165485e-02,  1.17410261e-01,  4.60134803e-01, -3.67364604e-03,\n",
       "         3.89158197e-01,  4.30581229e-01,  1.02623880e+00, -4.61817388e-02,\n",
       "         1.24432182e-01,  2.09999500e+02,  3.61975204e-01,  1.00000000e+00]),\n",
       " array([ 4.18700000e+04, -2.09069081e+01,  9.84315322e+00, -1.99477260e+01,\n",
       "         6.15578865e+00, -1.51420132e+01, -2.23956565e+00, -2.12344632e+01,\n",
       "         1.15179507e+00, -8.73967037e+00, -1.82711682e+01,  4.67734930e+00,\n",
       "        -9.58356644e+00,  1.03516582e+00, -8.19969003e+00, -3.26518882e-01,\n",
       "        -8.37643882e+00, -1.84854603e+01, -7.58997396e+00,  1.12664037e+00,\n",
       "         3.96654845e-01, -1.97719619e+00,  6.52931885e-01, -5.19776859e-01,\n",
       "         5.41701730e-01, -5.38607607e-02,  1.12670774e-01, -3.76537101e+00,\n",
       "        -1.07123831e+00,  1.00000000e+00, -3.77262360e-01,  1.00000000e+00]),\n",
       " array([ 4.11470000e+04, -5.31417321e+00,  4.14594361e+00, -8.53252246e+00,\n",
       "         8.34439167e+00, -5.71800821e+00, -3.04353608e+00, -1.09891847e+01,\n",
       "         3.40412866e+00, -6.16723364e+00, -1.14356240e+01,  7.67453383e+00,\n",
       "        -1.42960914e+01,  5.26938924e-01, -1.54450258e+01,  9.91651201e-01,\n",
       "        -1.23913460e+01, -2.25416517e+01, -7.98672065e+00,  2.99255446e+00,\n",
       "         1.15001732e+00,  2.33146581e+00,  8.62996306e-01, -6.14453238e-01,\n",
       "         5.23647877e-01, -7.12593272e-01,  3.24637965e-01,  2.24509147e+00,\n",
       "         4.97320849e-01,  8.82300000e+01, -6.85192611e-02,  1.00000000e+00]),\n",
       " array([ 4.43930005e+04, -4.61696103e+00,  3.66389525e+00, -5.29694641e+00,\n",
       "         3.88145965e+00, -3.26305091e+00, -9.18046734e-01, -5.71476208e+00,\n",
       "         8.31539550e-01, -2.45653378e+00, -5.72631710e+00,  3.52622599e+00,\n",
       "        -6.48861156e+00, -1.01229063e+00, -7.05181095e+00,  7.84945403e-01,\n",
       "        -6.77347675e+00, -8.58757007e+00, -4.51039175e+00,  1.14837784e+00,\n",
       "        -3.45955833e-01,  2.69867490e+00, -2.65808907e-02,  3.67275230e-01,\n",
       "        -1.22511442e-01, -2.99956527e-01, -2.39496240e-01, -1.82963054e-01,\n",
       "        -7.28597032e-02,  1.00050000e+00, -3.76762360e-01,  1.00000000e+00]),\n",
       " array([ 5.04459995e+04, -6.76858150e-01, -1.28826367e-01,  1.34561805e+00,\n",
       "        -1.85755983e+00,  8.22203014e-02,  7.96715797e-02,  2.12014421e-01,\n",
       "         2.33313570e-01, -1.69188418e+00,  4.23533802e-02,  1.58118786e+00,\n",
       "        -2.64071941e-01, -4.59078029e-01,  1.36738129e-01, -1.10858326e-01,\n",
       "         7.46893425e-01,  3.95577504e-01, -1.62558664e+00, -4.01308689e-01,\n",
       "         1.16603094e-01,  4.45928126e-01,  1.04103494e+00, -9.98127703e-02,\n",
       "        -2.67968859e-01,  1.95880296e-02, -2.30968198e-01,  7.65955084e-02,\n",
       "         9.18867614e-02,  5.44895000e+01, -1.88439096e-01,  1.00000000e+00]),\n",
       " array([ 1.02676000e+05, -5.55162217e+00,  5.67863391e+00, -9.77502798e+00,\n",
       "         8.41679539e+00, -4.40934382e+00, -1.50573535e+00, -6.89933880e+00,\n",
       "         3.75094290e+00, -3.87929256e+00, -6.86366436e+00,  7.05156509e+00,\n",
       "        -1.01370292e+01,  2.81593981e+00, -9.90866805e+00, -2.61729551e-01,\n",
       "        -5.02205718e+00, -8.52247487e+00, -2.01243906e+00,  1.52623244e+00,\n",
       "        -6.42801372e-02,  1.12897223e+00,  2.28984047e-01,  2.86757667e-01,\n",
       "        -5.35794098e-01, -1.04424889e-01,  4.21419229e-01, -2.97056885e-01,\n",
       "        -9.45684387e-01,  1.19740500e+02,  4.35076798e-02,  1.00000000e+00]),\n",
       " array([ 5.34510005e+04,  3.85608461e-01,  1.21812032e+00, -1.95337217e+00,\n",
       "         2.08757599e+00, -1.14372541e+00, -5.76387995e-01, -2.58236504e+00,\n",
       "         6.43729999e-01, -1.19073269e+00, -3.09459361e+00,  2.82164489e+00,\n",
       "        -3.10004566e+00,  1.46699374e-01, -4.50962392e+00,  5.74990023e-01,\n",
       "        -2.12296278e+00, -6.05281939e+00, -7.05876153e-01,  5.73291028e-01,\n",
       "         3.81045212e-01,  5.95123132e-01,  3.72643666e-01, -3.09955791e-01,\n",
       "        -6.23565149e-01,  8.40716130e-01, -1.58951767e-01,  5.99982365e-01,\n",
       "         2.89415550e-01,  8.00050000e+00, -3.51986461e-01,  1.00000000e+00]),\n",
       " array([ 1.09581000e+05,  2.09035477e+00,  2.28649149e-01, -1.63705541e+00,\n",
       "         5.89292124e-01,  5.16337764e-01, -7.58538878e-01,  4.99050393e-02,\n",
       "        -2.74720436e-01,  1.87551295e+00, -7.31477907e-01,  1.43360709e-01,\n",
       "        -2.71308066e+00,  1.16508535e+00,  6.93366990e-01, -4.58795929e-01,\n",
       "         3.59194019e-01,  1.18131057e+00,  8.59802913e-02, -8.73304573e-02,\n",
       "        -2.32217497e-01, -5.32441390e-01, -1.20559548e+00,  3.39819741e-01,\n",
       "         3.02341675e-01, -2.79208343e-01,  1.44739183e-01, -9.31716298e-02,\n",
       "        -3.98182546e-02,  8.90000000e-01, -3.77651696e-01,  1.00000000e+00]),\n",
       " array([ 1.00898000e+05,  1.89670220e+00, -4.87511521e-01,  1.21881137e-01,\n",
       "         3.68809070e-01, -6.75319940e-01,  2.05370975e-01, -9.84753149e-01,\n",
       "         6.73399395e-02,  2.25848643e+00, -2.74279130e-01,  1.66129585e+00,\n",
       "        -9.66975890e-01,  2.97619097e+00,  1.06491817e+00, -7.17968530e-01,\n",
       "         8.36239439e-01, -3.04979043e-01,  6.97811347e-01, -1.63788305e-01,\n",
       "        -6.84131972e-02, -5.35639421e-02,  2.12322788e-01,  2.37325288e-01,\n",
       "        -4.66232683e-01, -5.85070204e-01,  4.46677638e-01, -3.75674683e-02,\n",
       "        -5.07576763e-02,  3.90005000e+01, -2.42264621e-01,  1.00000000e+00]),\n",
       " array([ 1.38022000e+05, -9.10538373e-01, -9.71254387e-01,  1.03382941e+00,\n",
       "        -1.51411120e+00, -1.06854230e+00,  1.48625540e-01, -6.60711652e-01,\n",
       "         6.94581715e-01, -5.63150803e-01, -3.96852802e-01, -5.89631025e-02,\n",
       "         2.56863130e-01,  1.11289371e-01, -5.61551979e-01, -2.04107536e+00,\n",
       "         1.30856480e+00,  2.10419021e-01, -7.92665877e-01,  1.07326054e+00,\n",
       "         3.62531911e-01,  1.83421664e-01,  8.20332343e-02,  2.45168678e-01,\n",
       "        -3.47895443e-01, -4.66262835e-02, -3.66927879e-01, -1.30324611e-01,\n",
       "        -1.61838625e-01,  1.42300000e+02,  1.22856864e-01,  1.00000000e+00]),\n",
       " array([ 6.03530000e+04, -3.97521648e+00,  5.81573271e-01, -1.88037211e+00,\n",
       "         4.31924128e+00, -3.02432976e+00,  1.24079277e+00, -1.90955893e+00,\n",
       "         6.60717557e-01, -2.75261057e+00, -3.55038540e+00,  4.83896419e+00,\n",
       "        -6.04023538e+00, -3.74460484e-01, -6.22194536e+00,  9.58758444e-01,\n",
       "        -5.07364263e+00, -1.04410087e+01, -3.75552460e+00,  6.06452965e-01,\n",
       "        -6.56511434e-01,  5.78984296e-01,  1.39731082e+00,  1.04532195e+00,\n",
       "        -3.03999869e-01,  5.29495925e-03,  2.35435244e-01,  9.62014797e-01,\n",
       "        -6.73557393e-01,  4.54820000e+02,  1.22899458e+00,  1.00000000e+00]),\n",
       " array([ 2.68630005e+04, -2.12086196e+01,  1.26526968e+01, -2.35534329e+01,\n",
       "         6.17457791e+00, -1.60261581e+01, -4.42169459e+00, -1.62289437e+01,\n",
       "         1.41165019e+01, -3.92224145e+00, -8.71974452e+00,  5.49438684e+00,\n",
       "        -7.74031586e+00,  3.85314230e-01, -8.07774067e+00, -1.43996037e-02,\n",
       "        -6.70078887e+00, -1.31587669e+01, -4.90253150e+00,  1.14677525e+00,\n",
       "         1.60293884e+00,  1.75894008e+00, -1.52208816e+00, -9.03360198e-01,\n",
       "         1.30666452e-01,  1.45535652e+00, -2.22714403e-01,  1.55142845e+00,\n",
       "         4.61959567e-01,  9.99905000e+01, -2.63957503e-02,  1.00000000e+00]),\n",
       " array([ 5.18730000e+04, -5.77626031e-01,  1.36050621e+00,  1.25721898e+00,\n",
       "         2.64249512e+00,  1.15486849e+00,  1.45274487e+00,  6.16942521e-01,\n",
       "         9.39374466e-02, -1.29338476e+00,  1.33388213e+00,  9.96225669e-01,\n",
       "         4.78657048e-01,  9.09402455e-01,  1.09845677e-02,  1.99521815e+00,\n",
       "        -1.77926884e+00,  1.20815015e+00, -2.31953094e+00, -8.93039770e-01,\n",
       "         1.34068344e-01,  1.56182044e-01,  8.41269346e-01,  1.78849841e-02,\n",
       "        -6.09163727e-01, -6.52356634e-01,  2.24666893e-01, -1.53093080e-01,\n",
       "        -7.72518304e-02,  5.45000000e+00, -3.61511967e-01,  1.00000000e+00]),\n",
       " array([ 9.38560000e+04, -6.75050852e+00,  5.36741605e+00, -1.00546350e+01,\n",
       "         9.06447792e+00, -7.96811808e+00, -2.26379841e+00, -1.03175662e+01,\n",
       "         4.23766573e+00, -5.32410881e+00, -1.10923924e+01,  7.15408284e+00,\n",
       "        -1.71504053e+01, -9.53992278e-02, -1.10301104e+01, -1.95905455e+00,\n",
       "        -1.24485623e+01, -2.26679054e+01, -9.26460873e+00,  1.98235632e+00,\n",
       "        -8.12198922e-02,  1.90903202e+00, -3.48739731e-01,  4.25000563e-01,\n",
       "         6.74908670e-01, -7.84208393e-01, -2.47422103e-01,  1.15958137e+00,\n",
       "         1.97817875e-01,  2.09650000e+02,  3.61236409e-01,  1.00000000e+00]),\n",
       " array([ 6.44120005e+04, -1.34754164e+00,  2.52332068e+00, -7.81932259e-01,\n",
       "         4.08354665e+00, -6.61780330e-01, -5.98275713e-01, -1.94305185e+00,\n",
       "        -3.29078951e-01, -1.85277423e+00, -3.16163595e+00,  1.53369384e+00,\n",
       "        -4.63462695e+00, -1.11307273e+00, -6.43537074e+00, -2.92691948e-01,\n",
       "        -2.84943080e+00, -3.65375829e+00, -1.18253414e+00,  8.32123853e-01,\n",
       "         3.49396285e-01,  1.08037141e+00, -3.51526410e-01, -2.17857653e-01,\n",
       "         1.26365684e-01, -7.36801756e-02,  1.79615527e-01,  6.13079819e-01,\n",
       "         2.34706090e-01,  1.00050000e+00, -3.76762360e-01,  1.00000000e+00]),\n",
       " array([ 1.01051000e+05, -1.46481576e+00, -1.09287688e+00, -5.92678482e-02,\n",
       "         1.06528464e+00,  1.10955886e+01, -5.43047128e+00, -9.37752517e+00,\n",
       "        -4.45956140e-01,  1.99260961e+00,  1.78642177e+00,  1.36908453e+00,\n",
       "        -1.47119659e+00, -7.24258846e-01,  3.44292200e+00, -9.56903225e-01,\n",
       "        -1.62562942e+00,  1.41871496e+00, -1.41741683e+00, -1.65126618e+00,\n",
       "        -1.45711021e+00,  1.16112329e+00, -1.25919681e+00, -1.59811492e+01,\n",
       "        -8.83169935e-01, -3.53621623e+00, -5.92464888e-01,  6.76024833e-01,\n",
       "         4.25349352e-01,  9.20500000e-01, -3.77045513e-01,  1.00000000e+00]),\n",
       " array([ 1.30666000e+05, -1.14713556e-01,  5.52759584e-01,  3.44161351e-01,\n",
       "        -3.28394981e-01, -2.98351101e-02, -8.44616696e-01,  2.12099633e-01,\n",
       "        -3.38342355e-02,  9.38035545e-01, -9.38017818e-01, -9.42220157e-01,\n",
       "        -8.20138421e-01, -1.33727479e+00, -1.17780513e+00,  7.71864290e-01,\n",
       "         5.25961515e-01,  5.01191036e-01,  6.64401312e-01,  1.91363282e-01,\n",
       "        -2.21498433e-01, -1.48881577e-01, -4.38963675e-01,  2.23738212e-01,\n",
       "        -2.77841666e-01, -1.18147766e+00, -3.51606978e-01, -1.12148795e-01,\n",
       "         1.80279441e-01,  1.77195000e+01, -3.18583355e-01,  1.00000000e+00]),\n",
       " array([ 1.50455000e+05,  1.77228984e+00, -6.30344579e-01, -2.90853335e-01,\n",
       "         4.83624234e-01, -7.81295508e-01,  3.03227000e-01, -1.15762605e+00,\n",
       "         3.55995517e-01,  1.25991296e+00, -4.08895987e-01,  1.17001560e+00,\n",
       "         6.70224316e-01, -3.24097880e-02, -1.53233278e+00,  4.63136861e-01,\n",
       "         1.39475027e+00,  6.51428669e-02,  1.39224135e+00, -5.04920457e-01,\n",
       "         2.09295174e-02,  2.33399927e-01,  6.48678077e-01,  2.01710079e-01,\n",
       "         6.36189421e-01, -6.03503696e-01,  4.56432295e-01,  9.53897391e-03,\n",
       "         3.86051705e-03,  7.48005000e+01, -1.15553594e-01,  1.00000000e+00]),\n",
       " array([ 4.19910005e+04, -4.56584157e+00,  3.35395148e+00, -4.57152781e+00,\n",
       "         3.61661930e+00, -2.49263811e+00, -1.08949971e+00, -5.55093307e+00,\n",
       "         4.48283084e-01, -2.42391403e+00, -5.69942228e+00,  3.58732418e+00,\n",
       "        -6.63572905e+00, -1.12767644e+00, -7.24504960e+00,  6.38825536e-01,\n",
       "        -6.85631004e+00, -8.85137851e+00, -4.59138323e+00,  9.37439859e-01,\n",
       "        -2.48627727e-01,  2.67496588e+00, -2.03799797e-02, -3.01947084e-01,\n",
       "        -8.58964000e-02, -5.15559780e-01, -2.94602234e-01,  1.96485146e-01,\n",
       "         1.41615103e-01,  1.00050000e+00, -3.76762360e-01,  1.00000000e+00]),\n",
       " array([ 5.20569995e+04, -1.60227200e+00,  7.02087470e-01,  1.14201427e+00,\n",
       "        -1.93188577e+00, -1.22297295e+00,  1.62551574e+00, -5.41955995e-02,\n",
       "         6.38943891e-01,  1.70528357e+00, -1.47788154e+00,  5.41909667e-01,\n",
       "         1.74806415e+00,  7.15787006e-01, -5.58995203e-01,  1.07721273e+00,\n",
       "        -2.26353915e+00,  1.67741773e+00, -2.34869500e+00, -3.98205725e-01,\n",
       "        -5.04358577e-01,  1.35069247e-01,  6.11882835e-01,  6.41310731e-02,\n",
       "        -5.43778877e-01, -4.11711796e-01, -1.01778933e-01, -8.22708721e-01,\n",
       "        -9.58611978e-02,  1.31329500e+02,  8.35294902e-02,  1.00000000e+00]),\n",
       " array([ 3.34830000e+04, -7.90976186e-01,  2.59998104e-01,  1.38372967e+00,\n",
       "        -5.65953918e-01,  8.24197728e-01, -3.56579213e-01,  2.82127144e-01,\n",
       "         2.75545841e-01, -4.53068701e-01, -4.97257883e-01,  9.02120626e-01,\n",
       "         1.04733175e-01, -1.14931238e+00,  5.94420698e-01,  5.16123122e-02,\n",
       "         5.10070516e-01, -7.11303967e-01, -1.16348651e-01, -6.34885822e-01,\n",
       "        -1.06269242e-01, -5.46333284e-02, -4.27807341e-01,  1.08335809e-01,\n",
       "        -3.63490577e-01, -6.31222713e-01, -9.29823184e-02,  7.65598668e-02,\n",
       "         1.39127619e-01,  5.49000000e+00, -3.61370391e-01,  1.00000000e+00]),\n",
       " array([ 1.50738000e+05, -4.14169768e-01,  2.63488990e-01,  4.84174712e-01,\n",
       "        -7.85431857e-01,  4.49979342e-01,  2.15492757e+00, -7.27337525e-01,\n",
       "         1.34118019e+00,  4.93263026e-01, -1.04496629e+00,  1.18425337e+00,\n",
       "         8.79833347e-01, -9.64784475e-01,  4.71307975e-01,  5.22677126e-01,\n",
       "        -7.72593679e-01,  5.41831138e-01, -9.52651899e-01, -1.72111636e+00,\n",
       "        -4.47386112e-01,  4.62618450e-01,  1.40965058e+00,  1.05301241e-01,\n",
       "        -5.92940633e-01, -6.49072203e-01, -2.07539932e-01,  1.47781371e-02,\n",
       "        -7.04341764e-02,  9.99050000e+00, -3.44943027e-01,  1.00000000e+00]),\n",
       " array([ 6.57280005e+04,  1.22811441e+00, -6.68473794e-01, -2.71284826e-01,\n",
       "        -5.88939742e-01, -6.04295004e-01, -3.49784967e-01, -4.85864541e-01,\n",
       "        -1.03086286e-02, -7.94444156e-01,  2.65044749e-01,  8.81768050e-01,\n",
       "        -3.24203761e-01, -2.62763800e-01, -1.11223544e+00, -5.40349503e-01,\n",
       "         1.53391125e+00,  8.31942611e-01, -4.72846677e-01,  1.19062126e+00,\n",
       "         2.74299210e-01, -2.55547223e-02, -2.94754768e-01, -1.79958520e-01,\n",
       "        -4.36038663e-01,  4.95149059e-01, -2.83238267e-01, -6.28278643e-04,\n",
       "         3.55745013e-02,  9.80105000e+01, -3.34037904e-02,  1.00000000e+00]),\n",
       " array([ 7.86299995e+04, -1.65139667e+00,  8.62556433e-01,  1.36085888e+00,\n",
       "        -1.64560091e+00, -1.22844986e+00, -1.35692612e+00, -4.77491011e-01,\n",
       "         7.27782055e-01, -1.63078518e+00, -3.15219501e-01, -3.49028278e-01,\n",
       "        -3.03472216e-01,  3.28569533e-01,  2.31207425e-01,  1.05106088e-01,\n",
       "         1.50025262e+00,  4.48603328e-01, -1.57178086e+00, -3.53819178e-02,\n",
       "        -3.70647652e-02,  2.09832349e-02, -3.39437604e-01, -1.03399864e-01,\n",
       "         6.84663963e-01,  2.85112439e-01, -5.76470484e-01, -6.83672402e-02,\n",
       "        -6.26064175e-02,  1.20995000e+01, -3.38474863e-01,  1.00000000e+00]),\n",
       " array([ 1.43456000e+05, -2.00658175e+00,  3.67657741e+00, -5.46381078e+00,\n",
       "         7.23205828e+00, -1.62785946e+00, -9.96754564e-01, -4.29983259e+00,\n",
       "         2.26886676e+00, -3.65106703e+00, -4.40092985e+00,  4.21321289e+00,\n",
       "        -5.73781517e+00, -8.75693367e-01, -8.89372634e+00, -5.62433777e-01,\n",
       "        -3.28178373e+00, -4.36898591e+00, -7.36733765e-01,  1.60929290e+00,\n",
       "         4.74414053e-01,  7.13906864e-01, -6.38675905e-02,  1.67947319e-01,\n",
       "        -4.49863969e-01,  2.37020976e-02,  5.36905295e-01,  4.85864027e-01,\n",
       "        -4.23934809e-02,  1.00000000e+00, -3.77262360e-01,  1.00000000e+00]),\n",
       " array([ 7.73629995e+04,  1.01506847e+00, -1.24704323e-02, -4.26093306e-01,\n",
       "         9.57415959e-01,  3.84391140e-01, -1.41651255e-01,  5.53575201e-01,\n",
       "        -1.26894605e-01, -1.60323093e-01, -9.81061627e-02, -8.53260116e-01,\n",
       "        -1.31743104e-02, -1.20847820e-01,  5.99272054e-01,  1.09109398e+00,\n",
       "        -8.18593687e-02, -3.43660067e-01, -7.96995857e-01, -1.77592687e-01,\n",
       "         9.86349801e-02, -3.03239116e-01, -1.16431975e+00, -7.88524108e-02,\n",
       "        -8.12484187e-01,  4.50968860e-01, -6.24918987e-01, -1.18006013e-02,\n",
       "         3.17332015e-02,  1.36599500e+02,  1.02182203e-01,  1.00000000e+00]),\n",
       " array([ 1.50946000e+05,  1.86902771e+00, -7.38444900e-01, -8.68303296e-01,\n",
       "         6.39772789e-02, -3.28492493e-01,  2.88481747e-01, -6.90158387e-01,\n",
       "         2.44198172e-01,  1.39881135e+00, -2.21050500e-02,  1.95442167e-02,\n",
       "        -9.38915213e-03, -1.46389365e+00,  5.06320471e-01,  6.49784840e-01,\n",
       "         6.55694031e-01, -1.07742638e+00,  1.32957107e+00,  1.99250037e-01,\n",
       "        -1.32608774e-01,  2.55239728e-01,  6.20263296e-01,  2.64120873e-02,\n",
       "         4.98303270e-02, -7.22338135e-02, -5.77648317e-01,  2.58666376e-02,\n",
       "        -3.28042682e-02,  7.66005000e+01, -1.09182648e-01,  1.00000000e+00]),\n",
       " array([ 9.46249995e+04,  1.70735694e+00,  2.43807915e-02, -4.88640039e-01,\n",
       "         3.78704816e+00,  1.13895148e+00,  2.91417262e+00, -7.43857878e-01,\n",
       "         6.98635879e-01,  1.00797065e+00,  9.12306096e-01,  7.64854142e-01,\n",
       "        -2.04436839e+00,  1.00104734e+00,  1.32238725e+00, -2.72057696e+00,\n",
       "        -1.53929555e-01,  7.52110596e-01, -7.56285824e-01, -1.91306263e+00,\n",
       "        -3.68514255e-01,  1.03651916e-02,  5.47757832e-01,  9.07182952e-02,\n",
       "        -1.00845946e+00, -8.26828178e-02,  1.79209189e-01,  7.23771903e-03,\n",
       "        -6.93413102e-02,  3.37595000e+01, -2.61811152e-01,  1.00000000e+00]),\n",
       " array([ 1.55554000e+05, -1.04056722e+00,  3.10620266e+00, -5.40952720e+00,\n",
       "         3.10940342e+00, -8.87737040e-01, -2.49802184e+00, -2.07384746e+00,\n",
       "         6.39318099e-01, -3.01383057e+00, -5.95533830e+00,  3.58589451e+00,\n",
       "        -5.51764763e+00,  6.83152475e-01, -8.56092288e+00,  1.85559492e+00,\n",
       "        -4.87874809e+00, -4.33649801e+00, -1.37769109e+00,  3.05688174e+00,\n",
       "         1.05389010e+00,  7.73460868e-01,  2.14368420e-01, -1.84733022e-01,\n",
       "        -2.84591371e-01,  4.92966609e-01,  7.31828821e-01,  6.74566703e-01,\n",
       "         3.36576231e-01,  9.48195000e+01, -4.56945216e-02,  1.00000000e+00]),\n",
       " array([ 5.86420000e+04, -4.51382570e-01,  2.22514650e+00, -4.95305045e+00,\n",
       "         4.34222825e+00, -3.65619019e+00, -2.01214656e-02, -5.40755362e+00,\n",
       "        -7.48436141e-01, -1.36219775e+00, -4.17062289e+00,  3.76230638e+00,\n",
       "        -4.22622469e+00, -2.04669403e+00, -4.71049794e+00,  2.17572360e-01,\n",
       "        -4.73908378e+00, -6.13188675e+00, -2.42587064e+00,  2.31416487e+00,\n",
       "         7.24381268e-01, -5.75924092e-01,  4.95889441e-01,  1.15412794e+00,\n",
       "        -1.61857865e-02, -2.07992826e+00, -5.54376906e-01,  4.55179271e-01,\n",
       "         1.32065646e-03,  1.13920000e+02,  2.24082893e-02,  1.00000000e+00]),\n",
       " array([ 1.56290000e+05, -2.26419231e-01, -3.64818772e+00, -2.96293755e+00,\n",
       "         1.22507577e+00, -9.02775292e-01, -3.90546172e-01,  1.56127775e+00,\n",
       "        -4.34667316e-01,  6.20996609e-01, -1.20932939e+00,  9.80723064e-01,\n",
       "         1.05680575e+00,  2.46033675e-01, -1.05003518e+00, -6.88028294e-01,\n",
       "         4.08116795e-01,  7.36811542e-01,  8.19434738e-01,  1.63907753e-01,\n",
       "         2.19601772e+00,  4.85324114e-01, -9.78086640e-01, -8.83942994e-01,\n",
       "        -3.86317677e-01, -4.67736611e-01, -2.11982851e-01, -2.27258449e-01,\n",
       "         1.66557478e-01,  1.16255000e+03,  3.73394418e+00,  1.00000000e+00]),\n",
       " array([ 1.52226000e+05,  1.92420718e+00, -9.46059684e-01, -5.94957164e-01,\n",
       "        -1.34196836e+00, -1.00684622e+00, -7.60207362e-01, -6.45162783e-01,\n",
       "        -8.99687342e-02,  2.29839562e+00, -1.01403480e+00, -3.78297256e-01,\n",
       "         1.04824272e+00,  3.67170169e-01, -2.11904481e-01,  1.06979969e+00,\n",
       "        -6.34244089e-01, -1.13209704e-01,  9.36555826e-02,  3.56791135e-01,\n",
       "        -5.15706357e-02,  3.07361120e-01,  1.09292140e+00,  9.80874672e-02,\n",
       "         1.16695618e+00, -7.45391383e-02, -1.23587191e-01,  2.95282814e-02,\n",
       "        -2.42971096e-02,  6.04700000e+01, -1.66773399e-01,  1.00000000e+00]),\n",
       " array([ 1.67230000e+04,  1.18126830e+00, -2.38462195e-01,  6.09329623e-01,\n",
       "        -9.99188709e-02, -4.73176812e-01,  3.76393883e-02, -5.78396378e-01,\n",
       "        -2.71454762e-02,  1.59498774e+00, -4.61667959e-01,  1.70207457e+00,\n",
       "        -1.54272851e+00,  2.61343269e+00,  1.40133542e+00, -7.23815293e-02,\n",
       "         8.97746277e-01, -2.97112129e-01,  9.75022659e-01,  1.83750442e-01,\n",
       "         9.37178910e-02,  5.11775491e-02,  3.48232293e-01, -2.18474342e-01,\n",
       "        -4.40243756e-01,  3.24171233e-01,  1.17186113e+00, -9.19899103e-02,\n",
       "        -3.90126155e-03,  5.69700000e+01, -1.79161348e-01,  1.00000000e+00]),\n",
       " array([ 1.46026000e+05,  1.89353629e+00,  1.90530604e+00, -3.51623008e+00,\n",
       "         4.50841315e+00,  2.04396624e+00, -1.42096762e+00,  1.05698045e+00,\n",
       "        -2.81657348e-01, -1.83310381e+00, -6.28963195e-01,  2.22029491e+00,\n",
       "        -7.41587888e-01, -7.64219378e-01, -4.94311242e+00, -1.37879062e+00,\n",
       "         2.24371578e+00,  3.70156529e+00,  2.25631153e+00, -1.95056033e+00,\n",
       "        -1.60663479e-01, -1.45213036e-01, -3.10608279e-01, -1.02030027e-01,\n",
       "        -4.15460172e-01,  3.76096850e-01,  1.50277699e-01, -1.42115779e-02,\n",
       "         4.75836587e-02,  2.21950000e+00, -3.73444275e-01,  1.00000000e+00]),\n",
       " array([ 1.24263000e+05,  2.05249818e+00, -7.92455976e-01, -1.70788696e+00,\n",
       "        -6.75073424e-01,  1.49598303e-02, -1.98650602e-01, -2.18544604e-01,\n",
       "        -9.16349383e-02,  1.80437466e+00, -4.81517824e-01, -1.97006024e+00,\n",
       "        -1.42838642e-01, -1.02724685e+00, -2.20165559e-02, -6.32854237e-01,\n",
       "        -8.08777846e-01,  1.14415548e-01, -1.84610631e-01,  8.87277972e-01,\n",
       "        -1.56945973e-01,  2.00222846e-01,  8.82954586e-01, -1.77999753e-01,\n",
       "         1.49186786e-01,  3.87872300e-01,  1.07620164e+00, -8.46003588e-02,\n",
       "        -7.53507804e-02,  4.49995000e+01, -2.22028136e-01,  1.00000000e+00]),\n",
       " array([ 1.40585000e+05,  2.08021050e+00, -1.45218602e+00, -6.19954382e-02,\n",
       "        -1.46521012e+00, -1.59486668e+00,  5.35639738e-02, -1.62464609e+00,\n",
       "         1.52878752e-01,  1.05271947e+00,  3.33946806e-01, -1.36128168e+00,\n",
       "        -3.29779615e-02,  4.67757945e-01, -6.13946508e-01,  1.16161269e+00,\n",
       "        -8.59166239e-01, -4.60096311e-01,  1.85732547e+00, -6.69558127e-01,\n",
       "        -4.64559415e-01, -1.63695194e-01,  1.11837450e-01,  2.93373339e-01,\n",
       "         4.95773318e-01, -6.24440909e-01,  6.61939433e-01,  1.61007520e-02,\n",
       "        -2.39219932e-02,  3.94405000e+01, -2.40707279e-01,  1.00000000e+00]),\n",
       " array([ 4.95259995e+04, -7.84296255e-01,  7.21212436e-01,  1.93616337e+00,\n",
       "        -4.35834452e-01,  1.65336319e-01,  7.01825078e-01,  9.37693659e-02,\n",
       "         5.09546342e-01, -2.23961809e-01, -2.86618462e-01,  4.17351962e-01,\n",
       "        -5.07815158e-01, -1.45719944e+00,  4.13155592e-01,  9.64136797e-01,\n",
       "         6.64573612e-01, -6.81465494e-01,  5.75076694e-01,  1.67878841e-01,\n",
       "         7.46214761e-02, -7.52107309e-02, -2.39879357e-01, -2.59705820e-01,\n",
       "        -8.88738610e-01,  9.68749699e-02,  3.35037498e-01,  2.74886877e-01,\n",
       "         1.10329159e-01,  8.98950000e+00, -3.49482441e-01,  1.00000000e+00]),\n",
       " array([ 4.12040005e+04, -8.43978396e+00,  6.14815332e+00, -1.16832062e+01,\n",
       "         6.70327957e+00, -8.15533930e+00, -3.71576416e+00, -1.24068131e+01,\n",
       "         5.62707130e+00, -6.23166089e+00, -1.33861834e+01,  7.60605947e+00,\n",
       "        -1.33513150e+01,  8.27549643e-01, -1.49789773e+01,  1.53331308e+00,\n",
       "        -1.17709970e+01, -2.02987165e+01, -7.60861006e+00,  3.80963644e+00,\n",
       "         5.21232330e-01,  2.19335542e+00, -2.82096815e-01,  8.56849811e-03,\n",
       "         4.04358337e-01, -1.82883930e-02,  5.23221636e-01,  7.93190690e-01,\n",
       "         6.82895462e-02,  3.02605000e+01, -2.73199101e-01,  1.00000000e+00]),\n",
       " array([ 1.11461000e+05,  1.93335546e+00, -3.97306156e-01, -2.19151878e-01,\n",
       "         4.25978045e-01, -2.33808937e-01,  4.97616546e-01, -8.43564204e-01,\n",
       "         1.23529966e-02,  2.65807446e+00, -6.24499558e-01, -2.87079379e-01,\n",
       "        -1.48139427e+00,  3.46272300e+00,  8.36214576e-01,  1.28961279e-01,\n",
       "         4.91290924e-01, -2.41545930e-01,  5.26956087e-01, -3.33684711e-01,\n",
       "        -3.01000424e-02, -8.43201819e-02,  1.50342165e-01,  1.82863739e-01,\n",
       "        -6.33442318e-03, -2.78164269e-01, -4.49692585e-01,  3.02633521e-02,\n",
       "        -2.23737145e-02,  4.97200000e+01, -2.04822101e-01,  1.00000000e+00]),\n",
       " array([ 5.84920000e+04,  1.17197441e+00,  1.04204247e-01,  1.32583021e+00,\n",
       "         1.32116439e+00, -8.42861706e-01, -1.69064024e-01, -4.74282627e-01,\n",
       "         1.12492761e-02,  6.73332222e-01, -2.39966487e-01, -5.42797544e-01,\n",
       "         1.25231492e+00,  1.48022374e+00, -6.50037319e-01,  1.82199691e-02,\n",
       "         8.62898996e-03, -3.30964705e-01, -2.42302597e-01, -2.18368629e-01,\n",
       "        -6.02620145e-02, -5.14082814e-02,  1.50299136e-01, -1.32941907e-02,\n",
       "         4.35196002e-01,  4.67376637e-01, -4.13120889e-01,  8.37105093e-02,\n",
       "         3.98251026e-02,  1.00000000e-02, -3.80766380e-01,  1.00000000e+00]),\n",
       " array([ 1.37341000e+05, -9.91915501e-01, -1.17989744e+00,  1.17876254e+00,\n",
       "        -2.15018782e+00, -3.98896760e-01, -2.63428362e-01,  1.77335734e-01,\n",
       "         2.12341817e-01, -8.40232812e-01, -2.07908732e-01,  2.07350858e-01,\n",
       "        -9.58312357e-01, -1.39385544e+00, -5.38796423e-02, -9.59877357e-01,\n",
       "         1.76021707e+00, -3.91934106e-01, -6.36030628e-01,  2.90497236e-01,\n",
       "         4.55559336e-01,  2.03787331e-01, -9.88876181e-02,  4.84430242e-01,\n",
       "        -4.92504935e-01, -4.11231930e-01, -5.91521901e-01,  3.75680644e-02,\n",
       "         1.59060057e-01,  1.96360500e+02,  3.14697595e-01,  1.00000000e+00]),\n",
       " array([ 7.55100000e+03,  3.16459000e-01,  3.80907595e+00, -5.61515901e+00,\n",
       "         6.04744510e+00,  1.55402596e+00, -2.65135311e+00, -7.46579273e-01,\n",
       "         5.55863113e-02, -2.67867854e+00, -4.95949291e+00,  6.43905335e+00,\n",
       "        -7.52011739e+00,  3.86351667e-01, -9.25230725e+00, -1.36518842e+00,\n",
       "        -5.02362191e-01,  7.84426598e-01,  1.49430461e+00, -1.80801216e+00,\n",
       "         3.88307428e-01,  2.08828369e-01, -5.11746619e-01, -5.83813221e-01,\n",
       "        -2.19845029e-01,  1.47475258e+00,  4.91191926e-01,  5.18868285e-01,\n",
       "         4.02528068e-01,  1.00000000e+00, -3.77262360e-01,  1.00000000e+00]),\n",
       " array([ 2.00110005e+04, -1.47241270e+01,  7.87565679e+00, -2.18718174e+01,\n",
       "         1.19066699e+01, -8.34823369e+00, -2.26234642e+00, -1.58329428e+01,\n",
       "         7.83736742e-02, -6.35633349e+00, -1.32611517e+01,  1.00642897e+01,\n",
       "        -1.43942668e+01,  6.55388723e-01, -1.42478158e+01, -3.04860761e-01,\n",
       "        -8.16113245e+00, -1.22804649e+01, -4.81808639e+00,  7.20287682e-01,\n",
       "         9.96968756e-01, -2.36184493e+00,  1.10005730e+00,  1.03769942e+00,\n",
       "        -1.03585934e+00, -2.54276514e-01,  6.42843201e-01,  2.16162922e+00,\n",
       "        -1.40078202e+00,  1.00050000e+00, -3.76762360e-01,  1.00000000e+00]),\n",
       " array([ 1.02480000e+05, -1.93009693e+00,  4.06591328e+00, -4.86568401e+00,\n",
       "         5.89810229e+00, -5.52992585e-01, -1.55646245e+00, -3.83412344e+00,\n",
       "         6.79011649e-01, -3.46426549e+00, -6.68418923e+00,  7.02077775e+00,\n",
       "        -1.11029934e+01,  1.71125507e+00, -1.04481329e+01, -2.79957616e+00,\n",
       "        -6.26224085e+00, -1.16476578e+01, -3.45193614e+00, -5.08036514e-01,\n",
       "         9.41988942e-01,  1.13671165e+00,  6.73745235e-01, -5.32265489e-01,\n",
       "        -4.33909351e-01,  3.78158562e-01,  1.97607291e-01,  8.69194412e-01,\n",
       "         2.27547852e-01, -5.00000000e-04, -3.81301775e-01,  1.00000000e+00]),\n",
       " array([ 4.88840000e+04, -2.13905056e+00,  1.39436766e+00, -6.12034895e-01,\n",
       "         1.04932706e+00, -1.16210191e+00, -7.68219363e-01, -1.99723740e+00,\n",
       "         5.74996543e-01, -9.80831776e-01, -2.49561925e+00,  2.55558915e+00,\n",
       "        -3.53043627e+00, -1.01623382e+00, -3.45519658e+00, -5.63633864e-02,\n",
       "        -2.46773703e+00, -7.14032597e+00, -1.27128002e+00, -1.72192354e-03,\n",
       "         2.54265126e-02,  6.96954881e-01,  7.40003045e-01, -1.55115249e-01,\n",
       "        -5.06074461e-02,  2.68368293e-01, -4.69432841e-01, -4.05813768e-01,\n",
       "        -1.52170847e-01,  1.97300000e+01, -3.10969133e-01,  1.00000000e+00]),\n",
       " array([ 8.13650000e+04, -7.47637215e-01,  1.39910720e+00,  6.48609597e-01,\n",
       "        -4.26586511e-01,  5.85739482e-01,  3.58078404e-02,  6.18187757e-01,\n",
       "         5.58680299e-02, -3.17289609e-01,  1.69001165e-01,  5.55150186e-01,\n",
       "         4.59386510e-01,  6.73729916e-01, -5.30695208e-01,  2.60682925e-01,\n",
       "         8.54753007e-01, -7.14334058e-01,  6.52451470e-01,  6.10059005e-01,\n",
       "         2.84397726e-01, -2.79548746e-01, -7.80270510e-01, -1.64942441e-01,\n",
       "        -8.81759388e-01,  4.59655182e-03,  1.03984617e-01,  8.12296455e-02,\n",
       "         1.29039270e-01,  9.51000000e+00, -3.47141946e-01,  1.00000000e+00]),\n",
       " array([ 1.51972000e+05, -6.61771088e+00,  3.83644331e+00, -6.31595313e+00,\n",
       "         1.84461148e+00, -2.47639242e+00, -1.88621811e+00, -3.81699462e+00,\n",
       "         6.13970204e-01, -1.48162105e+00, -4.86824727e+00,  3.36022194e+00,\n",
       "        -5.96866163e+00,  5.16899909e-02, -8.72399560e+00,  7.76890603e-01,\n",
       "        -3.93888374e+00, -7.16393030e+00, -2.43417182e+00,  2.35726841e-01,\n",
       "        -9.53326983e-01,  1.63712231e+00,  3.92273058e-02,  2.78718166e-01,\n",
       "         7.87170357e-01,  6.43945592e-02,  1.55207097e-01, -2.04190273e+00,\n",
       "         1.40564056e+00,  5.77305000e+01, -1.75971394e-01,  1.00000000e+00]),\n",
       " array([ 8.58669995e+04, -3.58746386e+00,  2.60862704e+00, -5.56907721e+00,\n",
       "         3.63144695e+00, -4.54408971e+00, -1.58399075e-01, -4.08962767e+00,\n",
       "         2.41680514e+00, -3.24040098e+00, -5.82294916e+00,  3.36868605e+00,\n",
       "        -5.69242579e+00,  2.86871391e-01, -5.41428669e+00, -5.56049925e-01,\n",
       "        -5.86416171e+00, -1.11437410e+01, -3.48143955e+00,  2.79383340e+00,\n",
       "        -1.79033964e-01,  1.02392283e+00,  4.28256482e-01,  1.81532121e-01,\n",
       "        -5.35097883e-01,  1.68433495e-01, -1.50343614e-01,  6.85017241e-01,\n",
       "        -3.00228379e-01,  3.10419500e+02,  7.17403176e-01,  1.00000000e+00]),\n",
       " array([ 7.54300050e+03,  3.30094333e-01,  3.71338930e+00, -5.77543511e+00,\n",
       "         6.07876551e+00,  1.66785901e+00, -2.41966841e+00, -8.12391249e-01,\n",
       "         1.33580118e-01, -2.21381131e+00, -5.13395447e+00,  4.56122011e+00,\n",
       "        -8.87324836e+00, -7.96983600e-01, -9.17666637e+00, -2.56524775e-01,\n",
       "        -8.71188490e-01,  1.31351363e+00,  7.74413873e-01, -2.37009945e+00,\n",
       "         2.70272776e-01,  1.57117169e-01, -6.51950441e-01, -5.51072219e-01,\n",
       "        -7.16021635e-01,  1.41621662e+00,  5.55764740e-01,  5.31007389e-01,\n",
       "         4.04974055e-01,  1.00050000e+00, -3.76762360e-01,  1.00000000e+00]),\n",
       " array([ 5.80599995e+04, -2.63109770e+00,  5.12525923e+00, -6.09275455e+00,\n",
       "         5.52689306e+00,  1.60464485e+00, -2.32038353e+00, -3.20757571e+00,\n",
       "        -1.48308321e+00, -5.07537063e+00, -6.77883138e+00,  5.72475459e+00,\n",
       "        -6.94967183e+00, -3.12829501e+00, -1.10909248e+01, -8.00772569e-01,\n",
       "        -1.70800085e+00, -1.68597302e+00,  2.74390839e-01, -2.02938535e+00,\n",
       "         9.48363770e-01, -5.27974204e-01,  2.20046095e-01, -1.37160989e+00,\n",
       "        -5.05398995e-01,  3.81806793e-01,  3.95027722e-01,  7.81535951e-01,\n",
       "         6.28027864e-01,  9.99500000e-01, -3.77762360e-01,  1.00000000e+00]),\n",
       " array([ 5.11550005e+04, -1.12049614e+01,  7.91513349e+00, -1.39872516e+01,\n",
       "         4.33384118e+00, -8.48446952e+00, -3.50606117e+00, -8.93474303e+00,\n",
       "         7.70494915e+00, -2.33608418e+00, -5.92685917e+00,  2.47090102e+00,\n",
       "        -5.78801703e+00, -3.91439257e-01, -6.52696224e+00,  9.00359362e-01,\n",
       "        -3.84679284e+00, -6.70013745e+00, -2.49211611e+00,  4.70054314e-01,\n",
       "         8.61411742e-01,  9.43093331e-01, -9.87348115e-01, -2.78946305e-01,\n",
       "        -2.67992247e-02,  6.44844196e-01, -2.62577923e-01,  1.08452253e+00,\n",
       "         2.12433357e-01,  9.99905000e+01, -2.63957503e-02,  1.00000000e+00]),\n",
       " array([ 1.53761000e+05,  1.14575927e+00,  1.40295824e+00, -4.15964819e+00,\n",
       "         2.65960706e+00, -3.23716827e-01, -1.83657089e+00, -1.62424006e+00,\n",
       "         2.59062498e-01, -1.13254415e+00, -3.35697371e+00,  3.64597784e+00,\n",
       "        -3.00318416e+00, -6.48000580e-01, -5.94550331e+00,  1.74150037e-01,\n",
       "        -1.47613951e+00, -3.08277353e+00,  2.24239755e-01, -3.01430779e-01,\n",
       "         2.84330656e-01,  5.63949516e-01,  4.45243912e-01, -1.41636197e-01,\n",
       "        -2.66017116e-01,  3.61759920e-01, -4.16562098e-01,  5.06869853e-01,\n",
       "         2.43244114e-01,  5.13695000e+01, -1.99482068e-01,  1.00000000e+00]),\n",
       " array([ 6.87510000e+04, -1.87729969e+00,  1.38106023e+00, -9.12997323e-01,\n",
       "         1.06737315e+00, -7.45927554e-01, -1.60507714e-01,  4.22391217e-01,\n",
       "         9.44980696e-01, -8.17487048e-01, -6.26770335e-01, -1.73736055e+00,\n",
       "         8.19525387e-01,  1.39816354e+00,  7.88543467e-01, -3.16921551e-02,\n",
       "        -1.67216035e-01,  2.07239730e-01,  8.27904317e-02,  9.50652510e-01,\n",
       "        -1.87743890e-01,  1.64142244e-01,  4.20539681e-01,  4.54526367e-02,\n",
       "        -3.94335304e-01, -1.42010966e-01, -2.94615629e-01, -6.11429547e-02,\n",
       "        -1.16748946e-01,  1.23820000e+02,  5.74484897e-02,  1.00000000e+00]),\n",
       " array([ 7.76669995e+04,  1.14690936e+00, -2.61185312e-01,  6.18847276e-01,\n",
       "         1.40953669e+00, -6.30862912e-02,  1.39383732e+00, -5.55011167e-01,\n",
       "         3.78768526e-01,  1.37410189e+00, -4.16770096e-01, -2.39112158e+00,\n",
       "         4.19670786e-01, -2.11340994e-01, -7.85044268e-01, -1.57974624e+00,\n",
       "        -7.28553839e-01,  2.77163763e-01, -8.71829311e-01,  6.97313606e-01,\n",
       "        -1.44754433e-01, -5.00542865e-01, -1.00059082e+00, -1.01159493e-01,\n",
       "        -1.33845457e+00,  5.99427951e-01, -4.23867721e-01,  8.48280448e-02,\n",
       "         1.62817010e-02,  2.64495000e+01, -2.87684269e-01,  1.00000000e+00]),\n",
       " array([ 1.54493000e+05, -7.38104699e+00, -7.44851516e+00, -4.69578652e+00,\n",
       "         3.72893915e+00,  6.19880435e+00, -6.40576663e+00, -5.83095156e+00,\n",
       "         1.45767492e+00, -6.45702580e-01, -4.02862872e+00,  2.52944302e+00,\n",
       "        -3.30822172e+00, -1.99150969e+00, -5.75671608e+00, -8.76823474e-01,\n",
       "        -1.54705182e+00, -1.90851679e+00,  5.01067470e-01,  1.37222438e-01,\n",
       "         2.93325813e+00,  1.17707485e+00, -9.78192051e-01, -2.77830343e-01,\n",
       "        -6.35373794e-01,  1.24039440e-01,  4.05229308e-01,  7.05414654e-01,\n",
       "        -1.22949168e+00,  3.50005000e+01, -2.56422278e-01,  1.00000000e+00]),\n",
       " array([ 1.29371000e+05,  1.18443121e+00,  3.05775031e+00, -6.16149733e+00,\n",
       "         5.54447248e+00,  1.61754137e+00, -1.84750604e+00, -1.00500810e+00,\n",
       "         3.40436724e-01, -2.95930628e+00, -3.85122166e+00,  4.51385526e+00,\n",
       "        -4.85781164e+00, -1.76523419e+00, -1.00057434e+01, -4.38894417e-01,\n",
       "         5.75374857e-01,  1.88969553e-01,  1.64972352e+00, -1.79623863e+00,\n",
       "         2.53071164e-01,  1.09684861e-01, -9.30571823e-01, -6.36750405e-02,\n",
       "        -6.51252012e-03,  3.45919479e-01,  6.50577482e-02,  4.77129439e-01,\n",
       "         3.24240181e-01,  5.00000000e-04, -3.80301775e-01,  1.00000000e+00]),\n",
       " array([ 4.46200050e+03, -2.30284957e+00,  1.75974746e+00, -3.59244743e-01,\n",
       "         2.33074305e+00, -8.21128328e-01, -7.52875706e-02,  5.62819782e-01,\n",
       "        -3.98646578e-01, -2.37753368e-01, -1.52491163e+00,  2.03341216e+00,\n",
       "        -6.55962430e+00,  2.34373235e-02, -1.46960154e+00, -6.98326069e-01,\n",
       "        -2.28169383e+00, -4.78133086e+00, -2.61516494e+00, -1.33394107e+00,\n",
       "        -4.29521867e-01, -2.93666318e-01, -9.31891057e-01,  1.73226296e-01,\n",
       "        -8.68295380e-02, -1.55614265e-01, -5.42127889e-01,  4.00659889e-02,\n",
       "        -1.52528797e-01,  2.39930500e+02,  4.68909871e-01,  1.00000000e+00]),\n",
       " array([ 9.62909995e+04, -3.55267282e+00,  5.42596055e+00, -3.73231032e+00,\n",
       "         6.67856181e+00, -2.18804338e+00,  2.43344024e+00, -8.74861036e+00,\n",
       "        -1.21087841e+01, -2.85685851e+00, -5.66636180e+00,  2.54033553e+00,\n",
       "        -6.14755358e+00,  1.79639064e+00, -4.32948899e+00, -1.50537375e-01,\n",
       "        -1.83950467e+00, -3.35513814e+00, -2.82807261e-01,  1.48092394e-01,\n",
       "         3.79216673e+00, -5.68949027e+00,  2.51047956e+00,  9.53432862e-01,\n",
       "        -5.43006228e-01, -6.20652016e-01,  4.05512867e-01,  2.25251634e-02,\n",
       "         1.64240606e-01,  3.35895000e+01, -2.62412852e-01,  1.00000000e+00]),\n",
       " array([ 1.50593000e+05,  2.29607950e+00, -1.58736897e+00, -2.35228943e+00,\n",
       "        -2.60486638e+00,  1.17538547e+00,  3.42891601e+00, -1.63613263e+00,\n",
       "         8.00472991e-01, -1.40318538e+00,  1.59782524e+00, -2.20074455e-01,\n",
       "        -7.23342596e-01,  3.13156912e-01, -2.07821616e-01,  1.85971624e-01,\n",
       "        -7.09864815e-01,  4.34899485e-01, -2.89580958e-01, -2.57116302e-01,\n",
       "        -3.74724790e-01, -1.73525201e-01, -7.11514589e-02,  2.72043707e-01,\n",
       "         6.86138134e-01, -1.26918765e-01, -1.40268477e-01,  2.91065596e-02,\n",
       "        -5.91017845e-02,  9.99950000e+00, -3.45907633e-01,  1.00000000e+00]),\n",
       " array([ 7.32719995e+04,  9.47735175e-01, -1.47048678e-01,  6.73914089e-01,\n",
       "         1.15969590e+00, -4.45393789e-01,  1.49166726e-01, -2.22550199e-01,\n",
       "         1.78242723e-01, -4.54408525e-02,  1.17128086e-01,  1.46010086e+00,\n",
       "         8.90025312e-01, -1.49407250e-01,  4.37553074e-01,  6.81835435e-01,\n",
       "         2.95652777e-01, -5.24041700e-01,  1.33088193e-01, -6.34451070e-01,\n",
       "         1.94937163e-02,  1.67574277e-01,  3.12912609e-01, -9.54439494e-02,\n",
       "         1.97669084e-02,  3.48678187e-01, -3.60327040e-01,  3.21792202e-02,\n",
       "         3.21993470e-02,  9.47295000e+01, -4.60130689e-02,  1.00000000e+00]),\n",
       " array([ 7.68670005e+04,  1.08306623e+00,  1.09536151e+00, -1.36652005e+00,\n",
       "         2.01305430e+00,  7.08642048e-01, -8.07212094e-01,  1.52452109e-01,\n",
       "         1.58852531e-01,  1.03722842e-02, -1.92477812e+00,  2.60643702e+00,\n",
       "        -3.08718873e-01, -1.76704892e+00, -4.42869459e+00, -1.71439795e-01,\n",
       "         1.05601394e+00,  3.97108694e+00,  1.76274857e+00, -8.80312103e-01,\n",
       "        -1.35289404e-01, -3.24783765e-01, -7.33843618e-01, -1.06225343e-01,\n",
       "        -2.24499064e-01,  5.69667327e-01, -3.34532649e-01,  8.96401409e-02,\n",
       "         1.12837220e-01,  1.00050000e+00, -3.76762360e-01,  1.00000000e+00]),\n",
       " array([ 6.35820005e+04, -1.27772236e+00,  1.86273217e+00, -6.33908523e-01,\n",
       "        -9.04276825e-02,  4.97085128e-01, -2.34249683e-01,  8.88170352e-02,\n",
       "         1.02442190e+00, -9.62455855e-01, -1.14355714e+00,  7.16302960e-01,\n",
       "        -2.41758463e-01, -1.13955080e+00, -4.15931354e-01,  3.96732076e-01,\n",
       "         8.41695566e-01,  1.17467238e+00,  9.69047678e-01,  3.10974561e-02,\n",
       "        -1.69166223e-01,  1.92663276e-02, -1.75101466e-01, -1.96257653e-01,\n",
       "        -9.58445138e-01, -3.56477312e-02,  3.73653361e-01, -5.10924259e-02,\n",
       "         6.45898993e-02,  7.60500000e-01, -3.77611820e-01,  1.00000000e+00]),\n",
       " array([ 9.61350000e+04, -1.95293263e+00,  3.54138524e+00, -1.31056141e+00,\n",
       "         5.95566359e+00, -1.00399266e+00,  9.83049268e-01, -4.58723460e+00,\n",
       "        -4.89218360e+00, -2.51675203e+00, -2.85032390e+00,  2.02467408e+00,\n",
       "        -6.48774641e+00,  2.37646260e+00, -2.24151635e+00, -5.66869735e-01,\n",
       "        -3.93685692e+00, -6.12719357e+00, -2.32855196e+00,  1.56212955e+00,\n",
       "         1.96502978e+00, -1.99809123e+00,  1.13370623e+00, -4.14608722e-02,\n",
       "        -2.15378738e-01, -8.65598577e-01,  2.12544577e-01,  5.32896738e-01,\n",
       "         3.57891633e-01,  1.89600000e+01, -3.13694482e-01,  1.00000000e+00]),\n",
       " array([ 6.51979995e+04, -1.11846659e+00,  8.14764204e-01,  1.42636914e+00,\n",
       "        -2.08574169e+00, -4.11463905e-01, -9.92576388e-01,  4.74106880e-01,\n",
       "         3.26193854e-02, -1.15728646e+00,  7.68424145e-01,  1.07445912e+00,\n",
       "         5.20045558e-01,  1.78647045e-01, -8.20951346e-02, -1.07446243e+00,\n",
       "        -6.19118739e-01, -9.79610977e-01,  1.31146673e+00, -2.37236570e+00,\n",
       "        -2.60657024e-01, -3.93867223e-01, -5.50589835e-01, -3.93731963e-02,\n",
       "         4.87921027e-01, -1.17090339e-01,  7.05596101e-02,  5.00647346e-01,\n",
       "         2.96035765e-01,  1.99950000e+00, -3.74222946e-01,  1.00000000e+00]),\n",
       " array([ 8.87370005e+04,  1.91832653e+00,  9.52466571e-01, -2.05870551e+00,\n",
       "         3.83449771e+00,  1.66869219e+00,  7.70325697e-01,  2.32963057e-01,\n",
       "         1.08440567e-01, -1.14314569e+00,  5.42199243e-01,  3.02477230e-01,\n",
       "         2.58197091e-01,  7.09647652e-01, -2.42021598e+00, -1.99724018e+00,\n",
       "         1.50719615e+00,  8.00332475e-01,  1.16326426e+00, -1.15012736e+00,\n",
       "        -1.15422318e-01,  1.57553540e-02,  2.40494342e-01, -1.11415985e-01,\n",
       "        -3.80075890e-01,  3.71494789e-01,  1.89616547e-01, -5.32328068e-03,\n",
       "        -1.16050907e-02,  9.21050000e+00, -3.47703770e-01,  1.00000000e+00]),\n",
       " array([ 5.88220005e+04, -4.38372090e+00,  3.26516481e+00, -3.07665802e+00,\n",
       "         3.40409360e+00, -1.93757528e+00, -1.22058128e+00, -3.30981661e+00,\n",
       "        -1.11147501e+00, -1.97709328e+00, -3.28770357e+00,  2.88659148e+00,\n",
       "        -6.84847793e+00, -1.02873459e+00, -7.45960298e+00,  5.64060176e-02,\n",
       "        -4.33428343e+00, -9.87406039e+00, -3.54140333e+00, -5.31058760e-01,\n",
       "        -1.41033269e-01,  2.07688272e+00, -9.89802787e-01, -3.29858452e-01,\n",
       "         1.58877626e-01,  6.85144625e-03, -4.93360013e-01, -1.53715238e+00,\n",
       "        -9.93522491e-01,  4.56405000e+01, -2.18762911e-01,  1.00000000e+00]),\n",
       " array([ 1.29095000e+05, -1.83643981e+00, -1.64626405e+00, -3.38066824e+00,\n",
       "         4.73853567e-01,  7.47428681e-02, -4.46250698e-01,  3.79240655e+00,\n",
       "        -1.35054517e+00,  9.56859633e-02, -8.39995591e-02, -1.54180487e+00,\n",
       "        -5.40034807e-01, -2.71579039e-01,  7.13041143e-01,  2.35479845e-01,\n",
       "        -9.07166066e-01, -3.90551375e-01, -3.42191590e-02,  1.08478647e+00,\n",
       "        -1.58564370e+00,  1.11634771e-02,  1.78718137e+00, -1.50678224e-01,\n",
       "        -5.81597764e-01, -9.55561536e-01, -3.33868992e-01,  7.16100326e-01,\n",
       "         3.70949747e-01,  7.20800500e+02,  2.17090797e+00,  1.00000000e+00]),\n",
       " array([ 6.82070000e+04, -1.31926710e+01,  1.27859706e+01, -9.90665002e+00,\n",
       "         3.32033688e+00, -4.80117593e+00,  5.76005856e+00, -1.87508892e+01,\n",
       "        -3.73534426e+01, -3.91539744e-01, -5.05250237e+00,  4.40680552e+00,\n",
       "        -4.61075648e+00, -1.90948797e+00, -9.07271093e+00, -2.26074451e-01,\n",
       "        -6.21155748e+00, -6.24814535e+00, -3.14924669e+00,  5.15761185e-02,\n",
       "        -3.49304992e+00,  2.72028392e+01, -8.88701714e+00,  5.30360690e+00,\n",
       "        -6.39434802e-01,  2.63203123e-01, -1.08876930e-01,  1.26956636e+00,\n",
       "         9.39407363e-01,  1.00000000e+00, -3.77262360e-01,  1.00000000e+00]),\n",
       " array([ 1.69966000e+05, -3.11433161e+00,  5.85364172e-01, -5.40023021e+00,\n",
       "         1.81659247e+00, -8.41118466e-01, -2.94404779e+00, -2.20850192e+00,\n",
       "         1.05823268e+00, -1.63283335e+00, -5.24648384e+00,  1.93301954e+00,\n",
       "        -5.03096480e+00, -1.12795458e+00, -6.41712798e+00,  1.40737234e-01,\n",
       "        -2.54999824e+00, -4.61521707e+00, -1.47863794e+00, -3.59803665e-02,\n",
       "         3.05770740e-01,  5.82775999e-01, -2.69708638e-01, -4.56607773e-01,\n",
       "        -1.84159130e-01, -3.28667759e-01,  6.05615810e-01,  8.84375540e-01,\n",
       "        -2.54200319e-01,  2.44999500e+02,  4.85854700e-01,  1.00000000e+00]),\n",
       " array([ 4.13530000e+04, -1.50209806e+01,  8.07523975e+00, -1.62980905e+01,\n",
       "         5.66482005e+00, -1.19181534e+01, -4.24695712e+00, -1.47166676e+01,\n",
       "         9.43508432e+00, -6.79539813e+00, -1.51241628e+01,  6.03766623e+00,\n",
       "        -1.16767222e+01,  1.32697879e+00, -1.23816059e+01, -7.16392778e-02,\n",
       "        -9.48414337e+00, -1.96718815e+01, -7.64327282e+00,  1.16906442e+00,\n",
       "        -9.95786858e-01,  2.52511546e+00, -8.32074337e-01, -1.86116823e-01,\n",
       "         4.29780834e-01,  6.97102812e-01,  5.60310741e-02, -1.31088762e+00,\n",
       "        -7.07402991e-01,  3.41200000e+01, -2.60036963e-01,  1.00000000e+00]),\n",
       " array([ 1.24586000e+05, -1.27724782e-01, -2.60235534e-03,  1.38452704e-02,\n",
       "        -1.35947385e+00, -1.85467164e-01, -8.95616155e-01,  2.92374152e-02,\n",
       "         1.87696750e-02, -8.55012805e-01,  2.26039473e-01,  1.24423101e+00,\n",
       "        -6.29609065e-01, -9.45108421e-01, -1.23814887e+00, -6.10353821e-01,\n",
       "         1.43810886e+00,  1.10317402e+00, -7.16966213e-01,  1.09331934e+00,\n",
       "         9.80073315e-02, -2.28069759e-01, -6.50975930e-01,  3.00131010e-01,\n",
       "        -1.61690621e-01, -1.20996239e+00, -7.37428308e-01,  3.20749111e-01,\n",
       "         1.63125696e-01,  5.90100000e+01, -1.71940944e-01,  1.00000000e+00]),\n",
       " array([ 1.28049000e+05,  5.83625227e-01, -2.23084458e+00, -2.37466673e+00,\n",
       "         1.89705001e+00, -4.02226987e-01, -6.48313419e-01,  1.40089449e+00,\n",
       "        -3.80040494e-01,  7.81111309e-02,  1.34785292e-01,  5.57683924e-01,\n",
       "         2.75904438e-01, -1.72838702e+00,  1.19705331e+00, -9.69890406e-01,\n",
       "        -4.01691549e-01, -2.39372541e-01,  1.39199935e-01, -1.86049698e-01,\n",
       "         1.08238171e+00,  5.28224902e-01, -9.29968124e-04, -6.22127612e-01,\n",
       "         2.01204853e-02,  1.01367407e-01, -5.83697644e-01, -1.64132794e-01,\n",
       "         5.17278151e-02,  7.31000500e+02,  2.20700999e+00,  1.00000000e+00]),\n",
       " array([ 8.29899995e+04,  1.10808024e+00, -5.68912176e-02,  2.83485857e-01,\n",
       "         6.27715278e-01, -5.70744460e-01, -8.75477818e-01,  6.07474898e-02,\n",
       "        -7.69411744e-02, -1.07318131e-01,  1.48592126e-01,  1.37632177e+00,\n",
       "         3.74139401e-01, -1.10266498e+00,  7.61813393e-01,  3.40917631e-01,\n",
       "         3.23587678e-01, -4.69943236e-01,  2.36173409e-01,  1.08027208e-03,\n",
       "        -5.92441865e-02,  8.46847114e-02,  6.96702344e-02, -8.78466968e-02,\n",
       "         5.48327436e-01,  4.14865469e-01,  3.64707558e-01, -6.27169023e-02,\n",
       "         8.04549741e-03,  5.88495000e+01, -1.73007250e-01,  1.00000000e+00]),\n",
       " array([ 1.56948000e+05,  2.01978605e+00,  6.09550696e-02, -1.61817784e+00,\n",
       "         3.53006103e-01,  3.16639797e-01, -6.80950106e-01,  3.60354923e-02,\n",
       "        -5.86064617e-02,  3.34605547e-01, -1.87027508e-01,  1.17210491e+00,\n",
       "         5.02162400e-01, -7.96248525e-01, -4.88220806e-01, -4.26924303e-01,\n",
       "         4.93515517e-01,  3.33810950e-01,  2.18186774e-01,  2.77467485e-01,\n",
       "        -1.99045663e-01, -3.08940384e-01, -8.57831200e-01,  3.60361740e-01,\n",
       "         6.49917363e-01, -3.37703537e-01,  1.45617921e-01, -7.05408409e-02,\n",
       "        -3.99088460e-02,  1.29050000e+00, -3.75735930e-01,  1.00000000e+00]),\n",
       " array([ 1.37087000e+05, -5.50465900e-01,  2.24375707e-01, -3.81150120e-01,\n",
       "         2.76781942e-01, -3.36638700e-02, -6.09370763e-01,  1.72469722e+00,\n",
       "        -1.88622839e-01, -5.91857513e-01, -9.93291297e-01,  1.14638904e+00,\n",
       "        -3.14552333e-01, -1.16016301e+00, -3.86154854e-01,  5.36615483e-01,\n",
       "         4.20602758e-02,  6.28687282e-01,  1.55572158e+00,  7.59637526e-01,\n",
       "         5.59183125e-01,  5.13846046e-01,  1.05110192e+00,  3.22650599e-01,\n",
       "        -4.09128716e-02, -2.12091105e-01, -3.46040292e-02,  1.04409934e-01,\n",
       "         2.25662848e-01,  2.69150500e+02,  5.72331553e-01,  1.00000000e+00]),\n",
       " array([ 7.95400005e+04, -1.13860704e-01,  1.03662940e+00,  1.98490526e+00,\n",
       "         3.12874327e+00, -7.39843560e-01,  1.54911870e+00, -1.70078395e+00,\n",
       "        -2.20334175e+00, -1.24176478e+00,  2.70061809e-01,  1.29391830e+00,\n",
       "         9.33715784e-01, -1.34825961e-01,  5.21983690e-01,  3.87384188e-01,\n",
       "         6.03689536e-02,  3.06839379e-01,  2.65551989e-01,  2.24218288e-01,\n",
       "         7.33352498e-01, -1.03243465e+00,  1.19692831e+00, -1.12356718e-01,\n",
       "         2.55218993e-01,  6.97167886e-01,  4.82870417e-01,  1.30469314e-01,\n",
       "         2.24424334e-01,  2.00500000e-01, -3.79593892e-01,  1.00000000e+00]),\n",
       " array([ 3.67170005e+04, -1.59468554e+00,  1.06109602e+00, -1.26302303e+00,\n",
       "         4.20684952e-01,  2.68695539e+00, -7.80319191e-01,  4.67956533e-01,\n",
       "         5.69866120e-01, -1.32571096e+00, -2.32966464e+00,  1.19014094e+00,\n",
       "        -1.81416197e-01,  4.60437286e-02, -3.04437690e+00,  1.63199064e-01,\n",
       "         1.63477985e+00,  2.20781043e+00,  1.95574640e+00, -9.36555336e-01,\n",
       "         1.76067714e-01, -5.44849040e-02, -6.46463645e-01, -6.06008496e-01,\n",
       "        -1.66955402e+00,  1.02543859e+00, -2.82072891e-01, -1.04039422e-01,\n",
       "        -2.00511396e-01,  8.90500000e-01, -3.77151696e-01,  1.00000000e+00]),\n",
       " array([ 3.59529995e+04, -4.84487152e+00,  5.64893865e+00, -6.73089575e+00,\n",
       "         5.25234202e+00, -4.41006615e+00, -1.74126746e+00, -6.31219853e+00,\n",
       "         3.44866731e+00, -5.41678436e+00, -7.83405557e+00,  3.65684956e+00,\n",
       "        -7.78194795e+00,  1.50722043e+00, -8.60525887e+00,  1.00926876e-02,\n",
       "        -6.55447326e+00, -1.26248937e+01, -4.99040974e+00,  1.64491389e+00,\n",
       "         2.84055090e-01,  1.19438836e+00, -8.46252532e-01,  1.90173885e-01,\n",
       "        -2.16943253e-01, -3.25533100e-01, -2.70827593e-01,  2.09714052e-01,\n",
       "         3.91354886e-01,  1.11699500e+02,  1.40507898e-02,  1.00000000e+00]),\n",
       " array([ 2.65560005e+04, -1.91793264e+01,  1.18184220e+01, -2.19186736e+01,\n",
       "         6.08673563e+00, -1.47083448e+01, -4.30838761e+00, -1.53574518e+01,\n",
       "         1.28576650e+01, -3.99936077e+00, -8.92815566e+00,  5.84979307e+00,\n",
       "        -8.26114984e+00,  1.54329148e-01, -8.82885923e+00,  9.37883883e-03,\n",
       "        -7.07045301e+00, -1.36292209e+01, -4.95832982e+00,  1.27259136e+00,\n",
       "         1.57344961e+00,  1.74730154e+00, -1.35264877e+00, -7.62465073e-01,\n",
       "         1.17527852e-01,  1.29849376e+00, -2.24325057e-01,  1.62155239e+00,\n",
       "         4.85114403e-01,  9.99905000e+01, -2.63957503e-02,  1.00000000e+00]),\n",
       " array([ 9.20919995e+04, -1.10897822e+00,  3.44845257e+00, -6.21747181e+00,\n",
       "         3.02055162e+00, -5.30400932e-01, -2.55187518e+00, -2.00224291e+00,\n",
       "         1.09193237e+00, -8.36598369e-01, -4.09614897e+00,  2.42545072e+00,\n",
       "        -6.06776195e+00,  1.83193272e+00, -3.50220252e+00, -1.00450820e+00,\n",
       "        -3.50178110e+00, -2.94237632e+00, -1.12624106e+00,  3.73214808e-01,\n",
       "        -6.90983809e-02,  8.25451491e-01,  1.14366979e+00,  2.08059482e-01,\n",
       "        -2.95997424e-01, -6.90732196e-01, -3.65249076e-01,  2.28827220e-01,\n",
       "         2.08329892e-01,  1.79995000e+01, -3.17592319e-01,  1.00000000e+00]),\n",
       " array([ 9.49520005e+04,  8.42525259e-01, -3.65018406e-01, -2.46356333e+00,\n",
       "         4.82138596e+00,  7.76005434e-01, -6.14284605e-01,  1.36852440e+00,\n",
       "        -5.25761742e-01, -1.20856447e-01, -3.57116193e-01,  6.38266685e-01,\n",
       "        -2.81838227e+00,  2.36109541e+00, -1.10819894e+00, -1.44945109e+00,\n",
       "         1.57423987e+00,  2.20315154e+00,  8.00971467e-01, -2.10308290e+00,\n",
       "         9.45415098e-01, -1.10121879e-01, -1.25730003e+00, -3.23918363e-01,\n",
       "        -4.19520001e-01, -2.19001078e-01, -2.68372636e-01, -1.44082319e-01,\n",
       "         1.04964060e-01,  5.71480500e+02,  1.64240264e+00,  1.00000000e+00]),\n",
       " array([ 1.53610000e+05,  2.03076984e+00, -9.31492129e-01,  2.84935883e-01,\n",
       "        -3.03617546e-01, -1.49932360e+00, -2.26333121e-01, -1.36171261e+00,\n",
       "         4.32165139e-02,  2.96847010e-01,  6.55930890e-01, -5.08720490e-01,\n",
       "         6.45235776e-01,  1.54908999e+00, -5.53031913e-01,  1.36981182e+00,\n",
       "        -8.39244135e-01, -6.36457274e-01,  1.80749295e+00, -1.54095366e+00,\n",
       "        -4.95502972e-01, -4.94313799e-02,  4.43625659e-01,  3.57219345e-01,\n",
       "         1.12988751e+00, -5.12919882e-01, -3.57785368e-01,  9.03307089e-02,\n",
       "        -2.33322644e-03,  2.03500000e+01, -3.08774696e-01,  1.00000000e+00]),\n",
       " array([ 1.43643000e+05, -2.13485930e+00, -1.61114137e+00, -1.23372819e+00,\n",
       "         1.50617550e+00,  3.00580964e+00, -1.28666307e-01,  6.33307366e-01,\n",
       "        -5.95264730e-02, -9.99943108e-01,  7.89931858e-01,  1.24241714e+00,\n",
       "        -1.78522961e-01, -1.26337155e+00,  1.28306314e+00,  1.41525609e+00,\n",
       "        -2.37833236e+00,  1.35062990e+00, -8.82103471e-01,  2.26301531e+00,\n",
       "        -1.02659611e+00,  1.41192665e-01,  2.00097495e+00,  1.59052814e+00,\n",
       "        -1.24520063e+00,  1.56120811e-01,  1.27364836e+00,  5.02597181e-01,\n",
       "        -2.18294468e-01,  0.00000000e+00, -3.80801775e-01,  1.00000000e+00]),\n",
       " array([ 1.23985000e+05, -1.61675189e+00,  1.99492892e+00, -3.94991687e-01,\n",
       "        -8.03194948e-01, -2.68312160e-01, -1.40470170e+00,  7.79566884e-01,\n",
       "         8.45200429e-02,  1.12216730e+00,  1.42932702e+00, -5.06899366e-01,\n",
       "         1.66002441e-01, -5.04512114e-01, -7.86131081e-02, -2.48218417e-01,\n",
       "        -3.31114822e-01, -1.65331260e-01, -1.00072487e+00, -4.90222963e-01,\n",
       "         6.30691263e-01, -4.27894225e-01, -6.30022006e-01,  2.06702166e-01,\n",
       "         3.57301325e-01, -2.68319151e-01,  1.20270497e-01,  5.82278841e-01,\n",
       "         2.11031094e-01,  1.07700000e+01, -3.42682284e-01,  1.00000000e+00]),\n",
       " array([ 1.52710000e+05,  5.15754846e-02,  1.31092652e+00,  7.33722065e-01,\n",
       "         2.62078192e+00,  1.40285761e+00,  5.28988565e-01,  1.08651443e+00,\n",
       "        -1.45922713e-01, -1.72383297e+00,  1.28066674e+00,  4.71364720e-01,\n",
       "         4.36041959e-01,  5.95474116e-01, -1.41598601e-01, -2.02423460e+00,\n",
       "         8.28790651e-01, -1.27428715e+00,  1.34777305e-01, -1.48893422e+00,\n",
       "        -1.25376997e-01,  2.30436135e-01,  7.67426567e-01, -1.89123668e-01,\n",
       "         7.67352958e-01, -1.40900750e-01, -7.67779620e-02, -2.97095395e-01,\n",
       "        -2.21316034e-01,  2.47050000e+00, -3.71559422e-01,  1.00000000e+00]),\n",
       " array([ 1.58170000e+04, -4.64189285e+00,  2.90208643e+00, -1.57293871e+00,\n",
       "         2.50729852e+00, -8.71782564e-01, -1.04090257e+00, -1.59390074e+00,\n",
       "        -3.25490509e+00,  1.90896269e+00,  1.07741752e+00,  3.33850216e+00,\n",
       "        -6.54261035e+00,  1.09953638e+00, -3.26647554e+00,  1.01472790e+00,\n",
       "        -4.84238308e+00, -5.26987630e+00, -2.34466857e+00,  1.95922405e+00,\n",
       "        -4.65679220e-01,  1.96359667e+00, -2.17413916e-01, -5.49339956e-01,\n",
       "         6.45545202e-01, -3.54557819e-01, -6.11763845e-01, -3.90808048e+00,\n",
       "        -6.71248265e-01,  1.13900000e+01, -3.40487847e-01,  1.00000000e+00]),\n",
       " array([ 9.39199995e+04, -1.23815482e+01,  8.21252215e+00, -1.69630296e+01,\n",
       "         7.11559060e+00, -9.77332636e+00, -3.66733565e+00, -1.61478634e+01,\n",
       "         2.07820595e+00, -4.25115683e+00, -1.67465441e+01,  7.42530096e+00,\n",
       "        -1.55653376e+01, -4.26838420e-01, -1.40300377e+01, -1.68238923e+00,\n",
       "        -1.11342610e+01, -1.58340889e+01, -5.74903294e+00,  2.27058151e+00,\n",
       "         5.37294900e-01,  1.67203335e-01,  1.50291333e+00, -7.68255382e-01,\n",
       "         3.71451476e-01, -1.41613948e+00, -5.17522160e-01, -4.35120523e-01,\n",
       "         2.92221057e-01,  9.69995000e+01, -3.79785987e-02,  1.00000000e+00]),\n",
       " array([ 2.51980005e+04, -1.59031352e+01,  1.03944171e+01, -1.91331025e+01,\n",
       "         6.18646884e+00, -1.25375209e+01, -4.02653045e+00, -1.38973266e+01,\n",
       "         1.06627518e+01, -2.84445398e+00, -9.66828891e+00,  7.39491941e+00,\n",
       "        -1.16351300e+01,  1.42377693e+00, -8.63995910e+00, -6.74219539e-01,\n",
       "        -7.69506879e+00, -1.36836396e+01, -4.77690604e+00,  1.26884277e+00,\n",
       "         1.50206541e+00,  1.57804822e+00, -1.27963712e+00, -6.00794527e-01,\n",
       "         4.09039215e-02,  9.96001971e-01, -2.73242712e-01,  1.68863590e+00,\n",
       "         5.28330800e-01,  9.99905000e+01, -2.63957503e-02,  1.00000000e+00]),\n",
       " array([ 4.12429995e+04, -1.09412391e+01,  6.26108585e+00, -1.41828388e+01,\n",
       "         7.18310209e+00, -9.95186334e+00, -3.86132034e+00, -1.35478022e+01,\n",
       "         7.09597165e+00, -6.29452944e+00, -1.36086432e+01,  7.12666532e+00,\n",
       "        -1.26115037e+01,  1.21405640e+00, -1.39067968e+01,  1.51356991e+00,\n",
       "        -1.11262391e+01, -1.97167573e+01, -7.55328909e+00,  3.65628707e+00,\n",
       "        -8.88420819e-02,  2.26694826e+00, -4.92529168e-01, -2.39802866e-01,\n",
       "         4.53868210e-01, -1.02111063e-01,  4.46496733e-01,  6.17926467e-02,\n",
       "        -4.40269900e-01,  4.54895000e+01, -2.20293823e-01,  1.00000000e+00])]"
      ]
     },
     "execution_count": 65,
     "metadata": {},
     "output_type": "execute_result"
    }
   ],
   "source": [
    "new_syn_data"
   ]
  },
  {
   "cell_type": "code",
   "execution_count": null,
   "metadata": {},
   "outputs": [],
   "source": []
  },
  {
   "cell_type": "markdown",
   "metadata": {},
   "source": [
    "### Hybrid Classification"
   ]
  },
  {
   "cell_type": "markdown",
   "metadata": {},
   "source": [
    "### 1. Classifier Ensemble"
   ]
  },
  {
   "cell_type": "markdown",
   "metadata": {},
   "source": [
    "#### A> On orignal data"
   ]
  },
  {
   "cell_type": "code",
   "execution_count": 66,
   "metadata": {},
   "outputs": [],
   "source": [
    "# We use 3 classifiers for 3 different sections of data, training and testing\n",
    "# Then we fit them all together using a Logistic Regression to give the final classification"
   ]
  },
  {
   "cell_type": "code",
   "execution_count": 67,
   "metadata": {},
   "outputs": [
    {
     "data": {
      "text/plain": [
       "284807"
      ]
     },
     "execution_count": 67,
     "metadata": {},
     "output_type": "execute_result"
    }
   ],
   "source": [
    "# Number of rows for training\n",
    "len(data)"
   ]
  },
  {
   "cell_type": "code",
   "execution_count": 68,
   "metadata": {},
   "outputs": [],
   "source": [
    "\n",
    "train_data_1 = input_data.loc[:100000, :]\n",
    "train_labels_1 = output_data.loc[:100000, :]\n",
    "\n",
    "test_data_1 = input_data.loc[280000:, :]\n",
    "test_labels_1 = output_data.loc[280000:, :]\n",
    "\n",
    "\n",
    "train_data_2 = input_data.loc[100000:200000, :]\n",
    "train_labels_2 = output_data.loc[100000:200000, :]\n",
    "\n",
    "test_data_2 = input_data.loc[280000:, :]\n",
    "test_labels_2 = output_data.loc[280000:, :]\n",
    "\n",
    "\n",
    "\n",
    "train_data_3 = input_data.loc[200000:280000, :]\n",
    "train_labels_3 = output_data.loc[200000:280000, :]\n",
    "\n",
    "test_data_3 = input_data.loc[280000:, :]\n",
    "test_labels_3 = output_data.loc[280000:, :]\n",
    "\n"
   ]
  },
  {
   "cell_type": "code",
   "execution_count": 69,
   "metadata": {},
   "outputs": [],
   "source": [
    "clf_randomforest_hyb = RandomForestClassifier(max_depth=5, n_estimators=10, max_features=1)"
   ]
  },
  {
   "cell_type": "code",
   "execution_count": 70,
   "metadata": {},
   "outputs": [],
   "source": [
    "clf_neuralnet_hyb = MLPClassifier(alpha=1)"
   ]
  },
  {
   "cell_type": "code",
   "execution_count": 71,
   "metadata": {},
   "outputs": [],
   "source": [
    "clf_knearest_hyb = KNeighborsClassifier(3)"
   ]
  },
  {
   "cell_type": "markdown",
   "metadata": {},
   "source": [
    "#### Training the different classifiers"
   ]
  },
  {
   "cell_type": "code",
   "execution_count": 72,
   "metadata": {},
   "outputs": [
    {
     "data": {
      "text/plain": [
       "RandomForestClassifier(bootstrap=True, class_weight=None, criterion='gini',\n",
       "            max_depth=5, max_features=1, max_leaf_nodes=None,\n",
       "            min_impurity_decrease=0.0, min_impurity_split=None,\n",
       "            min_samples_leaf=1, min_samples_split=2,\n",
       "            min_weight_fraction_leaf=0.0, n_estimators=10, n_jobs=1,\n",
       "            oob_score=False, random_state=None, verbose=0,\n",
       "            warm_start=False)"
      ]
     },
     "execution_count": 72,
     "metadata": {},
     "output_type": "execute_result"
    }
   ],
   "source": [
    "clf_randomforest_hyb.fit(train_data_1, np.ravel(train_labels_1))"
   ]
  },
  {
   "cell_type": "code",
   "execution_count": 73,
   "metadata": {},
   "outputs": [
    {
     "data": {
      "text/plain": [
       "MLPClassifier(activation='relu', alpha=1, batch_size='auto', beta_1=0.9,\n",
       "       beta_2=0.999, early_stopping=False, epsilon=1e-08,\n",
       "       hidden_layer_sizes=(100,), learning_rate='constant',\n",
       "       learning_rate_init=0.001, max_iter=200, momentum=0.9,\n",
       "       nesterovs_momentum=True, power_t=0.5, random_state=None,\n",
       "       shuffle=True, solver='adam', tol=0.0001, validation_fraction=0.1,\n",
       "       verbose=False, warm_start=False)"
      ]
     },
     "execution_count": 73,
     "metadata": {},
     "output_type": "execute_result"
    }
   ],
   "source": [
    "clf_neuralnet_hyb.fit(train_data_2, np.ravel(train_labels_2))"
   ]
  },
  {
   "cell_type": "code",
   "execution_count": 74,
   "metadata": {},
   "outputs": [
    {
     "data": {
      "text/plain": [
       "KNeighborsClassifier(algorithm='auto', leaf_size=30, metric='minkowski',\n",
       "           metric_params=None, n_jobs=1, n_neighbors=3, p=2,\n",
       "           weights='uniform')"
      ]
     },
     "execution_count": 74,
     "metadata": {},
     "output_type": "execute_result"
    }
   ],
   "source": [
    "clf_knearest_hyb.fit(train_data_2, np.ravel(train_labels_2))"
   ]
  },
  {
   "cell_type": "markdown",
   "metadata": {},
   "source": [
    "#### Predicting the different results"
   ]
  },
  {
   "cell_type": "code",
   "execution_count": 75,
   "metadata": {},
   "outputs": [],
   "source": [
    "res1 = clf_randomforest_hyb.predict(test_data_1)\n",
    "res2 = clf_neuralnet_hyb.predict(test_data_2)\n",
    "res3 = clf_knearest_hyb.predict(test_data_3)"
   ]
  },
  {
   "cell_type": "code",
   "execution_count": 76,
   "metadata": {},
   "outputs": [
    {
     "data": {
      "text/plain": [
       "(208955,)"
      ]
     },
     "execution_count": 76,
     "metadata": {},
     "output_type": "execute_result"
    }
   ],
   "source": [
    "ar_1 = np.asarray(res1)\n",
    "ar_1.shape"
   ]
  },
  {
   "cell_type": "code",
   "execution_count": 77,
   "metadata": {},
   "outputs": [
    {
     "data": {
      "text/plain": [
       "(208955,)"
      ]
     },
     "execution_count": 77,
     "metadata": {},
     "output_type": "execute_result"
    }
   ],
   "source": [
    "ar_2 = np.asarray(res2)\n",
    "ar_2.shape"
   ]
  },
  {
   "cell_type": "code",
   "execution_count": 78,
   "metadata": {},
   "outputs": [
    {
     "data": {
      "text/plain": [
       "(208955,)"
      ]
     },
     "execution_count": 78,
     "metadata": {},
     "output_type": "execute_result"
    }
   ],
   "source": [
    "ar_3 = np.asarray(res3)\n",
    "ar_3.shape"
   ]
  },
  {
   "cell_type": "markdown",
   "metadata": {},
   "source": [
    "#### Training a logistic regression for this data to act as the final prediction"
   ]
  },
  {
   "cell_type": "code",
   "execution_count": 79,
   "metadata": {},
   "outputs": [],
   "source": [
    "from sklearn.linear_model import LogisticRegression"
   ]
  },
  {
   "cell_type": "code",
   "execution_count": 80,
   "metadata": {
    "scrolled": true
   },
   "outputs": [
    {
     "data": {
      "text/plain": [
       "(208955, 3)"
      ]
     },
     "execution_count": 80,
     "metadata": {},
     "output_type": "execute_result"
    }
   ],
   "source": [
    "ensemble_train_data = np.column_stack((res1,res2,res3))\n",
    "ensemble_train_data.shape"
   ]
  },
  {
   "cell_type": "code",
   "execution_count": 81,
   "metadata": {},
   "outputs": [
    {
     "data": {
      "text/plain": [
       "(208955, 1)"
      ]
     },
     "execution_count": 81,
     "metadata": {},
     "output_type": "execute_result"
    }
   ],
   "source": [
    "ensemble_train_labels = test_labels_1\n",
    "ensemble_train_labels.shape"
   ]
  },
  {
   "cell_type": "code",
   "execution_count": 82,
   "metadata": {},
   "outputs": [
    {
     "data": {
      "text/plain": [
       "(4600, 3)"
      ]
     },
     "execution_count": 82,
     "metadata": {},
     "output_type": "execute_result"
    }
   ],
   "source": [
    "ensemble_train_subset = ensemble_train_data[:4600]\n",
    "ensemble_train_subset.shape"
   ]
  },
  {
   "cell_type": "code",
   "execution_count": 83,
   "metadata": {},
   "outputs": [
    {
     "data": {
      "text/plain": [
       "(4600, 1)"
      ]
     },
     "execution_count": 83,
     "metadata": {},
     "output_type": "execute_result"
    }
   ],
   "source": [
    "ensemble_train_subset_labels = ensemble_train_labels[:4600]\n",
    "ensemble_train_subset_labels.shape"
   ]
  },
  {
   "cell_type": "code",
   "execution_count": 84,
   "metadata": {},
   "outputs": [
    {
     "data": {
      "text/plain": [
       "(204355, 3)"
      ]
     },
     "execution_count": 84,
     "metadata": {},
     "output_type": "execute_result"
    }
   ],
   "source": [
    "ensemble_test_subset = ensemble_train_data[4600:]\n",
    "ensemble_test_subset.shape"
   ]
  },
  {
   "cell_type": "code",
   "execution_count": 85,
   "metadata": {},
   "outputs": [
    {
     "data": {
      "text/plain": [
       "(204355, 1)"
      ]
     },
     "execution_count": 85,
     "metadata": {},
     "output_type": "execute_result"
    }
   ],
   "source": [
    "ensemble_test_subset_labels = ensemble_train_labels[4600:]\n",
    "ensemble_test_subset_labels.shape"
   ]
  },
  {
   "cell_type": "code",
   "execution_count": 86,
   "metadata": {},
   "outputs": [],
   "source": [
    "logreg = LogisticRegression(C=1e5)"
   ]
  },
  {
   "cell_type": "code",
   "execution_count": 87,
   "metadata": {},
   "outputs": [
    {
     "name": "stderr",
     "output_type": "stream",
     "text": [
      "E:\\Anaconda\\lib\\site-packages\\sklearn\\utils\\validation.py:578: DataConversionWarning: A column-vector y was passed when a 1d array was expected. Please change the shape of y to (n_samples, ), for example using ravel().\n",
      "  y = column_or_1d(y, warn=True)\n"
     ]
    },
    {
     "data": {
      "text/plain": [
       "LogisticRegression(C=100000.0, class_weight=None, dual=False,\n",
       "          fit_intercept=True, intercept_scaling=1, max_iter=100,\n",
       "          multi_class='ovr', n_jobs=1, penalty='l2', random_state=None,\n",
       "          solver='liblinear', tol=0.0001, verbose=0, warm_start=False)"
      ]
     },
     "execution_count": 87,
     "metadata": {},
     "output_type": "execute_result"
    }
   ],
   "source": [
    "logreg.fit(ensemble_train_subset, ensemble_train_subset_labels)"
   ]
  },
  {
   "cell_type": "code",
   "execution_count": 88,
   "metadata": {},
   "outputs": [
    {
     "data": {
      "text/plain": [
       "204355"
      ]
     },
     "execution_count": 88,
     "metadata": {},
     "output_type": "execute_result"
    }
   ],
   "source": [
    "final_res = logreg.predict(ensemble_test_subset)\n",
    "len(final_res)"
   ]
  },
  {
   "cell_type": "code",
   "execution_count": 89,
   "metadata": {},
   "outputs": [],
   "source": [
    "from sklearn.metrics import accuracy_score"
   ]
  },
  {
   "cell_type": "code",
   "execution_count": 90,
   "metadata": {},
   "outputs": [],
   "source": [
    "acc_res = accuracy_score(ensemble_test_subset_labels, final_res)"
   ]
  },
  {
   "cell_type": "code",
   "execution_count": 91,
   "metadata": {},
   "outputs": [
    {
     "name": "stdout",
     "output_type": "stream",
     "text": [
      "0.9985613271023464\n"
     ]
    }
   ],
   "source": [
    "print(acc_res)"
   ]
  },
  {
   "cell_type": "code",
   "execution_count": 92,
   "metadata": {},
   "outputs": [
    {
     "data": {
      "image/png": "[encoded data removed]",
      "text/plain": [
       "<matplotlib.figure.Figure at 0x2a880b76a90>"
      ]
     },
     "metadata": {},
     "output_type": "display_data"
    }
   ],
   "source": [
    "plt.plot(acc_res, '.g')\n",
    "plt.ylabel('Accuracy on orignal data')\n",
    "plt.title('Ensemble Model Accuracy for Original Data')\n",
    "plt.show()"
   ]
  },
  {
   "cell_type": "markdown",
   "metadata": {},
   "source": [
    "#### B> On Biased Sampling data "
   ]
  },
  {
   "cell_type": "code",
   "execution_count": 93,
   "metadata": {},
   "outputs": [],
   "source": [
    "newdata = res.iloc[:800]"
   ]
  },
  {
   "cell_type": "code",
   "execution_count": 94,
   "metadata": {},
   "outputs": [],
   "source": [
    "from sklearn.utils import shuffle\n",
    "newdata = shuffle(newdata)"
   ]
  },
  {
   "cell_type": "code",
   "execution_count": 95,
   "metadata": {},
   "outputs": [
    {
     "data": {
      "text/plain": [
       "800"
      ]
     },
     "execution_count": 95,
     "metadata": {},
     "output_type": "execute_result"
    }
   ],
   "source": [
    "new_output_data = newdata['Class'].iloc[:800]\n",
    "len(new_output_data)"
   ]
  },
  {
   "cell_type": "code",
   "execution_count": 96,
   "metadata": {},
   "outputs": [],
   "source": [
    "new_input_data = newdata.drop(['Class'], axis = 1)"
   ]
  },
  {
   "cell_type": "code",
   "execution_count": 97,
   "metadata": {},
   "outputs": [
    {
     "data": {
      "text/plain": [
       "Index(['Time', 'V1', 'V2', 'V3', 'V4', 'V5', 'V6', 'V7', 'V8', 'V9', 'V10',\n",
       "       'V11', 'V12', 'V13', 'V14', 'V15', 'V16', 'V17', 'V18', 'V19', 'V20',\n",
       "       'V21', 'V22', 'V23', 'V24', 'V25', 'V26', 'V27', 'V28', 'Amount'],\n",
       "      dtype='object')"
      ]
     },
     "execution_count": 97,
     "metadata": {},
     "output_type": "execute_result"
    }
   ],
   "source": [
    "new_input_data.columns"
   ]
  },
  {
   "cell_type": "code",
   "execution_count": 98,
   "metadata": {},
   "outputs": [
    {
     "data": {
      "text/plain": [
       "800"
      ]
     },
     "execution_count": 98,
     "metadata": {},
     "output_type": "execute_result"
    }
   ],
   "source": [
    "len(new_output_data)"
   ]
  },
  {
   "cell_type": "code",
   "execution_count": 99,
   "metadata": {},
   "outputs": [],
   "source": [
    "train_data_1 = new_input_data.iloc[:200]\n",
    "train_labels_1 = new_output_data.iloc[:200]\n",
    "\n",
    "test_data_1 = new_input_data.iloc[600:]\n",
    "test_labels_1 = new_output_data.iloc[600:]\n",
    "\n",
    "\n",
    "train_data_2 = new_input_data.iloc[200:400]\n",
    "train_labels_2 = new_output_data.iloc[200:400]\n",
    "\n",
    "test_data_2 = new_input_data.iloc[600:]\n",
    "test_labels_2 = new_output_data.iloc[600:]\n",
    "\n",
    "\n",
    "\n",
    "train_data_3 = new_input_data.iloc[400:600]\n",
    "train_labels_3 = new_output_data.iloc[400:600]\n",
    "\n",
    "test_data_3 = new_input_data.iloc[600:]\n",
    "test_labels_3 = new_output_data.iloc[600:]\n"
   ]
  },
  {
   "cell_type": "code",
   "execution_count": 100,
   "metadata": {},
   "outputs": [],
   "source": [
    "clf_randomforest_hyb = RandomForestClassifier(max_depth=5, n_estimators=10, max_features=1)"
   ]
  },
  {
   "cell_type": "code",
   "execution_count": 101,
   "metadata": {},
   "outputs": [],
   "source": [
    "clf_neuralnet_hyb = MLPClassifier(alpha=1)"
   ]
  },
  {
   "cell_type": "code",
   "execution_count": 102,
   "metadata": {},
   "outputs": [],
   "source": [
    "clf_knearest_hyb = KNeighborsClassifier(3)"
   ]
  },
  {
   "cell_type": "code",
   "execution_count": 103,
   "metadata": {},
   "outputs": [
    {
     "data": {
      "text/plain": [
       "RandomForestClassifier(bootstrap=True, class_weight=None, criterion='gini',\n",
       "            max_depth=5, max_features=1, max_leaf_nodes=None,\n",
       "            min_impurity_decrease=0.0, min_impurity_split=None,\n",
       "            min_samples_leaf=1, min_samples_split=2,\n",
       "            min_weight_fraction_leaf=0.0, n_estimators=10, n_jobs=1,\n",
       "            oob_score=False, random_state=None, verbose=0,\n",
       "            warm_start=False)"
      ]
     },
     "execution_count": 103,
     "metadata": {},
     "output_type": "execute_result"
    }
   ],
   "source": [
    "clf_randomforest_hyb.fit(train_data_1, np.ravel(train_labels_1))"
   ]
  },
  {
   "cell_type": "code",
   "execution_count": 104,
   "metadata": {},
   "outputs": [
    {
     "data": {
      "text/plain": [
       "MLPClassifier(activation='relu', alpha=1, batch_size='auto', beta_1=0.9,\n",
       "       beta_2=0.999, early_stopping=False, epsilon=1e-08,\n",
       "       hidden_layer_sizes=(100,), learning_rate='constant',\n",
       "       learning_rate_init=0.001, max_iter=200, momentum=0.9,\n",
       "       nesterovs_momentum=True, power_t=0.5, random_state=None,\n",
       "       shuffle=True, solver='adam', tol=0.0001, validation_fraction=0.1,\n",
       "       verbose=False, warm_start=False)"
      ]
     },
     "execution_count": 104,
     "metadata": {},
     "output_type": "execute_result"
    }
   ],
   "source": [
    "clf_neuralnet_hyb.fit(train_data_2, np.ravel(train_labels_2))"
   ]
  },
  {
   "cell_type": "code",
   "execution_count": 105,
   "metadata": {},
   "outputs": [
    {
     "data": {
      "text/plain": [
       "KNeighborsClassifier(algorithm='auto', leaf_size=30, metric='minkowski',\n",
       "           metric_params=None, n_jobs=1, n_neighbors=3, p=2,\n",
       "           weights='uniform')"
      ]
     },
     "execution_count": 105,
     "metadata": {},
     "output_type": "execute_result"
    }
   ],
   "source": [
    "clf_knearest_hyb.fit(train_data_3, np.ravel(train_labels_3))"
   ]
  },
  {
   "cell_type": "code",
   "execution_count": 106,
   "metadata": {},
   "outputs": [],
   "source": [
    "res1 = clf_randomforest_hyb.predict(test_data_1)\n",
    "res2 = clf_neuralnet_hyb.predict(test_data_2)\n",
    "res3 = clf_knearest_hyb.predict(test_data_3)"
   ]
  },
  {
   "cell_type": "code",
   "execution_count": 107,
   "metadata": {},
   "outputs": [
    {
     "data": {
      "text/plain": [
       "(200,)"
      ]
     },
     "execution_count": 107,
     "metadata": {},
     "output_type": "execute_result"
    }
   ],
   "source": [
    "ar_1 = np.asarray(res1)\n",
    "ar_1.shape"
   ]
  },
  {
   "cell_type": "code",
   "execution_count": 108,
   "metadata": {},
   "outputs": [
    {
     "data": {
      "text/plain": [
       "(200,)"
      ]
     },
     "execution_count": 108,
     "metadata": {},
     "output_type": "execute_result"
    }
   ],
   "source": [
    "ar_2 = np.asarray(res2)\n",
    "ar_2.shape"
   ]
  },
  {
   "cell_type": "code",
   "execution_count": 109,
   "metadata": {},
   "outputs": [
    {
     "data": {
      "text/plain": [
       "(200,)"
      ]
     },
     "execution_count": 109,
     "metadata": {},
     "output_type": "execute_result"
    }
   ],
   "source": [
    "ar_3 = np.asarray(res3)\n",
    "ar_3.shape"
   ]
  },
  {
   "cell_type": "code",
   "execution_count": 110,
   "metadata": {},
   "outputs": [],
   "source": [
    "from sklearn.linear_model import LogisticRegression"
   ]
  },
  {
   "cell_type": "code",
   "execution_count": 111,
   "metadata": {},
   "outputs": [
    {
     "data": {
      "text/plain": [
       "(200, 3)"
      ]
     },
     "execution_count": 111,
     "metadata": {},
     "output_type": "execute_result"
    }
   ],
   "source": [
    "ensemble_train_data = np.column_stack((res1,res2,res3))\n",
    "ensemble_train_data.shape"
   ]
  },
  {
   "cell_type": "code",
   "execution_count": 112,
   "metadata": {},
   "outputs": [
    {
     "data": {
      "text/plain": [
       "(200,)"
      ]
     },
     "execution_count": 112,
     "metadata": {},
     "output_type": "execute_result"
    }
   ],
   "source": [
    "ensemble_train_labels = test_labels_1\n",
    "ensemble_train_labels.shape"
   ]
  },
  {
   "cell_type": "code",
   "execution_count": 113,
   "metadata": {},
   "outputs": [
    {
     "data": {
      "text/plain": [
       "(200, 3)"
      ]
     },
     "execution_count": 113,
     "metadata": {},
     "output_type": "execute_result"
    }
   ],
   "source": [
    "ensemble_train_subset = ensemble_train_data[:200]\n",
    "ensemble_train_subset.shape"
   ]
  },
  {
   "cell_type": "code",
   "execution_count": 114,
   "metadata": {},
   "outputs": [
    {
     "data": {
      "text/plain": [
       "(200,)"
      ]
     },
     "execution_count": 114,
     "metadata": {},
     "output_type": "execute_result"
    }
   ],
   "source": [
    "ensemble_train_subset_labels = ensemble_train_labels[:200]\n",
    "ensemble_train_subset_labels.shape"
   ]
  },
  {
   "cell_type": "code",
   "execution_count": 115,
   "metadata": {},
   "outputs": [],
   "source": [
    "logreg = LogisticRegression(C=1e5)"
   ]
  },
  {
   "cell_type": "code",
   "execution_count": 116,
   "metadata": {},
   "outputs": [
    {
     "data": {
      "text/plain": [
       "LogisticRegression(C=100000.0, class_weight=None, dual=False,\n",
       "          fit_intercept=True, intercept_scaling=1, max_iter=100,\n",
       "          multi_class='ovr', n_jobs=1, penalty='l2', random_state=None,\n",
       "          solver='liblinear', tol=0.0001, verbose=0, warm_start=False)"
      ]
     },
     "execution_count": 116,
     "metadata": {},
     "output_type": "execute_result"
    }
   ],
   "source": [
    "logreg.fit(ensemble_train_subset, ensemble_train_subset_labels)"
   ]
  },
  {
   "cell_type": "code",
   "execution_count": 117,
   "metadata": {},
   "outputs": [
    {
     "data": {
      "text/plain": [
       "(20, 3)"
      ]
     },
     "execution_count": 117,
     "metadata": {},
     "output_type": "execute_result"
    }
   ],
   "source": [
    "ensemble_test_subset = ensemble_train_data[180:]\n",
    "ensemble_test_subset.shape"
   ]
  },
  {
   "cell_type": "code",
   "execution_count": 118,
   "metadata": {},
   "outputs": [
    {
     "data": {
      "text/plain": [
       "(20,)"
      ]
     },
     "execution_count": 118,
     "metadata": {},
     "output_type": "execute_result"
    }
   ],
   "source": [
    "ensemble_test_subset_labels = ensemble_train_labels[180:]\n",
    "ensemble_test_subset_labels.shape"
   ]
  },
  {
   "cell_type": "code",
   "execution_count": 119,
   "metadata": {},
   "outputs": [
    {
     "data": {
      "text/plain": [
       "20"
      ]
     },
     "execution_count": 119,
     "metadata": {},
     "output_type": "execute_result"
    }
   ],
   "source": [
    "final_res = logreg.predict(ensemble_test_subset)\n",
    "len(final_res)"
   ]
  },
  {
   "cell_type": "code",
   "execution_count": 120,
   "metadata": {},
   "outputs": [],
   "source": [
    "from sklearn.metrics import accuracy_score"
   ]
  },
  {
   "cell_type": "code",
   "execution_count": 121,
   "metadata": {},
   "outputs": [],
   "source": [
    "acc_res = accuracy_score(ensemble_test_subset_labels, final_res)"
   ]
  },
  {
   "cell_type": "code",
   "execution_count": 122,
   "metadata": {},
   "outputs": [
    {
     "name": "stdout",
     "output_type": "stream",
     "text": [
      "0.95\n"
     ]
    }
   ],
   "source": [
    "print(acc_res)"
   ]
  },
  {
   "cell_type": "code",
   "execution_count": 123,
   "metadata": {},
   "outputs": [
    {
     "data": {
      "image/png": "[encoded data removed]",
      "text/plain": [
       "<matplotlib.figure.Figure at 0x2a880b385c0>"
      ]
     },
     "metadata": {},
     "output_type": "display_data"
    }
   ],
   "source": [
    "plt.plot(acc_res, '.g')\n",
    "plt.ylabel('Accuracy on orignal data')\n",
    "plt.title('Ensemble Model Accuracy for Original Data')\n",
    "plt.show()"
   ]
  },
  {
   "cell_type": "markdown",
   "metadata": {},
   "source": [
    "### Using Different Ensembles"
   ]
  },
  {
   "cell_type": "markdown",
   "metadata": {},
   "source": [
    "#### Naive Bayes"
   ]
  },
  {
   "cell_type": "code",
   "execution_count": 124,
   "metadata": {},
   "outputs": [],
   "source": [
    "from sklearn.naive_bayes import GaussianNB\n",
    "gnb = GaussianNB()\n",
    "y_pred_1 = gnb.fit(train_data_1, train_labels_1).predict(test_data_1)\n",
    "#print(\"Number of mislabeled points out of a total %d points : %d\"% (train_data_1.shape[0],(test_labels_1 != y_pred).sum()))"
   ]
  },
  {
   "cell_type": "markdown",
   "metadata": {},
   "source": [
    "#### Linear SVM"
   ]
  },
  {
   "cell_type": "code",
   "execution_count": 125,
   "metadata": {},
   "outputs": [],
   "source": [
    "from sklearn.svm import LinearSVC\n",
    "from sklearn.datasets import make_classification\n",
    "\n",
    "clf = LinearSVC(random_state=0)\n",
    "clf.fit(train_data_2, train_labels_2)\n",
    "\n",
    "y_pred_2 = clf.predict(test_data_2)"
   ]
  },
  {
   "cell_type": "markdown",
   "metadata": {},
   "source": [
    "#### Ada Boost Classifier"
   ]
  },
  {
   "cell_type": "code",
   "execution_count": 126,
   "metadata": {},
   "outputs": [],
   "source": [
    "from sklearn.ensemble import AdaBoostClassifier"
   ]
  },
  {
   "cell_type": "code",
   "execution_count": 127,
   "metadata": {},
   "outputs": [],
   "source": [
    "clf = AdaBoostClassifier()"
   ]
  },
  {
   "cell_type": "code",
   "execution_count": 128,
   "metadata": {},
   "outputs": [
    {
     "data": {
      "text/plain": [
       "AdaBoostClassifier(algorithm='SAMME.R', base_estimator=None,\n",
       "          learning_rate=1.0, n_estimators=50, random_state=None)"
      ]
     },
     "execution_count": 128,
     "metadata": {},
     "output_type": "execute_result"
    }
   ],
   "source": [
    "clf.fit(train_data_3, train_labels_3)"
   ]
  },
  {
   "cell_type": "code",
   "execution_count": 129,
   "metadata": {},
   "outputs": [],
   "source": [
    "y_pred_3 = clf.predict(test_data_3)"
   ]
  },
  {
   "cell_type": "code",
   "execution_count": 130,
   "metadata": {},
   "outputs": [],
   "source": [
    "clf = LogisticRegression(C=1e5)"
   ]
  },
  {
   "cell_type": "code",
   "execution_count": 131,
   "metadata": {},
   "outputs": [
    {
     "data": {
      "text/plain": [
       "(200, 3)"
      ]
     },
     "execution_count": 131,
     "metadata": {},
     "output_type": "execute_result"
    }
   ],
   "source": [
    "ensemble_train_data = np.column_stack((y_pred_1,y_pred_2,y_pred_3))\n",
    "ensemble_train_data.shape"
   ]
  },
  {
   "cell_type": "code",
   "execution_count": 132,
   "metadata": {},
   "outputs": [
    {
     "data": {
      "text/plain": [
       "(200, 3)"
      ]
     },
     "execution_count": 132,
     "metadata": {},
     "output_type": "execute_result"
    }
   ],
   "source": [
    "ensemble_train_subset = ensemble_train_data[:200]\n",
    "ensemble_train_subset.shape"
   ]
  },
  {
   "cell_type": "code",
   "execution_count": 133,
   "metadata": {},
   "outputs": [
    {
     "data": {
      "text/plain": [
       "(200,)"
      ]
     },
     "execution_count": 133,
     "metadata": {},
     "output_type": "execute_result"
    }
   ],
   "source": [
    "ensemble_train_labels = test_labels_1\n",
    "ensemble_train_labels.shape"
   ]
  },
  {
   "cell_type": "code",
   "execution_count": 134,
   "metadata": {},
   "outputs": [
    {
     "data": {
      "text/plain": [
       "LogisticRegression(C=100000.0, class_weight=None, dual=False,\n",
       "          fit_intercept=True, intercept_scaling=1, max_iter=100,\n",
       "          multi_class='ovr', n_jobs=1, penalty='l2', random_state=None,\n",
       "          solver='liblinear', tol=0.0001, verbose=0, warm_start=False)"
      ]
     },
     "execution_count": 134,
     "metadata": {},
     "output_type": "execute_result"
    }
   ],
   "source": [
    "clf.fit(ensemble_train_data, ensemble_train_labels)"
   ]
  },
  {
   "cell_type": "code",
   "execution_count": 135,
   "metadata": {},
   "outputs": [
    {
     "data": {
      "text/plain": [
       "(20, 3)"
      ]
     },
     "execution_count": 135,
     "metadata": {},
     "output_type": "execute_result"
    }
   ],
   "source": [
    "ensemble_test_subset = ensemble_train_data[180:]\n",
    "ensemble_test_subset.shape"
   ]
  },
  {
   "cell_type": "code",
   "execution_count": 136,
   "metadata": {},
   "outputs": [
    {
     "data": {
      "text/plain": [
       "(20,)"
      ]
     },
     "execution_count": 136,
     "metadata": {},
     "output_type": "execute_result"
    }
   ],
   "source": [
    "ensemble_test_subset_labels = ensemble_train_labels[180:]\n",
    "ensemble_test_subset_labels.shape"
   ]
  },
  {
   "cell_type": "code",
   "execution_count": 137,
   "metadata": {},
   "outputs": [
    {
     "data": {
      "text/plain": [
       "20"
      ]
     },
     "execution_count": 137,
     "metadata": {},
     "output_type": "execute_result"
    }
   ],
   "source": [
    "final_res = clf.predict(ensemble_test_subset)\n",
    "len(final_res)"
   ]
  },
  {
   "cell_type": "code",
   "execution_count": 138,
   "metadata": {},
   "outputs": [],
   "source": [
    "acc_res = accuracy_score(ensemble_test_subset_labels, final_res)"
   ]
  },
  {
   "cell_type": "code",
   "execution_count": 139,
   "metadata": {},
   "outputs": [
    {
     "name": "stdout",
     "output_type": "stream",
     "text": [
      "0.85\n"
     ]
    }
   ],
   "source": [
    "print(acc_res)"
   ]
  },
  {
   "cell_type": "code",
   "execution_count": 140,
   "metadata": {},
   "outputs": [
    {
     "data": {
      "image/png": "[encoded data removed]",
      "text/plain": [
       "<matplotlib.figure.Figure at 0x2a8812976d8>"
      ]
     },
     "metadata": {},
     "output_type": "display_data"
    }
   ],
   "source": [
    "plt.plot(acc_res, '.g')\n",
    "plt.ylabel('Accuracy on orignal data')\n",
    "plt.title('Ensemble Model Accuracy for Original Data')\n",
    "plt.show()"
   ]
  },
  {
   "cell_type": "code",
   "execution_count": null,
   "metadata": {},
   "outputs": [],
   "source": []
  },
  {
   "cell_type": "code",
   "execution_count": null,
   "metadata": {},
   "outputs": [],
   "source": []
  },
  {
   "cell_type": "code",
   "execution_count": null,
   "metadata": {},
   "outputs": [],
   "source": []
  }
 ],
 "metadata": {
  "kernelspec": {
   "display_name": "Python 3",
   "language": "python",
   "name": "python3"
  },
  "language_info": {
   "codemirror_mode": {
    "name": "ipython",
    "version": 3
   },
   "file_extension": ".py",
   "mimetype": "text/x-python",
   "name": "python",
   "nbconvert_exporter": "python",
   "pygments_lexer": "ipython3",
   "version": "3.6.4"
  }
 },
 "nbformat": 4,
 "nbformat_minor": 2
}
